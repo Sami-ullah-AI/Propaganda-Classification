{
 "cells": [
  {
   "cell_type": "code",
   "execution_count": 1,
   "id": "f8cc7a76",
   "metadata": {},
   "outputs": [],
   "source": [
    "import numpy as np\n",
    "import pandas as pd\n",
    "# Import necessary libraries\n",
    "import pandas as pd\n",
    "import numpy as np\n",
    "import seaborn as sns\n",
    "import matplotlib.pyplot as plt\n",
    "from keras.models import Sequential\n",
    "from keras.layers import Embedding, Conv1D, MaxPooling1D, LSTM, Dropout, Dense\n",
    "from keras.preprocessing.text import Tokenizer\n",
    "from tensorflow.keras.preprocessing.sequence import pad_sequences\n",
    "from sklearn.metrics import accuracy_score, cohen_kappa_score, confusion_matrix, classification_report"
   ]
  },
  {
   "cell_type": "code",
   "execution_count": 2,
   "id": "3d6c913e",
   "metadata": {},
   "outputs": [],
   "source": [
    "dt_train = pd.read_csv(r'propaganda_train.tsv',sep = '\\t')\n",
    "dt_test = pd.read_csv(r'propaganda_train.tsv',sep = '\\t')\n"
   ]
  },
  {
   "cell_type": "code",
   "execution_count": 3,
   "id": "6904edcc",
   "metadata": {},
   "outputs": [
    {
     "data": {
      "text/html": [
       "<div>\n",
       "<style scoped>\n",
       "    .dataframe tbody tr th:only-of-type {\n",
       "        vertical-align: middle;\n",
       "    }\n",
       "\n",
       "    .dataframe tbody tr th {\n",
       "        vertical-align: top;\n",
       "    }\n",
       "\n",
       "    .dataframe thead th {\n",
       "        text-align: right;\n",
       "    }\n",
       "</style>\n",
       "<table border=\"1\" class=\"dataframe\">\n",
       "  <thead>\n",
       "    <tr style=\"text-align: right;\">\n",
       "      <th></th>\n",
       "      <th>label</th>\n",
       "      <th>tagged_in_context</th>\n",
       "    </tr>\n",
       "  </thead>\n",
       "  <tbody>\n",
       "    <tr>\n",
       "      <th>0</th>\n",
       "      <td>not_propaganda</td>\n",
       "      <td>No, &lt;BOS&gt; he &lt;EOS&gt; will not be confirmed.</td>\n",
       "    </tr>\n",
       "    <tr>\n",
       "      <th>1</th>\n",
       "      <td>not_propaganda</td>\n",
       "      <td>This declassification effort &lt;BOS&gt; won’t make ...</td>\n",
       "    </tr>\n",
       "    <tr>\n",
       "      <th>2</th>\n",
       "      <td>flag_waving</td>\n",
       "      <td>The Obama administration misled the &lt;BOS&gt; Amer...</td>\n",
       "    </tr>\n",
       "    <tr>\n",
       "      <th>3</th>\n",
       "      <td>not_propaganda</td>\n",
       "      <td>“It looks like we’re capturing the demise of t...</td>\n",
       "    </tr>\n",
       "    <tr>\n",
       "      <th>4</th>\n",
       "      <td>not_propaganda</td>\n",
       "      <td>&lt;BOS&gt; Location: Westerville, Ohio &lt;EOS&gt;</td>\n",
       "    </tr>\n",
       "  </tbody>\n",
       "</table>\n",
       "</div>"
      ],
      "text/plain": [
       "            label                                  tagged_in_context\n",
       "0  not_propaganda         No, <BOS> he <EOS> will not be confirmed. \n",
       "1  not_propaganda  This declassification effort <BOS> won’t make ...\n",
       "2     flag_waving  The Obama administration misled the <BOS> Amer...\n",
       "3  not_propaganda  “It looks like we’re capturing the demise of t...\n",
       "4  not_propaganda           <BOS> Location: Westerville, Ohio <EOS> "
      ]
     },
     "execution_count": 3,
     "metadata": {},
     "output_type": "execute_result"
    }
   ],
   "source": [
    "dt_train.head()"
   ]
  },
  {
   "cell_type": "code",
   "execution_count": 4,
   "id": "f4f18c87",
   "metadata": {},
   "outputs": [],
   "source": [
    "dt_train.rename(columns = {'tagged_in_context':'data'}, inplace = True)"
   ]
  },
  {
   "cell_type": "code",
   "execution_count": 5,
   "id": "2606fcbd",
   "metadata": {},
   "outputs": [
    {
     "data": {
      "text/html": [
       "<div>\n",
       "<style scoped>\n",
       "    .dataframe tbody tr th:only-of-type {\n",
       "        vertical-align: middle;\n",
       "    }\n",
       "\n",
       "    .dataframe tbody tr th {\n",
       "        vertical-align: top;\n",
       "    }\n",
       "\n",
       "    .dataframe thead th {\n",
       "        text-align: right;\n",
       "    }\n",
       "</style>\n",
       "<table border=\"1\" class=\"dataframe\">\n",
       "  <thead>\n",
       "    <tr style=\"text-align: right;\">\n",
       "      <th></th>\n",
       "      <th>label</th>\n",
       "      <th>data</th>\n",
       "    </tr>\n",
       "  </thead>\n",
       "  <tbody>\n",
       "    <tr>\n",
       "      <th>0</th>\n",
       "      <td>not_propaganda</td>\n",
       "      <td>No, &lt;BOS&gt; he &lt;EOS&gt; will not be confirmed.</td>\n",
       "    </tr>\n",
       "    <tr>\n",
       "      <th>1</th>\n",
       "      <td>not_propaganda</td>\n",
       "      <td>This declassification effort &lt;BOS&gt; won’t make ...</td>\n",
       "    </tr>\n",
       "    <tr>\n",
       "      <th>2</th>\n",
       "      <td>flag_waving</td>\n",
       "      <td>The Obama administration misled the &lt;BOS&gt; Amer...</td>\n",
       "    </tr>\n",
       "    <tr>\n",
       "      <th>3</th>\n",
       "      <td>not_propaganda</td>\n",
       "      <td>“It looks like we’re capturing the demise of t...</td>\n",
       "    </tr>\n",
       "    <tr>\n",
       "      <th>4</th>\n",
       "      <td>not_propaganda</td>\n",
       "      <td>&lt;BOS&gt; Location: Westerville, Ohio &lt;EOS&gt;</td>\n",
       "    </tr>\n",
       "  </tbody>\n",
       "</table>\n",
       "</div>"
      ],
      "text/plain": [
       "            label                                               data\n",
       "0  not_propaganda         No, <BOS> he <EOS> will not be confirmed. \n",
       "1  not_propaganda  This declassification effort <BOS> won’t make ...\n",
       "2     flag_waving  The Obama administration misled the <BOS> Amer...\n",
       "3  not_propaganda  “It looks like we’re capturing the demise of t...\n",
       "4  not_propaganda           <BOS> Location: Westerville, Ohio <EOS> "
      ]
     },
     "execution_count": 5,
     "metadata": {},
     "output_type": "execute_result"
    }
   ],
   "source": [
    "dt_train.head()"
   ]
  },
  {
   "cell_type": "code",
   "execution_count": 6,
   "id": "bf57c1c3",
   "metadata": {},
   "outputs": [],
   "source": [
    "from copy import copy\n",
    "dt = dt_train.copy()"
   ]
  },
  {
   "cell_type": "code",
   "execution_count": 7,
   "id": "9129d603",
   "metadata": {},
   "outputs": [
    {
     "data": {
      "text/plain": [
       "(2414, 2)"
      ]
     },
     "execution_count": 7,
     "metadata": {},
     "output_type": "execute_result"
    }
   ],
   "source": [
    "dt.shape"
   ]
  },
  {
   "cell_type": "code",
   "execution_count": 8,
   "id": "ce0022eb",
   "metadata": {},
   "outputs": [
    {
     "data": {
      "text/html": [
       "<div>\n",
       "<style scoped>\n",
       "    .dataframe tbody tr th:only-of-type {\n",
       "        vertical-align: middle;\n",
       "    }\n",
       "\n",
       "    .dataframe tbody tr th {\n",
       "        vertical-align: top;\n",
       "    }\n",
       "\n",
       "    .dataframe thead th {\n",
       "        text-align: right;\n",
       "    }\n",
       "</style>\n",
       "<table border=\"1\" class=\"dataframe\">\n",
       "  <thead>\n",
       "    <tr style=\"text-align: right;\">\n",
       "      <th></th>\n",
       "      <th>label</th>\n",
       "      <th>data</th>\n",
       "    </tr>\n",
       "  </thead>\n",
       "  <tbody>\n",
       "    <tr>\n",
       "      <th>count</th>\n",
       "      <td>2414</td>\n",
       "      <td>2414</td>\n",
       "    </tr>\n",
       "    <tr>\n",
       "      <th>unique</th>\n",
       "      <td>9</td>\n",
       "      <td>2402</td>\n",
       "    </tr>\n",
       "    <tr>\n",
       "      <th>top</th>\n",
       "      <td>not_propaganda</td>\n",
       "      <td>&lt;BOS&gt; Impossible &lt;EOS&gt;.</td>\n",
       "    </tr>\n",
       "    <tr>\n",
       "      <th>freq</th>\n",
       "      <td>1191</td>\n",
       "      <td>2</td>\n",
       "    </tr>\n",
       "  </tbody>\n",
       "</table>\n",
       "</div>"
      ],
      "text/plain": [
       "                 label                      data\n",
       "count             2414                      2414\n",
       "unique               9                      2402\n",
       "top     not_propaganda  <BOS> Impossible <EOS>. \n",
       "freq              1191                         2"
      ]
     },
     "execution_count": 8,
     "metadata": {},
     "output_type": "execute_result"
    }
   ],
   "source": [
    "dt.describe()"
   ]
  },
  {
   "cell_type": "code",
   "execution_count": 9,
   "id": "5c6e24c5",
   "metadata": {},
   "outputs": [
    {
     "name": "stdout",
     "output_type": "stream",
     "text": [
      "<class 'pandas.core.frame.DataFrame'>\n",
      "RangeIndex: 2414 entries, 0 to 2413\n",
      "Data columns (total 2 columns):\n",
      " #   Column  Non-Null Count  Dtype \n",
      "---  ------  --------------  ----- \n",
      " 0   label   2414 non-null   object\n",
      " 1   data    2414 non-null   object\n",
      "dtypes: object(2)\n",
      "memory usage: 37.8+ KB\n"
     ]
    }
   ],
   "source": [
    "dt.info()"
   ]
  },
  {
   "cell_type": "code",
   "execution_count": 10,
   "id": "05f6d5da",
   "metadata": {},
   "outputs": [
    {
     "data": {
      "text/plain": [
       "label    object\n",
       "data     object\n",
       "dtype: object"
      ]
     },
     "execution_count": 10,
     "metadata": {},
     "output_type": "execute_result"
    }
   ],
   "source": [
    "dt.dtypes"
   ]
  },
  {
   "cell_type": "code",
   "execution_count": 11,
   "id": "324bbcfb",
   "metadata": {},
   "outputs": [
    {
     "data": {
      "text/plain": [
       "not_propaganda               1191\n",
       "exaggeration,minimisation     164\n",
       "causal_oversimplification     158\n",
       "name_calling,labeling         157\n",
       "loaded_language               154\n",
       "appeal_to_fear_prejudice      151\n",
       "flag_waving                   148\n",
       "repetition                    147\n",
       "doubt                         144\n",
       "Name: label, dtype: int64"
      ]
     },
     "execution_count": 11,
     "metadata": {},
     "output_type": "execute_result"
    }
   ],
   "source": [
    "dt['label'].value_counts()"
   ]
  },
  {
   "cell_type": "code",
   "execution_count": 12,
   "id": "df7659f0",
   "metadata": {},
   "outputs": [],
   "source": [
    "dt['target'] = dt['label'] == 'not_propaganda'"
   ]
  },
  {
   "cell_type": "code",
   "execution_count": 13,
   "id": "c10aa224",
   "metadata": {},
   "outputs": [
    {
     "data": {
      "text/html": [
       "<div>\n",
       "<style scoped>\n",
       "    .dataframe tbody tr th:only-of-type {\n",
       "        vertical-align: middle;\n",
       "    }\n",
       "\n",
       "    .dataframe tbody tr th {\n",
       "        vertical-align: top;\n",
       "    }\n",
       "\n",
       "    .dataframe thead th {\n",
       "        text-align: right;\n",
       "    }\n",
       "</style>\n",
       "<table border=\"1\" class=\"dataframe\">\n",
       "  <thead>\n",
       "    <tr style=\"text-align: right;\">\n",
       "      <th></th>\n",
       "      <th>data</th>\n",
       "      <th>target</th>\n",
       "    </tr>\n",
       "  </thead>\n",
       "  <tbody>\n",
       "    <tr>\n",
       "      <th>0</th>\n",
       "      <td>No, &lt;BOS&gt; he &lt;EOS&gt; will not be confirmed.</td>\n",
       "      <td>True</td>\n",
       "    </tr>\n",
       "    <tr>\n",
       "      <th>1</th>\n",
       "      <td>This declassification effort &lt;BOS&gt; won’t make ...</td>\n",
       "      <td>True</td>\n",
       "    </tr>\n",
       "    <tr>\n",
       "      <th>2</th>\n",
       "      <td>The Obama administration misled the &lt;BOS&gt; Amer...</td>\n",
       "      <td>False</td>\n",
       "    </tr>\n",
       "    <tr>\n",
       "      <th>3</th>\n",
       "      <td>“It looks like we’re capturing the demise of t...</td>\n",
       "      <td>True</td>\n",
       "    </tr>\n",
       "    <tr>\n",
       "      <th>4</th>\n",
       "      <td>&lt;BOS&gt; Location: Westerville, Ohio &lt;EOS&gt;</td>\n",
       "      <td>True</td>\n",
       "    </tr>\n",
       "    <tr>\n",
       "      <th>...</th>\n",
       "      <td>...</td>\n",
       "      <td>...</td>\n",
       "    </tr>\n",
       "    <tr>\n",
       "      <th>2409</th>\n",
       "      <td>&lt;BOS&gt; We support and appreciate &lt;EOS&gt; your bus...</td>\n",
       "      <td>True</td>\n",
       "    </tr>\n",
       "    <tr>\n",
       "      <th>2410</th>\n",
       "      <td>International Atomic Energy Agency (IAEA) Dire...</td>\n",
       "      <td>True</td>\n",
       "    </tr>\n",
       "    <tr>\n",
       "      <th>2411</th>\n",
       "      <td>What has been done: there has been work on for...</td>\n",
       "      <td>True</td>\n",
       "    </tr>\n",
       "    <tr>\n",
       "      <th>2412</th>\n",
       "      <td>This is &lt;BOS&gt; the law of gradualness not the g...</td>\n",
       "      <td>True</td>\n",
       "    </tr>\n",
       "    <tr>\n",
       "      <th>2413</th>\n",
       "      <td>In it, Jews are described as: “arrogant,” “jea...</td>\n",
       "      <td>False</td>\n",
       "    </tr>\n",
       "  </tbody>\n",
       "</table>\n",
       "<p>2414 rows × 2 columns</p>\n",
       "</div>"
      ],
      "text/plain": [
       "                                                   data  target\n",
       "0            No, <BOS> he <EOS> will not be confirmed.     True\n",
       "1     This declassification effort <BOS> won’t make ...    True\n",
       "2     The Obama administration misled the <BOS> Amer...   False\n",
       "3     “It looks like we’re capturing the demise of t...    True\n",
       "4              <BOS> Location: Westerville, Ohio <EOS>     True\n",
       "...                                                 ...     ...\n",
       "2409  <BOS> We support and appreciate <EOS> your bus...    True\n",
       "2410  International Atomic Energy Agency (IAEA) Dire...    True\n",
       "2411  What has been done: there has been work on for...    True\n",
       "2412  This is <BOS> the law of gradualness not the g...    True\n",
       "2413  In it, Jews are described as: “arrogant,” “jea...   False\n",
       "\n",
       "[2414 rows x 2 columns]"
      ]
     },
     "execution_count": 13,
     "metadata": {},
     "output_type": "execute_result"
    }
   ],
   "source": [
    "dt.drop(['label'],axis=1)"
   ]
  },
  {
   "cell_type": "code",
   "execution_count": 14,
   "id": "922011b2",
   "metadata": {},
   "outputs": [],
   "source": [
    "from sklearn import preprocessing\n",
    "le = preprocessing.LabelEncoder()\n",
    "dt['target'] = le.fit_transform(dt['target'])"
   ]
  },
  {
   "cell_type": "code",
   "execution_count": 15,
   "id": "19f8e788",
   "metadata": {},
   "outputs": [],
   "source": [
    "dt.drop(['label'],axis=1,inplace = True)"
   ]
  },
  {
   "cell_type": "code",
   "execution_count": 16,
   "id": "00761524",
   "metadata": {},
   "outputs": [
    {
     "data": {
      "text/html": [
       "<div>\n",
       "<style scoped>\n",
       "    .dataframe tbody tr th:only-of-type {\n",
       "        vertical-align: middle;\n",
       "    }\n",
       "\n",
       "    .dataframe tbody tr th {\n",
       "        vertical-align: top;\n",
       "    }\n",
       "\n",
       "    .dataframe thead th {\n",
       "        text-align: right;\n",
       "    }\n",
       "</style>\n",
       "<table border=\"1\" class=\"dataframe\">\n",
       "  <thead>\n",
       "    <tr style=\"text-align: right;\">\n",
       "      <th></th>\n",
       "      <th>data</th>\n",
       "      <th>target</th>\n",
       "    </tr>\n",
       "  </thead>\n",
       "  <tbody>\n",
       "    <tr>\n",
       "      <th>0</th>\n",
       "      <td>No, &lt;BOS&gt; he &lt;EOS&gt; will not be confirmed.</td>\n",
       "      <td>1</td>\n",
       "    </tr>\n",
       "    <tr>\n",
       "      <th>1</th>\n",
       "      <td>This declassification effort &lt;BOS&gt; won’t make ...</td>\n",
       "      <td>1</td>\n",
       "    </tr>\n",
       "    <tr>\n",
       "      <th>2</th>\n",
       "      <td>The Obama administration misled the &lt;BOS&gt; Amer...</td>\n",
       "      <td>0</td>\n",
       "    </tr>\n",
       "    <tr>\n",
       "      <th>3</th>\n",
       "      <td>“It looks like we’re capturing the demise of t...</td>\n",
       "      <td>1</td>\n",
       "    </tr>\n",
       "    <tr>\n",
       "      <th>4</th>\n",
       "      <td>&lt;BOS&gt; Location: Westerville, Ohio &lt;EOS&gt;</td>\n",
       "      <td>1</td>\n",
       "    </tr>\n",
       "  </tbody>\n",
       "</table>\n",
       "</div>"
      ],
      "text/plain": [
       "                                                data  target\n",
       "0         No, <BOS> he <EOS> will not be confirmed.        1\n",
       "1  This declassification effort <BOS> won’t make ...       1\n",
       "2  The Obama administration misled the <BOS> Amer...       0\n",
       "3  “It looks like we’re capturing the demise of t...       1\n",
       "4           <BOS> Location: Westerville, Ohio <EOS>        1"
      ]
     },
     "execution_count": 16,
     "metadata": {},
     "output_type": "execute_result"
    }
   ],
   "source": [
    "dt.head()"
   ]
  },
  {
   "cell_type": "code",
   "execution_count": 18,
   "id": "71e588bf",
   "metadata": {},
   "outputs": [],
   "source": [
    "dt_ = dt.drop_duplicates(subset=[\"data\"], keep=\"first\")"
   ]
  },
  {
   "cell_type": "code",
   "execution_count": 19,
   "id": "ec5f5847",
   "metadata": {},
   "outputs": [
    {
     "name": "stdout",
     "output_type": "stream",
     "text": [
      "(2414, 2)\n",
      "(2402, 2)\n"
     ]
    }
   ],
   "source": [
    "print(dt.shape)\n",
    "print(dt_.shape)"
   ]
  },
  {
   "cell_type": "code",
   "execution_count": 20,
   "id": "15daf34d",
   "metadata": {},
   "outputs": [
    {
     "data": {
      "text/plain": [
       "<AxesSubplot:>"
      ]
     },
     "execution_count": 20,
     "metadata": {},
     "output_type": "execute_result"
    },
    {
     "data": {
      "image/png": "[encoded data removed]",
      "text/plain": [
       "<Figure size 640x480 with 1 Axes>"
      ]
     },
     "metadata": {},
     "output_type": "display_data"
    }
   ],
   "source": [
    "dt_[\"target\"].value_counts().plot(kind=\"bar\")"
   ]
  },
  {
   "cell_type": "code",
   "execution_count": null,
   "id": "0d4678f8",
   "metadata": {},
   "outputs": [],
   "source": []
  },
  {
   "cell_type": "code",
   "execution_count": null,
   "id": "441404e6",
   "metadata": {},
   "outputs": [],
   "source": []
  },
  {
   "cell_type": "code",
   "execution_count": 22,
   "id": "b53eb1ee",
   "metadata": {},
   "outputs": [],
   "source": [
    "# Define the neural network model\n",
    "model = Sequential()\n",
    "\n",
    "model.add(Embedding(10000, 100, input_length=max_len))\n",
    "model.add(Conv1D(16, 3, activation='relu'))\n",
    "model.add(MaxPooling1D(2))\n",
    "model.add(Dropout(0.4))\n",
    "model.add(LSTM(16))\n",
    "model.add(Dropout(0.3))\n",
    "model.add(Dense(1, activation='softmax'))\n",
    "\n",
    "# Compile the model\n",
    "model.compile(loss='binary_crossentropy', optimizer='adam')"
   ]
  },
  {
   "cell_type": "code",
   "execution_count": 23,
   "id": "6c84d5f6",
   "metadata": {},
   "outputs": [
    {
     "name": "stdout",
     "output_type": "stream",
     "text": [
      "Model: \"sequential\"\n",
      "_________________________________________________________________\n",
      " Layer (type)                Output Shape              Param #   \n",
      "=================================================================\n",
      " embedding (Embedding)       (None, 200, 100)          1000000   \n",
      "                                                                 \n",
      " conv1d (Conv1D)             (None, 198, 16)           4816      \n",
      "                                                                 \n",
      " max_pooling1d (MaxPooling1D  (None, 99, 16)           0         \n",
      " )                                                               \n",
      "                                                                 \n",
      " dropout (Dropout)           (None, 99, 16)            0         \n",
      "                                                                 \n",
      " lstm (LSTM)                 (None, 16)                2112      \n",
      "                                                                 \n",
      " dropout_1 (Dropout)         (None, 16)                0         \n",
      "                                                                 \n",
      " dense (Dense)               (None, 1)                 17        \n",
      "                                                                 \n",
      "=================================================================\n",
      "Total params: 1,006,945\n",
      "Trainable params: 1,006,945\n",
      "Non-trainable params: 0\n",
      "_________________________________________________________________\n"
     ]
    }
   ],
   "source": [
    "model.summary()"
   ]
  },
  {
   "cell_type": "code",
   "execution_count": 24,
   "id": "11e78517",
   "metadata": {},
   "outputs": [],
   "source": [
    "from keras.callbacks import ModelCheckpoint,EarlyStopping\n",
    "early_stop = EarlyStopping(monitor='val_loss',\n",
    "                           patience=10,\n",
    "                           restore_best_weights=True,\n",
    "                           mode='max')\n",
    "from livelossplot.inputs.keras import PlotLossesCallback\n",
    "\n",
    "plot_loss_1 = PlotLossesCallback()"
   ]
  },
  {
   "cell_type": "code",
   "execution_count": 25,
   "id": "61710bb6",
   "metadata": {},
   "outputs": [
    {
     "name": "stdout",
     "output_type": "stream",
     "text": [
      "Epoch 1/20\n",
      "16/16 [==============================] - 6s 160ms/step - loss: 0.6904 - val_loss: 0.6878\n",
      "Epoch 2/20\n",
      "16/16 [==============================] - 2s 112ms/step - loss: 0.6745 - val_loss: 0.6675\n",
      "Epoch 3/20\n",
      "16/16 [==============================] - 2s 102ms/step - loss: 0.6355 - val_loss: 0.6411\n",
      "Epoch 4/20\n",
      "16/16 [==============================] - 2s 96ms/step - loss: 0.5700 - val_loss: 0.6184\n",
      "Epoch 5/20\n",
      "16/16 [==============================] - 2s 97ms/step - loss: 0.4620 - val_loss: 0.5868\n",
      "Epoch 6/20\n",
      "16/16 [==============================] - 2s 97ms/step - loss: 0.3195 - val_loss: 0.5621\n",
      "Epoch 7/20\n",
      "16/16 [==============================] - 2s 97ms/step - loss: 0.2252 - val_loss: 0.5890\n",
      "Epoch 8/20\n",
      "16/16 [==============================] - 2s 110ms/step - loss: 0.1442 - val_loss: 0.6635\n",
      "Epoch 9/20\n",
      "16/16 [==============================] - 2s 101ms/step - loss: 0.0954 - val_loss: 0.7209\n",
      "Epoch 10/20\n",
      "16/16 [==============================] - 2s 99ms/step - loss: 0.0713 - val_loss: 0.8116\n",
      "Epoch 11/20\n",
      "16/16 [==============================] - 2s 104ms/step - loss: 0.0574 - val_loss: 0.8522\n",
      "Epoch 12/20\n",
      "16/16 [==============================] - 2s 106ms/step - loss: 0.0489 - val_loss: 0.8822\n",
      "Epoch 13/20\n",
      "16/16 [==============================] - 2s 99ms/step - loss: 0.0439 - val_loss: 0.9299\n",
      "Epoch 14/20\n",
      "16/16 [==============================] - 2s 100ms/step - loss: 0.0355 - val_loss: 1.0201\n",
      "Epoch 15/20\n",
      "16/16 [==============================] - 2s 99ms/step - loss: 0.0285 - val_loss: 1.0292\n",
      "Epoch 16/20\n",
      "16/16 [==============================] - 2s 98ms/step - loss: 0.0229 - val_loss: 1.0786\n",
      "Epoch 17/20\n",
      "16/16 [==============================] - 2s 101ms/step - loss: 0.0218 - val_loss: 1.0901\n",
      "Epoch 18/20\n",
      "16/16 [==============================] - 2s 101ms/step - loss: 0.0224 - val_loss: 1.2114\n",
      "Epoch 19/20\n",
      "16/16 [==============================] - 2s 98ms/step - loss: 0.0211 - val_loss: 1.1291\n",
      "Epoch 20/20\n",
      "16/16 [==============================] - 2s 99ms/step - loss: 0.0183 - val_loss: 1.1692\n"
     ]
    }
   ],
   "source": [
    "# Train the model\n",
    "history = model.fit(train_data, train_labels, epochs = 20, batch_size = 128, validation_split = 0.2,callbacks = [early_stop])"
   ]
  },
  {
   "cell_type": "code",
   "execution_count": 26,
   "id": "4448aac5",
   "metadata": {},
   "outputs": [
    {
     "data": {
      "image/png": "[encoded data removed]",
      "text/plain": [
       "<Figure size 1200x800 with 2 Axes>"
      ]
     },
     "metadata": {},
     "output_type": "display_data"
    },
    {
     "name": "stdout",
     "output_type": "stream",
     "text": [
      "Loss\n",
      "\ttraining         \t (min:    0.004, max:    0.015, cur:    0.005)\n",
      "\tvalidation       \t (min:    1.225, max:    1.626, cur:    1.626)\n",
      "\b\b\b\b\b\b\b\b\b\b\b\b\b\b\b\b\b\b\b\b\b\b\b\b\b\b\b\b\b\b\b\b\b\b\b\b\b\b\b\b\b\b\b\b\b\b\b\b\b\b\b\b\b\b\b\b\b\b\b\b\b\b\b\r",
      "16/16 [==============================] - 2s 154ms/step - loss: 0.0049 - val_loss: 1.6255\n"
     ]
    }
   ],
   "source": [
    "# Train the model\n",
    "history = model.fit(train_data, train_labels, epochs = 20, batch_size = 128, validation_split = 0.2,callbacks = [plot_loss_1])"
   ]
  },
  {
   "cell_type": "code",
   "execution_count": null,
   "id": "5d4c6c11",
   "metadata": {},
   "outputs": [],
   "source": []
  }
 ],
 "metadata": {
  "kernelspec": {
   "display_name": "Python 3 (ipykernel)",
   "language": "python",
   "name": "python3"
  },
  "language_info": {
   "codemirror_mode": {
    "name": "ipython",
    "version": 3
   },
   "file_extension": ".py",
   "mimetype": "text/x-python",
   "name": "python",
   "nbconvert_exporter": "python",
   "pygments_lexer": "ipython3",
   "version": "3.11.2"
  }
 },
 "nbformat": 4,
 "nbformat_minor": 5
}
