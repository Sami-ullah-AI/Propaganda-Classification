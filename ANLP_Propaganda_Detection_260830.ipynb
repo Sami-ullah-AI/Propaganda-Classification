{
 "cells": [
  {
   "cell_type": "markdown",
   "metadata": {
    "id": "eyKNUIeWLGh2"
   },
   "source": [
    "# **Problem Outline**"
   ]
  },
  {
   "cell_type": "markdown",
   "metadata": {
    "id": "LHUSXqFSLOG2"
   },
   "source": [
    "We have been given a dataset of news articles which is about propaganda detection. \n",
    "\n",
    "In the digital age, disinformation can spread very easily by any sources and has the capacity to reach a very wide audience. To advance a particular agenda, propaganda aims to inflence people's mindset. \n",
    "\n",
    "Training and Testing data is provided in a seperate files.\n",
    "\n",
    "Use of additional tokens <BOS> and <EOS> which indicate the begin\n",
    "ning and end of the span of text (within the sentence) which is actually annotated with the given propaganda\n",
    "\n",
    "There are total 9 classes in the propoganda detection as follows:\n",
    "\n",
    "1. flag waving\n",
    "\n",
    "2. appeal to fear prejudice\n",
    "\n",
    "3. causal simplification\n",
    "\n",
    "4. doubt\n",
    "\n",
    "5. exaggeration,minimisation\n",
    "\n",
    "6. loaded language\n",
    "\n",
    "7. name calling,labeling\n",
    "\n",
    "8. repetition\n",
    "\n",
    "9. not propaganda\n",
    "\n",
    "The main tasks are as follows:\n",
    "\n",
    "1. **Build and evaluate at least 2 approaches to classify whether a sentence contains propaganda or not.**\n",
    "\n",
    "2. **Given a snippet or span of text which is known to contain propaganda, build and evaluate at least 2 approaches to classifying the propaganda technique which has been used.**\n",
    "\n",
    "We will use following approach in this report.\n",
    "\n",
    "1. **Span Identification**\n",
    "\n",
    "**Pretrained large language models - BERT Uncased**\n",
    "\n",
    "**Neural Language Model - LSTM(Long Short-Term Memory Neural Network)**\n",
    "\n",
    "\n",
    "2. **Technique Classification**\n",
    "\n",
    "**Pretrained large language models - BERT Cased**\n",
    "\n",
    "**Glove( Global Vectors for Word Representation) and Neural Language Model - Bidirectional LSTM**"
   ]
  },
  {
   "cell_type": "code",
   "execution_count": 6,
   "metadata": {
    "colab": {
     "base_uri": "https://localhost:8080/"
    },
    "id": "dQebxGefRL9Z",
    "outputId": "1b9ed0d4-718d-4393-8db5-e36d2c6a3e17"
   },
   "outputs": [
    {
     "name": "stdout",
     "output_type": "stream",
     "text": [
      "Drive already mounted at /content/drive; to attempt to forcibly remount, call drive.mount(\"/content/drive\", force_remount=True).\n"
     ]
    }
   ],
   "source": [
    "from google.colab import drive    #Connecting to google drive to access data\n",
    "drive.mount('/content/drive')"
   ]
  },
  {
   "cell_type": "code",
   "execution_count": 7,
   "metadata": {
    "colab": {
     "base_uri": "https://localhost:8080/"
    },
    "id": "IthveiVRbgIO",
    "outputId": "c7397e91-9966-4a8c-8f42-0e03cff072d9"
   },
   "outputs": [
    {
     "name": "stdout",
     "output_type": "stream",
     "text": [
      "Looking in indexes: https://pypi.org/simple, https://us-python.pkg.dev/colab-wheels/public/simple/\n",
      "Collecting transformers\n",
      "  Downloading transformers-4.28.1-py3-none-any.whl (7.0 MB)\n",
      "\u001b[2K     \u001b[90m━━━━━━━━━━━━━━━━━━━━━━━━━━━━━━━━━━━━━━━━\u001b[0m \u001b[32m7.0/7.0 MB\u001b[0m \u001b[31m77.1 MB/s\u001b[0m eta \u001b[36m0:00:00\u001b[0m\n",
      "\u001b[?25hCollecting tokenizers!=0.11.3,<0.14,>=0.11.1\n",
      "  Downloading tokenizers-0.13.3-cp310-cp310-manylinux_2_17_x86_64.manylinux2014_x86_64.whl (7.8 MB)\n",
      "\u001b[2K     \u001b[90m━━━━━━━━━━━━━━━━━━━━━━━━━━━━━━━━━━━━━━━━\u001b[0m \u001b[32m7.8/7.8 MB\u001b[0m \u001b[31m107.1 MB/s\u001b[0m eta \u001b[36m0:00:00\u001b[0m\n",
      "\u001b[?25hRequirement already satisfied: numpy>=1.17 in /usr/local/lib/python3.10/dist-packages (from transformers) (1.22.4)\n",
      "Requirement already satisfied: pyyaml>=5.1 in /usr/local/lib/python3.10/dist-packages (from transformers) (6.0)\n",
      "Requirement already satisfied: regex!=2019.12.17 in /usr/local/lib/python3.10/dist-packages (from transformers) (2022.10.31)\n",
      "Collecting huggingface-hub<1.0,>=0.11.0\n",
      "  Downloading huggingface_hub-0.14.1-py3-none-any.whl (224 kB)\n",
      "\u001b[2K     \u001b[90m━━━━━━━━━━━━━━━━━━━━━━━━━━━━━━━━━━━━━━\u001b[0m \u001b[32m224.5/224.5 kB\u001b[0m \u001b[31m26.8 MB/s\u001b[0m eta \u001b[36m0:00:00\u001b[0m\n",
      "\u001b[?25hRequirement already satisfied: tqdm>=4.27 in /usr/local/lib/python3.10/dist-packages (from transformers) (4.65.0)\n",
      "Requirement already satisfied: requests in /usr/local/lib/python3.10/dist-packages (from transformers) (2.27.1)\n",
      "Requirement already satisfied: packaging>=20.0 in /usr/local/lib/python3.10/dist-packages (from transformers) (23.1)\n",
      "Requirement already satisfied: filelock in /usr/local/lib/python3.10/dist-packages (from transformers) (3.12.0)\n",
      "Requirement already satisfied: fsspec in /usr/local/lib/python3.10/dist-packages (from huggingface-hub<1.0,>=0.11.0->transformers) (2023.4.0)\n",
      "Requirement already satisfied: typing-extensions>=3.7.4.3 in /usr/local/lib/python3.10/dist-packages (from huggingface-hub<1.0,>=0.11.0->transformers) (4.5.0)\n",
      "Requirement already satisfied: certifi>=2017.4.17 in /usr/local/lib/python3.10/dist-packages (from requests->transformers) (2022.12.7)\n",
      "Requirement already satisfied: urllib3<1.27,>=1.21.1 in /usr/local/lib/python3.10/dist-packages (from requests->transformers) (1.26.15)\n",
      "Requirement already satisfied: idna<4,>=2.5 in /usr/local/lib/python3.10/dist-packages (from requests->transformers) (3.4)\n",
      "Requirement already satisfied: charset-normalizer~=2.0.0 in /usr/local/lib/python3.10/dist-packages (from requests->transformers) (2.0.12)\n",
      "Installing collected packages: tokenizers, huggingface-hub, transformers\n",
      "Successfully installed huggingface-hub-0.14.1 tokenizers-0.13.3 transformers-4.28.1\n",
      "Looking in indexes: https://pypi.org/simple, https://us-python.pkg.dev/colab-wheels/public/simple/\n",
      "Collecting tensorboardx\n",
      "  Downloading tensorboardX-2.6-py2.py3-none-any.whl (114 kB)\n",
      "\u001b[2K     \u001b[90m━━━━━━━━━━━━━━━━━━━━━━━━━━━━━━━━━━━━━━━\u001b[0m \u001b[32m114.5/114.5 kB\u001b[0m \u001b[31m5.9 MB/s\u001b[0m eta \u001b[36m0:00:00\u001b[0m\n",
      "\u001b[?25hRequirement already satisfied: numpy in /usr/local/lib/python3.10/dist-packages (from tensorboardx) (1.22.4)\n",
      "Requirement already satisfied: protobuf<4,>=3.8.0 in /usr/local/lib/python3.10/dist-packages (from tensorboardx) (3.20.3)\n",
      "Requirement already satisfied: packaging in /usr/local/lib/python3.10/dist-packages (from tensorboardx) (23.1)\n",
      "Installing collected packages: tensorboardx\n",
      "Successfully installed tensorboardx-2.6\n",
      "Looking in indexes: https://pypi.org/simple, https://us-python.pkg.dev/colab-wheels/public/simple/\n",
      "Requirement already satisfied: tensorflow in /usr/local/lib/python3.10/dist-packages (2.12.0)\n",
      "Requirement already satisfied: google-pasta>=0.1.1 in /usr/local/lib/python3.10/dist-packages (from tensorflow) (0.2.0)\n",
      "Requirement already satisfied: tensorflow-estimator<2.13,>=2.12.0 in /usr/local/lib/python3.10/dist-packages (from tensorflow) (2.12.0)\n",
      "Requirement already satisfied: astunparse>=1.6.0 in /usr/local/lib/python3.10/dist-packages (from tensorflow) (1.6.3)\n",
      "Requirement already satisfied: h5py>=2.9.0 in /usr/local/lib/python3.10/dist-packages (from tensorflow) (3.8.0)\n",
      "Requirement already satisfied: keras<2.13,>=2.12.0 in /usr/local/lib/python3.10/dist-packages (from tensorflow) (2.12.0)\n",
      "Requirement already satisfied: typing-extensions>=3.6.6 in /usr/local/lib/python3.10/dist-packages (from tensorflow) (4.5.0)\n",
      "Requirement already satisfied: flatbuffers>=2.0 in /usr/local/lib/python3.10/dist-packages (from tensorflow) (23.3.3)\n",
      "Requirement already satisfied: tensorboard<2.13,>=2.12 in /usr/local/lib/python3.10/dist-packages (from tensorflow) (2.12.2)\n",
      "Requirement already satisfied: protobuf!=4.21.0,!=4.21.1,!=4.21.2,!=4.21.3,!=4.21.4,!=4.21.5,<5.0.0dev,>=3.20.3 in /usr/local/lib/python3.10/dist-packages (from tensorflow) (3.20.3)\n",
      "Requirement already satisfied: packaging in /usr/local/lib/python3.10/dist-packages (from tensorflow) (23.1)\n",
      "Requirement already satisfied: wrapt<1.15,>=1.11.0 in /usr/local/lib/python3.10/dist-packages (from tensorflow) (1.14.1)\n",
      "Requirement already satisfied: absl-py>=1.0.0 in /usr/local/lib/python3.10/dist-packages (from tensorflow) (1.4.0)\n",
      "Requirement already satisfied: jax>=0.3.15 in /usr/local/lib/python3.10/dist-packages (from tensorflow) (0.4.8)\n",
      "Requirement already satisfied: libclang>=13.0.0 in /usr/local/lib/python3.10/dist-packages (from tensorflow) (16.0.0)\n",
      "Requirement already satisfied: grpcio<2.0,>=1.24.3 in /usr/local/lib/python3.10/dist-packages (from tensorflow) (1.54.0)\n",
      "Requirement already satisfied: tensorflow-io-gcs-filesystem>=0.23.1 in /usr/local/lib/python3.10/dist-packages (from tensorflow) (0.32.0)\n",
      "Requirement already satisfied: six>=1.12.0 in /usr/local/lib/python3.10/dist-packages (from tensorflow) (1.16.0)\n",
      "Requirement already satisfied: opt-einsum>=2.3.2 in /usr/local/lib/python3.10/dist-packages (from tensorflow) (3.3.0)\n",
      "Requirement already satisfied: setuptools in /usr/local/lib/python3.10/dist-packages (from tensorflow) (67.7.2)\n",
      "Requirement already satisfied: termcolor>=1.1.0 in /usr/local/lib/python3.10/dist-packages (from tensorflow) (2.3.0)\n",
      "Requirement already satisfied: numpy<1.24,>=1.22 in /usr/local/lib/python3.10/dist-packages (from tensorflow) (1.22.4)\n",
      "Requirement already satisfied: gast<=0.4.0,>=0.2.1 in /usr/local/lib/python3.10/dist-packages (from tensorflow) (0.4.0)\n",
      "Requirement already satisfied: wheel<1.0,>=0.23.0 in /usr/local/lib/python3.10/dist-packages (from astunparse>=1.6.0->tensorflow) (0.40.0)\n",
      "Requirement already satisfied: scipy>=1.7 in /usr/local/lib/python3.10/dist-packages (from jax>=0.3.15->tensorflow) (1.10.1)\n",
      "Requirement already satisfied: ml-dtypes>=0.0.3 in /usr/local/lib/python3.10/dist-packages (from jax>=0.3.15->tensorflow) (0.1.0)\n",
      "Requirement already satisfied: markdown>=2.6.8 in /usr/local/lib/python3.10/dist-packages (from tensorboard<2.13,>=2.12->tensorflow) (3.4.3)\n",
      "Requirement already satisfied: requests<3,>=2.21.0 in /usr/local/lib/python3.10/dist-packages (from tensorboard<2.13,>=2.12->tensorflow) (2.27.1)\n",
      "Requirement already satisfied: google-auth-oauthlib<1.1,>=0.5 in /usr/local/lib/python3.10/dist-packages (from tensorboard<2.13,>=2.12->tensorflow) (1.0.0)\n",
      "Requirement already satisfied: werkzeug>=1.0.1 in /usr/local/lib/python3.10/dist-packages (from tensorboard<2.13,>=2.12->tensorflow) (2.3.0)\n",
      "Requirement already satisfied: tensorboard-data-server<0.8.0,>=0.7.0 in /usr/local/lib/python3.10/dist-packages (from tensorboard<2.13,>=2.12->tensorflow) (0.7.0)\n",
      "Requirement already satisfied: google-auth<3,>=1.6.3 in /usr/local/lib/python3.10/dist-packages (from tensorboard<2.13,>=2.12->tensorflow) (2.17.3)\n",
      "Requirement already satisfied: tensorboard-plugin-wit>=1.6.0 in /usr/local/lib/python3.10/dist-packages (from tensorboard<2.13,>=2.12->tensorflow) (1.8.1)\n",
      "Requirement already satisfied: pyasn1-modules>=0.2.1 in /usr/local/lib/python3.10/dist-packages (from google-auth<3,>=1.6.3->tensorboard<2.13,>=2.12->tensorflow) (0.3.0)\n",
      "Requirement already satisfied: rsa<5,>=3.1.4 in /usr/local/lib/python3.10/dist-packages (from google-auth<3,>=1.6.3->tensorboard<2.13,>=2.12->tensorflow) (4.9)\n",
      "Requirement already satisfied: cachetools<6.0,>=2.0.0 in /usr/local/lib/python3.10/dist-packages (from google-auth<3,>=1.6.3->tensorboard<2.13,>=2.12->tensorflow) (5.3.0)\n",
      "Requirement already satisfied: requests-oauthlib>=0.7.0 in /usr/local/lib/python3.10/dist-packages (from google-auth-oauthlib<1.1,>=0.5->tensorboard<2.13,>=2.12->tensorflow) (1.3.1)\n",
      "Requirement already satisfied: idna<4,>=2.5 in /usr/local/lib/python3.10/dist-packages (from requests<3,>=2.21.0->tensorboard<2.13,>=2.12->tensorflow) (3.4)\n",
      "Requirement already satisfied: urllib3<1.27,>=1.21.1 in /usr/local/lib/python3.10/dist-packages (from requests<3,>=2.21.0->tensorboard<2.13,>=2.12->tensorflow) (1.26.15)\n",
      "Requirement already satisfied: certifi>=2017.4.17 in /usr/local/lib/python3.10/dist-packages (from requests<3,>=2.21.0->tensorboard<2.13,>=2.12->tensorflow) (2022.12.7)\n",
      "Requirement already satisfied: charset-normalizer~=2.0.0 in /usr/local/lib/python3.10/dist-packages (from requests<3,>=2.21.0->tensorboard<2.13,>=2.12->tensorflow) (2.0.12)\n",
      "Requirement already satisfied: MarkupSafe>=2.1.1 in /usr/local/lib/python3.10/dist-packages (from werkzeug>=1.0.1->tensorboard<2.13,>=2.12->tensorflow) (2.1.2)\n",
      "Requirement already satisfied: pyasn1<0.6.0,>=0.4.6 in /usr/local/lib/python3.10/dist-packages (from pyasn1-modules>=0.2.1->google-auth<3,>=1.6.3->tensorboard<2.13,>=2.12->tensorflow) (0.5.0)\n",
      "Requirement already satisfied: oauthlib>=3.0.0 in /usr/local/lib/python3.10/dist-packages (from requests-oauthlib>=0.7.0->google-auth-oauthlib<1.1,>=0.5->tensorboard<2.13,>=2.12->tensorflow) (3.2.2)\n",
      "Looking in indexes: https://pypi.org/simple, https://us-python.pkg.dev/colab-wheels/public/simple/\n",
      "Collecting np_utils\n",
      "  Downloading np_utils-0.6.0.tar.gz (61 kB)\n",
      "\u001b[2K     \u001b[90m━━━━━━━━━━━━━━━━━━━━━━━━━━━━━━━━━━━━━━━━\u001b[0m \u001b[32m62.0/62.0 kB\u001b[0m \u001b[31m3.2 MB/s\u001b[0m eta \u001b[36m0:00:00\u001b[0m\n",
      "\u001b[?25h  Preparing metadata (setup.py) ... \u001b[?25l\u001b[?25hdone\n",
      "Requirement already satisfied: numpy>=1.0 in /usr/local/lib/python3.10/dist-packages (from np_utils) (1.22.4)\n",
      "Building wheels for collected packages: np_utils\n",
      "  Building wheel for np_utils (setup.py) ... \u001b[?25l\u001b[?25hdone\n",
      "  Created wheel for np_utils: filename=np_utils-0.6.0-py3-none-any.whl size=56460 sha256=7df0327fd301868eb0f029624928ffef60b5e049722288d1a06b0bda18ce4227\n",
      "  Stored in directory: /root/.cache/pip/wheels/b6/c7/50/2307607f44366dd021209f660045f8d51cb976514d30be7cc7\n",
      "Successfully built np_utils\n",
      "Installing collected packages: np_utils\n",
      "Successfully installed np_utils-0.6.0\n",
      "Looking in indexes: https://pypi.org/simple, https://us-python.pkg.dev/colab-wheels/public/simple/\n",
      "Requirement already satisfied: tensorflow in /usr/local/lib/python3.10/dist-packages (2.12.0)\n",
      "Requirement already satisfied: packaging in /usr/local/lib/python3.10/dist-packages (from tensorflow) (23.1)\n",
      "Requirement already satisfied: setuptools in /usr/local/lib/python3.10/dist-packages (from tensorflow) (67.7.2)\n",
      "Requirement already satisfied: grpcio<2.0,>=1.24.3 in /usr/local/lib/python3.10/dist-packages (from tensorflow) (1.54.0)\n",
      "Requirement already satisfied: wrapt<1.15,>=1.11.0 in /usr/local/lib/python3.10/dist-packages (from tensorflow) (1.14.1)\n",
      "Requirement already satisfied: keras<2.13,>=2.12.0 in /usr/local/lib/python3.10/dist-packages (from tensorflow) (2.12.0)\n",
      "Requirement already satisfied: tensorflow-io-gcs-filesystem>=0.23.1 in /usr/local/lib/python3.10/dist-packages (from tensorflow) (0.32.0)\n",
      "Requirement already satisfied: numpy<1.24,>=1.22 in /usr/local/lib/python3.10/dist-packages (from tensorflow) (1.22.4)\n",
      "Requirement already satisfied: six>=1.12.0 in /usr/local/lib/python3.10/dist-packages (from tensorflow) (1.16.0)\n",
      "Requirement already satisfied: tensorboard<2.13,>=2.12 in /usr/local/lib/python3.10/dist-packages (from tensorflow) (2.12.2)\n",
      "Requirement already satisfied: astunparse>=1.6.0 in /usr/local/lib/python3.10/dist-packages (from tensorflow) (1.6.3)\n",
      "Requirement already satisfied: h5py>=2.9.0 in /usr/local/lib/python3.10/dist-packages (from tensorflow) (3.8.0)\n",
      "Requirement already satisfied: termcolor>=1.1.0 in /usr/local/lib/python3.10/dist-packages (from tensorflow) (2.3.0)\n",
      "Requirement already satisfied: tensorflow-estimator<2.13,>=2.12.0 in /usr/local/lib/python3.10/dist-packages (from tensorflow) (2.12.0)\n",
      "Requirement already satisfied: absl-py>=1.0.0 in /usr/local/lib/python3.10/dist-packages (from tensorflow) (1.4.0)\n",
      "Requirement already satisfied: jax>=0.3.15 in /usr/local/lib/python3.10/dist-packages (from tensorflow) (0.4.8)\n",
      "Requirement already satisfied: protobuf!=4.21.0,!=4.21.1,!=4.21.2,!=4.21.3,!=4.21.4,!=4.21.5,<5.0.0dev,>=3.20.3 in /usr/local/lib/python3.10/dist-packages (from tensorflow) (3.20.3)\n",
      "Requirement already satisfied: gast<=0.4.0,>=0.2.1 in /usr/local/lib/python3.10/dist-packages (from tensorflow) (0.4.0)\n",
      "Requirement already satisfied: opt-einsum>=2.3.2 in /usr/local/lib/python3.10/dist-packages (from tensorflow) (3.3.0)\n",
      "Requirement already satisfied: google-pasta>=0.1.1 in /usr/local/lib/python3.10/dist-packages (from tensorflow) (0.2.0)\n",
      "Requirement already satisfied: typing-extensions>=3.6.6 in /usr/local/lib/python3.10/dist-packages (from tensorflow) (4.5.0)\n",
      "Requirement already satisfied: libclang>=13.0.0 in /usr/local/lib/python3.10/dist-packages (from tensorflow) (16.0.0)\n",
      "Requirement already satisfied: flatbuffers>=2.0 in /usr/local/lib/python3.10/dist-packages (from tensorflow) (23.3.3)\n",
      "Requirement already satisfied: wheel<1.0,>=0.23.0 in /usr/local/lib/python3.10/dist-packages (from astunparse>=1.6.0->tensorflow) (0.40.0)\n",
      "Requirement already satisfied: ml-dtypes>=0.0.3 in /usr/local/lib/python3.10/dist-packages (from jax>=0.3.15->tensorflow) (0.1.0)\n",
      "Requirement already satisfied: scipy>=1.7 in /usr/local/lib/python3.10/dist-packages (from jax>=0.3.15->tensorflow) (1.10.1)\n",
      "Requirement already satisfied: werkzeug>=1.0.1 in /usr/local/lib/python3.10/dist-packages (from tensorboard<2.13,>=2.12->tensorflow) (2.3.0)\n",
      "Requirement already satisfied: tensorboard-plugin-wit>=1.6.0 in /usr/local/lib/python3.10/dist-packages (from tensorboard<2.13,>=2.12->tensorflow) (1.8.1)\n",
      "Requirement already satisfied: markdown>=2.6.8 in /usr/local/lib/python3.10/dist-packages (from tensorboard<2.13,>=2.12->tensorflow) (3.4.3)\n",
      "Requirement already satisfied: google-auth<3,>=1.6.3 in /usr/local/lib/python3.10/dist-packages (from tensorboard<2.13,>=2.12->tensorflow) (2.17.3)\n",
      "Requirement already satisfied: tensorboard-data-server<0.8.0,>=0.7.0 in /usr/local/lib/python3.10/dist-packages (from tensorboard<2.13,>=2.12->tensorflow) (0.7.0)\n",
      "Requirement already satisfied: google-auth-oauthlib<1.1,>=0.5 in /usr/local/lib/python3.10/dist-packages (from tensorboard<2.13,>=2.12->tensorflow) (1.0.0)\n",
      "Requirement already satisfied: requests<3,>=2.21.0 in /usr/local/lib/python3.10/dist-packages (from tensorboard<2.13,>=2.12->tensorflow) (2.27.1)\n",
      "Requirement already satisfied: pyasn1-modules>=0.2.1 in /usr/local/lib/python3.10/dist-packages (from google-auth<3,>=1.6.3->tensorboard<2.13,>=2.12->tensorflow) (0.3.0)\n",
      "Requirement already satisfied: cachetools<6.0,>=2.0.0 in /usr/local/lib/python3.10/dist-packages (from google-auth<3,>=1.6.3->tensorboard<2.13,>=2.12->tensorflow) (5.3.0)\n",
      "Requirement already satisfied: rsa<5,>=3.1.4 in /usr/local/lib/python3.10/dist-packages (from google-auth<3,>=1.6.3->tensorboard<2.13,>=2.12->tensorflow) (4.9)\n",
      "Requirement already satisfied: requests-oauthlib>=0.7.0 in /usr/local/lib/python3.10/dist-packages (from google-auth-oauthlib<1.1,>=0.5->tensorboard<2.13,>=2.12->tensorflow) (1.3.1)\n",
      "Requirement already satisfied: idna<4,>=2.5 in /usr/local/lib/python3.10/dist-packages (from requests<3,>=2.21.0->tensorboard<2.13,>=2.12->tensorflow) (3.4)\n",
      "Requirement already satisfied: certifi>=2017.4.17 in /usr/local/lib/python3.10/dist-packages (from requests<3,>=2.21.0->tensorboard<2.13,>=2.12->tensorflow) (2022.12.7)\n",
      "Requirement already satisfied: charset-normalizer~=2.0.0 in /usr/local/lib/python3.10/dist-packages (from requests<3,>=2.21.0->tensorboard<2.13,>=2.12->tensorflow) (2.0.12)\n",
      "Requirement already satisfied: urllib3<1.27,>=1.21.1 in /usr/local/lib/python3.10/dist-packages (from requests<3,>=2.21.0->tensorboard<2.13,>=2.12->tensorflow) (1.26.15)\n",
      "Requirement already satisfied: MarkupSafe>=2.1.1 in /usr/local/lib/python3.10/dist-packages (from werkzeug>=1.0.1->tensorboard<2.13,>=2.12->tensorflow) (2.1.2)\n",
      "Requirement already satisfied: pyasn1<0.6.0,>=0.4.6 in /usr/local/lib/python3.10/dist-packages (from pyasn1-modules>=0.2.1->google-auth<3,>=1.6.3->tensorboard<2.13,>=2.12->tensorflow) (0.5.0)\n",
      "Requirement already satisfied: oauthlib>=3.0.0 in /usr/local/lib/python3.10/dist-packages (from requests-oauthlib>=0.7.0->google-auth-oauthlib<1.1,>=0.5->tensorboard<2.13,>=2.12->tensorflow) (3.2.2)\n",
      "Looking in indexes: https://pypi.org/simple, https://us-python.pkg.dev/colab-wheels/public/simple/\n",
      "Collecting simpletransformers\n",
      "  Downloading simpletransformers-0.63.11-py3-none-any.whl (250 kB)\n",
      "\u001b[2K     \u001b[90m━━━━━━━━━━━━━━━━━━━━━━━━━━━━━━━━━━━━━━━\u001b[0m \u001b[32m250.7/250.7 kB\u001b[0m \u001b[31m8.6 MB/s\u001b[0m eta \u001b[36m0:00:00\u001b[0m\n",
      "\u001b[?25hRequirement already satisfied: scikit-learn in /usr/local/lib/python3.10/dist-packages (from simpletransformers) (1.2.2)\n",
      "Requirement already satisfied: tokenizers in /usr/local/lib/python3.10/dist-packages (from simpletransformers) (0.13.3)\n",
      "Requirement already satisfied: tensorboard in /usr/local/lib/python3.10/dist-packages (from simpletransformers) (2.12.2)\n",
      "Collecting wandb>=0.10.32\n",
      "  Downloading wandb-0.15.0-py3-none-any.whl (2.0 MB)\n",
      "\u001b[2K     \u001b[90m━━━━━━━━━━━━━━━━━━━━━━━━━━━━━━━━━━━━━━━━\u001b[0m \u001b[32m2.0/2.0 MB\u001b[0m \u001b[31m56.5 MB/s\u001b[0m eta \u001b[36m0:00:00\u001b[0m\n",
      "\u001b[?25hRequirement already satisfied: regex in /usr/local/lib/python3.10/dist-packages (from simpletransformers) (2022.10.31)\n",
      "Collecting datasets\n",
      "  Downloading datasets-2.11.0-py3-none-any.whl (468 kB)\n",
      "\u001b[2K     \u001b[90m━━━━━━━━━━━━━━━━━━━━━━━━━━━━━━━━━━━━━━\u001b[0m \u001b[32m468.7/468.7 kB\u001b[0m \u001b[31m42.7 MB/s\u001b[0m eta \u001b[36m0:00:00\u001b[0m\n",
      "\u001b[?25hCollecting sentencepiece\n",
      "  Downloading sentencepiece-0.1.98-cp310-cp310-manylinux_2_17_x86_64.manylinux2014_x86_64.whl (1.3 MB)\n",
      "\u001b[2K     \u001b[90m━━━━━━━━━━━━━━━━━━━━━━━━━━━━━━━━━━━━━━━━\u001b[0m \u001b[32m1.3/1.3 MB\u001b[0m \u001b[31m61.5 MB/s\u001b[0m eta \u001b[36m0:00:00\u001b[0m\n",
      "\u001b[?25hCollecting seqeval\n",
      "  Downloading seqeval-1.2.2.tar.gz (43 kB)\n",
      "\u001b[2K     \u001b[90m━━━━━━━━━━━━━━━━━━━━━━━━━━━━━━━━━━━━━━━━\u001b[0m \u001b[32m43.6/43.6 kB\u001b[0m \u001b[31m5.4 MB/s\u001b[0m eta \u001b[36m0:00:00\u001b[0m\n",
      "\u001b[?25h  Preparing metadata (setup.py) ... \u001b[?25l\u001b[?25hdone\n",
      "Requirement already satisfied: scipy in /usr/local/lib/python3.10/dist-packages (from simpletransformers) (1.10.1)\n",
      "Requirement already satisfied: tqdm>=4.47.0 in /usr/local/lib/python3.10/dist-packages (from simpletransformers) (4.65.0)\n",
      "Requirement already satisfied: pandas in /usr/local/lib/python3.10/dist-packages (from simpletransformers) (1.5.3)\n",
      "Collecting streamlit\n",
      "  Downloading streamlit-1.22.0-py2.py3-none-any.whl (8.9 MB)\n",
      "\u001b[2K     \u001b[90m━━━━━━━━━━━━━━━━━━━━━━━━━━━━━━━━━━━━━━━━\u001b[0m \u001b[32m8.9/8.9 MB\u001b[0m \u001b[31m80.2 MB/s\u001b[0m eta \u001b[36m0:00:00\u001b[0m\n",
      "\u001b[?25hRequirement already satisfied: transformers>=4.6.0 in /usr/local/lib/python3.10/dist-packages (from simpletransformers) (4.28.1)\n",
      "Requirement already satisfied: numpy in /usr/local/lib/python3.10/dist-packages (from simpletransformers) (1.22.4)\n",
      "Requirement already satisfied: requests in /usr/local/lib/python3.10/dist-packages (from simpletransformers) (2.27.1)\n",
      "Requirement already satisfied: pyyaml>=5.1 in /usr/local/lib/python3.10/dist-packages (from transformers>=4.6.0->simpletransformers) (6.0)\n",
      "Requirement already satisfied: packaging>=20.0 in /usr/local/lib/python3.10/dist-packages (from transformers>=4.6.0->simpletransformers) (23.1)\n",
      "Requirement already satisfied: filelock in /usr/local/lib/python3.10/dist-packages (from transformers>=4.6.0->simpletransformers) (3.12.0)\n",
      "Requirement already satisfied: huggingface-hub<1.0,>=0.11.0 in /usr/local/lib/python3.10/dist-packages (from transformers>=4.6.0->simpletransformers) (0.14.1)\n",
      "Requirement already satisfied: setuptools in /usr/local/lib/python3.10/dist-packages (from wandb>=0.10.32->simpletransformers) (67.7.2)\n",
      "Requirement already satisfied: protobuf!=4.21.0,<5,>=3.19.0 in /usr/local/lib/python3.10/dist-packages (from wandb>=0.10.32->simpletransformers) (3.20.3)\n",
      "Collecting docker-pycreds>=0.4.0\n",
      "  Downloading docker_pycreds-0.4.0-py2.py3-none-any.whl (9.0 kB)\n",
      "Requirement already satisfied: psutil>=5.0.0 in /usr/local/lib/python3.10/dist-packages (from wandb>=0.10.32->simpletransformers) (5.9.5)\n",
      "Collecting setproctitle\n",
      "  Downloading setproctitle-1.3.2-cp310-cp310-manylinux_2_5_x86_64.manylinux1_x86_64.manylinux_2_17_x86_64.manylinux2014_x86_64.whl (30 kB)\n",
      "Collecting sentry-sdk>=1.0.0\n",
      "  Downloading sentry_sdk-1.21.0-py2.py3-none-any.whl (199 kB)\n",
      "\u001b[2K     \u001b[90m━━━━━━━━━━━━━━━━━━━━━━━━━━━━━━━━━━━━━━\u001b[0m \u001b[32m199.5/199.5 kB\u001b[0m \u001b[31m25.5 MB/s\u001b[0m eta \u001b[36m0:00:00\u001b[0m\n",
      "\u001b[?25hCollecting GitPython!=3.1.29,>=1.0.0\n",
      "  Downloading GitPython-3.1.31-py3-none-any.whl (184 kB)\n",
      "\u001b[2K     \u001b[90m━━━━━━━━━━━━━━━━━━━━━━━━━━━━━━━━━━━━━━\u001b[0m \u001b[32m184.3/184.3 kB\u001b[0m \u001b[31m23.0 MB/s\u001b[0m eta \u001b[36m0:00:00\u001b[0m\n",
      "\u001b[?25hRequirement already satisfied: Click!=8.0.0,>=7.0 in /usr/local/lib/python3.10/dist-packages (from wandb>=0.10.32->simpletransformers) (8.1.3)\n",
      "Collecting pathtools\n",
      "  Downloading pathtools-0.1.2.tar.gz (11 kB)\n",
      "  Preparing metadata (setup.py) ... \u001b[?25l\u001b[?25hdone\n",
      "Requirement already satisfied: appdirs>=1.4.3 in /usr/local/lib/python3.10/dist-packages (from wandb>=0.10.32->simpletransformers) (1.4.4)\n",
      "Requirement already satisfied: charset-normalizer~=2.0.0 in /usr/local/lib/python3.10/dist-packages (from requests->simpletransformers) (2.0.12)\n",
      "Requirement already satisfied: urllib3<1.27,>=1.21.1 in /usr/local/lib/python3.10/dist-packages (from requests->simpletransformers) (1.26.15)\n",
      "Requirement already satisfied: certifi>=2017.4.17 in /usr/local/lib/python3.10/dist-packages (from requests->simpletransformers) (2022.12.7)\n",
      "Requirement already satisfied: idna<4,>=2.5 in /usr/local/lib/python3.10/dist-packages (from requests->simpletransformers) (3.4)\n",
      "Collecting dill<0.3.7,>=0.3.0\n",
      "  Downloading dill-0.3.6-py3-none-any.whl (110 kB)\n",
      "\u001b[2K     \u001b[90m━━━━━━━━━━━━━━━━━━━━━━━━━━━━━━━━━━━━━━\u001b[0m \u001b[32m110.5/110.5 kB\u001b[0m \u001b[31m12.4 MB/s\u001b[0m eta \u001b[36m0:00:00\u001b[0m\n",
      "\u001b[?25hCollecting multiprocess\n",
      "  Downloading multiprocess-0.70.14-py310-none-any.whl (134 kB)\n",
      "\u001b[2K     \u001b[90m━━━━━━━━━━━━━━━━━━━━━━━━━━━━━━━━━━━━━━\u001b[0m \u001b[32m134.3/134.3 kB\u001b[0m \u001b[31m16.5 MB/s\u001b[0m eta \u001b[36m0:00:00\u001b[0m\n",
      "\u001b[?25hCollecting aiohttp\n",
      "  Downloading aiohttp-3.8.4-cp310-cp310-manylinux_2_17_x86_64.manylinux2014_x86_64.whl (1.0 MB)\n",
      "\u001b[2K     \u001b[90m━━━━━━━━━━━━━━━━━━━━━━━━━━━━━━━━━━━━━━━━\u001b[0m \u001b[32m1.0/1.0 MB\u001b[0m \u001b[31m37.8 MB/s\u001b[0m eta \u001b[36m0:00:00\u001b[0m\n",
      "\u001b[?25hRequirement already satisfied: pyarrow>=8.0.0 in /usr/local/lib/python3.10/dist-packages (from datasets->simpletransformers) (9.0.0)\n",
      "Collecting responses<0.19\n",
      "  Downloading responses-0.18.0-py3-none-any.whl (38 kB)\n",
      "Requirement already satisfied: fsspec[http]>=2021.11.1 in /usr/local/lib/python3.10/dist-packages (from datasets->simpletransformers) (2023.4.0)\n",
      "Collecting xxhash\n",
      "  Downloading xxhash-3.2.0-cp310-cp310-manylinux_2_17_x86_64.manylinux2014_x86_64.whl (212 kB)\n",
      "\u001b[2K     \u001b[90m━━━━━━━━━━━━━━━━━━━━━━━━━━━━━━━━━━━━━━\u001b[0m \u001b[32m212.5/212.5 kB\u001b[0m \u001b[31m23.7 MB/s\u001b[0m eta \u001b[36m0:00:00\u001b[0m\n",
      "\u001b[?25hRequirement already satisfied: pytz>=2020.1 in /usr/local/lib/python3.10/dist-packages (from pandas->simpletransformers) (2022.7.1)\n",
      "Requirement already satisfied: python-dateutil>=2.8.1 in /usr/local/lib/python3.10/dist-packages (from pandas->simpletransformers) (2.8.2)\n",
      "Requirement already satisfied: joblib>=1.1.1 in /usr/local/lib/python3.10/dist-packages (from scikit-learn->simpletransformers) (1.2.0)\n",
      "Requirement already satisfied: threadpoolctl>=2.0.0 in /usr/local/lib/python3.10/dist-packages (from scikit-learn->simpletransformers) (3.1.0)\n",
      "Requirement already satisfied: tenacity<9,>=8.0.0 in /usr/local/lib/python3.10/dist-packages (from streamlit->simpletransformers) (8.2.2)\n",
      "Requirement already satisfied: altair<5,>=3.2.0 in /usr/local/lib/python3.10/dist-packages (from streamlit->simpletransformers) (4.2.2)\n",
      "Requirement already satisfied: tornado>=6.0.3 in /usr/local/lib/python3.10/dist-packages (from streamlit->simpletransformers) (6.2)\n",
      "Requirement already satisfied: rich>=10.11.0 in /usr/local/lib/python3.10/dist-packages (from streamlit->simpletransformers) (13.3.4)\n",
      "Requirement already satisfied: toml in /usr/local/lib/python3.10/dist-packages (from streamlit->simpletransformers) (0.10.2)\n",
      "Requirement already satisfied: tzlocal>=1.1 in /usr/local/lib/python3.10/dist-packages (from streamlit->simpletransformers) (4.3)\n",
      "Requirement already satisfied: cachetools>=4.0 in /usr/local/lib/python3.10/dist-packages (from streamlit->simpletransformers) (5.3.0)\n",
      "Requirement already satisfied: typing-extensions>=3.10.0.0 in /usr/local/lib/python3.10/dist-packages (from streamlit->simpletransformers) (4.5.0)\n",
      "Collecting blinker>=1.0.0\n",
      "  Downloading blinker-1.6.2-py3-none-any.whl (13 kB)\n",
      "Requirement already satisfied: importlib-metadata>=1.4 in /usr/local/lib/python3.10/dist-packages (from streamlit->simpletransformers) (6.6.0)\n",
      "Collecting validators>=0.2\n",
      "  Downloading validators-0.20.0.tar.gz (30 kB)\n",
      "  Preparing metadata (setup.py) ... \u001b[?25l\u001b[?25hdone\n",
      "Collecting pydeck>=0.1.dev5\n",
      "  Downloading pydeck-0.8.1b0-py2.py3-none-any.whl (4.8 MB)\n",
      "\u001b[2K     \u001b[90m━━━━━━━━━━━━━━━━━━━━━━━━━━━━━━━━━━━━━━━━\u001b[0m \u001b[32m4.8/4.8 MB\u001b[0m \u001b[31m80.4 MB/s\u001b[0m eta \u001b[36m0:00:00\u001b[0m\n",
      "\u001b[?25hCollecting pympler>=0.9\n",
      "  Downloading Pympler-1.0.1-py3-none-any.whl (164 kB)\n",
      "\u001b[2K     \u001b[90m━━━━━━━━━━━━━━━━━━━━━━━━━━━━━━━━━━━━━━\u001b[0m \u001b[32m164.8/164.8 kB\u001b[0m \u001b[31m18.7 MB/s\u001b[0m eta \u001b[36m0:00:00\u001b[0m\n",
      "\u001b[?25hCollecting watchdog\n",
      "  Downloading watchdog-3.0.0-py3-none-manylinux2014_x86_64.whl (82 kB)\n",
      "\u001b[2K     \u001b[90m━━━━━━━━━━━━━━━━━━━━━━━━━━━━━━━━━━━━━━━━\u001b[0m \u001b[32m82.1/82.1 kB\u001b[0m \u001b[31m9.4 MB/s\u001b[0m eta \u001b[36m0:00:00\u001b[0m\n",
      "\u001b[?25hRequirement already satisfied: pillow>=6.2.0 in /usr/local/lib/python3.10/dist-packages (from streamlit->simpletransformers) (8.4.0)\n",
      "Requirement already satisfied: tensorboard-plugin-wit>=1.6.0 in /usr/local/lib/python3.10/dist-packages (from tensorboard->simpletransformers) (1.8.1)\n",
      "Requirement already satisfied: werkzeug>=1.0.1 in /usr/local/lib/python3.10/dist-packages (from tensorboard->simpletransformers) (2.3.0)\n",
      "Requirement already satisfied: tensorboard-data-server<0.8.0,>=0.7.0 in /usr/local/lib/python3.10/dist-packages (from tensorboard->simpletransformers) (0.7.0)\n",
      "Requirement already satisfied: google-auth-oauthlib<1.1,>=0.5 in /usr/local/lib/python3.10/dist-packages (from tensorboard->simpletransformers) (1.0.0)\n",
      "Requirement already satisfied: markdown>=2.6.8 in /usr/local/lib/python3.10/dist-packages (from tensorboard->simpletransformers) (3.4.3)\n",
      "Requirement already satisfied: google-auth<3,>=1.6.3 in /usr/local/lib/python3.10/dist-packages (from tensorboard->simpletransformers) (2.17.3)\n",
      "Requirement already satisfied: wheel>=0.26 in /usr/local/lib/python3.10/dist-packages (from tensorboard->simpletransformers) (0.40.0)\n",
      "Requirement already satisfied: absl-py>=0.4 in /usr/local/lib/python3.10/dist-packages (from tensorboard->simpletransformers) (1.4.0)\n",
      "Requirement already satisfied: grpcio>=1.48.2 in /usr/local/lib/python3.10/dist-packages (from tensorboard->simpletransformers) (1.54.0)\n",
      "Requirement already satisfied: jinja2 in /usr/local/lib/python3.10/dist-packages (from altair<5,>=3.2.0->streamlit->simpletransformers) (3.1.2)\n",
      "Requirement already satisfied: entrypoints in /usr/local/lib/python3.10/dist-packages (from altair<5,>=3.2.0->streamlit->simpletransformers) (0.4)\n",
      "Requirement already satisfied: toolz in /usr/local/lib/python3.10/dist-packages (from altair<5,>=3.2.0->streamlit->simpletransformers) (0.12.0)\n",
      "Requirement already satisfied: jsonschema>=3.0 in /usr/local/lib/python3.10/dist-packages (from altair<5,>=3.2.0->streamlit->simpletransformers) (4.3.3)\n",
      "Requirement already satisfied: six>=1.4.0 in /usr/local/lib/python3.10/dist-packages (from docker-pycreds>=0.4.0->wandb>=0.10.32->simpletransformers) (1.16.0)\n",
      "Collecting frozenlist>=1.1.1\n",
      "  Downloading frozenlist-1.3.3-cp310-cp310-manylinux_2_5_x86_64.manylinux1_x86_64.manylinux_2_17_x86_64.manylinux2014_x86_64.whl (149 kB)\n",
      "\u001b[2K     \u001b[90m━━━━━━━━━━━━━━━━━━━━━━━━━━━━━━━━━━━━━━\u001b[0m \u001b[32m149.6/149.6 kB\u001b[0m \u001b[31m14.8 MB/s\u001b[0m eta \u001b[36m0:00:00\u001b[0m\n",
      "\u001b[?25hCollecting async-timeout<5.0,>=4.0.0a3\n",
      "  Downloading async_timeout-4.0.2-py3-none-any.whl (5.8 kB)\n",
      "Collecting yarl<2.0,>=1.0\n",
      "  Downloading yarl-1.9.2-cp310-cp310-manylinux_2_17_x86_64.manylinux2014_x86_64.whl (268 kB)\n",
      "\u001b[2K     \u001b[90m━━━━━━━━━━━━━━━━━━━━━━━━━━━━━━━━━━━━━━\u001b[0m \u001b[32m268.8/268.8 kB\u001b[0m \u001b[31m26.4 MB/s\u001b[0m eta \u001b[36m0:00:00\u001b[0m\n",
      "\u001b[?25hRequirement already satisfied: attrs>=17.3.0 in /usr/local/lib/python3.10/dist-packages (from aiohttp->datasets->simpletransformers) (23.1.0)\n",
      "Collecting aiosignal>=1.1.2\n",
      "  Downloading aiosignal-1.3.1-py3-none-any.whl (7.6 kB)\n",
      "Collecting multidict<7.0,>=4.5\n",
      "  Downloading multidict-6.0.4-cp310-cp310-manylinux_2_17_x86_64.manylinux2014_x86_64.whl (114 kB)\n",
      "\u001b[2K     \u001b[90m━━━━━━━━━━━━━━━━━━━━━━━━━━━━━━━━━━━━━━━\u001b[0m \u001b[32m114.5/114.5 kB\u001b[0m \u001b[31m8.9 MB/s\u001b[0m eta \u001b[36m0:00:00\u001b[0m\n",
      "\u001b[?25hCollecting gitdb<5,>=4.0.1\n",
      "  Downloading gitdb-4.0.10-py3-none-any.whl (62 kB)\n",
      "\u001b[2K     \u001b[90m━━━━━━━━━━━━━━━━━━━━━━━━━━━━━━━━━━━━━━━━\u001b[0m \u001b[32m62.7/62.7 kB\u001b[0m \u001b[31m2.7 MB/s\u001b[0m eta \u001b[36m0:00:00\u001b[0m\n",
      "\u001b[?25hRequirement already satisfied: rsa<5,>=3.1.4 in /usr/local/lib/python3.10/dist-packages (from google-auth<3,>=1.6.3->tensorboard->simpletransformers) (4.9)\n",
      "Requirement already satisfied: pyasn1-modules>=0.2.1 in /usr/local/lib/python3.10/dist-packages (from google-auth<3,>=1.6.3->tensorboard->simpletransformers) (0.3.0)\n",
      "Requirement already satisfied: requests-oauthlib>=0.7.0 in /usr/local/lib/python3.10/dist-packages (from google-auth-oauthlib<1.1,>=0.5->tensorboard->simpletransformers) (1.3.1)\n",
      "Requirement already satisfied: zipp>=0.5 in /usr/local/lib/python3.10/dist-packages (from importlib-metadata>=1.4->streamlit->simpletransformers) (3.15.0)\n",
      "Requirement already satisfied: pygments<3.0.0,>=2.13.0 in /usr/local/lib/python3.10/dist-packages (from rich>=10.11.0->streamlit->simpletransformers) (2.14.0)\n",
      "Requirement already satisfied: markdown-it-py<3.0.0,>=2.2.0 in /usr/local/lib/python3.10/dist-packages (from rich>=10.11.0->streamlit->simpletransformers) (2.2.0)\n",
      "Requirement already satisfied: pytz-deprecation-shim in /usr/local/lib/python3.10/dist-packages (from tzlocal>=1.1->streamlit->simpletransformers) (0.1.0.post0)\n",
      "Requirement already satisfied: decorator>=3.4.0 in /usr/local/lib/python3.10/dist-packages (from validators>=0.2->streamlit->simpletransformers) (4.4.2)\n",
      "Requirement already satisfied: MarkupSafe>=2.1.1 in /usr/local/lib/python3.10/dist-packages (from werkzeug>=1.0.1->tensorboard->simpletransformers) (2.1.2)\n",
      "Collecting smmap<6,>=3.0.1\n",
      "  Downloading smmap-5.0.0-py3-none-any.whl (24 kB)\n",
      "Requirement already satisfied: pyrsistent!=0.17.0,!=0.17.1,!=0.17.2,>=0.14.0 in /usr/local/lib/python3.10/dist-packages (from jsonschema>=3.0->altair<5,>=3.2.0->streamlit->simpletransformers) (0.19.3)\n",
      "Requirement already satisfied: mdurl~=0.1 in /usr/local/lib/python3.10/dist-packages (from markdown-it-py<3.0.0,>=2.2.0->rich>=10.11.0->streamlit->simpletransformers) (0.1.2)\n",
      "Requirement already satisfied: pyasn1<0.6.0,>=0.4.6 in /usr/local/lib/python3.10/dist-packages (from pyasn1-modules>=0.2.1->google-auth<3,>=1.6.3->tensorboard->simpletransformers) (0.5.0)\n",
      "Requirement already satisfied: oauthlib>=3.0.0 in /usr/local/lib/python3.10/dist-packages (from requests-oauthlib>=0.7.0->google-auth-oauthlib<1.1,>=0.5->tensorboard->simpletransformers) (3.2.2)\n",
      "Requirement already satisfied: tzdata in /usr/local/lib/python3.10/dist-packages (from pytz-deprecation-shim->tzlocal>=1.1->streamlit->simpletransformers) (2023.3)\n",
      "Building wheels for collected packages: seqeval, validators, pathtools\n",
      "  Building wheel for seqeval (setup.py) ... \u001b[?25l\u001b[?25hdone\n",
      "  Created wheel for seqeval: filename=seqeval-1.2.2-py3-none-any.whl size=16180 sha256=b87b47fcbb49ae91ca3371ae924a8a078a6d8ee89d0c677f0f9734e56d0ad787\n",
      "  Stored in directory: /root/.cache/pip/wheels/1a/67/4a/ad4082dd7dfc30f2abfe4d80a2ed5926a506eb8a972b4767fa\n",
      "  Building wheel for validators (setup.py) ... \u001b[?25l\u001b[?25hdone\n",
      "  Created wheel for validators: filename=validators-0.20.0-py3-none-any.whl size=19579 sha256=bc519139d2dbe883e0aafe7c99957ba9f296f741528c448ae52d922bf7e71eb5\n",
      "  Stored in directory: /root/.cache/pip/wheels/f2/ed/dd/d3a556ad245ef9dc570c6bcd2f22886d17b0b408dd3bbb9ac3\n",
      "  Building wheel for pathtools (setup.py) ... \u001b[?25l\u001b[?25hdone\n",
      "  Created wheel for pathtools: filename=pathtools-0.1.2-py3-none-any.whl size=8807 sha256=9a8c63eef8ee6b0b744d36227e296aee9c31ca09217d351fb7d31b626dcef977\n",
      "  Stored in directory: /root/.cache/pip/wheels/e7/f3/22/152153d6eb222ee7a56ff8617d80ee5207207a8c00a7aab794\n",
      "Successfully built seqeval validators pathtools\n",
      "Installing collected packages: sentencepiece, pathtools, xxhash, watchdog, validators, smmap, setproctitle, sentry-sdk, pympler, multidict, frozenlist, docker-pycreds, dill, blinker, async-timeout, yarl, responses, pydeck, multiprocess, gitdb, aiosignal, seqeval, GitPython, aiohttp, wandb, streamlit, datasets, simpletransformers\n",
      "Successfully installed GitPython-3.1.31 aiohttp-3.8.4 aiosignal-1.3.1 async-timeout-4.0.2 blinker-1.6.2 datasets-2.11.0 dill-0.3.6 docker-pycreds-0.4.0 frozenlist-1.3.3 gitdb-4.0.10 multidict-6.0.4 multiprocess-0.70.14 pathtools-0.1.2 pydeck-0.8.1b0 pympler-1.0.1 responses-0.18.0 sentencepiece-0.1.98 sentry-sdk-1.21.0 seqeval-1.2.2 setproctitle-1.3.2 simpletransformers-0.63.11 smmap-5.0.0 streamlit-1.22.0 validators-0.20.0 wandb-0.15.0 watchdog-3.0.0 xxhash-3.2.0 yarl-1.9.2\n"
     ]
    }
   ],
   "source": [
    "# Installing all the necessary libraries\n",
    "!pip install transformers\n",
    "!pip install tensorboardx \n",
    "!pip install tensorflow\n",
    "!pip install np_utils\n",
    "!pip install --upgrade tensorflow\n",
    "!pip install simpletransformers"
   ]
  },
  {
   "cell_type": "code",
   "execution_count": 177,
   "metadata": {
    "colab": {
     "base_uri": "https://localhost:8080/"
    },
    "id": "D8PELZmx_Lz1",
    "outputId": "87d3a10a-dc8d-4646-8487-02dfb5adffa8"
   },
   "outputs": [
    {
     "name": "stderr",
     "output_type": "stream",
     "text": [
      "[nltk_data] Downloading package wordnet to /root/nltk_data...\n",
      "[nltk_data]   Package wordnet is already up-to-date!\n",
      "[nltk_data] Downloading package stopwords to /root/nltk_data...\n",
      "[nltk_data]   Package stopwords is already up-to-date!\n"
     ]
    }
   ],
   "source": [
    "# Importing all the necessary libraries\n",
    "import pandas as pd\n",
    "import numpy as np\n",
    "import matplotlib.pyplot as plt\n",
    "import seaborn as sns\n",
    "import torch\n",
    "from sklearn.metrics import confusion_matrix, classification_report\n",
    "from transformers import BertTokenizer\n",
    "from transformers import BertModel\n",
    "from torch import nn\n",
    "from torch.optim import Adam\n",
    "from tqdm import tqdm \n",
    "import re\n",
    "from simpletransformers.classification import ClassificationModel\n",
    "from simpletransformers.classification import ClassificationModel, ClassificationArgs\n",
    "from transformers import BertForSequenceClassification, AdamW, BertConfig\n",
    "from transformers import RobertaModel\n",
    "from transformers import RobertaTokenizer\n",
    "from plotly.offline import iplot\n",
    "import tensorflow as tf\n",
    "from tensorflow.keras.preprocessing.text import Tokenizer\n",
    "from tensorflow.keras.preprocessing.sequence import pad_sequences\n",
    "from tensorflow.keras.models import Sequential\n",
    "from tensorflow.keras.layers import Dense, Embedding, LSTM, SpatialDropout1D\n",
    "from tensorflow.keras.callbacks import EarlyStopping\n",
    "from tensorflow.keras.layers import Dropout\n",
    "from sklearn.model_selection import train_test_split\n",
    "from keras.utils.np_utils import to_categorical\n",
    "import os,random,math\n",
    "import nltk\n",
    "nltk.download('wordnet')\n",
    "nltk.download('stopwords')\n",
    "from nltk.corpus import stopwords\n",
    "from nltk import word_tokenize\n",
    "STOPWORDS = set(stopwords.words('english'))"
   ]
  },
  {
   "cell_type": "code",
   "execution_count": 9,
   "metadata": {
    "colab": {
     "base_uri": "https://localhost:8080/"
    },
    "id": "6JZDaFjiQET7",
    "outputId": "3c6a71be-7195-468f-86dc-0003bdae0f0a"
   },
   "outputs": [
    {
     "name": "stdout",
     "output_type": "stream",
     "text": [
      "There are 6 files in the training directory: /content/drive/MyDrive/Sussex/SEM_2/Advance_NLP/Assignment/propaganda_dataset_v2\n"
     ]
    }
   ],
   "source": [
    "# Saving the location of file in a variable\n",
    "PROPAGANDA_DATA_DIR=\"/content/drive/MyDrive/Sussex/SEM_2/Advance_NLP/Assignment/propaganda_dataset_v2\" #this needs to be the parent directory for the training corpus\n",
    "TRAINING_FILE= \"/content/drive/MyDrive/Sussex/SEM_2/Advance_NLP/Assignment/propaganda_dataset_v2/propaganda_train.tsv\"\n",
    "VALIDATION_FILE=\"/content/drive/MyDrive/Sussex/SEM_2/Advance_NLP/Assignment/propaganda_dataset_v2/propaganda_val.tsv\"\n",
    "filenames=os.listdir(PROPAGANDA_DATA_DIR)\n",
    "n=len(filenames)\n",
    "print(\"There are {} files in the training directory: {}\".format(n,PROPAGANDA_DATA_DIR))"
   ]
  },
  {
   "cell_type": "code",
   "execution_count": 10,
   "metadata": {
    "colab": {
     "base_uri": "https://localhost:8080/",
     "height": 223
    },
    "id": "Zt0ynmdaQoFH",
    "outputId": "a2acf29e-0aae-48c3-f85b-acf7f8bd36f0"
   },
   "outputs": [
    {
     "name": "stdout",
     "output_type": "stream",
     "text": [
      "Index(['label', 'tagged_in_context'], dtype='object')\n"
     ]
    },
    {
     "data": {
      "text/html": [
       "\n",
       "  <div id=\"df-531d16c2-d563-4358-851c-5f28fdc0dbe6\">\n",
       "    <div class=\"colab-df-container\">\n",
       "      <div>\n",
       "<style scoped>\n",
       "    .dataframe tbody tr th:only-of-type {\n",
       "        vertical-align: middle;\n",
       "    }\n",
       "\n",
       "    .dataframe tbody tr th {\n",
       "        vertical-align: top;\n",
       "    }\n",
       "\n",
       "    .dataframe thead th {\n",
       "        text-align: right;\n",
       "    }\n",
       "</style>\n",
       "<table border=\"1\" class=\"dataframe\">\n",
       "  <thead>\n",
       "    <tr style=\"text-align: right;\">\n",
       "      <th></th>\n",
       "      <th>label</th>\n",
       "      <th>tagged_in_context</th>\n",
       "    </tr>\n",
       "  </thead>\n",
       "  <tbody>\n",
       "    <tr>\n",
       "      <th>0</th>\n",
       "      <td>not_propaganda</td>\n",
       "      <td>No, &lt;BOS&gt; he &lt;EOS&gt; will not be confirmed.</td>\n",
       "    </tr>\n",
       "    <tr>\n",
       "      <th>1</th>\n",
       "      <td>not_propaganda</td>\n",
       "      <td>This declassification effort &lt;BOS&gt; won’t make ...</td>\n",
       "    </tr>\n",
       "    <tr>\n",
       "      <th>2</th>\n",
       "      <td>flag_waving</td>\n",
       "      <td>The Obama administration misled the &lt;BOS&gt; Amer...</td>\n",
       "    </tr>\n",
       "    <tr>\n",
       "      <th>3</th>\n",
       "      <td>not_propaganda</td>\n",
       "      <td>“It looks like we’re capturing the demise of t...</td>\n",
       "    </tr>\n",
       "    <tr>\n",
       "      <th>4</th>\n",
       "      <td>not_propaganda</td>\n",
       "      <td>&lt;BOS&gt; Location: Westerville, Ohio &lt;EOS&gt;</td>\n",
       "    </tr>\n",
       "  </tbody>\n",
       "</table>\n",
       "</div>\n",
       "      <button class=\"colab-df-convert\" onclick=\"convertToInteractive('df-531d16c2-d563-4358-851c-5f28fdc0dbe6')\"\n",
       "              title=\"Convert this dataframe to an interactive table.\"\n",
       "              style=\"display:none;\">\n",
       "        \n",
       "  <svg xmlns=\"http://www.w3.org/2000/svg\" height=\"24px\"viewBox=\"0 0 24 24\"\n",
       "       width=\"24px\">\n",
       "    <path d=\"M0 0h24v24H0V0z\" fill=\"none\"/>\n",
       "    <path d=\"M18.56 5.44l.94 2.06.94-2.06 2.06-.94-2.06-.94-.94-2.06-.94 2.06-2.06.94zm-11 1L8.5 8.5l.94-2.06 2.06-.94-2.06-.94L8.5 2.5l-.94 2.06-2.06.94zm10 10l.94 2.06.94-2.06 2.06-.94-2.06-.94-.94-2.06-.94 2.06-2.06.94z\"/><path d=\"M17.41 7.96l-1.37-1.37c-.4-.4-.92-.59-1.43-.59-.52 0-1.04.2-1.43.59L10.3 9.45l-7.72 7.72c-.78.78-.78 2.05 0 2.83L4 21.41c.39.39.9.59 1.41.59.51 0 1.02-.2 1.41-.59l7.78-7.78 2.81-2.81c.8-.78.8-2.07 0-2.86zM5.41 20L4 18.59l7.72-7.72 1.47 1.35L5.41 20z\"/>\n",
       "  </svg>\n",
       "      </button>\n",
       "      \n",
       "  <style>\n",
       "    .colab-df-container {\n",
       "      display:flex;\n",
       "      flex-wrap:wrap;\n",
       "      gap: 12px;\n",
       "    }\n",
       "\n",
       "    .colab-df-convert {\n",
       "      background-color: #E8F0FE;\n",
       "      border: none;\n",
       "      border-radius: 50%;\n",
       "      cursor: pointer;\n",
       "      display: none;\n",
       "      fill: #1967D2;\n",
       "      height: 32px;\n",
       "      padding: 0 0 0 0;\n",
       "      width: 32px;\n",
       "    }\n",
       "\n",
       "    .colab-df-convert:hover {\n",
       "      background-color: #E2EBFA;\n",
       "      box-shadow: 0px 1px 2px rgba(60, 64, 67, 0.3), 0px 1px 3px 1px rgba(60, 64, 67, 0.15);\n",
       "      fill: #174EA6;\n",
       "    }\n",
       "\n",
       "    [theme=dark] .colab-df-convert {\n",
       "      background-color: #3B4455;\n",
       "      fill: #D2E3FC;\n",
       "    }\n",
       "\n",
       "    [theme=dark] .colab-df-convert:hover {\n",
       "      background-color: #434B5C;\n",
       "      box-shadow: 0px 1px 3px 1px rgba(0, 0, 0, 0.15);\n",
       "      filter: drop-shadow(0px 1px 2px rgba(0, 0, 0, 0.3));\n",
       "      fill: #FFFFFF;\n",
       "    }\n",
       "  </style>\n",
       "\n",
       "      <script>\n",
       "        const buttonEl =\n",
       "          document.querySelector('#df-531d16c2-d563-4358-851c-5f28fdc0dbe6 button.colab-df-convert');\n",
       "        buttonEl.style.display =\n",
       "          google.colab.kernel.accessAllowed ? 'block' : 'none';\n",
       "\n",
       "        async function convertToInteractive(key) {\n",
       "          const element = document.querySelector('#df-531d16c2-d563-4358-851c-5f28fdc0dbe6');\n",
       "          const dataTable =\n",
       "            await google.colab.kernel.invokeFunction('convertToInteractive',\n",
       "                                                     [key], {});\n",
       "          if (!dataTable) return;\n",
       "\n",
       "          const docLinkHtml = 'Like what you see? Visit the ' +\n",
       "            '<a target=\"_blank\" href=https://colab.research.google.com/notebooks/data_table.ipynb>data table notebook</a>'\n",
       "            + ' to learn more about interactive tables.';\n",
       "          element.innerHTML = '';\n",
       "          dataTable['output_type'] = 'display_data';\n",
       "          await google.colab.output.renderOutput(dataTable, element);\n",
       "          const docLink = document.createElement('div');\n",
       "          docLink.innerHTML = docLinkHtml;\n",
       "          element.appendChild(docLink);\n",
       "        }\n",
       "      </script>\n",
       "    </div>\n",
       "  </div>\n",
       "  "
      ],
      "text/plain": [
       "            label                                  tagged_in_context\n",
       "0  not_propaganda         No, <BOS> he <EOS> will not be confirmed. \n",
       "1  not_propaganda  This declassification effort <BOS> won’t make ...\n",
       "2     flag_waving  The Obama administration misled the <BOS> Amer...\n",
       "3  not_propaganda  “It looks like we’re capturing the demise of t...\n",
       "4  not_propaganda           <BOS> Location: Westerville, Ohio <EOS> "
      ]
     },
     "execution_count": 10,
     "metadata": {},
     "output_type": "execute_result"
    }
   ],
   "source": [
    "# Loading the Train data in a dataframe\n",
    "train_df = pd.read_csv(TRAINING_FILE, sep=\"\\t\", header=0)\n",
    "print(train_df.columns)\n",
    "train_df.head()"
   ]
  },
  {
   "cell_type": "code",
   "execution_count": 13,
   "metadata": {
    "colab": {
     "base_uri": "https://localhost:8080/",
     "height": 223
    },
    "id": "IrsFp-T1_lYj",
    "outputId": "91a79827-e73c-4dfa-8700-a5c2cf89ecf1"
   },
   "outputs": [
    {
     "name": "stdout",
     "output_type": "stream",
     "text": [
      "Index(['label', 'tagged_in_context'], dtype='object')\n"
     ]
    },
    {
     "data": {
      "text/html": [
       "\n",
       "  <div id=\"df-59df9af9-1200-42a9-9f0a-7d67e35c87c5\">\n",
       "    <div class=\"colab-df-container\">\n",
       "      <div>\n",
       "<style scoped>\n",
       "    .dataframe tbody tr th:only-of-type {\n",
       "        vertical-align: middle;\n",
       "    }\n",
       "\n",
       "    .dataframe tbody tr th {\n",
       "        vertical-align: top;\n",
       "    }\n",
       "\n",
       "    .dataframe thead th {\n",
       "        text-align: right;\n",
       "    }\n",
       "</style>\n",
       "<table border=\"1\" class=\"dataframe\">\n",
       "  <thead>\n",
       "    <tr style=\"text-align: right;\">\n",
       "      <th></th>\n",
       "      <th>label</th>\n",
       "      <th>tagged_in_context</th>\n",
       "    </tr>\n",
       "  </thead>\n",
       "  <tbody>\n",
       "    <tr>\n",
       "      <th>0</th>\n",
       "      <td>not_propaganda</td>\n",
       "      <td>On average, between 300 and 600 infections are...</td>\n",
       "    </tr>\n",
       "    <tr>\n",
       "      <th>1</th>\n",
       "      <td>causal_oversimplification</td>\n",
       "      <td>Mostly because &lt;BOS&gt; the country would not las...</td>\n",
       "    </tr>\n",
       "    <tr>\n",
       "      <th>2</th>\n",
       "      <td>appeal_to_fear_prejudice</td>\n",
       "      <td>Lyndon Johnson &lt;BOS&gt; gets Earl Warren and Sen....</td>\n",
       "    </tr>\n",
       "    <tr>\n",
       "      <th>3</th>\n",
       "      <td>not_propaganda</td>\n",
       "      <td>&lt;BOS&gt; You &lt;EOS&gt; may opt out at anytime.</td>\n",
       "    </tr>\n",
       "    <tr>\n",
       "      <th>4</th>\n",
       "      <td>repetition</td>\n",
       "      <td>It must be exacted from him directly in order ...</td>\n",
       "    </tr>\n",
       "  </tbody>\n",
       "</table>\n",
       "</div>\n",
       "      <button class=\"colab-df-convert\" onclick=\"convertToInteractive('df-59df9af9-1200-42a9-9f0a-7d67e35c87c5')\"\n",
       "              title=\"Convert this dataframe to an interactive table.\"\n",
       "              style=\"display:none;\">\n",
       "        \n",
       "  <svg xmlns=\"http://www.w3.org/2000/svg\" height=\"24px\"viewBox=\"0 0 24 24\"\n",
       "       width=\"24px\">\n",
       "    <path d=\"M0 0h24v24H0V0z\" fill=\"none\"/>\n",
       "    <path d=\"M18.56 5.44l.94 2.06.94-2.06 2.06-.94-2.06-.94-.94-2.06-.94 2.06-2.06.94zm-11 1L8.5 8.5l.94-2.06 2.06-.94-2.06-.94L8.5 2.5l-.94 2.06-2.06.94zm10 10l.94 2.06.94-2.06 2.06-.94-2.06-.94-.94-2.06-.94 2.06-2.06.94z\"/><path d=\"M17.41 7.96l-1.37-1.37c-.4-.4-.92-.59-1.43-.59-.52 0-1.04.2-1.43.59L10.3 9.45l-7.72 7.72c-.78.78-.78 2.05 0 2.83L4 21.41c.39.39.9.59 1.41.59.51 0 1.02-.2 1.41-.59l7.78-7.78 2.81-2.81c.8-.78.8-2.07 0-2.86zM5.41 20L4 18.59l7.72-7.72 1.47 1.35L5.41 20z\"/>\n",
       "  </svg>\n",
       "      </button>\n",
       "      \n",
       "  <style>\n",
       "    .colab-df-container {\n",
       "      display:flex;\n",
       "      flex-wrap:wrap;\n",
       "      gap: 12px;\n",
       "    }\n",
       "\n",
       "    .colab-df-convert {\n",
       "      background-color: #E8F0FE;\n",
       "      border: none;\n",
       "      border-radius: 50%;\n",
       "      cursor: pointer;\n",
       "      display: none;\n",
       "      fill: #1967D2;\n",
       "      height: 32px;\n",
       "      padding: 0 0 0 0;\n",
       "      width: 32px;\n",
       "    }\n",
       "\n",
       "    .colab-df-convert:hover {\n",
       "      background-color: #E2EBFA;\n",
       "      box-shadow: 0px 1px 2px rgba(60, 64, 67, 0.3), 0px 1px 3px 1px rgba(60, 64, 67, 0.15);\n",
       "      fill: #174EA6;\n",
       "    }\n",
       "\n",
       "    [theme=dark] .colab-df-convert {\n",
       "      background-color: #3B4455;\n",
       "      fill: #D2E3FC;\n",
       "    }\n",
       "\n",
       "    [theme=dark] .colab-df-convert:hover {\n",
       "      background-color: #434B5C;\n",
       "      box-shadow: 0px 1px 3px 1px rgba(0, 0, 0, 0.15);\n",
       "      filter: drop-shadow(0px 1px 2px rgba(0, 0, 0, 0.3));\n",
       "      fill: #FFFFFF;\n",
       "    }\n",
       "  </style>\n",
       "\n",
       "      <script>\n",
       "        const buttonEl =\n",
       "          document.querySelector('#df-59df9af9-1200-42a9-9f0a-7d67e35c87c5 button.colab-df-convert');\n",
       "        buttonEl.style.display =\n",
       "          google.colab.kernel.accessAllowed ? 'block' : 'none';\n",
       "\n",
       "        async function convertToInteractive(key) {\n",
       "          const element = document.querySelector('#df-59df9af9-1200-42a9-9f0a-7d67e35c87c5');\n",
       "          const dataTable =\n",
       "            await google.colab.kernel.invokeFunction('convertToInteractive',\n",
       "                                                     [key], {});\n",
       "          if (!dataTable) return;\n",
       "\n",
       "          const docLinkHtml = 'Like what you see? Visit the ' +\n",
       "            '<a target=\"_blank\" href=https://colab.research.google.com/notebooks/data_table.ipynb>data table notebook</a>'\n",
       "            + ' to learn more about interactive tables.';\n",
       "          element.innerHTML = '';\n",
       "          dataTable['output_type'] = 'display_data';\n",
       "          await google.colab.output.renderOutput(dataTable, element);\n",
       "          const docLink = document.createElement('div');\n",
       "          docLink.innerHTML = docLinkHtml;\n",
       "          element.appendChild(docLink);\n",
       "        }\n",
       "      </script>\n",
       "    </div>\n",
       "  </div>\n",
       "  "
      ],
      "text/plain": [
       "                       label  \\\n",
       "0             not_propaganda   \n",
       "1  causal_oversimplification   \n",
       "2   appeal_to_fear_prejudice   \n",
       "3             not_propaganda   \n",
       "4                 repetition   \n",
       "\n",
       "                                   tagged_in_context  \n",
       "0  On average, between 300 and 600 infections are...  \n",
       "1  Mostly because <BOS> the country would not las...  \n",
       "2  Lyndon Johnson <BOS> gets Earl Warren and Sen....  \n",
       "3           <BOS> You <EOS> may opt out at anytime.   \n",
       "4  It must be exacted from him directly in order ...  "
      ]
     },
     "execution_count": 13,
     "metadata": {},
     "output_type": "execute_result"
    }
   ],
   "source": [
    "# Loading the Validation data in a dataframe\n",
    "validation_df = pd.read_csv(VALIDATION_FILE, sep=\"\\t\", header=None, names=[\"label\",\"tagged_in_context\"])\n",
    "print(validation_df.columns)\n",
    "validation_df = validation_df.drop(0)\n",
    "validation_df=validation_df.reset_index(drop=True)\n",
    "validation_df.head()"
   ]
  },
  {
   "cell_type": "code",
   "execution_count": 14,
   "metadata": {
    "id": "SBLhQ8gHSJF7"
   },
   "outputs": [],
   "source": [
    "\"\"\"\n",
    "This function is used to get the general information about dataframe.\n",
    "Like The number of columns, Unique Values in a colmn, Total Value count, Total Null, Shape, size and for describing basic statistics in a dataframe\n",
    "\"\"\"\n",
    "def general_info_dataframe(df,name=\"TRAIN DATA\",column=\"label\"):\n",
    "  print(f\"{name} Number of unique values\",df[column].nunique())\n",
    "  print(\"-----------------------------------------------------\")\n",
    "  print(f\"{name} unique values\",df[column].unique())\n",
    "  print(\"-----------------------------------------------------\")\n",
    "  print(f\"Occurance of propoganda techniques in {name}\\n\",df[column].value_counts())\n",
    "  print(\"-----------------------------------------------------\")\n",
    "  print(f\"{name} Total null\",df.isnull().sum())\n",
    "  print(\"-----------------------------------------------------\")\n",
    "  print(f\"{name} SHAPE\",df.shape)\n",
    "  print(\"-----------------------------------------------------\")\n",
    "  print(f\"{name} Size\",df.size)\n",
    "  print(\"-----------------------------------------------------\")\n",
    "  print(f\"{name} Information:\")\n",
    "  print(df.info())\n",
    "  print(\"-----------------------------------------------------\")\n",
    "  print(f\"Describe {name}\")\n",
    "  print(df[column].describe().T)"
   ]
  },
  {
   "cell_type": "code",
   "execution_count": 15,
   "metadata": {
    "id": "LpNlMCyYcSPU"
   },
   "outputs": [],
   "source": [
    "\"\"\"\n",
    "This function is used to plot the graph for dataframe and show the value counts for label\n",
    "\"\"\"\n",
    "def plot_graph(df,dict={},column=\"label\",label=\"Label Counts\",x_name=\"Count\",y_name=\"Label\"):\n",
    "  # Count the occurrences of each label\n",
    "  if len(dict)!=0:\n",
    "    df[column] = df[column].replace(dict)\n",
    "  count_number_of_occurence_of_value = df[column].value_counts()\n",
    "\n",
    "  # Plot the counts as a horizontal bar graph\n",
    "  axis_data = count_number_of_occurence_of_value.plot(kind='barh', rot=45, fontsize=10, figsize=(8, 6))\n",
    "\n",
    "  # set the axis labels and title\n",
    "  axis_data.set_xlabel(x_name)\n",
    "  axis_data.set_ylabel(y_name)\n",
    "  axis_data.set_title(label)\n",
    "\n",
    "  # show the plot\n",
    "  plt.show()"
   ]
  },
  {
   "cell_type": "code",
   "execution_count": 16,
   "metadata": {
    "id": "z4EXv3ENhYHY"
   },
   "outputs": [],
   "source": [
    "\"\"\"\n",
    "This function is used to to filter the <BOS> <EOS> tags from the text\n",
    "\n",
    "\"\"\"\n",
    "import re\n",
    "\n",
    "# defining regular expression pattern to match the text between <BOS> and <EOS> tags but here it will be considered as string\n",
    "pattern = r'<BOS>(.+?)<EOS>'   \n",
    "\n",
    "def extract_text_from_tags(row,column_name=\"tagged_in_context\"): \n",
    "    match = re.search(pattern, row[column_name])\n",
    "    if match:\n",
    "        return match.group(1)\n",
    "    else:\n",
    "        return ''"
   ]
  },
  {
   "cell_type": "code",
   "execution_count": 17,
   "metadata": {
    "id": "XYrp3CU9Lzap"
   },
   "outputs": [],
   "source": [
    "\"\"\"\n",
    "This function is used to plot the graph for mean length of characters in a given dataframe.\n",
    "And also show the values in a dictionary.\n",
    "\n",
    "\"\"\"\n",
    "def mean_length_of_char_in_df(df,groupby_col=\"label\",col=\"len_of_span\",xlabel_name=\"Mean Length of Span in dataset\"):\n",
    "  axis_df = df.groupby(groupby_col)[col].mean().plot(kind='barh', rot=45, fontsize=10, figsize=(8, 6))\n",
    "  axis_df.set_xlabel(xlabel_name)\n",
    "  axis_df.grid(axis='x')\n",
    "  plt.show()\n",
    "  mean_dict = df.groupby(groupby_col)[col].mean().round(2).to_dict()\n",
    "  print(\"Length for labels are as follows\",mean_dict)\n"
   ]
  },
  {
   "cell_type": "code",
   "execution_count": 18,
   "metadata": {
    "id": "CFfm65KrQzVg"
   },
   "outputs": [],
   "source": [
    "\"\"\"\n",
    "This function is used to load the data for span identification task.\n",
    "\"\"\"\n",
    "def span_identification_df():\n",
    "  print(\"Training Dataframe for Span Identification\")\n",
    "  train_df_si = train_df.copy(deep=True)\n",
    "  # Below code of line replaces all other labels except not_propoganda label as propoganda\n",
    "  train_df_si[\"label\"] = train_df_si[\"label\"].apply(lambda x: \"not_propaganda\" if x == \"not_propaganda\" else \"propaganda\") \n",
    "  train_df_si = train_df_si.rename(columns={'tagged_in_context': 'text'})           # Renaming the column \n",
    "  train_df_si = train_df_si.reindex(columns=['text', 'label'])                    # Reindexing the column\n",
    "  print(train_df_si.head())\n",
    "  print(\"----------------------------------------------------------------------------------------------------------------\")\n",
    "  print(\"Validation Dataframe for Span Identification\")\n",
    "  validation_df_si = validation_df.copy(deep=True)\n",
    "  # Below code of line replaces all other labels except not_propoganda label as propoganda\n",
    "  validation_df_si[\"label\"] = validation_df_si[\"label\"].apply(lambda x: \"not_propaganda\" if x == \"not_propaganda\" else \"propaganda\")\n",
    "  validation_df_si = validation_df_si.rename(columns={'tagged_in_context': 'text'}) # Renaming the column \n",
    "  validation_df_si = validation_df_si.reindex(columns=['text', 'label'])            # Reindexing the column\n",
    "  print(validation_df_si.head())\n",
    "  print(\"----------------------------------------------------------------------------------------------------------------\")\n",
    "  labels = {'not_propaganda': 0,'propaganda': 1}     # Defining numbers instead of label name so that models can understand the data\n",
    "  reverse_index = dict(enumerate(labels))\n",
    "  print(\"reverse_index for Span Identification 2 Labels:\\n\",reverse_index)  # Mapping it back to original labels\n",
    "  return train_df_si,validation_df_si,labels,reverse_index"
   ]
  },
  {
   "cell_type": "code",
   "execution_count": 19,
   "metadata": {
    "id": "6y3jAeZtb4LJ"
   },
   "outputs": [],
   "source": [
    "\"\"\"\n",
    "This function is used to load the data for technique classification task.\n",
    "\"\"\"\n",
    "def technique_classification_df():\n",
    "  print(\"Training Dataframe for Technique Classification\")\n",
    "  train_df_tc = train_df.copy(deep=True)\n",
    "  train_df_tc = train_df_tc.rename(columns={'tagged_in_context': 'text'})  # Renaming the column \n",
    "  train_df_tc = train_df_tc.reindex(columns=['text', 'label'])             # Reindexing the column\n",
    "  train_df_tc = train_df_tc[train_df_tc['label'] != 'not_propaganda']      # Filtering all the rows where label is not_propoganda for training data\n",
    "  print(train_df_tc.head())\n",
    "  print(\"----------------------------------------------------------------------------------------------------------------\")\n",
    "  print(\"Validation Dataframe for Technique Classification\")\n",
    "  validation_df_tc = validation_df.copy(deep=True)\n",
    "  validation_df_tc = validation_df_tc.rename(columns={'tagged_in_context': 'text'})     # Renaming the column \n",
    "  validation_df_tc = validation_df_tc.reindex(columns=['text', 'label'])                  # Reindexing the column\n",
    "  validation_df_tc = validation_df_tc[validation_df_tc['label'] != 'not_propaganda']      # Filtering all the rows where label is not_propoganda for Validation data\n",
    "  print(validation_df_tc.head())\n",
    "  print(\"----------------------------------------------------------------------------------------------------------------\")\n",
    "  labels = {'appeal_to_fear_prejudice': 0,'causal_oversimplification': 1, 'doubt': 2, 'exaggeration,minimisation': 3,'flag_waving': 4,'loaded_language': 5, 'name_calling,labeling': 6,\n",
    " 'repetition': 7}       # Defining numbers instead of label name so that models can understand the data\n",
    "  reverse_index = dict(enumerate(labels))\n",
    "  print(\"reverse_index for Technique Classification 8 Labels:\\n\",reverse_index)  # Mapping it back to original labels\n",
    "  return train_df_tc,validation_df_tc,labels,reverse_index"
   ]
  },
  {
   "cell_type": "code",
   "execution_count": 83,
   "metadata": {
    "id": "PgdlD2DKBD3T"
   },
   "outputs": [],
   "source": [
    "\"\"\"\n",
    "This function is used after model gives predictions to perform error analysis.\n",
    "It returns the mean lengths of mismatched rows by grouping the labels together\n",
    "\n",
    "\"\"\"\n",
    "def calculate_mean_sentence_lengths(df):\n",
    "    # Filter rows where label and prediction don't match\n",
    "    mismatched_rows = df[df['label'] != df['prediction']]\n",
    "    \n",
    "    # Calculating the length of each sentence\n",
    "    sentence_lengths = mismatched_rows['text'].apply(lambda x: len(x))\n",
    "    \n",
    "    # Group by prediction and calculate the mean sentence length\n",
    "    grouped_lengths = sentence_lengths.groupby(mismatched_rows['prediction'])\n",
    "    mean_lengths = grouped_lengths.mean()\n",
    "    \n",
    "    return mean_lengths"
   ]
  },
  {
   "cell_type": "code",
   "execution_count": 20,
   "metadata": {
    "colab": {
     "base_uri": "https://localhost:8080/"
    },
    "id": "qLnB-nQPPwWx",
    "outputId": "dc248afd-0cbc-4077-91ea-df07247469e0"
   },
   "outputs": [
    {
     "name": "stdout",
     "output_type": "stream",
     "text": [
      "TRAIN DATA Number of unique values 9\n",
      "-----------------------------------------------------\n",
      "TRAIN DATA unique values ['not_propaganda' 'flag_waving' 'loaded_language' 'doubt'\n",
      " 'name_calling,labeling' 'appeal_to_fear_prejudice' 'repetition'\n",
      " 'causal_oversimplification' 'exaggeration,minimisation']\n",
      "-----------------------------------------------------\n",
      "Occurance of propoganda techniques in TRAIN DATA\n",
      " not_propaganda               1191\n",
      "exaggeration,minimisation     164\n",
      "causal_oversimplification     158\n",
      "name_calling,labeling         157\n",
      "loaded_language               154\n",
      "appeal_to_fear_prejudice      151\n",
      "flag_waving                   148\n",
      "repetition                    147\n",
      "doubt                         144\n",
      "Name: label, dtype: int64\n",
      "-----------------------------------------------------\n",
      "TRAIN DATA Total null label                0\n",
      "tagged_in_context    0\n",
      "dtype: int64\n",
      "-----------------------------------------------------\n",
      "TRAIN DATA SHAPE (2414, 2)\n",
      "-----------------------------------------------------\n",
      "TRAIN DATA Size 4828\n",
      "-----------------------------------------------------\n",
      "TRAIN DATA Information:\n",
      "<class 'pandas.core.frame.DataFrame'>\n",
      "RangeIndex: 2414 entries, 0 to 2413\n",
      "Data columns (total 2 columns):\n",
      " #   Column             Non-Null Count  Dtype \n",
      "---  ------             --------------  ----- \n",
      " 0   label              2414 non-null   object\n",
      " 1   tagged_in_context  2414 non-null   object\n",
      "dtypes: object(2)\n",
      "memory usage: 37.8+ KB\n",
      "None\n",
      "-----------------------------------------------------\n",
      "Describe TRAIN DATA\n",
      "count               2414\n",
      "unique                 9\n",
      "top       not_propaganda\n",
      "freq                1191\n",
      "Name: label, dtype: object\n"
     ]
    }
   ],
   "source": [
    "general_info_dataframe(train_df,name=\"TRAIN DATA\",column=\"label\")  # Understanding basic information for training data"
   ]
  },
  {
   "cell_type": "code",
   "execution_count": 21,
   "metadata": {
    "colab": {
     "base_uri": "https://localhost:8080/"
    },
    "id": "OnNoGu4cXC2f",
    "outputId": "c706de16-45e6-45af-af64-e72046b8eaf8"
   },
   "outputs": [
    {
     "name": "stdout",
     "output_type": "stream",
     "text": [
      "VALIDATION DATA Number of unique values 9\n",
      "-----------------------------------------------------\n",
      "VALIDATION DATA unique values ['not_propaganda' 'causal_oversimplification' 'appeal_to_fear_prejudice'\n",
      " 'repetition' 'name_calling,labeling' 'loaded_language' 'flag_waving'\n",
      " 'doubt' 'exaggeration,minimisation']\n",
      "-----------------------------------------------------\n",
      "Occurance of propoganda techniques in VALIDATION DATA\n",
      " not_propaganda               301\n",
      "appeal_to_fear_prejudice      43\n",
      "flag_waving                   39\n",
      "doubt                         38\n",
      "loaded_language               37\n",
      "repetition                    32\n",
      "causal_oversimplification     31\n",
      "name_calling,labeling         31\n",
      "exaggeration,minimisation     28\n",
      "Name: label, dtype: int64\n",
      "-----------------------------------------------------\n",
      "VALIDATION DATA Total null label                0\n",
      "tagged_in_context    0\n",
      "dtype: int64\n",
      "-----------------------------------------------------\n",
      "VALIDATION DATA SHAPE (580, 2)\n",
      "-----------------------------------------------------\n",
      "VALIDATION DATA Size 1160\n",
      "-----------------------------------------------------\n",
      "VALIDATION DATA Information:\n",
      "<class 'pandas.core.frame.DataFrame'>\n",
      "RangeIndex: 580 entries, 0 to 579\n",
      "Data columns (total 2 columns):\n",
      " #   Column             Non-Null Count  Dtype \n",
      "---  ------             --------------  ----- \n",
      " 0   label              580 non-null    object\n",
      " 1   tagged_in_context  580 non-null    object\n",
      "dtypes: object(2)\n",
      "memory usage: 9.2+ KB\n",
      "None\n",
      "-----------------------------------------------------\n",
      "Describe VALIDATION DATA\n",
      "count                580\n",
      "unique                 9\n",
      "top       not_propaganda\n",
      "freq                 301\n",
      "Name: label, dtype: object\n"
     ]
    }
   ],
   "source": [
    "general_info_dataframe(validation_df,name=\"VALIDATION DATA\",column=\"label\") # Understanding basic information for validation data"
   ]
  },
  {
   "cell_type": "code",
   "execution_count": 34,
   "metadata": {
    "colab": {
     "base_uri": "https://localhost:8080/",
     "height": 206
    },
    "id": "0M1pkOG0_riR",
    "outputId": "53d7d232-31b9-45fb-e08e-e2113dfe0949"
   },
   "outputs": [
    {
     "data": {
      "text/html": [
       "\n",
       "  <div id=\"df-81b37e1e-a7ed-483c-a0d7-a03193829ed0\">\n",
       "    <div class=\"colab-df-container\">\n",
       "      <div>\n",
       "<style scoped>\n",
       "    .dataframe tbody tr th:only-of-type {\n",
       "        vertical-align: middle;\n",
       "    }\n",
       "\n",
       "    .dataframe tbody tr th {\n",
       "        vertical-align: top;\n",
       "    }\n",
       "\n",
       "    .dataframe thead th {\n",
       "        text-align: right;\n",
       "    }\n",
       "</style>\n",
       "<table border=\"1\" class=\"dataframe\">\n",
       "  <thead>\n",
       "    <tr style=\"text-align: right;\">\n",
       "      <th></th>\n",
       "      <th>label</th>\n",
       "      <th>tagged_in_context</th>\n",
       "    </tr>\n",
       "  </thead>\n",
       "  <tbody>\n",
       "    <tr>\n",
       "      <th>0</th>\n",
       "      <td>not_propaganda</td>\n",
       "      <td>No, &lt;BOS&gt; he &lt;EOS&gt; will not be confirmed.</td>\n",
       "    </tr>\n",
       "    <tr>\n",
       "      <th>1</th>\n",
       "      <td>not_propaganda</td>\n",
       "      <td>This declassification effort &lt;BOS&gt; won’t make ...</td>\n",
       "    </tr>\n",
       "    <tr>\n",
       "      <th>2</th>\n",
       "      <td>flag_waving</td>\n",
       "      <td>The Obama administration misled the &lt;BOS&gt; Amer...</td>\n",
       "    </tr>\n",
       "    <tr>\n",
       "      <th>3</th>\n",
       "      <td>not_propaganda</td>\n",
       "      <td>“It looks like we’re capturing the demise of t...</td>\n",
       "    </tr>\n",
       "    <tr>\n",
       "      <th>4</th>\n",
       "      <td>not_propaganda</td>\n",
       "      <td>&lt;BOS&gt; Location: Westerville, Ohio &lt;EOS&gt;</td>\n",
       "    </tr>\n",
       "  </tbody>\n",
       "</table>\n",
       "</div>\n",
       "      <button class=\"colab-df-convert\" onclick=\"convertToInteractive('df-81b37e1e-a7ed-483c-a0d7-a03193829ed0')\"\n",
       "              title=\"Convert this dataframe to an interactive table.\"\n",
       "              style=\"display:none;\">\n",
       "        \n",
       "  <svg xmlns=\"http://www.w3.org/2000/svg\" height=\"24px\"viewBox=\"0 0 24 24\"\n",
       "       width=\"24px\">\n",
       "    <path d=\"M0 0h24v24H0V0z\" fill=\"none\"/>\n",
       "    <path d=\"M18.56 5.44l.94 2.06.94-2.06 2.06-.94-2.06-.94-.94-2.06-.94 2.06-2.06.94zm-11 1L8.5 8.5l.94-2.06 2.06-.94-2.06-.94L8.5 2.5l-.94 2.06-2.06.94zm10 10l.94 2.06.94-2.06 2.06-.94-2.06-.94-.94-2.06-.94 2.06-2.06.94z\"/><path d=\"M17.41 7.96l-1.37-1.37c-.4-.4-.92-.59-1.43-.59-.52 0-1.04.2-1.43.59L10.3 9.45l-7.72 7.72c-.78.78-.78 2.05 0 2.83L4 21.41c.39.39.9.59 1.41.59.51 0 1.02-.2 1.41-.59l7.78-7.78 2.81-2.81c.8-.78.8-2.07 0-2.86zM5.41 20L4 18.59l7.72-7.72 1.47 1.35L5.41 20z\"/>\n",
       "  </svg>\n",
       "      </button>\n",
       "      \n",
       "  <style>\n",
       "    .colab-df-container {\n",
       "      display:flex;\n",
       "      flex-wrap:wrap;\n",
       "      gap: 12px;\n",
       "    }\n",
       "\n",
       "    .colab-df-convert {\n",
       "      background-color: #E8F0FE;\n",
       "      border: none;\n",
       "      border-radius: 50%;\n",
       "      cursor: pointer;\n",
       "      display: none;\n",
       "      fill: #1967D2;\n",
       "      height: 32px;\n",
       "      padding: 0 0 0 0;\n",
       "      width: 32px;\n",
       "    }\n",
       "\n",
       "    .colab-df-convert:hover {\n",
       "      background-color: #E2EBFA;\n",
       "      box-shadow: 0px 1px 2px rgba(60, 64, 67, 0.3), 0px 1px 3px 1px rgba(60, 64, 67, 0.15);\n",
       "      fill: #174EA6;\n",
       "    }\n",
       "\n",
       "    [theme=dark] .colab-df-convert {\n",
       "      background-color: #3B4455;\n",
       "      fill: #D2E3FC;\n",
       "    }\n",
       "\n",
       "    [theme=dark] .colab-df-convert:hover {\n",
       "      background-color: #434B5C;\n",
       "      box-shadow: 0px 1px 3px 1px rgba(0, 0, 0, 0.15);\n",
       "      filter: drop-shadow(0px 1px 2px rgba(0, 0, 0, 0.3));\n",
       "      fill: #FFFFFF;\n",
       "    }\n",
       "  </style>\n",
       "\n",
       "      <script>\n",
       "        const buttonEl =\n",
       "          document.querySelector('#df-81b37e1e-a7ed-483c-a0d7-a03193829ed0 button.colab-df-convert');\n",
       "        buttonEl.style.display =\n",
       "          google.colab.kernel.accessAllowed ? 'block' : 'none';\n",
       "\n",
       "        async function convertToInteractive(key) {\n",
       "          const element = document.querySelector('#df-81b37e1e-a7ed-483c-a0d7-a03193829ed0');\n",
       "          const dataTable =\n",
       "            await google.colab.kernel.invokeFunction('convertToInteractive',\n",
       "                                                     [key], {});\n",
       "          if (!dataTable) return;\n",
       "\n",
       "          const docLinkHtml = 'Like what you see? Visit the ' +\n",
       "            '<a target=\"_blank\" href=https://colab.research.google.com/notebooks/data_table.ipynb>data table notebook</a>'\n",
       "            + ' to learn more about interactive tables.';\n",
       "          element.innerHTML = '';\n",
       "          dataTable['output_type'] = 'display_data';\n",
       "          await google.colab.output.renderOutput(dataTable, element);\n",
       "          const docLink = document.createElement('div');\n",
       "          docLink.innerHTML = docLinkHtml;\n",
       "          element.appendChild(docLink);\n",
       "        }\n",
       "      </script>\n",
       "    </div>\n",
       "  </div>\n",
       "  "
      ],
      "text/plain": [
       "            label                                  tagged_in_context\n",
       "0  not_propaganda         No, <BOS> he <EOS> will not be confirmed. \n",
       "1  not_propaganda  This declassification effort <BOS> won’t make ...\n",
       "2     flag_waving  The Obama administration misled the <BOS> Amer...\n",
       "3  not_propaganda  “It looks like we’re capturing the demise of t...\n",
       "4  not_propaganda           <BOS> Location: Westerville, Ohio <EOS> "
      ]
     },
     "execution_count": 34,
     "metadata": {},
     "output_type": "execute_result"
    }
   ],
   "source": [
    "all_data = pd.concat([train_df, validation_df])       # Concatinating train and validayion data\n",
    "all_data.head()"
   ]
  },
  {
   "cell_type": "code",
   "execution_count": 36,
   "metadata": {
    "id": "2hyz7dshBCFw"
   },
   "outputs": [],
   "source": [
    "labels_dict = {'appeal_to_fear_prejudice': 0,'causal_oversimplification': 1, 'doubt': 2, 'exaggeration,minimisation': 3,'flag_waving': 4,'loaded_language': 5, 'name_calling,labeling': 6,\n",
    " 'repetition': 7,'not_propaganda': 8}     # Converting Categorical labels to numerical form "
   ]
  },
  {
   "cell_type": "code",
   "execution_count": 37,
   "metadata": {
    "id": "VxQB8mg6bpFM"
   },
   "outputs": [],
   "source": [
    "labels_as_name_dict={0: 'appeal_to_fear_prejudice',1:'causal_oversimplification',2:'doubt',3:'exaggeration,minimisation',4:'flag_waving',5:'loaded_language',\n",
    " 6:'name_calling,labeling', 7:'repetition', 8:'not_propaganda'}"
   ]
  },
  {
   "cell_type": "markdown",
   "metadata": {
    "id": "APzIvWqcKr1B"
   },
   "source": [
    "## **Exploratory Data Analysis**"
   ]
  },
  {
   "cell_type": "code",
   "execution_count": 38,
   "metadata": {
    "colab": {
     "base_uri": "https://localhost:8080/"
    },
    "id": "qsT-2mlXKUt7",
    "outputId": "dcca39c4-031b-463b-c90b-7495e7806d2f"
   },
   "outputs": [
    {
     "name": "stdout",
     "output_type": "stream",
     "text": [
      "ALL DATA Number of unique values 9\n",
      "-----------------------------------------------------\n",
      "ALL DATA unique values ['not_propaganda' 'flag_waving' 'loaded_language' 'doubt'\n",
      " 'name_calling,labeling' 'appeal_to_fear_prejudice' 'repetition'\n",
      " 'causal_oversimplification' 'exaggeration,minimisation']\n",
      "-----------------------------------------------------\n",
      "Occurance of propoganda techniques in ALL DATA\n",
      " not_propaganda               1492\n",
      "appeal_to_fear_prejudice      194\n",
      "exaggeration,minimisation     192\n",
      "loaded_language               191\n",
      "causal_oversimplification     189\n",
      "name_calling,labeling         188\n",
      "flag_waving                   187\n",
      "doubt                         182\n",
      "repetition                    179\n",
      "Name: label, dtype: int64\n",
      "-----------------------------------------------------\n",
      "ALL DATA Total null label                0\n",
      "tagged_in_context    0\n",
      "dtype: int64\n",
      "-----------------------------------------------------\n",
      "ALL DATA SHAPE (2994, 2)\n",
      "-----------------------------------------------------\n",
      "ALL DATA Size 5988\n",
      "-----------------------------------------------------\n",
      "ALL DATA Information:\n",
      "<class 'pandas.core.frame.DataFrame'>\n",
      "Int64Index: 2994 entries, 0 to 579\n",
      "Data columns (total 2 columns):\n",
      " #   Column             Non-Null Count  Dtype \n",
      "---  ------             --------------  ----- \n",
      " 0   label              2994 non-null   object\n",
      " 1   tagged_in_context  2994 non-null   object\n",
      "dtypes: object(2)\n",
      "memory usage: 70.2+ KB\n",
      "None\n",
      "-----------------------------------------------------\n",
      "Describe ALL DATA\n",
      "count               2994\n",
      "unique                 9\n",
      "top       not_propaganda\n",
      "freq                1492\n",
      "Name: label, dtype: object\n"
     ]
    }
   ],
   "source": [
    "general_info_dataframe(all_data,name=\"ALL DATA\",column=\"label\")  # exploring full data "
   ]
  },
  {
   "cell_type": "code",
   "execution_count": 39,
   "metadata": {
    "colab": {
     "base_uri": "https://localhost:8080/",
     "height": 206
    },
    "id": "9UO9OSIckHVM",
    "outputId": "223dacf5-848c-4cd9-f907-ba4cd47db490"
   },
   "outputs": [
    {
     "data": {
      "text/html": [
       "\n",
       "  <div id=\"df-69d3a0ef-1c86-4610-a141-3bfbf6163e2c\">\n",
       "    <div class=\"colab-df-container\">\n",
       "      <div>\n",
       "<style scoped>\n",
       "    .dataframe tbody tr th:only-of-type {\n",
       "        vertical-align: middle;\n",
       "    }\n",
       "\n",
       "    .dataframe tbody tr th {\n",
       "        vertical-align: top;\n",
       "    }\n",
       "\n",
       "    .dataframe thead th {\n",
       "        text-align: right;\n",
       "    }\n",
       "</style>\n",
       "<table border=\"1\" class=\"dataframe\">\n",
       "  <thead>\n",
       "    <tr style=\"text-align: right;\">\n",
       "      <th></th>\n",
       "      <th>label</th>\n",
       "      <th>tagged_in_context</th>\n",
       "    </tr>\n",
       "  </thead>\n",
       "  <tbody>\n",
       "    <tr>\n",
       "      <th>0</th>\n",
       "      <td>not_propaganda</td>\n",
       "      <td>No, &lt;BOS&gt; he &lt;EOS&gt; will not be confirmed.</td>\n",
       "    </tr>\n",
       "    <tr>\n",
       "      <th>1</th>\n",
       "      <td>not_propaganda</td>\n",
       "      <td>This declassification effort &lt;BOS&gt; won’t make ...</td>\n",
       "    </tr>\n",
       "    <tr>\n",
       "      <th>2</th>\n",
       "      <td>flag_waving</td>\n",
       "      <td>The Obama administration misled the &lt;BOS&gt; Amer...</td>\n",
       "    </tr>\n",
       "    <tr>\n",
       "      <th>3</th>\n",
       "      <td>not_propaganda</td>\n",
       "      <td>“It looks like we’re capturing the demise of t...</td>\n",
       "    </tr>\n",
       "    <tr>\n",
       "      <th>4</th>\n",
       "      <td>not_propaganda</td>\n",
       "      <td>&lt;BOS&gt; Location: Westerville, Ohio &lt;EOS&gt;</td>\n",
       "    </tr>\n",
       "  </tbody>\n",
       "</table>\n",
       "</div>\n",
       "      <button class=\"colab-df-convert\" onclick=\"convertToInteractive('df-69d3a0ef-1c86-4610-a141-3bfbf6163e2c')\"\n",
       "              title=\"Convert this dataframe to an interactive table.\"\n",
       "              style=\"display:none;\">\n",
       "        \n",
       "  <svg xmlns=\"http://www.w3.org/2000/svg\" height=\"24px\"viewBox=\"0 0 24 24\"\n",
       "       width=\"24px\">\n",
       "    <path d=\"M0 0h24v24H0V0z\" fill=\"none\"/>\n",
       "    <path d=\"M18.56 5.44l.94 2.06.94-2.06 2.06-.94-2.06-.94-.94-2.06-.94 2.06-2.06.94zm-11 1L8.5 8.5l.94-2.06 2.06-.94-2.06-.94L8.5 2.5l-.94 2.06-2.06.94zm10 10l.94 2.06.94-2.06 2.06-.94-2.06-.94-.94-2.06-.94 2.06-2.06.94z\"/><path d=\"M17.41 7.96l-1.37-1.37c-.4-.4-.92-.59-1.43-.59-.52 0-1.04.2-1.43.59L10.3 9.45l-7.72 7.72c-.78.78-.78 2.05 0 2.83L4 21.41c.39.39.9.59 1.41.59.51 0 1.02-.2 1.41-.59l7.78-7.78 2.81-2.81c.8-.78.8-2.07 0-2.86zM5.41 20L4 18.59l7.72-7.72 1.47 1.35L5.41 20z\"/>\n",
       "  </svg>\n",
       "      </button>\n",
       "      \n",
       "  <style>\n",
       "    .colab-df-container {\n",
       "      display:flex;\n",
       "      flex-wrap:wrap;\n",
       "      gap: 12px;\n",
       "    }\n",
       "\n",
       "    .colab-df-convert {\n",
       "      background-color: #E8F0FE;\n",
       "      border: none;\n",
       "      border-radius: 50%;\n",
       "      cursor: pointer;\n",
       "      display: none;\n",
       "      fill: #1967D2;\n",
       "      height: 32px;\n",
       "      padding: 0 0 0 0;\n",
       "      width: 32px;\n",
       "    }\n",
       "\n",
       "    .colab-df-convert:hover {\n",
       "      background-color: #E2EBFA;\n",
       "      box-shadow: 0px 1px 2px rgba(60, 64, 67, 0.3), 0px 1px 3px 1px rgba(60, 64, 67, 0.15);\n",
       "      fill: #174EA6;\n",
       "    }\n",
       "\n",
       "    [theme=dark] .colab-df-convert {\n",
       "      background-color: #3B4455;\n",
       "      fill: #D2E3FC;\n",
       "    }\n",
       "\n",
       "    [theme=dark] .colab-df-convert:hover {\n",
       "      background-color: #434B5C;\n",
       "      box-shadow: 0px 1px 3px 1px rgba(0, 0, 0, 0.15);\n",
       "      filter: drop-shadow(0px 1px 2px rgba(0, 0, 0, 0.3));\n",
       "      fill: #FFFFFF;\n",
       "    }\n",
       "  </style>\n",
       "\n",
       "      <script>\n",
       "        const buttonEl =\n",
       "          document.querySelector('#df-69d3a0ef-1c86-4610-a141-3bfbf6163e2c button.colab-df-convert');\n",
       "        buttonEl.style.display =\n",
       "          google.colab.kernel.accessAllowed ? 'block' : 'none';\n",
       "\n",
       "        async function convertToInteractive(key) {\n",
       "          const element = document.querySelector('#df-69d3a0ef-1c86-4610-a141-3bfbf6163e2c');\n",
       "          const dataTable =\n",
       "            await google.colab.kernel.invokeFunction('convertToInteractive',\n",
       "                                                     [key], {});\n",
       "          if (!dataTable) return;\n",
       "\n",
       "          const docLinkHtml = 'Like what you see? Visit the ' +\n",
       "            '<a target=\"_blank\" href=https://colab.research.google.com/notebooks/data_table.ipynb>data table notebook</a>'\n",
       "            + ' to learn more about interactive tables.';\n",
       "          element.innerHTML = '';\n",
       "          dataTable['output_type'] = 'display_data';\n",
       "          await google.colab.output.renderOutput(dataTable, element);\n",
       "          const docLink = document.createElement('div');\n",
       "          docLink.innerHTML = docLinkHtml;\n",
       "          element.appendChild(docLink);\n",
       "        }\n",
       "      </script>\n",
       "    </div>\n",
       "  </div>\n",
       "  "
      ],
      "text/plain": [
       "            label                                  tagged_in_context\n",
       "0  not_propaganda         No, <BOS> he <EOS> will not be confirmed. \n",
       "1  not_propaganda  This declassification effort <BOS> won’t make ...\n",
       "2     flag_waving  The Obama administration misled the <BOS> Amer...\n",
       "3  not_propaganda  “It looks like we’re capturing the demise of t...\n",
       "4  not_propaganda           <BOS> Location: Westerville, Ohio <EOS> "
      ]
     },
     "execution_count": 39,
     "metadata": {},
     "output_type": "execute_result"
    }
   ],
   "source": [
    "all_data.head()"
   ]
  },
  {
   "cell_type": "code",
   "execution_count": 40,
   "metadata": {
    "id": "F9M1Y15KcSVk"
   },
   "outputs": [],
   "source": [
    "all_data[\"label\"] = all_data[\"label\"].map(labels_dict)    # Mapping Numerical labels instead of categorical labels."
   ]
  },
  {
   "cell_type": "code",
   "execution_count": 41,
   "metadata": {
    "colab": {
     "base_uri": "https://localhost:8080/",
     "height": 206
    },
    "id": "iYw-fjHfjwaG",
    "outputId": "cd3d1270-4e6f-418b-857a-001ec4879b04"
   },
   "outputs": [
    {
     "data": {
      "text/html": [
       "\n",
       "  <div id=\"df-8772654d-2528-4042-8ef2-2ae5b618abc3\">\n",
       "    <div class=\"colab-df-container\">\n",
       "      <div>\n",
       "<style scoped>\n",
       "    .dataframe tbody tr th:only-of-type {\n",
       "        vertical-align: middle;\n",
       "    }\n",
       "\n",
       "    .dataframe tbody tr th {\n",
       "        vertical-align: top;\n",
       "    }\n",
       "\n",
       "    .dataframe thead th {\n",
       "        text-align: right;\n",
       "    }\n",
       "</style>\n",
       "<table border=\"1\" class=\"dataframe\">\n",
       "  <thead>\n",
       "    <tr style=\"text-align: right;\">\n",
       "      <th></th>\n",
       "      <th>label</th>\n",
       "      <th>tagged_in_context</th>\n",
       "    </tr>\n",
       "  </thead>\n",
       "  <tbody>\n",
       "    <tr>\n",
       "      <th>0</th>\n",
       "      <td>8</td>\n",
       "      <td>No, &lt;BOS&gt; he &lt;EOS&gt; will not be confirmed.</td>\n",
       "    </tr>\n",
       "    <tr>\n",
       "      <th>1</th>\n",
       "      <td>8</td>\n",
       "      <td>This declassification effort &lt;BOS&gt; won’t make ...</td>\n",
       "    </tr>\n",
       "    <tr>\n",
       "      <th>2</th>\n",
       "      <td>4</td>\n",
       "      <td>The Obama administration misled the &lt;BOS&gt; Amer...</td>\n",
       "    </tr>\n",
       "    <tr>\n",
       "      <th>3</th>\n",
       "      <td>8</td>\n",
       "      <td>“It looks like we’re capturing the demise of t...</td>\n",
       "    </tr>\n",
       "    <tr>\n",
       "      <th>4</th>\n",
       "      <td>8</td>\n",
       "      <td>&lt;BOS&gt; Location: Westerville, Ohio &lt;EOS&gt;</td>\n",
       "    </tr>\n",
       "  </tbody>\n",
       "</table>\n",
       "</div>\n",
       "      <button class=\"colab-df-convert\" onclick=\"convertToInteractive('df-8772654d-2528-4042-8ef2-2ae5b618abc3')\"\n",
       "              title=\"Convert this dataframe to an interactive table.\"\n",
       "              style=\"display:none;\">\n",
       "        \n",
       "  <svg xmlns=\"http://www.w3.org/2000/svg\" height=\"24px\"viewBox=\"0 0 24 24\"\n",
       "       width=\"24px\">\n",
       "    <path d=\"M0 0h24v24H0V0z\" fill=\"none\"/>\n",
       "    <path d=\"M18.56 5.44l.94 2.06.94-2.06 2.06-.94-2.06-.94-.94-2.06-.94 2.06-2.06.94zm-11 1L8.5 8.5l.94-2.06 2.06-.94-2.06-.94L8.5 2.5l-.94 2.06-2.06.94zm10 10l.94 2.06.94-2.06 2.06-.94-2.06-.94-.94-2.06-.94 2.06-2.06.94z\"/><path d=\"M17.41 7.96l-1.37-1.37c-.4-.4-.92-.59-1.43-.59-.52 0-1.04.2-1.43.59L10.3 9.45l-7.72 7.72c-.78.78-.78 2.05 0 2.83L4 21.41c.39.39.9.59 1.41.59.51 0 1.02-.2 1.41-.59l7.78-7.78 2.81-2.81c.8-.78.8-2.07 0-2.86zM5.41 20L4 18.59l7.72-7.72 1.47 1.35L5.41 20z\"/>\n",
       "  </svg>\n",
       "      </button>\n",
       "      \n",
       "  <style>\n",
       "    .colab-df-container {\n",
       "      display:flex;\n",
       "      flex-wrap:wrap;\n",
       "      gap: 12px;\n",
       "    }\n",
       "\n",
       "    .colab-df-convert {\n",
       "      background-color: #E8F0FE;\n",
       "      border: none;\n",
       "      border-radius: 50%;\n",
       "      cursor: pointer;\n",
       "      display: none;\n",
       "      fill: #1967D2;\n",
       "      height: 32px;\n",
       "      padding: 0 0 0 0;\n",
       "      width: 32px;\n",
       "    }\n",
       "\n",
       "    .colab-df-convert:hover {\n",
       "      background-color: #E2EBFA;\n",
       "      box-shadow: 0px 1px 2px rgba(60, 64, 67, 0.3), 0px 1px 3px 1px rgba(60, 64, 67, 0.15);\n",
       "      fill: #174EA6;\n",
       "    }\n",
       "\n",
       "    [theme=dark] .colab-df-convert {\n",
       "      background-color: #3B4455;\n",
       "      fill: #D2E3FC;\n",
       "    }\n",
       "\n",
       "    [theme=dark] .colab-df-convert:hover {\n",
       "      background-color: #434B5C;\n",
       "      box-shadow: 0px 1px 3px 1px rgba(0, 0, 0, 0.15);\n",
       "      filter: drop-shadow(0px 1px 2px rgba(0, 0, 0, 0.3));\n",
       "      fill: #FFFFFF;\n",
       "    }\n",
       "  </style>\n",
       "\n",
       "      <script>\n",
       "        const buttonEl =\n",
       "          document.querySelector('#df-8772654d-2528-4042-8ef2-2ae5b618abc3 button.colab-df-convert');\n",
       "        buttonEl.style.display =\n",
       "          google.colab.kernel.accessAllowed ? 'block' : 'none';\n",
       "\n",
       "        async function convertToInteractive(key) {\n",
       "          const element = document.querySelector('#df-8772654d-2528-4042-8ef2-2ae5b618abc3');\n",
       "          const dataTable =\n",
       "            await google.colab.kernel.invokeFunction('convertToInteractive',\n",
       "                                                     [key], {});\n",
       "          if (!dataTable) return;\n",
       "\n",
       "          const docLinkHtml = 'Like what you see? Visit the ' +\n",
       "            '<a target=\"_blank\" href=https://colab.research.google.com/notebooks/data_table.ipynb>data table notebook</a>'\n",
       "            + ' to learn more about interactive tables.';\n",
       "          element.innerHTML = '';\n",
       "          dataTable['output_type'] = 'display_data';\n",
       "          await google.colab.output.renderOutput(dataTable, element);\n",
       "          const docLink = document.createElement('div');\n",
       "          docLink.innerHTML = docLinkHtml;\n",
       "          element.appendChild(docLink);\n",
       "        }\n",
       "      </script>\n",
       "    </div>\n",
       "  </div>\n",
       "  "
      ],
      "text/plain": [
       "   label                                  tagged_in_context\n",
       "0      8         No, <BOS> he <EOS> will not be confirmed. \n",
       "1      8  This declassification effort <BOS> won’t make ...\n",
       "2      4  The Obama administration misled the <BOS> Amer...\n",
       "3      8  “It looks like we’re capturing the demise of t...\n",
       "4      8           <BOS> Location: Westerville, Ohio <EOS> "
      ]
     },
     "execution_count": 41,
     "metadata": {},
     "output_type": "execute_result"
    }
   ],
   "source": [
    "all_data.head()"
   ]
  },
  {
   "cell_type": "code",
   "execution_count": 42,
   "metadata": {
    "colab": {
     "base_uri": "https://localhost:8080/",
     "height": 564
    },
    "id": "mU3FdhlDKUow",
    "outputId": "49f27183-37e5-4262-a9d5-b829a3da49d3"
   },
   "outputs": [
    {
     "data": {
      "image/png": "[encoded data removed]",
      "text/plain": [
       "<Figure size 800x600 with 1 Axes>"
      ]
     },
     "metadata": {},
     "output_type": "display_data"
    }
   ],
   "source": [
    "plot_graph(all_data,label=\"Label Counts in Full Data\",x_name=\"Count of label\",y_name=\"Label\") # Plotting the Label count in Full data"
   ]
  },
  {
   "cell_type": "code",
   "execution_count": 43,
   "metadata": {
    "colab": {
     "base_uri": "https://localhost:8080/",
     "height": 580
    },
    "id": "esKDQA1TKUmI",
    "outputId": "afaf1f8c-b65e-4c29-9505-29a6f2735acd"
   },
   "outputs": [
    {
     "data": {
      "image/png": "[encoded data removed]",
      "text/plain": [
       "<Figure size 800x600 with 1 Axes>"
      ]
     },
     "metadata": {},
     "output_type": "display_data"
    }
   ],
   "source": [
    "plot_graph(train_df,label=\"Label Counts in Train Data\",x_name=\"Count of label\",y_name=\"Label\") # Plotting the Label count in Train data"
   ]
  },
  {
   "cell_type": "code",
   "execution_count": 44,
   "metadata": {
    "colab": {
     "base_uri": "https://localhost:8080/",
     "height": 580
    },
    "id": "Or8EV7StKUjb",
    "outputId": "d8a2e4d5-f81f-4485-f695-f8adef53e555"
   },
   "outputs": [
    {
     "data": {
      "image/png": "[encoded data removed]",
      "text/plain": [
       "<Figure size 800x600 with 1 Axes>"
      ]
     },
     "metadata": {},
     "output_type": "display_data"
    }
   ],
   "source": [
    "plot_graph(validation_df,label=\"Label Counts in Validation Data\",x_name=\"Count of label\",y_name=\"Label\")# Plotting the Label count in Validation data"
   ]
  },
  {
   "cell_type": "markdown",
   "metadata": {
    "id": "JIDQZw0jhGvJ"
   },
   "source": [
    "This demonstrates that the classes in our train and validate dataframe are balanced, which is crucial before training the classifier in order to prevent bias towards any certain classes."
   ]
  },
  {
   "cell_type": "markdown",
   "metadata": {
    "id": "QeTpuvaGry1t"
   },
   "source": [
    "**Length of text in full data**"
   ]
  },
  {
   "cell_type": "code",
   "execution_count": 45,
   "metadata": {
    "colab": {
     "base_uri": "https://localhost:8080/",
     "height": 206
    },
    "id": "FDXKTxQMvgKK",
    "outputId": "1d602d70-a8e1-492c-a1ae-39ba8bb0ac76"
   },
   "outputs": [
    {
     "data": {
      "text/html": [
       "\n",
       "  <div id=\"df-c7c3b81a-338f-4c15-8d3f-5c11a4842073\">\n",
       "    <div class=\"colab-df-container\">\n",
       "      <div>\n",
       "<style scoped>\n",
       "    .dataframe tbody tr th:only-of-type {\n",
       "        vertical-align: middle;\n",
       "    }\n",
       "\n",
       "    .dataframe tbody tr th {\n",
       "        vertical-align: top;\n",
       "    }\n",
       "\n",
       "    .dataframe thead th {\n",
       "        text-align: right;\n",
       "    }\n",
       "</style>\n",
       "<table border=\"1\" class=\"dataframe\">\n",
       "  <thead>\n",
       "    <tr style=\"text-align: right;\">\n",
       "      <th></th>\n",
       "      <th>label</th>\n",
       "      <th>tagged_in_context</th>\n",
       "      <th>extracted_text_span</th>\n",
       "      <th>len_of_span</th>\n",
       "    </tr>\n",
       "  </thead>\n",
       "  <tbody>\n",
       "    <tr>\n",
       "      <th>0</th>\n",
       "      <td>8</td>\n",
       "      <td>No, &lt;BOS&gt; he &lt;EOS&gt; will not be confirmed.</td>\n",
       "      <td>he</td>\n",
       "      <td>4</td>\n",
       "    </tr>\n",
       "    <tr>\n",
       "      <th>1</th>\n",
       "      <td>8</td>\n",
       "      <td>This declassification effort &lt;BOS&gt; won’t make ...</td>\n",
       "      <td>won’t make things any worse than they are for...</td>\n",
       "      <td>64</td>\n",
       "    </tr>\n",
       "    <tr>\n",
       "      <th>2</th>\n",
       "      <td>4</td>\n",
       "      <td>The Obama administration misled the &lt;BOS&gt; Amer...</td>\n",
       "      <td>American people</td>\n",
       "      <td>17</td>\n",
       "    </tr>\n",
       "    <tr>\n",
       "      <th>3</th>\n",
       "      <td>8</td>\n",
       "      <td>“It looks like we’re capturing the demise of t...</td>\n",
       "      <td>and</td>\n",
       "      <td>5</td>\n",
       "    </tr>\n",
       "    <tr>\n",
       "      <th>4</th>\n",
       "      <td>8</td>\n",
       "      <td>&lt;BOS&gt; Location: Westerville, Ohio &lt;EOS&gt;</td>\n",
       "      <td>Location: Westerville, Ohio</td>\n",
       "      <td>29</td>\n",
       "    </tr>\n",
       "  </tbody>\n",
       "</table>\n",
       "</div>\n",
       "      <button class=\"colab-df-convert\" onclick=\"convertToInteractive('df-c7c3b81a-338f-4c15-8d3f-5c11a4842073')\"\n",
       "              title=\"Convert this dataframe to an interactive table.\"\n",
       "              style=\"display:none;\">\n",
       "        \n",
       "  <svg xmlns=\"http://www.w3.org/2000/svg\" height=\"24px\"viewBox=\"0 0 24 24\"\n",
       "       width=\"24px\">\n",
       "    <path d=\"M0 0h24v24H0V0z\" fill=\"none\"/>\n",
       "    <path d=\"M18.56 5.44l.94 2.06.94-2.06 2.06-.94-2.06-.94-.94-2.06-.94 2.06-2.06.94zm-11 1L8.5 8.5l.94-2.06 2.06-.94-2.06-.94L8.5 2.5l-.94 2.06-2.06.94zm10 10l.94 2.06.94-2.06 2.06-.94-2.06-.94-.94-2.06-.94 2.06-2.06.94z\"/><path d=\"M17.41 7.96l-1.37-1.37c-.4-.4-.92-.59-1.43-.59-.52 0-1.04.2-1.43.59L10.3 9.45l-7.72 7.72c-.78.78-.78 2.05 0 2.83L4 21.41c.39.39.9.59 1.41.59.51 0 1.02-.2 1.41-.59l7.78-7.78 2.81-2.81c.8-.78.8-2.07 0-2.86zM5.41 20L4 18.59l7.72-7.72 1.47 1.35L5.41 20z\"/>\n",
       "  </svg>\n",
       "      </button>\n",
       "      \n",
       "  <style>\n",
       "    .colab-df-container {\n",
       "      display:flex;\n",
       "      flex-wrap:wrap;\n",
       "      gap: 12px;\n",
       "    }\n",
       "\n",
       "    .colab-df-convert {\n",
       "      background-color: #E8F0FE;\n",
       "      border: none;\n",
       "      border-radius: 50%;\n",
       "      cursor: pointer;\n",
       "      display: none;\n",
       "      fill: #1967D2;\n",
       "      height: 32px;\n",
       "      padding: 0 0 0 0;\n",
       "      width: 32px;\n",
       "    }\n",
       "\n",
       "    .colab-df-convert:hover {\n",
       "      background-color: #E2EBFA;\n",
       "      box-shadow: 0px 1px 2px rgba(60, 64, 67, 0.3), 0px 1px 3px 1px rgba(60, 64, 67, 0.15);\n",
       "      fill: #174EA6;\n",
       "    }\n",
       "\n",
       "    [theme=dark] .colab-df-convert {\n",
       "      background-color: #3B4455;\n",
       "      fill: #D2E3FC;\n",
       "    }\n",
       "\n",
       "    [theme=dark] .colab-df-convert:hover {\n",
       "      background-color: #434B5C;\n",
       "      box-shadow: 0px 1px 3px 1px rgba(0, 0, 0, 0.15);\n",
       "      filter: drop-shadow(0px 1px 2px rgba(0, 0, 0, 0.3));\n",
       "      fill: #FFFFFF;\n",
       "    }\n",
       "  </style>\n",
       "\n",
       "      <script>\n",
       "        const buttonEl =\n",
       "          document.querySelector('#df-c7c3b81a-338f-4c15-8d3f-5c11a4842073 button.colab-df-convert');\n",
       "        buttonEl.style.display =\n",
       "          google.colab.kernel.accessAllowed ? 'block' : 'none';\n",
       "\n",
       "        async function convertToInteractive(key) {\n",
       "          const element = document.querySelector('#df-c7c3b81a-338f-4c15-8d3f-5c11a4842073');\n",
       "          const dataTable =\n",
       "            await google.colab.kernel.invokeFunction('convertToInteractive',\n",
       "                                                     [key], {});\n",
       "          if (!dataTable) return;\n",
       "\n",
       "          const docLinkHtml = 'Like what you see? Visit the ' +\n",
       "            '<a target=\"_blank\" href=https://colab.research.google.com/notebooks/data_table.ipynb>data table notebook</a>'\n",
       "            + ' to learn more about interactive tables.';\n",
       "          element.innerHTML = '';\n",
       "          dataTable['output_type'] = 'display_data';\n",
       "          await google.colab.output.renderOutput(dataTable, element);\n",
       "          const docLink = document.createElement('div');\n",
       "          docLink.innerHTML = docLinkHtml;\n",
       "          element.appendChild(docLink);\n",
       "        }\n",
       "      </script>\n",
       "    </div>\n",
       "  </div>\n",
       "  "
      ],
      "text/plain": [
       "   label                                  tagged_in_context  \\\n",
       "0      8         No, <BOS> he <EOS> will not be confirmed.    \n",
       "1      8  This declassification effort <BOS> won’t make ...   \n",
       "2      4  The Obama administration misled the <BOS> Amer...   \n",
       "3      8  “It looks like we’re capturing the demise of t...   \n",
       "4      8           <BOS> Location: Westerville, Ohio <EOS>    \n",
       "\n",
       "                                 extracted_text_span  len_of_span  \n",
       "0                                                he             4  \n",
       "1   won’t make things any worse than they are for...           64  \n",
       "2                                   American people            17  \n",
       "3                                               and             5  \n",
       "4                       Location: Westerville, Ohio            29  "
      ]
     },
     "execution_count": 45,
     "metadata": {},
     "output_type": "execute_result"
    }
   ],
   "source": [
    "all_data_copy = all_data.copy(deep=True)\n",
    "all_data_copy['extracted_text_span'] = all_data_copy.apply(extract_text_from_tags, axis=1) # Filtering the data from tag\n",
    "all_data_copy['len_of_span'] = all_data_copy['extracted_text_span'].apply(len)  # Applying length function to extracted_text_span\n",
    "all_data_copy.head()"
   ]
  },
  {
   "cell_type": "code",
   "execution_count": 46,
   "metadata": {
    "colab": {
     "base_uri": "https://localhost:8080/",
     "height": 559
    },
    "id": "2cvdK497PcwD",
    "outputId": "3175c2b5-412b-4107-a998-fca6ba5c23d2"
   },
   "outputs": [
    {
     "data": {
      "image/png": "[encoded data removed]",
      "text/plain": [
       "<Figure size 800x600 with 1 Axes>"
      ]
     },
     "metadata": {},
     "output_type": "display_data"
    },
    {
     "name": "stdout",
     "output_type": "stream",
     "text": [
      "Length for labels are as follows {0: 101.98, 1: 126.35, 2: 121.98, 3: 47.11, 4: 66.58, 5: 23.78, 6: 30.39, 7: 20.47, 8: 39.33}\n"
     ]
    }
   ],
   "source": [
    "mean_length_of_char_in_df(all_data_copy,groupby_col=\"label\",col=\"len_of_span\",xlabel_name=\"Mean Length of Span in full dataset\") #Mean Length of Span in full dataset"
   ]
  },
  {
   "cell_type": "markdown",
   "metadata": {
    "id": "YpmBAjBrr7ib"
   },
   "source": [
    "**Train Data Length of characters in propoganda technique detection**"
   ]
  },
  {
   "cell_type": "code",
   "execution_count": 50,
   "metadata": {
    "colab": {
     "base_uri": "https://localhost:8080/",
     "height": 206
    },
    "id": "pplThrv_rP7F",
    "outputId": "1a1101c3-0df9-4dab-d532-e77ac13f1526"
   },
   "outputs": [
    {
     "data": {
      "text/html": [
       "\n",
       "  <div id=\"df-1a2ca7ca-0950-4377-9145-fd852f259a67\">\n",
       "    <div class=\"colab-df-container\">\n",
       "      <div>\n",
       "<style scoped>\n",
       "    .dataframe tbody tr th:only-of-type {\n",
       "        vertical-align: middle;\n",
       "    }\n",
       "\n",
       "    .dataframe tbody tr th {\n",
       "        vertical-align: top;\n",
       "    }\n",
       "\n",
       "    .dataframe thead th {\n",
       "        text-align: right;\n",
       "    }\n",
       "</style>\n",
       "<table border=\"1\" class=\"dataframe\">\n",
       "  <thead>\n",
       "    <tr style=\"text-align: right;\">\n",
       "      <th></th>\n",
       "      <th>label</th>\n",
       "      <th>tagged_in_context</th>\n",
       "      <th>extracted_text_span</th>\n",
       "      <th>len_of_span</th>\n",
       "    </tr>\n",
       "  </thead>\n",
       "  <tbody>\n",
       "    <tr>\n",
       "      <th>0</th>\n",
       "      <td>not_propaganda</td>\n",
       "      <td>No, &lt;BOS&gt; he &lt;EOS&gt; will not be confirmed.</td>\n",
       "      <td>he</td>\n",
       "      <td>4</td>\n",
       "    </tr>\n",
       "    <tr>\n",
       "      <th>1</th>\n",
       "      <td>not_propaganda</td>\n",
       "      <td>This declassification effort &lt;BOS&gt; won’t make ...</td>\n",
       "      <td>won’t make things any worse than they are for...</td>\n",
       "      <td>64</td>\n",
       "    </tr>\n",
       "    <tr>\n",
       "      <th>2</th>\n",
       "      <td>flag_waving</td>\n",
       "      <td>The Obama administration misled the &lt;BOS&gt; Amer...</td>\n",
       "      <td>American people</td>\n",
       "      <td>17</td>\n",
       "    </tr>\n",
       "    <tr>\n",
       "      <th>3</th>\n",
       "      <td>not_propaganda</td>\n",
       "      <td>“It looks like we’re capturing the demise of t...</td>\n",
       "      <td>and</td>\n",
       "      <td>5</td>\n",
       "    </tr>\n",
       "    <tr>\n",
       "      <th>4</th>\n",
       "      <td>not_propaganda</td>\n",
       "      <td>&lt;BOS&gt; Location: Westerville, Ohio &lt;EOS&gt;</td>\n",
       "      <td>Location: Westerville, Ohio</td>\n",
       "      <td>29</td>\n",
       "    </tr>\n",
       "  </tbody>\n",
       "</table>\n",
       "</div>\n",
       "      <button class=\"colab-df-convert\" onclick=\"convertToInteractive('df-1a2ca7ca-0950-4377-9145-fd852f259a67')\"\n",
       "              title=\"Convert this dataframe to an interactive table.\"\n",
       "              style=\"display:none;\">\n",
       "        \n",
       "  <svg xmlns=\"http://www.w3.org/2000/svg\" height=\"24px\"viewBox=\"0 0 24 24\"\n",
       "       width=\"24px\">\n",
       "    <path d=\"M0 0h24v24H0V0z\" fill=\"none\"/>\n",
       "    <path d=\"M18.56 5.44l.94 2.06.94-2.06 2.06-.94-2.06-.94-.94-2.06-.94 2.06-2.06.94zm-11 1L8.5 8.5l.94-2.06 2.06-.94-2.06-.94L8.5 2.5l-.94 2.06-2.06.94zm10 10l.94 2.06.94-2.06 2.06-.94-2.06-.94-.94-2.06-.94 2.06-2.06.94z\"/><path d=\"M17.41 7.96l-1.37-1.37c-.4-.4-.92-.59-1.43-.59-.52 0-1.04.2-1.43.59L10.3 9.45l-7.72 7.72c-.78.78-.78 2.05 0 2.83L4 21.41c.39.39.9.59 1.41.59.51 0 1.02-.2 1.41-.59l7.78-7.78 2.81-2.81c.8-.78.8-2.07 0-2.86zM5.41 20L4 18.59l7.72-7.72 1.47 1.35L5.41 20z\"/>\n",
       "  </svg>\n",
       "      </button>\n",
       "      \n",
       "  <style>\n",
       "    .colab-df-container {\n",
       "      display:flex;\n",
       "      flex-wrap:wrap;\n",
       "      gap: 12px;\n",
       "    }\n",
       "\n",
       "    .colab-df-convert {\n",
       "      background-color: #E8F0FE;\n",
       "      border: none;\n",
       "      border-radius: 50%;\n",
       "      cursor: pointer;\n",
       "      display: none;\n",
       "      fill: #1967D2;\n",
       "      height: 32px;\n",
       "      padding: 0 0 0 0;\n",
       "      width: 32px;\n",
       "    }\n",
       "\n",
       "    .colab-df-convert:hover {\n",
       "      background-color: #E2EBFA;\n",
       "      box-shadow: 0px 1px 2px rgba(60, 64, 67, 0.3), 0px 1px 3px 1px rgba(60, 64, 67, 0.15);\n",
       "      fill: #174EA6;\n",
       "    }\n",
       "\n",
       "    [theme=dark] .colab-df-convert {\n",
       "      background-color: #3B4455;\n",
       "      fill: #D2E3FC;\n",
       "    }\n",
       "\n",
       "    [theme=dark] .colab-df-convert:hover {\n",
       "      background-color: #434B5C;\n",
       "      box-shadow: 0px 1px 3px 1px rgba(0, 0, 0, 0.15);\n",
       "      filter: drop-shadow(0px 1px 2px rgba(0, 0, 0, 0.3));\n",
       "      fill: #FFFFFF;\n",
       "    }\n",
       "  </style>\n",
       "\n",
       "      <script>\n",
       "        const buttonEl =\n",
       "          document.querySelector('#df-1a2ca7ca-0950-4377-9145-fd852f259a67 button.colab-df-convert');\n",
       "        buttonEl.style.display =\n",
       "          google.colab.kernel.accessAllowed ? 'block' : 'none';\n",
       "\n",
       "        async function convertToInteractive(key) {\n",
       "          const element = document.querySelector('#df-1a2ca7ca-0950-4377-9145-fd852f259a67');\n",
       "          const dataTable =\n",
       "            await google.colab.kernel.invokeFunction('convertToInteractive',\n",
       "                                                     [key], {});\n",
       "          if (!dataTable) return;\n",
       "\n",
       "          const docLinkHtml = 'Like what you see? Visit the ' +\n",
       "            '<a target=\"_blank\" href=https://colab.research.google.com/notebooks/data_table.ipynb>data table notebook</a>'\n",
       "            + ' to learn more about interactive tables.';\n",
       "          element.innerHTML = '';\n",
       "          dataTable['output_type'] = 'display_data';\n",
       "          await google.colab.output.renderOutput(dataTable, element);\n",
       "          const docLink = document.createElement('div');\n",
       "          docLink.innerHTML = docLinkHtml;\n",
       "          element.appendChild(docLink);\n",
       "        }\n",
       "      </script>\n",
       "    </div>\n",
       "  </div>\n",
       "  "
      ],
      "text/plain": [
       "            label                                  tagged_in_context  \\\n",
       "0  not_propaganda         No, <BOS> he <EOS> will not be confirmed.    \n",
       "1  not_propaganda  This declassification effort <BOS> won’t make ...   \n",
       "2     flag_waving  The Obama administration misled the <BOS> Amer...   \n",
       "3  not_propaganda  “It looks like we’re capturing the demise of t...   \n",
       "4  not_propaganda           <BOS> Location: Westerville, Ohio <EOS>    \n",
       "\n",
       "                                 extracted_text_span  len_of_span  \n",
       "0                                                he             4  \n",
       "1   won’t make things any worse than they are for...           64  \n",
       "2                                   American people            17  \n",
       "3                                               and             5  \n",
       "4                       Location: Westerville, Ohio            29  "
      ]
     },
     "execution_count": 50,
     "metadata": {},
     "output_type": "execute_result"
    }
   ],
   "source": [
    "train_df_copy = train_df.copy(deep=True)\n",
    "train_df_copy['extracted_text_span'] = train_df_copy.apply(extract_text_from_tags, axis=1) # Filtering the data from tag\n",
    "train_df_copy['len_of_span'] = train_df_copy['extracted_text_span'].apply(len)            # Applying length function to extracted_text_span\n",
    "train_df_copy.head()"
   ]
  },
  {
   "cell_type": "code",
   "execution_count": 51,
   "metadata": {
    "colab": {
     "base_uri": "https://localhost:8080/",
     "height": 638
    },
    "id": "nzVkStEDQPPA",
    "outputId": "39967e41-8edb-4b09-8e23-e37a1dc87330"
   },
   "outputs": [
    {
     "data": {
      "image/png": "[encoded data removed]",
      "text/plain": [
       "<Figure size 800x600 with 1 Axes>"
      ]
     },
     "metadata": {},
     "output_type": "display_data"
    },
    {
     "name": "stdout",
     "output_type": "stream",
     "text": [
      "Length for labels are as follows {'appeal_to_fear_prejudice': 103.16, 'causal_oversimplification': 126.65, 'doubt': 122.56, 'exaggeration,minimisation': 46.98, 'flag_waving': 64.89, 'loaded_language': 23.79, 'name_calling,labeling': 30.29, 'not_propaganda': 39.78, 'repetition': 20.45}\n"
     ]
    }
   ],
   "source": [
    "mean_length_of_char_in_df(train_df_copy,groupby_col=\"label\",col=\"len_of_span\",xlabel_name=\"Mean Length of Span in Train dataset\") #Mean Length of Span in Train dataset"
   ]
  },
  {
   "cell_type": "markdown",
   "metadata": {
    "id": "kJis-Uhtr-2_"
   },
   "source": [
    "**Validation Data Length of characters in propoganda technique detection**"
   ]
  },
  {
   "cell_type": "code",
   "execution_count": 52,
   "metadata": {
    "colab": {
     "base_uri": "https://localhost:8080/",
     "height": 206
    },
    "id": "nrjVjv1BqaUX",
    "outputId": "d63c4256-2293-48a6-a5db-669696c3553b"
   },
   "outputs": [
    {
     "data": {
      "text/html": [
       "\n",
       "  <div id=\"df-9d0c4d9a-2a95-4850-bbed-f738009a5bce\">\n",
       "    <div class=\"colab-df-container\">\n",
       "      <div>\n",
       "<style scoped>\n",
       "    .dataframe tbody tr th:only-of-type {\n",
       "        vertical-align: middle;\n",
       "    }\n",
       "\n",
       "    .dataframe tbody tr th {\n",
       "        vertical-align: top;\n",
       "    }\n",
       "\n",
       "    .dataframe thead th {\n",
       "        text-align: right;\n",
       "    }\n",
       "</style>\n",
       "<table border=\"1\" class=\"dataframe\">\n",
       "  <thead>\n",
       "    <tr style=\"text-align: right;\">\n",
       "      <th></th>\n",
       "      <th>label</th>\n",
       "      <th>tagged_in_context</th>\n",
       "      <th>extracted_text_span</th>\n",
       "      <th>len_of_span</th>\n",
       "    </tr>\n",
       "  </thead>\n",
       "  <tbody>\n",
       "    <tr>\n",
       "      <th>0</th>\n",
       "      <td>not_propaganda</td>\n",
       "      <td>On average, between 300 and 600 infections are...</td>\n",
       "      <td>according to a UN estimate.</td>\n",
       "      <td>29</td>\n",
       "    </tr>\n",
       "    <tr>\n",
       "      <th>1</th>\n",
       "      <td>causal_oversimplification</td>\n",
       "      <td>Mostly because &lt;BOS&gt; the country would not las...</td>\n",
       "      <td>the country would not last long without an ou...</td>\n",
       "      <td>85</td>\n",
       "    </tr>\n",
       "    <tr>\n",
       "      <th>2</th>\n",
       "      <td>appeal_to_fear_prejudice</td>\n",
       "      <td>Lyndon Johnson &lt;BOS&gt; gets Earl Warren and Sen....</td>\n",
       "      <td>gets Earl Warren and Sen. Richard Russel to j...</td>\n",
       "      <td>139</td>\n",
       "    </tr>\n",
       "    <tr>\n",
       "      <th>3</th>\n",
       "      <td>not_propaganda</td>\n",
       "      <td>&lt;BOS&gt; You &lt;EOS&gt; may opt out at anytime.</td>\n",
       "      <td>You</td>\n",
       "      <td>5</td>\n",
       "    </tr>\n",
       "    <tr>\n",
       "      <th>4</th>\n",
       "      <td>repetition</td>\n",
       "      <td>It must be exacted from him directly in order ...</td>\n",
       "      <td>infidels</td>\n",
       "      <td>10</td>\n",
       "    </tr>\n",
       "  </tbody>\n",
       "</table>\n",
       "</div>\n",
       "      <button class=\"colab-df-convert\" onclick=\"convertToInteractive('df-9d0c4d9a-2a95-4850-bbed-f738009a5bce')\"\n",
       "              title=\"Convert this dataframe to an interactive table.\"\n",
       "              style=\"display:none;\">\n",
       "        \n",
       "  <svg xmlns=\"http://www.w3.org/2000/svg\" height=\"24px\"viewBox=\"0 0 24 24\"\n",
       "       width=\"24px\">\n",
       "    <path d=\"M0 0h24v24H0V0z\" fill=\"none\"/>\n",
       "    <path d=\"M18.56 5.44l.94 2.06.94-2.06 2.06-.94-2.06-.94-.94-2.06-.94 2.06-2.06.94zm-11 1L8.5 8.5l.94-2.06 2.06-.94-2.06-.94L8.5 2.5l-.94 2.06-2.06.94zm10 10l.94 2.06.94-2.06 2.06-.94-2.06-.94-.94-2.06-.94 2.06-2.06.94z\"/><path d=\"M17.41 7.96l-1.37-1.37c-.4-.4-.92-.59-1.43-.59-.52 0-1.04.2-1.43.59L10.3 9.45l-7.72 7.72c-.78.78-.78 2.05 0 2.83L4 21.41c.39.39.9.59 1.41.59.51 0 1.02-.2 1.41-.59l7.78-7.78 2.81-2.81c.8-.78.8-2.07 0-2.86zM5.41 20L4 18.59l7.72-7.72 1.47 1.35L5.41 20z\"/>\n",
       "  </svg>\n",
       "      </button>\n",
       "      \n",
       "  <style>\n",
       "    .colab-df-container {\n",
       "      display:flex;\n",
       "      flex-wrap:wrap;\n",
       "      gap: 12px;\n",
       "    }\n",
       "\n",
       "    .colab-df-convert {\n",
       "      background-color: #E8F0FE;\n",
       "      border: none;\n",
       "      border-radius: 50%;\n",
       "      cursor: pointer;\n",
       "      display: none;\n",
       "      fill: #1967D2;\n",
       "      height: 32px;\n",
       "      padding: 0 0 0 0;\n",
       "      width: 32px;\n",
       "    }\n",
       "\n",
       "    .colab-df-convert:hover {\n",
       "      background-color: #E2EBFA;\n",
       "      box-shadow: 0px 1px 2px rgba(60, 64, 67, 0.3), 0px 1px 3px 1px rgba(60, 64, 67, 0.15);\n",
       "      fill: #174EA6;\n",
       "    }\n",
       "\n",
       "    [theme=dark] .colab-df-convert {\n",
       "      background-color: #3B4455;\n",
       "      fill: #D2E3FC;\n",
       "    }\n",
       "\n",
       "    [theme=dark] .colab-df-convert:hover {\n",
       "      background-color: #434B5C;\n",
       "      box-shadow: 0px 1px 3px 1px rgba(0, 0, 0, 0.15);\n",
       "      filter: drop-shadow(0px 1px 2px rgba(0, 0, 0, 0.3));\n",
       "      fill: #FFFFFF;\n",
       "    }\n",
       "  </style>\n",
       "\n",
       "      <script>\n",
       "        const buttonEl =\n",
       "          document.querySelector('#df-9d0c4d9a-2a95-4850-bbed-f738009a5bce button.colab-df-convert');\n",
       "        buttonEl.style.display =\n",
       "          google.colab.kernel.accessAllowed ? 'block' : 'none';\n",
       "\n",
       "        async function convertToInteractive(key) {\n",
       "          const element = document.querySelector('#df-9d0c4d9a-2a95-4850-bbed-f738009a5bce');\n",
       "          const dataTable =\n",
       "            await google.colab.kernel.invokeFunction('convertToInteractive',\n",
       "                                                     [key], {});\n",
       "          if (!dataTable) return;\n",
       "\n",
       "          const docLinkHtml = 'Like what you see? Visit the ' +\n",
       "            '<a target=\"_blank\" href=https://colab.research.google.com/notebooks/data_table.ipynb>data table notebook</a>'\n",
       "            + ' to learn more about interactive tables.';\n",
       "          element.innerHTML = '';\n",
       "          dataTable['output_type'] = 'display_data';\n",
       "          await google.colab.output.renderOutput(dataTable, element);\n",
       "          const docLink = document.createElement('div');\n",
       "          docLink.innerHTML = docLinkHtml;\n",
       "          element.appendChild(docLink);\n",
       "        }\n",
       "      </script>\n",
       "    </div>\n",
       "  </div>\n",
       "  "
      ],
      "text/plain": [
       "                       label  \\\n",
       "0             not_propaganda   \n",
       "1  causal_oversimplification   \n",
       "2   appeal_to_fear_prejudice   \n",
       "3             not_propaganda   \n",
       "4                 repetition   \n",
       "\n",
       "                                   tagged_in_context  \\\n",
       "0  On average, between 300 and 600 infections are...   \n",
       "1  Mostly because <BOS> the country would not las...   \n",
       "2  Lyndon Johnson <BOS> gets Earl Warren and Sen....   \n",
       "3           <BOS> You <EOS> may opt out at anytime.    \n",
       "4  It must be exacted from him directly in order ...   \n",
       "\n",
       "                                 extracted_text_span  len_of_span  \n",
       "0                       according to a UN estimate.            29  \n",
       "1   the country would not last long without an ou...           85  \n",
       "2   gets Earl Warren and Sen. Richard Russel to j...          139  \n",
       "3                                               You             5  \n",
       "4                                          infidels            10  "
      ]
     },
     "execution_count": 52,
     "metadata": {},
     "output_type": "execute_result"
    }
   ],
   "source": [
    "validation_df_copy = validation_df.copy(deep=True)\n",
    "validation_df_copy['extracted_text_span'] = validation_df_copy.apply(extract_text_from_tags, axis=1) # Filtering the data from tag\n",
    "validation_df_copy['len_of_span'] = validation_df_copy['extracted_text_span'].apply(len)  # Applying length function to extracted_text_span\n",
    "validation_df_copy.head()"
   ]
  },
  {
   "cell_type": "code",
   "execution_count": 53,
   "metadata": {
    "colab": {
     "base_uri": "https://localhost:8080/",
     "height": 638
    },
    "id": "geronDjIQeMb",
    "outputId": "7447f305-9a77-4de6-9baa-d904778d73e8"
   },
   "outputs": [
    {
     "data": {
      "image/png": "[encoded data removed]",
      "text/plain": [
       "<Figure size 800x600 with 1 Axes>"
      ]
     },
     "metadata": {},
     "output_type": "display_data"
    },
    {
     "name": "stdout",
     "output_type": "stream",
     "text": [
      "Length for labels are as follows {'appeal_to_fear_prejudice': 97.84, 'causal_oversimplification': 124.84, 'doubt': 119.79, 'exaggeration,minimisation': 47.86, 'flag_waving': 72.97, 'loaded_language': 23.76, 'name_calling,labeling': 30.87, 'not_propaganda': 37.54, 'repetition': 20.59}\n"
     ]
    }
   ],
   "source": [
    "mean_length_of_char_in_df(validation_df_copy,groupby_col=\"label\",col=\"len_of_span\",xlabel_name=\"Mean Length of Span in Validation dataset\") #Mean Length of Span in Validation dataset"
   ]
  },
  {
   "cell_type": "markdown",
   "metadata": {
    "id": "Y5EsXzXjZPyx"
   },
   "source": [
    "# **Span Identification Task**"
   ]
  },
  {
   "cell_type": "markdown",
   "metadata": {
    "id": "JiKV6n56Bx0h"
   },
   "source": [
    "In Span Identification task we have to identify whether the given text from article contains any propganda or not. Hence we will use the function span_identification_df to relabel all propoganda techniques as one label which is propoganda."
   ]
  },
  {
   "cell_type": "markdown",
   "metadata": {
    "id": "NwHtoXeYM6aP"
   },
   "source": [
    "## **BERT Base Uncased Model For Span Identification Task**"
   ]
  },
  {
   "cell_type": "markdown",
   "metadata": {
    "id": "kyzUm6NYhRk_"
   },
   "source": [
    "BERT: A free machine learning framework for natural language processing (NLP) is called BERT. BERT uses the surrounding text to provide context in order to help computers understand the meaning of ambiguous words in text. With the help of question and answer datasets, the BERT framework can be adjusted after being pre-trained on text from Wikipedia.\n",
    "\n",
    "Bidirectional Encoder Representations from Transformers, or BERT, is a deep learning model that is based on Transformers. In Transformers, each output element is connected to each input element, and the weightings between them are dynamically determined based upon their connection. This procedure is known as attention in NLP."
   ]
  },
  {
   "cell_type": "markdown",
   "metadata": {
    "id": "M43qp-97CaYd"
   },
   "source": [
    "\"Below functions evaluate, prepare_inputs and train and code for this section are taken from code available in the 6th Advance NLP Lab Sussex University.\"\n",
    "\n",
    "(Source: https://canvas.sussex.ac.uk/courses/22822/pages/week-slash-topic-6-transfer-learning-with-large-pretrained-models?wrap=1)\n"
   ]
  },
  {
   "cell_type": "code",
   "execution_count": 54,
   "metadata": {
    "id": "Fu9vo_cin0i-"
   },
   "outputs": [],
   "source": [
    "\"\"\"\n",
    "This function helps in calculating the total accuracy of model on test dataset and also computes teh accuracy for model prediction\n",
    "for each batch and shows the progress bar by using tqdm.\n",
    "\"\"\"\n",
    "batchsize=2                              # Defining batch size\n",
    "def evaluate(model,test_dataset): \n",
    "    model.eval()                         # Calling the eval method for evaluating the test data\n",
    "    test_dataloader=torch.utils.data.DataLoader(test_dataset,batch_size=batchsize)\n",
    "    \n",
    "    use_cuda=torch.cuda.is_available()                    # Check if cuda is available\n",
    "    device=torch.device(\"cuda\" if use_cuda else \"cpu\")        # If cuda is available set the device in device variable\n",
    "    \n",
    "    if use_cuda:\n",
    "        model=model.cuda()                                 # If cude is enabled, model can use cuda for processing\n",
    "        \n",
    "    total_acc_test=0\n",
    "    with torch.no_grad():                                  \n",
    "        count=0\n",
    "        predictions=[]\n",
    "        for test_input,test_label in tqdm(test_dataloader):\n",
    "            count+=batchsize\n",
    "            test_label=test_label.to(device)                   # Moving the test labels to the GPU \n",
    "            mask=test_input['attention_mask'].to(device)          # Moving the attention masks to the GPU\n",
    "            input_id=test_input['input_ids'].squeeze(1).to(device) # Moving the input IDs to the GPU\n",
    "            output=model(input_id,mask)                           #Forward pass for obtaining the predicted output \n",
    "            predictions.append(output.argmax(dim=1))  #save the prediction for further analysis\n",
    "            acc=(output.argmax(dim=1)==test_label).sum().item()        #Computing the number of correct predictions in the batch.\n",
    "            \n",
    "            total_acc_test+=acc                                      \n",
    "            if count%100==0:  \n",
    "                print(f'Accuracy so far = {total_acc_test/count: .3f}') # print Accuracy after every 100 test data processed\n",
    "            \n",
    "    print(f'Test accuracy: {total_acc_test/len(test_dataset): .3f}')      # Dividing the total correct predictions by the total examples in the test dataset.\n",
    "    return predictions"
   ]
  },
  {
   "cell_type": "code",
   "execution_count": 55,
   "metadata": {
    "id": "BQ_Fmiwvn1Ap"
   },
   "outputs": [],
   "source": [
    "\"\"\"\n",
    "This function prepares the input data and label for BERT model.\n",
    "\"\"\"\n",
    "\n",
    "def prepare_inputs(input1,label,device):\n",
    "  label=label.to(device)                       # convert label tensor to the given device\n",
    "  mask=input1['attention_mask'].to(device)     # convert attention_mask tensor to the given device\n",
    "  input_id=input1['input_ids'].squeeze(1).to(device) # convert input_ids tensor in input1 to the given device\n",
    "  return (input_id,mask,label)"
   ]
  },
  {
   "cell_type": "code",
   "execution_count": 56,
   "metadata": {
    "id": "SgAr_a_Wn00b"
   },
   "outputs": [],
   "source": [
    "\n",
    "\"\"\"\n",
    "This function is \n",
    "\n",
    "\"\"\"\n",
    "def train(model, train_data,val_data,learning_rate,epochs):\n",
    "    \n",
    "    # Creating dataloaders for the train and validation data using the function torch.utils.data.DataLoader\n",
    "    train_dataloader=torch.utils.data.DataLoader(train_data,batch_size=2,shuffle=True)\n",
    "    val_dataloader=torch.utils.data.DataLoader(test_data,batch_size=2)\n",
    "    \n",
    "    #Using cuda if available.\n",
    "    use_cuda=torch.cuda.is_available()\n",
    "    device=torch.device(\"cuda\" if use_cuda else \"cpu\")\n",
    "    \n",
    "    # Defining the loss function as cross entropy\n",
    "    criterion=nn.CrossEntropyLoss()\n",
    "\n",
    "    #Define the optimzer as Adam\n",
    "    optimizer=Adam(model.parameters(),lr=learning_rate)\n",
    "    \n",
    "    # Moving the model and loss function to GPU if GPU is available\n",
    "    if use_cuda:\n",
    "        model=model.cuda()\n",
    "        criterion=criterion.cuda()\n",
    "        \n",
    "    for epoch_num in range(epochs):\n",
    "        total_acc_train=0\n",
    "        total_loss_train=0\n",
    "\n",
    "        #Train the model\n",
    "        model.train()\n",
    "        #Taking training batch one by one.\n",
    "        for train_input,train_label in tqdm(train_dataloader):\n",
    "            #Prepare the inputs by using prepare_inputs function\n",
    "            input_id,mask, train_label=prepare_inputs(train_input,train_label,device)\n",
    "            \n",
    "            output=model(input_id,mask)\n",
    "            #calculating loss for each batch\n",
    "            batch_loss=criterion(output,train_label.long())\n",
    "            total_loss_train +=batch_loss.item()\n",
    "            \n",
    "            #Calculates accuracy for each batch\n",
    "            acc=(output.argmax(dim=1)==train_label).sum().item()\n",
    "            total_acc_train+=acc\n",
    "            \n",
    "            #Backpropogate the loss by using Adam optimzer and zero the gradients before doing that\n",
    "            model.zero_grad()\n",
    "            batch_loss.backward()\n",
    "            optimizer.step()\n",
    "            \n",
    "        total_acc_val=0\n",
    "        total_loss_val=0\n",
    "        model.eval()\n",
    "\n",
    "        #Looping through each batch in validation data\n",
    "        with torch.no_grad():\n",
    "            for val_input,val_label in val_dataloader:\n",
    "                #Prepare the inputs by using prepare_inputs function\n",
    "                input_id,mask, val_label=prepare_inputs(val_input,val_label,device)\n",
    "                \n",
    "                output=model(input_id,mask)\n",
    "                  #calculating loss for each batch\n",
    "                batch_loss=criterion(output,val_label.long())\n",
    "                total_loss_val+=batch_loss.item()\n",
    "                 #Calculates accuracy for each batch\n",
    "                acc=(output.argmax(dim=1)==val_label).sum().item()\n",
    "                total_acc_val+=acc\n",
    "                \n",
    "        #Printing the Training Loss and Validation Loss and model Accuracy for each Epoch\n",
    "        print(f'Epochs: {epoch_num+1} | Train Loss: {total_loss_train / len(train_data):.3f} | Train Accuracy: {total_acc_train/len(train_data):.3f}')\n",
    "        print(f'Val loss: {total_loss_val/len(val_data):.3f} | Val Accuracy: {total_acc_val / len(val_data):.3f}')\n",
    "        "
   ]
  },
  {
   "cell_type": "code",
   "execution_count": 57,
   "metadata": {
    "colab": {
     "base_uri": "https://localhost:8080/"
    },
    "id": "xHCAY8Y2SNYq",
    "outputId": "9fa1f924-ed46-4ea9-9352-32cd9860cb53"
   },
   "outputs": [
    {
     "name": "stdout",
     "output_type": "stream",
     "text": [
      "Training Dataframe for Span Identification\n",
      "                                                text           label\n",
      "0         No, <BOS> he <EOS> will not be confirmed.   not_propaganda\n",
      "1  This declassification effort <BOS> won’t make ...  not_propaganda\n",
      "2  The Obama administration misled the <BOS> Amer...      propaganda\n",
      "3  “It looks like we’re capturing the demise of t...  not_propaganda\n",
      "4           <BOS> Location: Westerville, Ohio <EOS>   not_propaganda\n",
      "----------------------------------------------------------------------------------------------------------------\n",
      "Validation Dataframe for Span Identification\n",
      "                                                text           label\n",
      "0  On average, between 300 and 600 infections are...  not_propaganda\n",
      "1  Mostly because <BOS> the country would not las...      propaganda\n",
      "2  Lyndon Johnson <BOS> gets Earl Warren and Sen....      propaganda\n",
      "3           <BOS> You <EOS> may opt out at anytime.   not_propaganda\n",
      "4  It must be exacted from him directly in order ...      propaganda\n",
      "----------------------------------------------------------------------------------------------------------------\n",
      "reverse_index for Span Identification 2 Labels:\n",
      " {0: 'not_propaganda', 1: 'propaganda'}\n"
     ]
    }
   ],
   "source": [
    "train_df_si,validation_df_si,labels,reverse_index = span_identification_df() # Calling the span_identification_df to get the data filtered according to span identification task"
   ]
  },
  {
   "cell_type": "code",
   "execution_count": 58,
   "metadata": {
    "colab": {
     "base_uri": "https://localhost:8080/",
     "height": 564
    },
    "id": "NtJpzmyavxmv",
    "outputId": "11c55671-87c8-43e3-f282-91e34eeffa37"
   },
   "outputs": [
    {
     "data": {
      "image/png": "[encoded data removed]",
      "text/plain": [
       "<Figure size 800x600 with 1 Axes>"
      ]
     },
     "metadata": {},
     "output_type": "display_data"
    }
   ],
   "source": [
    "plot_graph(train_df_si,label=\"Label Counts for span identification task Train Data\",x_name=\"Count of label\",y_name=\"Label\") #Plot Label Count for Train Data for Span Identification task"
   ]
  },
  {
   "cell_type": "code",
   "execution_count": 59,
   "metadata": {
    "colab": {
     "base_uri": "https://localhost:8080/",
     "height": 564
    },
    "id": "7rwmykeJvxdZ",
    "outputId": "799fe76c-8503-4a71-dddc-47279e50cfc8"
   },
   "outputs": [
    {
     "data": {
      "image/png": "[encoded data removed]",
      "text/plain": [
       "<Figure size 800x600 with 1 Axes>"
      ]
     },
     "metadata": {},
     "output_type": "display_data"
    }
   ],
   "source": [
    "plot_graph(validation_df_si,label=\"Label Counts for span identification task Validation Data\",x_name=\"Count of label\",y_name=\"Label\")  #Plot Label Count for Train Data for Span Identification task"
   ]
  },
  {
   "cell_type": "code",
   "execution_count": 60,
   "metadata": {
    "colab": {
     "base_uri": "https://localhost:8080/",
     "height": 113,
     "referenced_widgets": [
      "5a6d73127eb540fe8e4cb173001c2513",
      "1aecc56232304529b22b0ac2b296a2f6",
      "15615190b04249d9b200cbc520428f4b",
      "40e2f5400bf547f0ad5d49a785db17e4",
      "ba8e4b17e3e54a07bdfd8116a30d74be",
      "474cf08d680b4ccd9f8d96c1ca08d98b",
      "f6e5319a91ad4f099ce15198e00d06f6",
      "64494fb46d614a6e99a54a27f8e2a245",
      "7ae8eae61a0d43fca7a7b6570cba72ee",
      "e9987f74b59849b5beb1d7f758113052",
      "2d386cd53b6843a6946caaca2bdfd306",
      "e706d4d3bb67439b9e0394af1c3ca2d4",
      "e7a43620126c415b837aa43b5b948bd3",
      "66ab881adfd44433906c660f72244faa",
      "c5ae30a09ca34a018f326bec94e1e5ff",
      "50e65d18923147a9a50951010c2b1803",
      "199f4e85504f4f06aa287ad8252435c2",
      "49ebaa40a9c44914bda64bd89afb9bb2",
      "330b30d0ff2d4699abcbf5d48da653a0",
      "0ae96519cd684bc7afe4ab31de5b4fe1",
      "ec71d4e2fe3a4b4bba6fcef2e2de1a42",
      "3661f94035bd4ed591e9a0fb7844e0ac",
      "04734b86fde5406c80dc1ca06e444c6e",
      "4d840f52588843cfbdf557785e7c6213",
      "ebcfc24285e84fcd9c89ac5353684380",
      "d62f38d204784bd3a25f94aaea1ebd3d",
      "76f9b84000a343b0be0aac2893793ed2",
      "6bbb4a91bbcf4255bb473fceac69c340",
      "7998cef410d342d39d08718c0736b0f7",
      "dab4d4b8a18e450b91b18f5a91fcdda5",
      "20e12893a2ae4cd6aba226831809ae69",
      "e9df8b066b4b4bf987c46aaeebe5866c",
      "d9b910f5d324429589f6ab785a2c266d"
     ]
    },
    "id": "SIJKfFdHn1YR",
    "outputId": "3c23e3cf-6154-44eb-c634-342b67df06d2"
   },
   "outputs": [
    {
     "data": {
      "application/vnd.jupyter.widget-view+json": {
       "model_id": "5a6d73127eb540fe8e4cb173001c2513",
       "version_major": 2,
       "version_minor": 0
      },
      "text/plain": [
       "Downloading (…)solve/main/vocab.txt:   0%|          | 0.00/232k [00:00<?, ?B/s]"
      ]
     },
     "metadata": {},
     "output_type": "display_data"
    },
    {
     "data": {
      "application/vnd.jupyter.widget-view+json": {
       "model_id": "e706d4d3bb67439b9e0394af1c3ca2d4",
       "version_major": 2,
       "version_minor": 0
      },
      "text/plain": [
       "Downloading (…)okenizer_config.json:   0%|          | 0.00/28.0 [00:00<?, ?B/s]"
      ]
     },
     "metadata": {},
     "output_type": "display_data"
    },
    {
     "data": {
      "application/vnd.jupyter.widget-view+json": {
       "model_id": "04734b86fde5406c80dc1ca06e444c6e",
       "version_major": 2,
       "version_minor": 0
      },
      "text/plain": [
       "Downloading (…)lve/main/config.json:   0%|          | 0.00/570 [00:00<?, ?B/s]"
      ]
     },
     "metadata": {},
     "output_type": "display_data"
    }
   ],
   "source": [
    "tokenizer=BertTokenizer.from_pretrained('bert-base-uncased') #Load bert-base-uncased\n",
    "\"\"\"\n",
    "This function is used to prepare Dataset for BERT, convert the categorical labels with numerical labels \n",
    "\n",
    "\"\"\"\n",
    "class Dataset(torch.utils.data.Dataset):\n",
    "    \n",
    "    def __init__(self,df,column='text'):\n",
    "        self.labels=[labels[label] for label in df['label']]  # Replacing all categorical labels with numerical labels \n",
    "        self.texts=[tokenizer(text.lower(),padding='max_length',max_length=512,truncation=True,return_tensors=\"pt\") for text in df[column]] #padding to specific length\n",
    "    \n",
    "    def classes(self):\n",
    "        return self.labels          \n",
    "    \n",
    "    def __len__(self):\n",
    "        return len(self.labels)\n",
    "    \n",
    "    def get_batch_labels(self,idx):\n",
    "        return np.array(self.labels[idx])\n",
    "    \n",
    "    def get_batch_texts(self,idx):\n",
    "        return self.texts[idx]\n",
    "    \n",
    "    def __getitem__(self,idx):       #Returns a batch of tokenized texts and corresponding labels.\n",
    "        batch_texts=self.get_batch_texts(idx)\n",
    "        batch_y=self.get_batch_labels(idx)\n",
    "        \n",
    "        return batch_texts,batch_y\n",
    "    \n",
    "\n",
    "train_data=Dataset(train_df_si)\n",
    "test_data=Dataset(validation_df_si)"
   ]
  },
  {
   "cell_type": "code",
   "execution_count": null,
   "metadata": {
    "id": "7vS3B583n1NH"
   },
   "outputs": [],
   "source": [
    "my_input= train_data.texts[0].input_ids  #extract the firstinput IDs of the first text sample in the train_data"
   ]
  },
  {
   "cell_type": "code",
   "execution_count": null,
   "metadata": {
    "id": "7xTy2P1-n1Hp"
   },
   "outputs": [],
   "source": [
    "my_tokens=tokenizer.convert_ids_to_tokens(my_input[0])"
   ]
  },
  {
   "cell_type": "code",
   "execution_count": 65,
   "metadata": {
    "colab": {
     "base_uri": "https://localhost:8080/"
    },
    "id": "MlaqKnHJn1D_",
    "outputId": "a9969c44-01d9-492e-f0d2-42c9a090ecf1"
   },
   "outputs": [
    {
     "name": "stdout",
     "output_type": "stream",
     "text": [
      "GPU acceleration enabled\n"
     ]
    }
   ],
   "source": [
    "use_cuda=torch.cuda.is_available() # PyTorch which checks whether a GPU is available for use. It returns a boolean value of True if a GPU is available, and False if not.\n",
    "if use_cuda:\n",
    "  print(\"GPU acceleration enabled\")\n",
    "else:\n",
    "  print(\"GPU acceleration NOT enabled.  If using Colab, have you changed the runtype type and selected GPU as the hardware accelerator?\")\n",
    "device=torch.device(\"cuda\" if use_cuda else \"cpu\") #This code snippet is a common pattern used in PyTorch to allow for easy switching between CPU and GPU computation, depending on whether a GPU is available or not."
   ]
  },
  {
   "cell_type": "code",
   "execution_count": 66,
   "metadata": {
    "colab": {
     "base_uri": "https://localhost:8080/",
     "height": 260,
     "referenced_widgets": [
      "62d0e27f16a7481c9282bd28b3a0611b",
      "8f9d0262347a4600842c9ffab435b4ac",
      "4860c3300813448483989e7eee9a8d9e",
      "4ff962e8e4ef4f07be1818e46b0ec89c",
      "c667466ddd8b4daca6931c5c4a9bd5ff",
      "c7ff1248228b48f0a4acf616147cd79f",
      "131e0bcc68c940348aeadf172bf6d583",
      "45d6776fc41b4e229980d11b9fad9208",
      "5f19f4242c2945a09c10ba356aaf301d",
      "a87bfcff2ad44932b07171e821637d3d",
      "8ddb25df159d471c9c9becfbce070018"
     ]
    },
    "id": "ZtTwxndMn060",
    "outputId": "a3aa0093-4702-443e-f2e9-5f376c23a866"
   },
   "outputs": [
    {
     "data": {
      "application/vnd.jupyter.widget-view+json": {
       "model_id": "62d0e27f16a7481c9282bd28b3a0611b",
       "version_major": 2,
       "version_minor": 0
      },
      "text/plain": [
       "Downloading pytorch_model.bin:   0%|          | 0.00/440M [00:00<?, ?B/s]"
      ]
     },
     "metadata": {},
     "output_type": "display_data"
    },
    {
     "name": "stderr",
     "output_type": "stream",
     "text": [
      "Some weights of the model checkpoint at bert-base-uncased were not used when initializing BertModel: ['cls.predictions.transform.dense.bias', 'cls.seq_relationship.bias', 'cls.predictions.decoder.weight', 'cls.predictions.transform.dense.weight', 'cls.seq_relationship.weight', 'cls.predictions.transform.LayerNorm.bias', 'cls.predictions.transform.LayerNorm.weight', 'cls.predictions.bias']\n",
      "- This IS expected if you are initializing BertModel from the checkpoint of a model trained on another task or with another architecture (e.g. initializing a BertForSequenceClassification model from a BertForPreTraining model).\n",
      "- This IS NOT expected if you are initializing BertModel from the checkpoint of a model that you expect to be exactly identical (initializing a BertForSequenceClassification model from a BertForSequenceClassification model).\n"
     ]
    },
    {
     "name": "stdout",
     "output_type": "stream",
     "text": [
      "tensor([[ 101, 3383, 2010,  ...,    0,    0,    0],\n",
      "        [ 101, 2077, 8398,  ...,    0,    0,    0]], device='cuda:0') tensor([[[1, 1, 1,  ..., 0, 0, 0]],\n",
      "\n",
      "        [[1, 1, 1,  ..., 0, 0, 0]]], device='cuda:0') tensor([0, 1], device='cuda:0')\n",
      "2\n"
     ]
    },
    {
     "data": {
      "text/plain": [
       "tensor([[-0.7130, -0.3569, -0.9152,  ..., -0.7142, -0.5624,  0.5786],\n",
       "        [-0.3488, -0.4943, -0.9195,  ..., -0.9421, -0.4636, -0.2494]],\n",
       "       device='cuda:0', grad_fn=<TanhBackward0>)"
      ]
     },
     "execution_count": 66,
     "metadata": {},
     "output_type": "execute_result"
    }
   ],
   "source": [
    "train_dataloader=torch.utils.data.DataLoader(train_data,batch_size=2,shuffle=True)\n",
    "bert=BertModel.from_pretrained('bert-base-uncased').to(device)   # pre-trained bert uncased model moved to device\n",
    "for train_input,train_label in train_dataloader:                   #Extract input and labels from train dataloader\n",
    "    input_id,mask,label=prepare_inputs(train_input,train_label,device)  #Prepare inputs\n",
    "    output=bert(input_ids=input_id,attention_mask=mask,return_dict=False)  #Three seperate output tensors from bert is given as output\n",
    "    break\n",
    "\n",
    "print(input_id,mask,label)\n",
    "print(len(output))"
   ]
  },
  {
   "cell_type": "markdown",
   "metadata": {
    "id": "eY9o94NWNIhJ"
   },
   "source": [
    "BERT Base Uncased structure.\n",
    "\n",
    "```\n",
    "       [ Input ]\n",
    "          |\n",
    "     [ BERT Model ]\n",
    "          |\n",
    "   [ Pooled Output ]\n",
    "          |\n",
    "    [ Dropout Layer ]\n",
    "          |\n",
    "     [ Linear Layer ]\n",
    "          |\n",
    "      [ ReLU Layer ]\n",
    "          |\n",
    "      [ Output ]\n",
    "\n",
    "```"
   ]
  },
  {
   "cell_type": "code",
   "execution_count": 67,
   "metadata": {
    "id": "KvSQugWpn03k"
   },
   "outputs": [],
   "source": [
    "\"\"\"\n",
    "This function is used to put the simple classification layer on top of BERT\n",
    "\n",
    "\"\"\"\n",
    "class BertClassifier(nn.Module):\n",
    "    \n",
    "    def __init__(self,dropout=0.5,num_classes=2):\n",
    "        \n",
    "        super(BertClassifier,self).__init__()\n",
    "        \n",
    "        self.bert=BertModel.from_pretrained('bert-base-uncased') #case does not matter here therefore we use bert base uncased \n",
    "        self.dropout=nn.Dropout(dropout)                           #dropout layer with 50% dropout\n",
    "        self.linear=nn.Linear(768,num_classes)                    #Linear layer  fully connected with 768 input features\n",
    "        self.relu=nn.ReLU()                                       #Relu Activation for classification of Two classes \n",
    "        \n",
    "    def forward(self,input_id,mask):\n",
    "        \n",
    "        last_hidden_layer,pooled_output = self.bert(input_ids=input_id,attention_mask=mask,return_dict=False) #Take input id and attention_mask and pass to BERT\n",
    "        dropout_output=self.dropout(pooled_output)  #dropout layer with 50% dropout\n",
    "        linear_output=self.linear(dropout_output)   #Linear Layer\n",
    "        final_layer=self.relu(linear_output)         #Pass the output from relu to get the final output\n",
    "        \n",
    "        return final_layer "
   ]
  },
  {
   "cell_type": "code",
   "execution_count": 68,
   "metadata": {
    "colab": {
     "base_uri": "https://localhost:8080/"
    },
    "id": "g7FkwX_un0w5",
    "outputId": "a03f4be1-cc4b-42cb-c8f5-c9dc441f02fd"
   },
   "outputs": [
    {
     "name": "stderr",
     "output_type": "stream",
     "text": [
      "Some weights of the model checkpoint at bert-base-uncased were not used when initializing BertModel: ['cls.predictions.transform.dense.bias', 'cls.seq_relationship.bias', 'cls.predictions.decoder.weight', 'cls.predictions.transform.dense.weight', 'cls.seq_relationship.weight', 'cls.predictions.transform.LayerNorm.bias', 'cls.predictions.transform.LayerNorm.weight', 'cls.predictions.bias']\n",
      "- This IS expected if you are initializing BertModel from the checkpoint of a model trained on another task or with another architecture (e.g. initializing a BertForSequenceClassification model from a BertForPreTraining model).\n",
      "- This IS NOT expected if you are initializing BertModel from the checkpoint of a model that you expect to be exactly identical (initializing a BertForSequenceClassification model from a BertForSequenceClassification model).\n"
     ]
    }
   ],
   "source": [
    "EPOCHS=3                               #Number of epochs \n",
    "model=BertClassifier(num_classes=len(labels.keys()))  #Givinng the model to be used \n",
    "LR=1e-6                                  #Learning Rate for model"
   ]
  },
  {
   "cell_type": "code",
   "execution_count": 69,
   "metadata": {
    "colab": {
     "base_uri": "https://localhost:8080/"
    },
    "id": "uL4WqRYZn0rm",
    "outputId": "d71e07fa-50fb-45d7-db7c-118a347d0eff"
   },
   "outputs": [
    {
     "metadata": {
      "tags": null
     },
     "name": "stderr",
     "output_type": "stream",
     "text": [
      "100%|██████████| 1207/1207 [04:17<00:00,  4.69it/s]\n"
     ]
    },
    {
     "metadata": {
      "tags": null
     },
     "name": "stdout",
     "output_type": "stream",
     "text": [
      "Epochs: 1 | Train Loss: 0.331 | Train Accuracy: 0.608\n",
      "Val loss: 0.287 | Val Accuracy: 0.728\n"
     ]
    },
    {
     "name": "stderr",
     "output_type": "stream",
     "text": [
      "100%|██████████| 1207/1207 [04:23<00:00,  4.58it/s]\n"
     ]
    },
    {
     "name": "stdout",
     "output_type": "stream",
     "text": [
      "Epochs: 2 | Train Loss: 0.285 | Train Accuracy: 0.722\n",
      "Val loss: 0.246 | Val Accuracy: 0.779\n"
     ]
    },
    {
     "name": "stderr",
     "output_type": "stream",
     "text": [
      "100%|██████████| 1207/1207 [04:23<00:00,  4.58it/s]\n"
     ]
    },
    {
     "name": "stdout",
     "output_type": "stream",
     "text": [
      "Epochs: 3 | Train Loss: 0.231 | Train Accuracy: 0.819\n",
      "Val loss: 0.205 | Val Accuracy: 0.833\n"
     ]
    }
   ],
   "source": [
    "train(model,train_data,test_data,LR,EPOCHS)       #Train the model"
   ]
  },
  {
   "cell_type": "code",
   "execution_count": 70,
   "metadata": {
    "id": "wFpwSawGn0oa"
   },
   "outputs": [],
   "source": [
    "output_dir=\"/content/drive/MyDrive/Sussex/SEM_2/Advance_NLP/Assignment/bert-base-uncased-spanidentificationclassifier\"\n",
    "torch.save(model,output_dir)    #Save model in drive"
   ]
  },
  {
   "cell_type": "code",
   "execution_count": 71,
   "metadata": {
    "id": "tuFreWLOn0lk"
   },
   "outputs": [],
   "source": [
    "input_dir=\"/content/drive/MyDrive/Sussex/SEM_2/Advance_NLP/Assignment/bert-base-uncased-spanidentificationclassifier\"\n",
    "complete_model=torch.load(input_dir) #Load model from drive"
   ]
  },
  {
   "cell_type": "code",
   "execution_count": 72,
   "metadata": {
    "colab": {
     "base_uri": "https://localhost:8080/"
    },
    "id": "R2ek6i5cn0gX",
    "outputId": "44ea67ce-076e-49bb-e490-c6992c17b978"
   },
   "outputs": [
    {
     "name": "stderr",
     "output_type": "stream",
     "text": [
      " 18%|█▊        | 51/290 [00:03<00:16, 14.11it/s]"
     ]
    },
    {
     "name": "stdout",
     "output_type": "stream",
     "text": [
      "Accuracy so far =  0.900\n"
     ]
    },
    {
     "name": "stderr",
     "output_type": "stream",
     "text": [
      " 35%|███▍      | 101/290 [00:07<00:13, 13.69it/s]"
     ]
    },
    {
     "name": "stdout",
     "output_type": "stream",
     "text": [
      "Accuracy so far =  0.850\n"
     ]
    },
    {
     "name": "stderr",
     "output_type": "stream",
     "text": [
      " 52%|█████▏    | 151/290 [00:10<00:11, 11.92it/s]"
     ]
    },
    {
     "name": "stdout",
     "output_type": "stream",
     "text": [
      "Accuracy so far =  0.850\n"
     ]
    },
    {
     "name": "stderr",
     "output_type": "stream",
     "text": [
      " 69%|██████▉   | 201/290 [00:14<00:06, 13.30it/s]"
     ]
    },
    {
     "name": "stdout",
     "output_type": "stream",
     "text": [
      "Accuracy so far =  0.838\n"
     ]
    },
    {
     "name": "stderr",
     "output_type": "stream",
     "text": [
      " 87%|████████▋ | 251/290 [00:18<00:02, 13.23it/s]"
     ]
    },
    {
     "name": "stdout",
     "output_type": "stream",
     "text": [
      "Accuracy so far =  0.840\n"
     ]
    },
    {
     "name": "stderr",
     "output_type": "stream",
     "text": [
      "100%|██████████| 290/290 [00:21<00:00, 13.44it/s]"
     ]
    },
    {
     "name": "stdout",
     "output_type": "stream",
     "text": [
      "Test accuracy:  0.833\n"
     ]
    },
    {
     "name": "stderr",
     "output_type": "stream",
     "text": [
      "\n"
     ]
    }
   ],
   "source": [
    "predictions=evaluate(model, test_data)  #predict using evaluate function"
   ]
  },
  {
   "cell_type": "code",
   "execution_count": 73,
   "metadata": {
    "colab": {
     "base_uri": "https://localhost:8080/",
     "height": 1000
    },
    "id": "Srk8_Y4-rrCm",
    "outputId": "72c5ee90-5ba7-42d8-b0f1-63673f3ebae9"
   },
   "outputs": [
    {
     "data": {
      "text/html": [
       "\n",
       "  <div id=\"df-cbdeee6e-b6fd-4b4a-bfd5-f35c1a446276\">\n",
       "    <div class=\"colab-df-container\">\n",
       "      <div>\n",
       "<style scoped>\n",
       "    .dataframe tbody tr th:only-of-type {\n",
       "        vertical-align: middle;\n",
       "    }\n",
       "\n",
       "    .dataframe tbody tr th {\n",
       "        vertical-align: top;\n",
       "    }\n",
       "\n",
       "    .dataframe thead th {\n",
       "        text-align: right;\n",
       "    }\n",
       "</style>\n",
       "<table border=\"1\" class=\"dataframe\">\n",
       "  <thead>\n",
       "    <tr style=\"text-align: right;\">\n",
       "      <th></th>\n",
       "      <th>text</th>\n",
       "      <th>label</th>\n",
       "      <th>prediction</th>\n",
       "    </tr>\n",
       "  </thead>\n",
       "  <tbody>\n",
       "    <tr>\n",
       "      <th>0</th>\n",
       "      <td>On average, between 300 and 600 infections are...</td>\n",
       "      <td>not_propaganda</td>\n",
       "      <td>not_propaganda</td>\n",
       "    </tr>\n",
       "    <tr>\n",
       "      <th>1</th>\n",
       "      <td>Mostly because &lt;BOS&gt; the country would not las...</td>\n",
       "      <td>propaganda</td>\n",
       "      <td>propaganda</td>\n",
       "    </tr>\n",
       "    <tr>\n",
       "      <th>2</th>\n",
       "      <td>Lyndon Johnson &lt;BOS&gt; gets Earl Warren and Sen....</td>\n",
       "      <td>propaganda</td>\n",
       "      <td>propaganda</td>\n",
       "    </tr>\n",
       "    <tr>\n",
       "      <th>3</th>\n",
       "      <td>&lt;BOS&gt; You &lt;EOS&gt; may opt out at anytime.</td>\n",
       "      <td>not_propaganda</td>\n",
       "      <td>not_propaganda</td>\n",
       "    </tr>\n",
       "    <tr>\n",
       "      <th>4</th>\n",
       "      <td>It must be exacted from him directly in order ...</td>\n",
       "      <td>propaganda</td>\n",
       "      <td>propaganda</td>\n",
       "    </tr>\n",
       "    <tr>\n",
       "      <th>5</th>\n",
       "      <td>Is it any wonder that priests and laity alike ...</td>\n",
       "      <td>propaganda</td>\n",
       "      <td>propaganda</td>\n",
       "    </tr>\n",
       "    <tr>\n",
       "      <th>6</th>\n",
       "      <td>Health workers have been asked to work with co...</td>\n",
       "      <td>propaganda</td>\n",
       "      <td>not_propaganda</td>\n",
       "    </tr>\n",
       "    <tr>\n",
       "      <th>7</th>\n",
       "      <td>The Best of &lt;BOS&gt; Jacob &lt;EOS&gt; G. Hornberger</td>\n",
       "      <td>not_propaganda</td>\n",
       "      <td>not_propaganda</td>\n",
       "    </tr>\n",
       "    <tr>\n",
       "      <th>8</th>\n",
       "      <td>Trump began his remarks by setting out &lt;BOS&gt; I...</td>\n",
       "      <td>propaganda</td>\n",
       "      <td>propaganda</td>\n",
       "    </tr>\n",
       "    <tr>\n",
       "      <th>9</th>\n",
       "      <td>&lt;BOS&gt; Now, the pope’s reply to my testimony wa...</td>\n",
       "      <td>propaganda</td>\n",
       "      <td>propaganda</td>\n",
       "    </tr>\n",
       "    <tr>\n",
       "      <th>10</th>\n",
       "      <td>Those &lt;BOS&gt; efforts didn't &lt;EOS&gt; work.</td>\n",
       "      <td>not_propaganda</td>\n",
       "      <td>not_propaganda</td>\n",
       "    </tr>\n",
       "    <tr>\n",
       "      <th>11</th>\n",
       "      <td>#KatesLaw — Mike &lt;BOS&gt; (@Bigly45) December 1, ...</td>\n",
       "      <td>not_propaganda</td>\n",
       "      <td>not_propaganda</td>\n",
       "    </tr>\n",
       "    <tr>\n",
       "      <th>12</th>\n",
       "      <td>Two law enforcement sources told CNN in Octobe...</td>\n",
       "      <td>not_propaganda</td>\n",
       "      <td>not_propaganda</td>\n",
       "    </tr>\n",
       "    <tr>\n",
       "      <th>13</th>\n",
       "      <td>Strengthening the Regulation of Gun Sales and ...</td>\n",
       "      <td>not_propaganda</td>\n",
       "      <td>not_propaganda</td>\n",
       "    </tr>\n",
       "    <tr>\n",
       "      <th>14</th>\n",
       "      <td>&lt;BOS&gt; It is &lt;EOS&gt; not useful to say Mass for t...</td>\n",
       "      <td>not_propaganda</td>\n",
       "      <td>not_propaganda</td>\n",
       "    </tr>\n",
       "    <tr>\n",
       "      <th>15</th>\n",
       "      <td>My two above-mentioned memos of December 6, 20...</td>\n",
       "      <td>not_propaganda</td>\n",
       "      <td>not_propaganda</td>\n",
       "    </tr>\n",
       "    <tr>\n",
       "      <th>16</th>\n",
       "      <td>For Trump, that amounted to a &lt;BOS&gt; triumphant...</td>\n",
       "      <td>propaganda</td>\n",
       "      <td>propaganda</td>\n",
       "    </tr>\n",
       "    <tr>\n",
       "      <th>17</th>\n",
       "      <td>@drawandstrike theory looking plausiblehttps:/...</td>\n",
       "      <td>not_propaganda</td>\n",
       "      <td>not_propaganda</td>\n",
       "    </tr>\n",
       "    <tr>\n",
       "      <th>18</th>\n",
       "      <td>“It’s time for &lt;BOS&gt; our &lt;EOS&gt; leaders in Wash...</td>\n",
       "      <td>propaganda</td>\n",
       "      <td>propaganda</td>\n",
       "    </tr>\n",
       "    <tr>\n",
       "      <th>19</th>\n",
       "      <td>&lt;BOS&gt; This will not only serve to bolster the ...</td>\n",
       "      <td>propaganda</td>\n",
       "      <td>propaganda</td>\n",
       "    </tr>\n",
       "    <tr>\n",
       "      <th>20</th>\n",
       "      <td>&lt;BOS&gt; The local tradition is said to be one of...</td>\n",
       "      <td>propaganda</td>\n",
       "      <td>propaganda</td>\n",
       "    </tr>\n",
       "    <tr>\n",
       "      <th>21</th>\n",
       "      <td>Because, according to the teacher, \"Australia ...</td>\n",
       "      <td>not_propaganda</td>\n",
       "      <td>not_propaganda</td>\n",
       "    </tr>\n",
       "    <tr>\n",
       "      <th>22</th>\n",
       "      <td>In Alexandra, Virginia – &lt;BOS&gt; the suburban ho...</td>\n",
       "      <td>propaganda</td>\n",
       "      <td>propaganda</td>\n",
       "    </tr>\n",
       "    <tr>\n",
       "      <th>23</th>\n",
       "      <td>“Ah,” the Nuncio said to me, “Now it is imposs...</td>\n",
       "      <td>not_propaganda</td>\n",
       "      <td>not_propaganda</td>\n",
       "    </tr>\n",
       "    <tr>\n",
       "      <th>24</th>\n",
       "      <td>Most of the aliens targeted by ERO deportation...</td>\n",
       "      <td>not_propaganda</td>\n",
       "      <td>not_propaganda</td>\n",
       "    </tr>\n",
       "    <tr>\n",
       "      <th>25</th>\n",
       "      <td>That’s where Oswald’s trip to Mexico City righ...</td>\n",
       "      <td>not_propaganda</td>\n",
       "      <td>not_propaganda</td>\n",
       "    </tr>\n",
       "    <tr>\n",
       "      <th>26</th>\n",
       "      <td>President Trump’s summit Monday with Russian P...</td>\n",
       "      <td>propaganda</td>\n",
       "      <td>not_propaganda</td>\n",
       "    </tr>\n",
       "    <tr>\n",
       "      <th>27</th>\n",
       "      <td>The president suggested in a subsequent tweet ...</td>\n",
       "      <td>propaganda</td>\n",
       "      <td>propaganda</td>\n",
       "    </tr>\n",
       "    <tr>\n",
       "      <th>28</th>\n",
       "      <td>And &lt;BOS&gt; we are immensely grateful for all th...</td>\n",
       "      <td>propaganda</td>\n",
       "      <td>propaganda</td>\n",
       "    </tr>\n",
       "    <tr>\n",
       "      <th>29</th>\n",
       "      <td>The interview began with the statement Bernste...</td>\n",
       "      <td>propaganda</td>\n",
       "      <td>propaganda</td>\n",
       "    </tr>\n",
       "    <tr>\n",
       "      <th>30</th>\n",
       "      <td>Rare but deadly, the viral disease is most com...</td>\n",
       "      <td>not_propaganda</td>\n",
       "      <td>not_propaganda</td>\n",
       "    </tr>\n",
       "    <tr>\n",
       "      <th>31</th>\n",
       "      <td>It promises to change the export control rules...</td>\n",
       "      <td>not_propaganda</td>\n",
       "      <td>not_propaganda</td>\n",
       "    </tr>\n",
       "    <tr>\n",
       "      <th>32</th>\n",
       "      <td>Happening Now: US troops performing maintenanc...</td>\n",
       "      <td>not_propaganda</td>\n",
       "      <td>not_propaganda</td>\n",
       "    </tr>\n",
       "    <tr>\n",
       "      <th>33</th>\n",
       "      <td>ICE deportation officers carry out targeted en...</td>\n",
       "      <td>propaganda</td>\n",
       "      <td>propaganda</td>\n",
       "    </tr>\n",
       "    <tr>\n",
       "      <th>34</th>\n",
       "      <td>“They (the coroner’s office) have delayed this...</td>\n",
       "      <td>not_propaganda</td>\n",
       "      <td>not_propaganda</td>\n",
       "    </tr>\n",
       "    <tr>\n",
       "      <th>35</th>\n",
       "      <td>“We do not understand the determination and pr...</td>\n",
       "      <td>propaganda</td>\n",
       "      <td>propaganda</td>\n",
       "    </tr>\n",
       "    <tr>\n",
       "      <th>36</th>\n",
       "      <td>I also remember &lt;BOS&gt; in particular the fact t...</td>\n",
       "      <td>not_propaganda</td>\n",
       "      <td>not_propaganda</td>\n",
       "    </tr>\n",
       "    <tr>\n",
       "      <th>37</th>\n",
       "      <td>This report is from Seattle:Doubtless, many ot...</td>\n",
       "      <td>not_propaganda</td>\n",
       "      <td>not_propaganda</td>\n",
       "    </tr>\n",
       "    <tr>\n",
       "      <th>38</th>\n",
       "      <td>&lt;BOS&gt; Where did it originate from? &lt;EOS&gt;</td>\n",
       "      <td>not_propaganda</td>\n",
       "      <td>not_propaganda</td>\n",
       "    </tr>\n",
       "    <tr>\n",
       "      <th>39</th>\n",
       "      <td>&lt;BOS&gt; Why are your bishops silent on a threat ...</td>\n",
       "      <td>propaganda</td>\n",
       "      <td>propaganda</td>\n",
       "    </tr>\n",
       "    <tr>\n",
       "      <th>40</th>\n",
       "      <td>“About a dozen farmers of Chak 7-JB, Panjor, i...</td>\n",
       "      <td>not_propaganda</td>\n",
       "      <td>propaganda</td>\n",
       "    </tr>\n",
       "    <tr>\n",
       "      <th>41</th>\n",
       "      <td>Why is Walter Kasper a &lt;BOS&gt; cardinal? &lt;EOS&gt;</td>\n",
       "      <td>not_propaganda</td>\n",
       "      <td>not_propaganda</td>\n",
       "    </tr>\n",
       "    <tr>\n",
       "      <th>42</th>\n",
       "      <td>&lt;BOS&gt; On their Facebook page, they wrote, “…We...</td>\n",
       "      <td>not_propaganda</td>\n",
       "      <td>propaganda</td>\n",
       "    </tr>\n",
       "    <tr>\n",
       "      <th>43</th>\n",
       "      <td>Completing this poll grants &lt;BOS&gt; you access t...</td>\n",
       "      <td>not_propaganda</td>\n",
       "      <td>not_propaganda</td>\n",
       "    </tr>\n",
       "    <tr>\n",
       "      <th>44</th>\n",
       "      <td>&lt;BOS&gt; Of course they can't cope &lt;EOS&gt;.</td>\n",
       "      <td>propaganda</td>\n",
       "      <td>propaganda</td>\n",
       "    </tr>\n",
       "    <tr>\n",
       "      <th>45</th>\n",
       "      <td>Weinandy resign his current position as a &lt;BOS...</td>\n",
       "      <td>not_propaganda</td>\n",
       "      <td>not_propaganda</td>\n",
       "    </tr>\n",
       "    <tr>\n",
       "      <th>46</th>\n",
       "      <td>&lt;BOS&gt; When the concrete circumstances of a cou...</td>\n",
       "      <td>not_propaganda</td>\n",
       "      <td>propaganda</td>\n",
       "    </tr>\n",
       "    <tr>\n",
       "      <th>47</th>\n",
       "      <td>&lt;BOS&gt; They had a right &lt;EOS&gt; to find out about...</td>\n",
       "      <td>propaganda</td>\n",
       "      <td>not_propaganda</td>\n",
       "    </tr>\n",
       "    <tr>\n",
       "      <th>48</th>\n",
       "      <td>&lt;BOS&gt; Not a one &lt;EOS&gt;.</td>\n",
       "      <td>propaganda</td>\n",
       "      <td>propaganda</td>\n",
       "    </tr>\n",
       "    <tr>\n",
       "      <th>49</th>\n",
       "      <td>WASHINGTON, D.C., February 12, 2018 (LifeSiteN...</td>\n",
       "      <td>propaganda</td>\n",
       "      <td>propaganda</td>\n",
       "    </tr>\n",
       "  </tbody>\n",
       "</table>\n",
       "</div>\n",
       "      <button class=\"colab-df-convert\" onclick=\"convertToInteractive('df-cbdeee6e-b6fd-4b4a-bfd5-f35c1a446276')\"\n",
       "              title=\"Convert this dataframe to an interactive table.\"\n",
       "              style=\"display:none;\">\n",
       "        \n",
       "  <svg xmlns=\"http://www.w3.org/2000/svg\" height=\"24px\"viewBox=\"0 0 24 24\"\n",
       "       width=\"24px\">\n",
       "    <path d=\"M0 0h24v24H0V0z\" fill=\"none\"/>\n",
       "    <path d=\"M18.56 5.44l.94 2.06.94-2.06 2.06-.94-2.06-.94-.94-2.06-.94 2.06-2.06.94zm-11 1L8.5 8.5l.94-2.06 2.06-.94-2.06-.94L8.5 2.5l-.94 2.06-2.06.94zm10 10l.94 2.06.94-2.06 2.06-.94-2.06-.94-.94-2.06-.94 2.06-2.06.94z\"/><path d=\"M17.41 7.96l-1.37-1.37c-.4-.4-.92-.59-1.43-.59-.52 0-1.04.2-1.43.59L10.3 9.45l-7.72 7.72c-.78.78-.78 2.05 0 2.83L4 21.41c.39.39.9.59 1.41.59.51 0 1.02-.2 1.41-.59l7.78-7.78 2.81-2.81c.8-.78.8-2.07 0-2.86zM5.41 20L4 18.59l7.72-7.72 1.47 1.35L5.41 20z\"/>\n",
       "  </svg>\n",
       "      </button>\n",
       "      \n",
       "  <style>\n",
       "    .colab-df-container {\n",
       "      display:flex;\n",
       "      flex-wrap:wrap;\n",
       "      gap: 12px;\n",
       "    }\n",
       "\n",
       "    .colab-df-convert {\n",
       "      background-color: #E8F0FE;\n",
       "      border: none;\n",
       "      border-radius: 50%;\n",
       "      cursor: pointer;\n",
       "      display: none;\n",
       "      fill: #1967D2;\n",
       "      height: 32px;\n",
       "      padding: 0 0 0 0;\n",
       "      width: 32px;\n",
       "    }\n",
       "\n",
       "    .colab-df-convert:hover {\n",
       "      background-color: #E2EBFA;\n",
       "      box-shadow: 0px 1px 2px rgba(60, 64, 67, 0.3), 0px 1px 3px 1px rgba(60, 64, 67, 0.15);\n",
       "      fill: #174EA6;\n",
       "    }\n",
       "\n",
       "    [theme=dark] .colab-df-convert {\n",
       "      background-color: #3B4455;\n",
       "      fill: #D2E3FC;\n",
       "    }\n",
       "\n",
       "    [theme=dark] .colab-df-convert:hover {\n",
       "      background-color: #434B5C;\n",
       "      box-shadow: 0px 1px 3px 1px rgba(0, 0, 0, 0.15);\n",
       "      filter: drop-shadow(0px 1px 2px rgba(0, 0, 0, 0.3));\n",
       "      fill: #FFFFFF;\n",
       "    }\n",
       "  </style>\n",
       "\n",
       "      <script>\n",
       "        const buttonEl =\n",
       "          document.querySelector('#df-cbdeee6e-b6fd-4b4a-bfd5-f35c1a446276 button.colab-df-convert');\n",
       "        buttonEl.style.display =\n",
       "          google.colab.kernel.accessAllowed ? 'block' : 'none';\n",
       "\n",
       "        async function convertToInteractive(key) {\n",
       "          const element = document.querySelector('#df-cbdeee6e-b6fd-4b4a-bfd5-f35c1a446276');\n",
       "          const dataTable =\n",
       "            await google.colab.kernel.invokeFunction('convertToInteractive',\n",
       "                                                     [key], {});\n",
       "          if (!dataTable) return;\n",
       "\n",
       "          const docLinkHtml = 'Like what you see? Visit the ' +\n",
       "            '<a target=\"_blank\" href=https://colab.research.google.com/notebooks/data_table.ipynb>data table notebook</a>'\n",
       "            + ' to learn more about interactive tables.';\n",
       "          element.innerHTML = '';\n",
       "          dataTable['output_type'] = 'display_data';\n",
       "          await google.colab.output.renderOutput(dataTable, element);\n",
       "          const docLink = document.createElement('div');\n",
       "          docLink.innerHTML = docLinkHtml;\n",
       "          element.appendChild(docLink);\n",
       "        }\n",
       "      </script>\n",
       "    </div>\n",
       "  </div>\n",
       "  "
      ],
      "text/plain": [
       "                                                 text           label  \\\n",
       "0   On average, between 300 and 600 infections are...  not_propaganda   \n",
       "1   Mostly because <BOS> the country would not las...      propaganda   \n",
       "2   Lyndon Johnson <BOS> gets Earl Warren and Sen....      propaganda   \n",
       "3            <BOS> You <EOS> may opt out at anytime.   not_propaganda   \n",
       "4   It must be exacted from him directly in order ...      propaganda   \n",
       "5   Is it any wonder that priests and laity alike ...      propaganda   \n",
       "6   Health workers have been asked to work with co...      propaganda   \n",
       "7        The Best of <BOS> Jacob <EOS> G. Hornberger   not_propaganda   \n",
       "8   Trump began his remarks by setting out <BOS> I...      propaganda   \n",
       "9   <BOS> Now, the pope’s reply to my testimony wa...      propaganda   \n",
       "10            Those <BOS> efforts didn't <EOS> work.   not_propaganda   \n",
       "11  #KatesLaw — Mike <BOS> (@Bigly45) December 1, ...  not_propaganda   \n",
       "12  Two law enforcement sources told CNN in Octobe...  not_propaganda   \n",
       "13  Strengthening the Regulation of Gun Sales and ...  not_propaganda   \n",
       "14  <BOS> It is <EOS> not useful to say Mass for t...  not_propaganda   \n",
       "15  My two above-mentioned memos of December 6, 20...  not_propaganda   \n",
       "16  For Trump, that amounted to a <BOS> triumphant...      propaganda   \n",
       "17  @drawandstrike theory looking plausiblehttps:/...  not_propaganda   \n",
       "18  “It’s time for <BOS> our <EOS> leaders in Wash...      propaganda   \n",
       "19  <BOS> This will not only serve to bolster the ...      propaganda   \n",
       "20  <BOS> The local tradition is said to be one of...      propaganda   \n",
       "21  Because, according to the teacher, \"Australia ...  not_propaganda   \n",
       "22  In Alexandra, Virginia – <BOS> the suburban ho...      propaganda   \n",
       "23  “Ah,” the Nuncio said to me, “Now it is imposs...  not_propaganda   \n",
       "24  Most of the aliens targeted by ERO deportation...  not_propaganda   \n",
       "25  That’s where Oswald’s trip to Mexico City righ...  not_propaganda   \n",
       "26  President Trump’s summit Monday with Russian P...      propaganda   \n",
       "27  The president suggested in a subsequent tweet ...      propaganda   \n",
       "28  And <BOS> we are immensely grateful for all th...      propaganda   \n",
       "29  The interview began with the statement Bernste...      propaganda   \n",
       "30  Rare but deadly, the viral disease is most com...  not_propaganda   \n",
       "31  It promises to change the export control rules...  not_propaganda   \n",
       "32  Happening Now: US troops performing maintenanc...  not_propaganda   \n",
       "33  ICE deportation officers carry out targeted en...      propaganda   \n",
       "34  “They (the coroner’s office) have delayed this...  not_propaganda   \n",
       "35  “We do not understand the determination and pr...      propaganda   \n",
       "36  I also remember <BOS> in particular the fact t...  not_propaganda   \n",
       "37  This report is from Seattle:Doubtless, many ot...  not_propaganda   \n",
       "38          <BOS> Where did it originate from? <EOS>   not_propaganda   \n",
       "39  <BOS> Why are your bishops silent on a threat ...      propaganda   \n",
       "40  “About a dozen farmers of Chak 7-JB, Panjor, i...  not_propaganda   \n",
       "41      Why is Walter Kasper a <BOS> cardinal? <EOS>   not_propaganda   \n",
       "42  <BOS> On their Facebook page, they wrote, “…We...  not_propaganda   \n",
       "43  Completing this poll grants <BOS> you access t...  not_propaganda   \n",
       "44            <BOS> Of course they can't cope <EOS>.       propaganda   \n",
       "45  Weinandy resign his current position as a <BOS...  not_propaganda   \n",
       "46  <BOS> When the concrete circumstances of a cou...  not_propaganda   \n",
       "47  <BOS> They had a right <EOS> to find out about...      propaganda   \n",
       "48                            <BOS> Not a one <EOS>.       propaganda   \n",
       "49  WASHINGTON, D.C., February 12, 2018 (LifeSiteN...      propaganda   \n",
       "\n",
       "        prediction  \n",
       "0   not_propaganda  \n",
       "1       propaganda  \n",
       "2       propaganda  \n",
       "3   not_propaganda  \n",
       "4       propaganda  \n",
       "5       propaganda  \n",
       "6   not_propaganda  \n",
       "7   not_propaganda  \n",
       "8       propaganda  \n",
       "9       propaganda  \n",
       "10  not_propaganda  \n",
       "11  not_propaganda  \n",
       "12  not_propaganda  \n",
       "13  not_propaganda  \n",
       "14  not_propaganda  \n",
       "15  not_propaganda  \n",
       "16      propaganda  \n",
       "17  not_propaganda  \n",
       "18      propaganda  \n",
       "19      propaganda  \n",
       "20      propaganda  \n",
       "21  not_propaganda  \n",
       "22      propaganda  \n",
       "23  not_propaganda  \n",
       "24  not_propaganda  \n",
       "25  not_propaganda  \n",
       "26  not_propaganda  \n",
       "27      propaganda  \n",
       "28      propaganda  \n",
       "29      propaganda  \n",
       "30  not_propaganda  \n",
       "31  not_propaganda  \n",
       "32  not_propaganda  \n",
       "33      propaganda  \n",
       "34  not_propaganda  \n",
       "35      propaganda  \n",
       "36  not_propaganda  \n",
       "37  not_propaganda  \n",
       "38  not_propaganda  \n",
       "39      propaganda  \n",
       "40      propaganda  \n",
       "41  not_propaganda  \n",
       "42      propaganda  \n",
       "43  not_propaganda  \n",
       "44      propaganda  \n",
       "45  not_propaganda  \n",
       "46      propaganda  \n",
       "47  not_propaganda  \n",
       "48      propaganda  \n",
       "49      propaganda  "
      ]
     },
     "execution_count": 73,
     "metadata": {},
     "output_type": "execute_result"
    }
   ],
   "source": [
    "flattened=[]\n",
    "for batch in predictions:        # Iterating from the predictions.\n",
    "  for pred in batch:\n",
    "    flattened.append(reverse_index[pred.item()]) # Convert back predicted label and add to flattended list\n",
    "validation_df_si[\"prediction\"]=flattened      # Assigning list in prediction column\n",
    "validation_df_si.head(50)\n"
   ]
  },
  {
   "cell_type": "code",
   "execution_count": 74,
   "metadata": {
    "id": "Qzw2pTDFrq8f"
   },
   "outputs": [],
   "source": [
    "all_labels=validation_df_si['label']      \n",
    "all_predictions=validation_df_si['prediction']"
   ]
  },
  {
   "cell_type": "code",
   "execution_count": 75,
   "metadata": {
    "id": "X3ouN2iLUdKo"
   },
   "outputs": [],
   "source": [
    "\"\"\"\n",
    "model_metrics function is used to give precision, recall and f1 score for each label in data\n",
    "\"\"\"\n",
    "\n",
    "def model_metrics(labels=labels,all_labels=all_labels,all_predictions=all_predictions,model_name=\"BERT\",task_name=\"Span Identification\"):\n",
    "  tp={}\n",
    "  fp={}\n",
    "  fn={}\n",
    "  tn={}\n",
    "\n",
    "  for label1,pred1 in zip(all_labels,all_predictions):\n",
    "      for label in labels.keys():\n",
    "          if label1==label:\n",
    "              if pred1==label:\n",
    "                  tp[label]=tp.get(label,0)+1\n",
    "              else:\n",
    "                  fn[label]=fn.get(label,0)+1\n",
    "              \n",
    "          else:\n",
    "              if pred1==label:\n",
    "                  fp[label]=fp.get(label,0)+1\n",
    "              else:\n",
    "                  tn[label]=tn.get(label,0)+1\n",
    "                \n",
    "\n",
    "\n",
    "  precision={label:value/(value+fp.get(label,0)) for label,value in tp.items()}\n",
    "  recall={label:value/(value+fn.get(label,0)) for label,value in tp.items()}\n",
    "  f1={label:(2*value*recall.get(label,0))/(value+recall.get(label,0)) for label,value in precision.items()}\n",
    "\n",
    "  print(f\"Precision {task_name} for {model_name} model\",precision)\n",
    "  print(f\"Recall {task_name} for {model_name}  model\",recall)\n",
    "  print(f\"F1 {task_name} for {model_name}  model\",f1)\n"
   ]
  },
  {
   "cell_type": "code",
   "execution_count": 76,
   "metadata": {
    "colab": {
     "base_uri": "https://localhost:8080/"
    },
    "id": "lOVrzhtKVgTz",
    "outputId": "c0a3a4a8-2454-4298-ab9c-1e86441dfa48"
   },
   "outputs": [
    {
     "name": "stdout",
     "output_type": "stream",
     "text": [
      "Precision Span Identification for BERT model {'not_propaganda': 0.8445945945945946, 'propaganda': 0.8204225352112676}\n",
      "Recall Span Identification for BERT  model {'not_propaganda': 0.8305647840531561, 'propaganda': 0.8351254480286738}\n",
      "F1 Span Identification for BERT  model {'not_propaganda': 0.8375209380234506, 'propaganda': 0.8277087033747781}\n"
     ]
    }
   ],
   "source": [
    "model_metrics(labels=labels,all_labels=all_labels,all_predictions=all_predictions,model_name=\"BERT\",task_name=\"Span Identification\")  #Call model_metrics to analyze model performance"
   ]
  },
  {
   "cell_type": "markdown",
   "metadata": {
    "id": "TxcMjbZf0DxV"
   },
   "source": [
    "**Error Analysis in Span Identification Task for BERT Model**"
   ]
  },
  {
   "cell_type": "markdown",
   "metadata": {
    "id": "e-TgbNTpt_ty"
   },
   "source": [
    "Precision is better for not_propaganda and recall is better for propoganda. This suggests that classifier is overpredicting propoganda. This is consistent with there being more training data for propoganda."
   ]
  },
  {
   "cell_type": "code",
   "execution_count": 77,
   "metadata": {
    "colab": {
     "base_uri": "https://localhost:8080/",
     "height": 206
    },
    "id": "troC8UIe0L5Q",
    "outputId": "468b8cc9-05cd-4fdd-cb96-49f2b19cb53d"
   },
   "outputs": [
    {
     "data": {
      "text/html": [
       "\n",
       "  <div id=\"df-0cb845fb-e61f-4a21-b305-0935e78cf40f\">\n",
       "    <div class=\"colab-df-container\">\n",
       "      <div>\n",
       "<style scoped>\n",
       "    .dataframe tbody tr th:only-of-type {\n",
       "        vertical-align: middle;\n",
       "    }\n",
       "\n",
       "    .dataframe tbody tr th {\n",
       "        vertical-align: top;\n",
       "    }\n",
       "\n",
       "    .dataframe thead th {\n",
       "        text-align: right;\n",
       "    }\n",
       "</style>\n",
       "<table border=\"1\" class=\"dataframe\">\n",
       "  <thead>\n",
       "    <tr style=\"text-align: right;\">\n",
       "      <th></th>\n",
       "      <th>text</th>\n",
       "      <th>label</th>\n",
       "      <th>len_of_span</th>\n",
       "    </tr>\n",
       "  </thead>\n",
       "  <tbody>\n",
       "    <tr>\n",
       "      <th>0</th>\n",
       "      <td>No, &lt;BOS&gt; he &lt;EOS&gt; will not be confirmed.</td>\n",
       "      <td>not_propaganda</td>\n",
       "      <td>42</td>\n",
       "    </tr>\n",
       "    <tr>\n",
       "      <th>1</th>\n",
       "      <td>This declassification effort &lt;BOS&gt; won’t make ...</td>\n",
       "      <td>not_propaganda</td>\n",
       "      <td>104</td>\n",
       "    </tr>\n",
       "    <tr>\n",
       "      <th>2</th>\n",
       "      <td>The Obama administration misled the &lt;BOS&gt; Amer...</td>\n",
       "      <td>propaganda</td>\n",
       "      <td>140</td>\n",
       "    </tr>\n",
       "    <tr>\n",
       "      <th>3</th>\n",
       "      <td>“It looks like we’re capturing the demise of t...</td>\n",
       "      <td>not_propaganda</td>\n",
       "      <td>213</td>\n",
       "    </tr>\n",
       "    <tr>\n",
       "      <th>4</th>\n",
       "      <td>&lt;BOS&gt; Location: Westerville, Ohio &lt;EOS&gt;</td>\n",
       "      <td>not_propaganda</td>\n",
       "      <td>40</td>\n",
       "    </tr>\n",
       "  </tbody>\n",
       "</table>\n",
       "</div>\n",
       "      <button class=\"colab-df-convert\" onclick=\"convertToInteractive('df-0cb845fb-e61f-4a21-b305-0935e78cf40f')\"\n",
       "              title=\"Convert this dataframe to an interactive table.\"\n",
       "              style=\"display:none;\">\n",
       "        \n",
       "  <svg xmlns=\"http://www.w3.org/2000/svg\" height=\"24px\"viewBox=\"0 0 24 24\"\n",
       "       width=\"24px\">\n",
       "    <path d=\"M0 0h24v24H0V0z\" fill=\"none\"/>\n",
       "    <path d=\"M18.56 5.44l.94 2.06.94-2.06 2.06-.94-2.06-.94-.94-2.06-.94 2.06-2.06.94zm-11 1L8.5 8.5l.94-2.06 2.06-.94-2.06-.94L8.5 2.5l-.94 2.06-2.06.94zm10 10l.94 2.06.94-2.06 2.06-.94-2.06-.94-.94-2.06-.94 2.06-2.06.94z\"/><path d=\"M17.41 7.96l-1.37-1.37c-.4-.4-.92-.59-1.43-.59-.52 0-1.04.2-1.43.59L10.3 9.45l-7.72 7.72c-.78.78-.78 2.05 0 2.83L4 21.41c.39.39.9.59 1.41.59.51 0 1.02-.2 1.41-.59l7.78-7.78 2.81-2.81c.8-.78.8-2.07 0-2.86zM5.41 20L4 18.59l7.72-7.72 1.47 1.35L5.41 20z\"/>\n",
       "  </svg>\n",
       "      </button>\n",
       "      \n",
       "  <style>\n",
       "    .colab-df-container {\n",
       "      display:flex;\n",
       "      flex-wrap:wrap;\n",
       "      gap: 12px;\n",
       "    }\n",
       "\n",
       "    .colab-df-convert {\n",
       "      background-color: #E8F0FE;\n",
       "      border: none;\n",
       "      border-radius: 50%;\n",
       "      cursor: pointer;\n",
       "      display: none;\n",
       "      fill: #1967D2;\n",
       "      height: 32px;\n",
       "      padding: 0 0 0 0;\n",
       "      width: 32px;\n",
       "    }\n",
       "\n",
       "    .colab-df-convert:hover {\n",
       "      background-color: #E2EBFA;\n",
       "      box-shadow: 0px 1px 2px rgba(60, 64, 67, 0.3), 0px 1px 3px 1px rgba(60, 64, 67, 0.15);\n",
       "      fill: #174EA6;\n",
       "    }\n",
       "\n",
       "    [theme=dark] .colab-df-convert {\n",
       "      background-color: #3B4455;\n",
       "      fill: #D2E3FC;\n",
       "    }\n",
       "\n",
       "    [theme=dark] .colab-df-convert:hover {\n",
       "      background-color: #434B5C;\n",
       "      box-shadow: 0px 1px 3px 1px rgba(0, 0, 0, 0.15);\n",
       "      filter: drop-shadow(0px 1px 2px rgba(0, 0, 0, 0.3));\n",
       "      fill: #FFFFFF;\n",
       "    }\n",
       "  </style>\n",
       "\n",
       "      <script>\n",
       "        const buttonEl =\n",
       "          document.querySelector('#df-0cb845fb-e61f-4a21-b305-0935e78cf40f button.colab-df-convert');\n",
       "        buttonEl.style.display =\n",
       "          google.colab.kernel.accessAllowed ? 'block' : 'none';\n",
       "\n",
       "        async function convertToInteractive(key) {\n",
       "          const element = document.querySelector('#df-0cb845fb-e61f-4a21-b305-0935e78cf40f');\n",
       "          const dataTable =\n",
       "            await google.colab.kernel.invokeFunction('convertToInteractive',\n",
       "                                                     [key], {});\n",
       "          if (!dataTable) return;\n",
       "\n",
       "          const docLinkHtml = 'Like what you see? Visit the ' +\n",
       "            '<a target=\"_blank\" href=https://colab.research.google.com/notebooks/data_table.ipynb>data table notebook</a>'\n",
       "            + ' to learn more about interactive tables.';\n",
       "          element.innerHTML = '';\n",
       "          dataTable['output_type'] = 'display_data';\n",
       "          await google.colab.output.renderOutput(dataTable, element);\n",
       "          const docLink = document.createElement('div');\n",
       "          docLink.innerHTML = docLinkHtml;\n",
       "          element.appendChild(docLink);\n",
       "        }\n",
       "      </script>\n",
       "    </div>\n",
       "  </div>\n",
       "  "
      ],
      "text/plain": [
       "                                                text           label  \\\n",
       "0         No, <BOS> he <EOS> will not be confirmed.   not_propaganda   \n",
       "1  This declassification effort <BOS> won’t make ...  not_propaganda   \n",
       "2  The Obama administration misled the <BOS> Amer...      propaganda   \n",
       "3  “It looks like we’re capturing the demise of t...  not_propaganda   \n",
       "4           <BOS> Location: Westerville, Ohio <EOS>   not_propaganda   \n",
       "\n",
       "   len_of_span  \n",
       "0           42  \n",
       "1          104  \n",
       "2          140  \n",
       "3          213  \n",
       "4           40  "
      ]
     },
     "execution_count": 77,
     "metadata": {},
     "output_type": "execute_result"
    }
   ],
   "source": [
    "train_df_si_copy = train_df_si.copy(deep=True)\n",
    "train_df_si_copy['len_of_span'] = train_df_si_copy['text'].apply(len)\n",
    "train_df_si_copy.head()"
   ]
  },
  {
   "cell_type": "markdown",
   "metadata": {
    "id": "8KngAA1vLVHE"
   },
   "source": [
    "Below graph shows the mean length of characters for labels in training data."
   ]
  },
  {
   "cell_type": "code",
   "execution_count": 78,
   "metadata": {
    "colab": {
     "base_uri": "https://localhost:8080/",
     "height": 559
    },
    "id": "tWvCfIi6VluK",
    "outputId": "8f74ee0f-31ad-4e26-c9a4-2027272a46e0"
   },
   "outputs": [
    {
     "data": {
      "image/png": "[encoded data removed]",
      "text/plain": [
       "<Figure size 800x600 with 1 Axes>"
      ]
     },
     "metadata": {},
     "output_type": "display_data"
    },
    {
     "name": "stdout",
     "output_type": "stream",
     "text": [
      "Length for labels are as follows {'not_propaganda': 145.17, 'propaganda': 206.75}\n"
     ]
    }
   ],
   "source": [
    "mean_length_of_char_in_df(train_df_si_copy,groupby_col=\"label\",col=\"len_of_span\",xlabel_name=\"Mean Length of text in Train dataset SI Task BERT Model\")"
   ]
  },
  {
   "cell_type": "code",
   "execution_count": 79,
   "metadata": {
    "colab": {
     "base_uri": "https://localhost:8080/",
     "height": 206
    },
    "id": "cvpcKxDbsA8B",
    "outputId": "5afde5d0-7364-48dc-c6a3-bae6fb95822c"
   },
   "outputs": [
    {
     "data": {
      "text/html": [
       "\n",
       "  <div id=\"df-e1ae01ad-603b-437d-aa76-5835c5b768c3\">\n",
       "    <div class=\"colab-df-container\">\n",
       "      <div>\n",
       "<style scoped>\n",
       "    .dataframe tbody tr th:only-of-type {\n",
       "        vertical-align: middle;\n",
       "    }\n",
       "\n",
       "    .dataframe tbody tr th {\n",
       "        vertical-align: top;\n",
       "    }\n",
       "\n",
       "    .dataframe thead th {\n",
       "        text-align: right;\n",
       "    }\n",
       "</style>\n",
       "<table border=\"1\" class=\"dataframe\">\n",
       "  <thead>\n",
       "    <tr style=\"text-align: right;\">\n",
       "      <th></th>\n",
       "      <th>text</th>\n",
       "      <th>label</th>\n",
       "      <th>prediction</th>\n",
       "      <th>len_of_span</th>\n",
       "    </tr>\n",
       "  </thead>\n",
       "  <tbody>\n",
       "    <tr>\n",
       "      <th>0</th>\n",
       "      <td>On average, between 300 and 600 infections are...</td>\n",
       "      <td>not_propaganda</td>\n",
       "      <td>not_propaganda</td>\n",
       "      <td>157</td>\n",
       "    </tr>\n",
       "    <tr>\n",
       "      <th>1</th>\n",
       "      <td>Mostly because &lt;BOS&gt; the country would not las...</td>\n",
       "      <td>propaganda</td>\n",
       "      <td>propaganda</td>\n",
       "      <td>112</td>\n",
       "    </tr>\n",
       "    <tr>\n",
       "      <th>2</th>\n",
       "      <td>Lyndon Johnson &lt;BOS&gt; gets Earl Warren and Sen....</td>\n",
       "      <td>propaganda</td>\n",
       "      <td>propaganda</td>\n",
       "      <td>166</td>\n",
       "    </tr>\n",
       "    <tr>\n",
       "      <th>3</th>\n",
       "      <td>&lt;BOS&gt; You &lt;EOS&gt; may opt out at anytime.</td>\n",
       "      <td>not_propaganda</td>\n",
       "      <td>not_propaganda</td>\n",
       "      <td>40</td>\n",
       "    </tr>\n",
       "    <tr>\n",
       "      <th>4</th>\n",
       "      <td>It must be exacted from him directly in order ...</td>\n",
       "      <td>propaganda</td>\n",
       "      <td>propaganda</td>\n",
       "      <td>169</td>\n",
       "    </tr>\n",
       "  </tbody>\n",
       "</table>\n",
       "</div>\n",
       "      <button class=\"colab-df-convert\" onclick=\"convertToInteractive('df-e1ae01ad-603b-437d-aa76-5835c5b768c3')\"\n",
       "              title=\"Convert this dataframe to an interactive table.\"\n",
       "              style=\"display:none;\">\n",
       "        \n",
       "  <svg xmlns=\"http://www.w3.org/2000/svg\" height=\"24px\"viewBox=\"0 0 24 24\"\n",
       "       width=\"24px\">\n",
       "    <path d=\"M0 0h24v24H0V0z\" fill=\"none\"/>\n",
       "    <path d=\"M18.56 5.44l.94 2.06.94-2.06 2.06-.94-2.06-.94-.94-2.06-.94 2.06-2.06.94zm-11 1L8.5 8.5l.94-2.06 2.06-.94-2.06-.94L8.5 2.5l-.94 2.06-2.06.94zm10 10l.94 2.06.94-2.06 2.06-.94-2.06-.94-.94-2.06-.94 2.06-2.06.94z\"/><path d=\"M17.41 7.96l-1.37-1.37c-.4-.4-.92-.59-1.43-.59-.52 0-1.04.2-1.43.59L10.3 9.45l-7.72 7.72c-.78.78-.78 2.05 0 2.83L4 21.41c.39.39.9.59 1.41.59.51 0 1.02-.2 1.41-.59l7.78-7.78 2.81-2.81c.8-.78.8-2.07 0-2.86zM5.41 20L4 18.59l7.72-7.72 1.47 1.35L5.41 20z\"/>\n",
       "  </svg>\n",
       "      </button>\n",
       "      \n",
       "  <style>\n",
       "    .colab-df-container {\n",
       "      display:flex;\n",
       "      flex-wrap:wrap;\n",
       "      gap: 12px;\n",
       "    }\n",
       "\n",
       "    .colab-df-convert {\n",
       "      background-color: #E8F0FE;\n",
       "      border: none;\n",
       "      border-radius: 50%;\n",
       "      cursor: pointer;\n",
       "      display: none;\n",
       "      fill: #1967D2;\n",
       "      height: 32px;\n",
       "      padding: 0 0 0 0;\n",
       "      width: 32px;\n",
       "    }\n",
       "\n",
       "    .colab-df-convert:hover {\n",
       "      background-color: #E2EBFA;\n",
       "      box-shadow: 0px 1px 2px rgba(60, 64, 67, 0.3), 0px 1px 3px 1px rgba(60, 64, 67, 0.15);\n",
       "      fill: #174EA6;\n",
       "    }\n",
       "\n",
       "    [theme=dark] .colab-df-convert {\n",
       "      background-color: #3B4455;\n",
       "      fill: #D2E3FC;\n",
       "    }\n",
       "\n",
       "    [theme=dark] .colab-df-convert:hover {\n",
       "      background-color: #434B5C;\n",
       "      box-shadow: 0px 1px 3px 1px rgba(0, 0, 0, 0.15);\n",
       "      filter: drop-shadow(0px 1px 2px rgba(0, 0, 0, 0.3));\n",
       "      fill: #FFFFFF;\n",
       "    }\n",
       "  </style>\n",
       "\n",
       "      <script>\n",
       "        const buttonEl =\n",
       "          document.querySelector('#df-e1ae01ad-603b-437d-aa76-5835c5b768c3 button.colab-df-convert');\n",
       "        buttonEl.style.display =\n",
       "          google.colab.kernel.accessAllowed ? 'block' : 'none';\n",
       "\n",
       "        async function convertToInteractive(key) {\n",
       "          const element = document.querySelector('#df-e1ae01ad-603b-437d-aa76-5835c5b768c3');\n",
       "          const dataTable =\n",
       "            await google.colab.kernel.invokeFunction('convertToInteractive',\n",
       "                                                     [key], {});\n",
       "          if (!dataTable) return;\n",
       "\n",
       "          const docLinkHtml = 'Like what you see? Visit the ' +\n",
       "            '<a target=\"_blank\" href=https://colab.research.google.com/notebooks/data_table.ipynb>data table notebook</a>'\n",
       "            + ' to learn more about interactive tables.';\n",
       "          element.innerHTML = '';\n",
       "          dataTable['output_type'] = 'display_data';\n",
       "          await google.colab.output.renderOutput(dataTable, element);\n",
       "          const docLink = document.createElement('div');\n",
       "          docLink.innerHTML = docLinkHtml;\n",
       "          element.appendChild(docLink);\n",
       "        }\n",
       "      </script>\n",
       "    </div>\n",
       "  </div>\n",
       "  "
      ],
      "text/plain": [
       "                                                text           label  \\\n",
       "0  On average, between 300 and 600 infections are...  not_propaganda   \n",
       "1  Mostly because <BOS> the country would not las...      propaganda   \n",
       "2  Lyndon Johnson <BOS> gets Earl Warren and Sen....      propaganda   \n",
       "3           <BOS> You <EOS> may opt out at anytime.   not_propaganda   \n",
       "4  It must be exacted from him directly in order ...      propaganda   \n",
       "\n",
       "       prediction  len_of_span  \n",
       "0  not_propaganda          157  \n",
       "1      propaganda          112  \n",
       "2      propaganda          166  \n",
       "3  not_propaganda           40  \n",
       "4      propaganda          169  "
      ]
     },
     "execution_count": 79,
     "metadata": {},
     "output_type": "execute_result"
    }
   ],
   "source": [
    "validation_df_si_copy = validation_df_si.copy(deep=True)\n",
    "validation_df_si_copy['len_of_span'] = validation_df_si_copy['text'].apply(len)\n",
    "validation_df_si_copy.head()"
   ]
  },
  {
   "cell_type": "markdown",
   "metadata": {
    "id": "Adle4CuWLgF_"
   },
   "source": [
    "Below graph shows the mean length of characters for labels in Validation data."
   ]
  },
  {
   "cell_type": "code",
   "execution_count": 80,
   "metadata": {
    "colab": {
     "base_uri": "https://localhost:8080/",
     "height": 559
    },
    "id": "WASMv2mapWgc",
    "outputId": "a78ec5f4-086c-4b0f-b1a2-65eb095a4b1b"
   },
   "outputs": [
    {
     "data": {
      "image/png": "[encoded data removed]",
      "text/plain": [
       "<Figure size 800x600 with 1 Axes>"
      ]
     },
     "metadata": {},
     "output_type": "display_data"
    },
    {
     "name": "stdout",
     "output_type": "stream",
     "text": [
      "Length for labels are as follows {'not_propaganda': 158.81, 'propaganda': 192.77}\n"
     ]
    }
   ],
   "source": [
    "mean_length_of_char_in_df(validation_df_si_copy,groupby_col=\"label\",col=\"len_of_span\",xlabel_name=\"Mean Length of text in Validation dataset SI Task BERT Model\")"
   ]
  },
  {
   "cell_type": "code",
   "execution_count": 82,
   "metadata": {
    "colab": {
     "base_uri": "https://localhost:8080/",
     "height": 206
    },
    "id": "WbTN6fzi-PWK",
    "outputId": "27c1cbae-9ee0-49c3-cf32-a15c77d6469f"
   },
   "outputs": [
    {
     "data": {
      "text/html": [
       "\n",
       "  <div id=\"df-1ca44a8f-dd9d-4c1c-a8fb-9fe2729e311b\">\n",
       "    <div class=\"colab-df-container\">\n",
       "      <div>\n",
       "<style scoped>\n",
       "    .dataframe tbody tr th:only-of-type {\n",
       "        vertical-align: middle;\n",
       "    }\n",
       "\n",
       "    .dataframe tbody tr th {\n",
       "        vertical-align: top;\n",
       "    }\n",
       "\n",
       "    .dataframe thead th {\n",
       "        text-align: right;\n",
       "    }\n",
       "</style>\n",
       "<table border=\"1\" class=\"dataframe\">\n",
       "  <thead>\n",
       "    <tr style=\"text-align: right;\">\n",
       "      <th></th>\n",
       "      <th>text</th>\n",
       "      <th>label</th>\n",
       "      <th>prediction</th>\n",
       "    </tr>\n",
       "  </thead>\n",
       "  <tbody>\n",
       "    <tr>\n",
       "      <th>0</th>\n",
       "      <td>On average, between 300 and 600 infections are...</td>\n",
       "      <td>not_propaganda</td>\n",
       "      <td>not_propaganda</td>\n",
       "    </tr>\n",
       "    <tr>\n",
       "      <th>1</th>\n",
       "      <td>Mostly because &lt;BOS&gt; the country would not las...</td>\n",
       "      <td>propaganda</td>\n",
       "      <td>propaganda</td>\n",
       "    </tr>\n",
       "    <tr>\n",
       "      <th>2</th>\n",
       "      <td>Lyndon Johnson &lt;BOS&gt; gets Earl Warren and Sen....</td>\n",
       "      <td>propaganda</td>\n",
       "      <td>propaganda</td>\n",
       "    </tr>\n",
       "    <tr>\n",
       "      <th>3</th>\n",
       "      <td>&lt;BOS&gt; You &lt;EOS&gt; may opt out at anytime.</td>\n",
       "      <td>not_propaganda</td>\n",
       "      <td>not_propaganda</td>\n",
       "    </tr>\n",
       "    <tr>\n",
       "      <th>4</th>\n",
       "      <td>It must be exacted from him directly in order ...</td>\n",
       "      <td>propaganda</td>\n",
       "      <td>propaganda</td>\n",
       "    </tr>\n",
       "  </tbody>\n",
       "</table>\n",
       "</div>\n",
       "      <button class=\"colab-df-convert\" onclick=\"convertToInteractive('df-1ca44a8f-dd9d-4c1c-a8fb-9fe2729e311b')\"\n",
       "              title=\"Convert this dataframe to an interactive table.\"\n",
       "              style=\"display:none;\">\n",
       "        \n",
       "  <svg xmlns=\"http://www.w3.org/2000/svg\" height=\"24px\"viewBox=\"0 0 24 24\"\n",
       "       width=\"24px\">\n",
       "    <path d=\"M0 0h24v24H0V0z\" fill=\"none\"/>\n",
       "    <path d=\"M18.56 5.44l.94 2.06.94-2.06 2.06-.94-2.06-.94-.94-2.06-.94 2.06-2.06.94zm-11 1L8.5 8.5l.94-2.06 2.06-.94-2.06-.94L8.5 2.5l-.94 2.06-2.06.94zm10 10l.94 2.06.94-2.06 2.06-.94-2.06-.94-.94-2.06-.94 2.06-2.06.94z\"/><path d=\"M17.41 7.96l-1.37-1.37c-.4-.4-.92-.59-1.43-.59-.52 0-1.04.2-1.43.59L10.3 9.45l-7.72 7.72c-.78.78-.78 2.05 0 2.83L4 21.41c.39.39.9.59 1.41.59.51 0 1.02-.2 1.41-.59l7.78-7.78 2.81-2.81c.8-.78.8-2.07 0-2.86zM5.41 20L4 18.59l7.72-7.72 1.47 1.35L5.41 20z\"/>\n",
       "  </svg>\n",
       "      </button>\n",
       "      \n",
       "  <style>\n",
       "    .colab-df-container {\n",
       "      display:flex;\n",
       "      flex-wrap:wrap;\n",
       "      gap: 12px;\n",
       "    }\n",
       "\n",
       "    .colab-df-convert {\n",
       "      background-color: #E8F0FE;\n",
       "      border: none;\n",
       "      border-radius: 50%;\n",
       "      cursor: pointer;\n",
       "      display: none;\n",
       "      fill: #1967D2;\n",
       "      height: 32px;\n",
       "      padding: 0 0 0 0;\n",
       "      width: 32px;\n",
       "    }\n",
       "\n",
       "    .colab-df-convert:hover {\n",
       "      background-color: #E2EBFA;\n",
       "      box-shadow: 0px 1px 2px rgba(60, 64, 67, 0.3), 0px 1px 3px 1px rgba(60, 64, 67, 0.15);\n",
       "      fill: #174EA6;\n",
       "    }\n",
       "\n",
       "    [theme=dark] .colab-df-convert {\n",
       "      background-color: #3B4455;\n",
       "      fill: #D2E3FC;\n",
       "    }\n",
       "\n",
       "    [theme=dark] .colab-df-convert:hover {\n",
       "      background-color: #434B5C;\n",
       "      box-shadow: 0px 1px 3px 1px rgba(0, 0, 0, 0.15);\n",
       "      filter: drop-shadow(0px 1px 2px rgba(0, 0, 0, 0.3));\n",
       "      fill: #FFFFFF;\n",
       "    }\n",
       "  </style>\n",
       "\n",
       "      <script>\n",
       "        const buttonEl =\n",
       "          document.querySelector('#df-1ca44a8f-dd9d-4c1c-a8fb-9fe2729e311b button.colab-df-convert');\n",
       "        buttonEl.style.display =\n",
       "          google.colab.kernel.accessAllowed ? 'block' : 'none';\n",
       "\n",
       "        async function convertToInteractive(key) {\n",
       "          const element = document.querySelector('#df-1ca44a8f-dd9d-4c1c-a8fb-9fe2729e311b');\n",
       "          const dataTable =\n",
       "            await google.colab.kernel.invokeFunction('convertToInteractive',\n",
       "                                                     [key], {});\n",
       "          if (!dataTable) return;\n",
       "\n",
       "          const docLinkHtml = 'Like what you see? Visit the ' +\n",
       "            '<a target=\"_blank\" href=https://colab.research.google.com/notebooks/data_table.ipynb>data table notebook</a>'\n",
       "            + ' to learn more about interactive tables.';\n",
       "          element.innerHTML = '';\n",
       "          dataTable['output_type'] = 'display_data';\n",
       "          await google.colab.output.renderOutput(dataTable, element);\n",
       "          const docLink = document.createElement('div');\n",
       "          docLink.innerHTML = docLinkHtml;\n",
       "          element.appendChild(docLink);\n",
       "        }\n",
       "      </script>\n",
       "    </div>\n",
       "  </div>\n",
       "  "
      ],
      "text/plain": [
       "                                                text           label  \\\n",
       "0  On average, between 300 and 600 infections are...  not_propaganda   \n",
       "1  Mostly because <BOS> the country would not las...      propaganda   \n",
       "2  Lyndon Johnson <BOS> gets Earl Warren and Sen....      propaganda   \n",
       "3           <BOS> You <EOS> may opt out at anytime.   not_propaganda   \n",
       "4  It must be exacted from him directly in order ...      propaganda   \n",
       "\n",
       "       prediction  \n",
       "0  not_propaganda  \n",
       "1      propaganda  \n",
       "2      propaganda  \n",
       "3  not_propaganda  \n",
       "4      propaganda  "
      ]
     },
     "execution_count": 82,
     "metadata": {},
     "output_type": "execute_result"
    }
   ],
   "source": [
    "validation_df_si.head()"
   ]
  },
  {
   "cell_type": "code",
   "execution_count": 86,
   "metadata": {
    "colab": {
     "base_uri": "https://localhost:8080/"
    },
    "id": "wGFiimSnBKOr",
    "outputId": "349b8df3-5d01-43da-bbef-cd6c642825b4"
   },
   "outputs": [
    {
     "name": "stdout",
     "output_type": "stream",
     "text": [
      "Wrong Prediction Sentence Average length:\n",
      " prediction\n",
      "not_propaganda    152.956522\n",
      "propaganda        323.627451\n",
      "Name: text, dtype: float64\n"
     ]
    }
   ],
   "source": [
    "mean_lengths_wrong_pred =calculate_mean_sentence_lengths(validation_df_si)  #Printing Wrong Predicted sentence mean length\n",
    "print(\"Wrong Prediction Sentence Average length:\\n\",mean_lengths_wrong_pred)"
   ]
  },
  {
   "cell_type": "markdown",
   "metadata": {
    "id": "RxjKK0FcCGwv"
   },
   "source": [
    "The sentences where BERT has predicted wrong class is because as we can see when we trained the model average length of propaganda was around 206 and for not_propoganda it was 145. \n",
    "\n",
    "But in Validation data set the average length of propaganda'was around 192 and for not_propoganda it was 158. \n",
    "\n",
    "When we perform error analysis of sentences which are** wrongly predicted** as **propoganda** but the **gold label** is **not propoganda**, the avarage length of sentence is around **323** which is close to the average length of **propoganda label** in **train** which is 206, hence model is getting confused and classifying these sentences as **propoganda**.\n",
    "\n",
    "If we analyse for sentences which are **wrongly predicted** as **not_propaganda** but the **gold label** is **propoganda**, the avarage length of sentence is around **152** which is very close to the average length of **not_propoganda label** in **train** which is 145, hence model is getting confused and classifying these sentences as **not_propoganda**."
   ]
  },
  {
   "cell_type": "markdown",
   "metadata": {
    "id": "hSKDFojuX46X"
   },
   "source": [
    "## **LSTM For Span Identification Task**"
   ]
  },
  {
   "cell_type": "markdown",
   "metadata": {
    "id": "r-z9UTt6TZbO"
   },
   "source": [
    "\"Below code for LSTM is adapted from github repository of shabbirg89/\n",
    "Youtube-2021 and modified according to the task.\"\n",
    "\n",
    "(Source: https://github.com/shabbirg89/Youtube-2021/blob/main/Multiclass_Text_Classifier_LSTM.ipynb)"
   ]
  },
  {
   "cell_type": "markdown",
   "metadata": {
    "id": "ZdTiGRBtgZN-"
   },
   "source": [
    "LSTM: An artificial neural network called Long Short-Term Memory (LSTM) is employed in deep learning and artificial intelligence. LSTM features feedback connections as opposed to typical feedforward neural networks. Such a recurrent neural network (RNN) can analyse whole data sequences, such as audio or video, in addition to single data points, like images. Because of this feature, LSTM networks are perfect for handling and forecasting data."
   ]
  },
  {
   "cell_type": "code",
   "execution_count": 105,
   "metadata": {
    "colab": {
     "base_uri": "https://localhost:8080/"
    },
    "id": "ssm8HCJLuW6Y",
    "outputId": "a2e14a6f-73c5-48a2-9c58-7084b3dd3d7b"
   },
   "outputs": [
    {
     "name": "stdout",
     "output_type": "stream",
     "text": [
      "Training Dataframe for Span Identification\n",
      "                                                text           label\n",
      "0         No, <BOS> he <EOS> will not be confirmed.   not_propaganda\n",
      "1  This declassification effort <BOS> won’t make ...  not_propaganda\n",
      "2  The Obama administration misled the <BOS> Amer...      propaganda\n",
      "3  “It looks like we’re capturing the demise of t...  not_propaganda\n",
      "4           <BOS> Location: Westerville, Ohio <EOS>   not_propaganda\n",
      "----------------------------------------------------------------------------------------------------------------\n",
      "Validation Dataframe for Span Identification\n",
      "                                                text           label\n",
      "0  On average, between 300 and 600 infections are...  not_propaganda\n",
      "1  Mostly because <BOS> the country would not las...      propaganda\n",
      "2  Lyndon Johnson <BOS> gets Earl Warren and Sen....      propaganda\n",
      "3           <BOS> You <EOS> may opt out at anytime.   not_propaganda\n",
      "4  It must be exacted from him directly in order ...      propaganda\n",
      "----------------------------------------------------------------------------------------------------------------\n",
      "reverse_index for Span Identification 2 Labels:\n",
      " {0: 'not_propaganda', 1: 'propaganda'}\n"
     ]
    }
   ],
   "source": [
    "train_df_si,validation_df_si,labels,reverse_index = span_identification_df() # Calling the span_identification_df to get the data filtered according to span identification task"
   ]
  },
  {
   "cell_type": "code",
   "execution_count": 106,
   "metadata": {
    "id": "G7BGffrSYe0Z"
   },
   "outputs": [],
   "source": [
    "REPLACE_BY_SPACE_RE = re.compile('[/(){}\\|@]')   \n",
    "BAD_SYMBOLS_RE = re.compile('[^0-9a-z #+]')"
   ]
  },
  {
   "cell_type": "code",
   "execution_count": 107,
   "metadata": {
    "id": "VQAcgqzcUesp"
   },
   "outputs": [],
   "source": [
    "def clean_text(text):\n",
    "    \"\"\"\n",
    "    Thisi function is used to convert the text to lower case and replace above defined Bad Symbols\n",
    "    \"\"\"\n",
    "    text = text.lower() # lowercase text\n",
    "    text = REPLACE_BY_SPACE_RE.sub(' ', text) # replace REPLACE_BY_SPACE_RE symbols by space in text. substitute the matched string in REPLACE_BY_SPACE_RE with space.\n",
    "    text = BAD_SYMBOLS_RE.sub('', text) # remove symbols which are in BAD_SYMBOLS_RE from text. substitute the matched string in BAD_SYMBOLS_RE with nothing. \n",
    "    return text\n",
    "\n",
    "train_df_si['text'] = train_df_si['text'].apply(clean_text) "
   ]
  },
  {
   "cell_type": "code",
   "execution_count": 108,
   "metadata": {
    "colab": {
     "base_uri": "https://localhost:8080/"
    },
    "id": "FF80lTDfX58b",
    "outputId": "f81abbe0-7cf1-4fed-fa83-a327f9698b16"
   },
   "outputs": [
    {
     "name": "stdout",
     "output_type": "stream",
     "text": [
      "Found 9219 unique tokens.\n"
     ]
    }
   ],
   "source": [
    "# The maximum number of words to be used. (most frequent)\n",
    "MAX_NB_WORDS = 50000 # Max number of words in each complaint.\n",
    "MAX_SEQUENCE_LENGTH = 256 # This is fixed length\n",
    "EMBEDDING_DIM = 100\n",
    "\n",
    "tokenizer = Tokenizer(num_words=MAX_NB_WORDS, filters='#$%&()*+/<=>@[\\]^{|}~', lower=True)   #Initialize tokenizer and give filters\n",
    "tokenizer.fit_on_texts(train_df_si['text'].values)   #Tokenize the data in train_df_si\n",
    "word_index = tokenizer.word_index              \n",
    "print('Found %s unique tokens.' % len(word_index))"
   ]
  },
  {
   "cell_type": "code",
   "execution_count": 109,
   "metadata": {
    "colab": {
     "base_uri": "https://localhost:8080/"
    },
    "id": "ccIrLZiVX56z",
    "outputId": "5b02dd30-e7c1-405a-ac1a-8bc5824caf63"
   },
   "outputs": [
    {
     "name": "stdout",
     "output_type": "stream",
     "text": [
      "Shape of data tensor: (2414, 256)\n"
     ]
    }
   ],
   "source": [
    "X_train = tokenizer.texts_to_sequences(train_df_si['text'].values)   #Load the tokenized data to X_train\n",
    "X_train = pad_sequences(X_train, maxlen=MAX_SEQUENCE_LENGTH)\n",
    "print('Shape of data tensor:', X_train.shape)"
   ]
  },
  {
   "cell_type": "code",
   "execution_count": 110,
   "metadata": {
    "colab": {
     "base_uri": "https://localhost:8080/"
    },
    "id": "TYR3Ln0zX53f",
    "outputId": "5735b08a-80eb-4028-bf0c-2f02fdbf12ab"
   },
   "outputs": [
    {
     "name": "stdout",
     "output_type": "stream",
     "text": [
      "Shape of label tensor: (2414, 2)\n"
     ]
    }
   ],
   "source": [
    "Y_train = pd.get_dummies(train_df_si['label']).values #creates a new DataFrame with one-hot encoded labels, extract the numpy values \n",
    "print('Shape of label tensor:', Y_train.shape)"
   ]
  },
  {
   "cell_type": "markdown",
   "metadata": {
    "id": "k4Gl5BgKVWMs"
   },
   "source": [
    "LSTM structure\n",
    "\n",
    "\n",
    "```\n",
    "       [ Input ]\n",
    "          |\n",
    "    [Embedding layer]\n",
    "          |\n",
    "   [ SpatialDropout1D layer ]\n",
    "          |\n",
    "      [LSTM layer ]\n",
    "          |\n",
    "[ Dense layer Sigmoid Activation ]\n",
    "          |\n",
    "      [ Output ]     \n",
    "\n",
    "```"
   ]
  },
  {
   "cell_type": "code",
   "execution_count": 111,
   "metadata": {
    "colab": {
     "base_uri": "https://localhost:8080/"
    },
    "id": "fD4AQs2gX50I",
    "outputId": "9fd1b5f7-0694-4a4a-b78c-948236e5e286"
   },
   "outputs": [
    {
     "name": "stderr",
     "output_type": "stream",
     "text": [
      "WARNING:tensorflow:Layer lstm will not use cuDNN kernels since it doesn't meet the criteria. It will use a generic GPU kernel as fallback when running on GPU.\n"
     ]
    },
    {
     "name": "stdout",
     "output_type": "stream",
     "text": [
      "Model: \"sequential\"\n",
      "_________________________________________________________________\n",
      " Layer (type)                Output Shape              Param #   \n",
      "=================================================================\n",
      " embedding (Embedding)       (None, 256, 100)          5000000   \n",
      "                                                                 \n",
      " spatial_dropout1d (SpatialD  (None, 256, 100)         0         \n",
      " ropout1D)                                                       \n",
      "                                                                 \n",
      " lstm (LSTM)                 (None, 100)               80400     \n",
      "                                                                 \n",
      " dense (Dense)               (None, 2)                 202       \n",
      "                                                                 \n",
      "=================================================================\n",
      "Total params: 5,080,602\n",
      "Trainable params: 5,080,602\n",
      "Non-trainable params: 0\n",
      "_________________________________________________________________\n",
      "None\n"
     ]
    }
   ],
   "source": [
    "model = Sequential()\n",
    "model.add(Embedding(MAX_NB_WORDS, EMBEDDING_DIM, input_length=X_train.shape[1]))  #Embdedding layer takes the input text data and converts it into a dense vector \n",
    "model.add(SpatialDropout1D(0.2))                           #dropout regularization to the embedding layer by randomly dropping out entire 1D feature maps.\n",
    "model.add(LSTM(100, dropout=0.2, recurrent_dropout=0.2))  #LSTM with 100 units and 20% droput probability\n",
    "model.add(Dense(2, activation='sigmoid'))                  #2 output Units in a  Sigmoid Activation function \n",
    "model.compile(loss='binary_crossentropy', optimizer='adam', metrics=['accuracy']) # Adam optimizer and binary_crossentropy loss function \n",
    "print(model.summary())"
   ]
  },
  {
   "cell_type": "code",
   "execution_count": 112,
   "metadata": {
    "colab": {
     "base_uri": "https://localhost:8080/"
    },
    "id": "aqCDqo9NX5w4",
    "outputId": "98ecb324-932e-4eb3-94f1-2060a39d1eeb"
   },
   "outputs": [
    {
     "name": "stdout",
     "output_type": "stream",
     "text": [
      "Epoch 1/5\n",
      "543/543 [==============================] - 396s 722ms/step - loss: 0.5904 - accuracy: 0.6943 - val_loss: 0.5133 - val_accuracy: 0.7479\n",
      "Epoch 2/5\n",
      "543/543 [==============================] - 446s 822ms/step - loss: 0.3447 - accuracy: 0.8564 - val_loss: 0.5093 - val_accuracy: 0.7562\n",
      "Epoch 3/5\n",
      "543/543 [==============================] - 382s 703ms/step - loss: 0.1169 - accuracy: 0.9609 - val_loss: 0.6519 - val_accuracy: 0.7273\n",
      "Epoch 4/5\n",
      "543/543 [==============================] - 375s 690ms/step - loss: 0.0368 - accuracy: 0.9890 - val_loss: 0.9654 - val_accuracy: 0.6570\n",
      "Epoch 5/5\n",
      "543/543 [==============================] - 346s 635ms/step - loss: 0.0226 - accuracy: 0.9936 - val_loss: 0.9223 - val_accuracy: 0.7149\n"
     ]
    }
   ],
   "source": [
    "epochs = 5   #Number of epochs\n",
    "batch_size = 4  #Batch Size \n",
    "\n",
    "#Traon the model\n",
    "history = model.fit(X_train, Y_train, epochs=epochs, batch_size=batch_size,validation_split=0.1,callbacks=[EarlyStopping(monitor='val_loss', patience=3, min_delta=0.0001)])\n"
   ]
  },
  {
   "cell_type": "code",
   "execution_count": 113,
   "metadata": {
    "id": "_a0tETnpZhPp"
   },
   "outputs": [],
   "source": [
    "validation_df_si['text'] = validation_df_si['text'].apply(clean_text)  #Clean the validation data"
   ]
  },
  {
   "cell_type": "code",
   "execution_count": 114,
   "metadata": {
    "colab": {
     "base_uri": "https://localhost:8080/"
    },
    "id": "Igzuq-zOZhMz",
    "outputId": "308fdb13-abbf-4512-85c9-d942a0ce3cb5"
   },
   "outputs": [
    {
     "name": "stdout",
     "output_type": "stream",
     "text": [
      "Found 4224 unique tokens.\n"
     ]
    }
   ],
   "source": [
    "tokenizer = Tokenizer(num_words=MAX_NB_WORDS, filters='#$%&()*+/<=>@[\\]^{|}~', lower=True)  #Initialize tokenizer and give filters\n",
    "tokenizer.fit_on_texts(validation_df_si['text'].values)  #Tokenize the data in validation_df_si\n",
    "word_index = tokenizer.word_index\n",
    "print('Found %s unique tokens.' % len(word_index))"
   ]
  },
  {
   "cell_type": "code",
   "execution_count": 115,
   "metadata": {
    "colab": {
     "base_uri": "https://localhost:8080/"
    },
    "id": "P7LkFCRpZhJ2",
    "outputId": "09594bc9-d514-4ed1-b097-09e690fd0909"
   },
   "outputs": [
    {
     "name": "stdout",
     "output_type": "stream",
     "text": [
      "Shape of data tensor: (580, 256)\n"
     ]
    }
   ],
   "source": [
    "X_test = tokenizer.texts_to_sequences(validation_df_si['text'].values)  #Load the tokenized data to X_test\n",
    "X_test = pad_sequences(X_test, maxlen=MAX_SEQUENCE_LENGTH)\n",
    "print('Shape of data tensor:', X_test.shape)"
   ]
  },
  {
   "cell_type": "code",
   "execution_count": 116,
   "metadata": {
    "colab": {
     "base_uri": "https://localhost:8080/"
    },
    "id": "YAzvG8ZvZhHF",
    "outputId": "1bb4ca20-bd6d-450f-b48c-c36e4fe38fca"
   },
   "outputs": [
    {
     "name": "stdout",
     "output_type": "stream",
     "text": [
      "Shape of label tensor: (580, 2)\n"
     ]
    }
   ],
   "source": [
    "Y_test = pd.get_dummies(validation_df_si['label']).values #creates a new DataFrame with one-hot encoded labels, extract the numpy values \n",
    "print('Shape of label tensor:', Y_test.shape)"
   ]
  },
  {
   "cell_type": "code",
   "execution_count": 117,
   "metadata": {
    "colab": {
     "base_uri": "https://localhost:8080/"
    },
    "id": "dT2x8Tg9bIvh",
    "outputId": "6504ff59-87b6-4910-81fb-44ffb67653ba"
   },
   "outputs": [
    {
     "name": "stdout",
     "output_type": "stream",
     "text": [
      "19/19 [==============================] - 1s 72ms/step - loss: 1.5093 - accuracy: 0.6103\n",
      "Test set\n",
      "  Loss: 1.509\n",
      "  Accuracy: 0.610\n"
     ]
    }
   ],
   "source": [
    "accr = model.evaluate(X_test,Y_test)  #evaluate model and give accuracy \n",
    "print('Test set\\n  Loss: {:0.3f}\\n  Accuracy: {:0.3f}'.format(accr[0],accr[1]))"
   ]
  },
  {
   "cell_type": "code",
   "execution_count": 118,
   "metadata": {
    "colab": {
     "base_uri": "https://localhost:8080/",
     "height": 452
    },
    "id": "-M4oymMXbIs0",
    "outputId": "25fb6db3-b070-4540-87ed-df180b28dfec"
   },
   "outputs": [
    {
     "data": {
      "image/png": "[encoded data removed]",
      "text/plain": [
       "<Figure size 640x480 with 1 Axes>"
      ]
     },
     "metadata": {},
     "output_type": "display_data"
    }
   ],
   "source": [
    "plt.title('Loss')                                     # Plot train and test loss\n",
    "plt.plot(history.history['loss'], label='train')\n",
    "plt.plot(history.history['val_loss'], label='test')\n",
    "plt.legend()\n",
    "plt.show();"
   ]
  },
  {
   "cell_type": "code",
   "execution_count": 119,
   "metadata": {
    "colab": {
     "base_uri": "https://localhost:8080/",
     "height": 452
    },
    "id": "0km5NH8PbIpz",
    "outputId": "7727354c-26d8-464a-a428-45a82a1b110b"
   },
   "outputs": [
    {
     "data": {
      "image/png": "[encoded data removed]",
      "text/plain": [
       "<Figure size 640x480 with 1 Axes>"
      ]
     },
     "metadata": {},
     "output_type": "display_data"
    }
   ],
   "source": [
    "plt.title('Accuracy')                      # Plot train and test accuracy\n",
    "plt.plot(history.history['accuracy'], label='train')\n",
    "plt.plot(history.history['val_accuracy'], label='test')\n",
    "plt.legend()\n",
    "plt.show();"
   ]
  },
  {
   "cell_type": "markdown",
   "metadata": {
    "id": "RsNqSIXEZWkX"
   },
   "source": [
    "# **Propaganda Technique Classification Task**"
   ]
  },
  {
   "cell_type": "markdown",
   "metadata": {
    "id": "c2G18PvBZuuF"
   },
   "source": [
    "In technique classification task we have to detect the type of propoganda technique usedin the given text from article. Hence we will use the technique_classification_df function to filter the train and validation data and give us back only those rows which contains propoganda technique used in the text."
   ]
  },
  {
   "cell_type": "markdown",
   "metadata": {
    "id": "5rjkIt5gE33G"
   },
   "source": [
    "## **BERT Base Cased Model For Technique Classification Task**"
   ]
  },
  {
   "cell_type": "markdown",
   "metadata": {
    "id": "v4ALBcKjaa0_"
   },
   "source": [
    "\"Below functions evaluate, prepare_inputs and train and code for this section are taken from code available in the 6th Advance NLP Lab Sussex University.\"\n",
    "\n",
    "(Source: https://canvas.sussex.ac.uk/courses/22822/pages/week-slash-topic-6-transfer-learning-with-large-pretrained-models?wrap=1)"
   ]
  },
  {
   "cell_type": "code",
   "execution_count": 87,
   "metadata": {
    "colab": {
     "base_uri": "https://localhost:8080/"
    },
    "id": "kla7M2JeqQBZ",
    "outputId": "6988ff04-c850-40ba-83a5-90875ecacd40"
   },
   "outputs": [
    {
     "name": "stdout",
     "output_type": "stream",
     "text": [
      "Training Dataframe for Technique Classification\n",
      "                                                 text  \\\n",
      "2   The Obama administration misled the <BOS> Amer...   \n",
      "5   Hitler <BOS> annihilated <EOS> 400,000 Germans...   \n",
      "8   As noted above, at this point literally every ...   \n",
      "10  His account was suspended for violating Twitte...   \n",
      "12  A couple of seemingly unrelated events this pa...   \n",
      "\n",
      "                       label  \n",
      "2                flag_waving  \n",
      "5            loaded_language  \n",
      "8                      doubt  \n",
      "10     name_calling,labeling  \n",
      "12  appeal_to_fear_prejudice  \n",
      "----------------------------------------------------------------------------------------------------------------\n",
      "Validation Dataframe for Technique Classification\n",
      "                                                text  \\\n",
      "1  Mostly because <BOS> the country would not las...   \n",
      "2  Lyndon Johnson <BOS> gets Earl Warren and Sen....   \n",
      "4  It must be exacted from him directly in order ...   \n",
      "5  Is it any wonder that priests and laity alike ...   \n",
      "6  Health workers have been asked to work with co...   \n",
      "\n",
      "                       label  \n",
      "1  causal_oversimplification  \n",
      "2   appeal_to_fear_prejudice  \n",
      "4                 repetition  \n",
      "5      name_calling,labeling  \n",
      "6            loaded_language  \n",
      "----------------------------------------------------------------------------------------------------------------\n",
      "reverse_index for Technique Classification 8 Labels:\n",
      " {0: 'appeal_to_fear_prejudice', 1: 'causal_oversimplification', 2: 'doubt', 3: 'exaggeration,minimisation', 4: 'flag_waving', 5: 'loaded_language', 6: 'name_calling,labeling', 7: 'repetition'}\n"
     ]
    }
   ],
   "source": [
    "train_df_tc,validation_df_tc,labels,reverse_index = technique_classification_df()  # Calling the technique_classification_df to get the data filtered according to technique classification task"
   ]
  },
  {
   "cell_type": "markdown",
   "metadata": {
    "id": "xhs9V6D5QUBO"
   },
   "source": [
    "We will use bert-base-cased in the technique classsification task as to detect different propoganda techniques case of text matters."
   ]
  },
  {
   "cell_type": "markdown",
   "metadata": {
    "id": "jVOw3lILQh0F"
   },
   "source": [
    "\"Below code and functions used in technique classification for BERT evaluate, prepare_inputs and train are taken from code available in the 6th Advance NLP Lab Sussex University and modidfied according to the given task.\"\n",
    "\n",
    "(Source: https://canvas.sussex.ac.uk/courses/22822/pages/week-slash-topic-6-transfer-learning-with-large-pretrained-models?wrap=1)"
   ]
  },
  {
   "cell_type": "code",
   "execution_count": 88,
   "metadata": {
    "colab": {
     "base_uri": "https://localhost:8080/",
     "height": 0,
     "referenced_widgets": [
      "cc63eecd75294630924c58f96c3fbfac",
      "310a1b56acac47c982700e64748dedf0",
      "b39367d47a244ec0a03b790cac7fddc1",
      "9cd257ebab09415e96b84152fd9c6471",
      "e0e331fe8dc647d985a1371ec4dce65a",
      "b65d738f69484a6bbf5e08719e92a05f",
      "ae15a8f6a32a40e4b9815352d088baca",
      "8697138e4f164ef7ab68e639b7157814",
      "95b70f468a8d450f89de1da6cba2485e",
      "7c666f269618491f9fa7bc663885b31c",
      "5d2eeb85b3684ef0beabce3973622986",
      "7b794e50de864ac49ff94e1b682e36a1",
      "645c9206b42c409b983b1ffc9263ddb6",
      "08223cc7e5394300bce868e470d8fb29",
      "5bb8efc87a564648a79db7aebb2078d7",
      "548476f8098a42a8a2092c483da79f57",
      "e5bd69ba2b2b4a92bc67e5ef5e444ca0",
      "2da04ff757354e68b504dbfe27289ca2",
      "be39baa8ab634c04a94f9f52eaf02d9e",
      "71c8915947fa4b69a45526a2ef41f6b1",
      "bc877714c5ad40cb95ee4f929f98d561",
      "81b60d3428ff48a28ce39b06dcbd2e7a",
      "4f3047332c014c7db98f21f4eca04e61",
      "fce46609e0034c72a52e4921811b449c",
      "16d4417b12724289916067c329454cc1",
      "44ff8f6dab2a47889d0e5158f65992d9",
      "880b0408182e41f5b860eea0dad6fd8e",
      "437855c08ad447c9810fd1aaefa784f6",
      "79effa1b532048b78907fc0fa7cd0944",
      "0f418500825f405b800fec5e845ecac3",
      "d0514654ba1a4aacbe9fee360242fb7a",
      "79ae0cef20804e93920e252ba3ed5390",
      "0e7aa4bf1c82491f8ff5968f82440f25"
     ]
    },
    "id": "pXYzN7VQFfT7",
    "outputId": "3ad23aec-8c07-49b7-9219-6188e701a2ea"
   },
   "outputs": [
    {
     "data": {
      "application/vnd.jupyter.widget-view+json": {
       "model_id": "cc63eecd75294630924c58f96c3fbfac",
       "version_major": 2,
       "version_minor": 0
      },
      "text/plain": [
       "Downloading (…)solve/main/vocab.txt:   0%|          | 0.00/213k [00:00<?, ?B/s]"
      ]
     },
     "metadata": {},
     "output_type": "display_data"
    },
    {
     "data": {
      "application/vnd.jupyter.widget-view+json": {
       "model_id": "7b794e50de864ac49ff94e1b682e36a1",
       "version_major": 2,
       "version_minor": 0
      },
      "text/plain": [
       "Downloading (…)okenizer_config.json:   0%|          | 0.00/29.0 [00:00<?, ?B/s]"
      ]
     },
     "metadata": {},
     "output_type": "display_data"
    },
    {
     "data": {
      "application/vnd.jupyter.widget-view+json": {
       "model_id": "4f3047332c014c7db98f21f4eca04e61",
       "version_major": 2,
       "version_minor": 0
      },
      "text/plain": [
       "Downloading (…)lve/main/config.json:   0%|          | 0.00/570 [00:00<?, ?B/s]"
      ]
     },
     "metadata": {},
     "output_type": "display_data"
    }
   ],
   "source": [
    "\"\"\"\n",
    "This function is used to prepare Dataset for BERT, convert the categorical labels with numerical labels \n",
    "\n",
    "\"\"\"\n",
    "tokenizer=BertTokenizer.from_pretrained('bert-base-cased') # Load bert-base-cased\n",
    "\n",
    "class Dataset(torch.utils.data.Dataset):\n",
    "    \n",
    "    def __init__(self,df,column='text'):\n",
    "        self.labels=[labels[label] for label in df['label']]\n",
    "        self.texts=[tokenizer(text,padding='max_length',max_length=256,truncation=True,return_tensors=\"pt\") for text in df[column]] #padding to specific length\n",
    "    \n",
    "    def classes(self):\n",
    "        return self.labels\n",
    "    \n",
    "    def __len__(self):\n",
    "        return len(self.labels)\n",
    "    \n",
    "    def get_batch_labels(self,idx):\n",
    "        return np.array(self.labels[idx])\n",
    "    \n",
    "    def get_batch_texts(self,idx):\n",
    "        return self.texts[idx]\n",
    "    \n",
    "    def __getitem__(self,idx):                         #Returns a batch of tokenized texts and corresponding labels.\n",
    "        batch_texts=self.get_batch_texts(idx)\n",
    "        batch_y=self.get_batch_labels(idx)\n",
    "        \n",
    "        return batch_texts,batch_y\n",
    "    \n",
    "\n",
    "train_data=Dataset(train_df_tc)\n",
    "test_data=Dataset(validation_df_tc)"
   ]
  },
  {
   "cell_type": "code",
   "execution_count": 91,
   "metadata": {
    "id": "sSlPxd8uFfJQ"
   },
   "outputs": [],
   "source": [
    "my_input= train_data.texts[0].input_ids #extract the firstinput IDs of the first text sample in the train_data"
   ]
  },
  {
   "cell_type": "code",
   "execution_count": null,
   "metadata": {
    "id": "O3tKRjltFfDu"
   },
   "outputs": [],
   "source": [
    "my_tokens=tokenizer.convert_ids_to_tokens(my_input[0])"
   ]
  },
  {
   "cell_type": "code",
   "execution_count": 94,
   "metadata": {
    "colab": {
     "base_uri": "https://localhost:8080/"
    },
    "id": "Dw7l6E-pFfBE",
    "outputId": "abe048e2-c658-4f22-89d6-32a0ba376f71"
   },
   "outputs": [
    {
     "name": "stdout",
     "output_type": "stream",
     "text": [
      "GPU acceleration enabled\n"
     ]
    }
   ],
   "source": [
    "use_cuda=torch.cuda.is_available() # PyTorch which checks whether a GPU is available for use. It returns a boolean value of True if a GPU is available, and False if not.\n",
    "if use_cuda:\n",
    "  print(\"GPU acceleration enabled\")\n",
    "else:\n",
    "  print(\"GPU acceleration NOT enabled.  If using Colab, have you changed the runtype type and selected GPU as the hardware accelerator?\")\n",
    "device=torch.device(\"cuda\" if use_cuda else \"cpu\") #This code snippet is a common pattern used in PyTorch to allow for easy switching between CPU and GPU computation, depending on whether a GPU is available or not."
   ]
  },
  {
   "cell_type": "code",
   "execution_count": 95,
   "metadata": {
    "colab": {
     "base_uri": "https://localhost:8080/",
     "height": 1000,
     "referenced_widgets": [
      "3ae86cd629d54864b873c0ab0f6e476f",
      "c7a81bce8a8c400fabc9000d9b5c1dce",
      "876bba4582834ace869d223c1ed3bf98",
      "f3dd016ac27146c0ad3d009328327a7a",
      "9d5c2c789f4a48219deb141880e44afb",
      "32fbff6377e443b98874d41fd28fc7c2",
      "37d3f50f106c4fb49903dabb217de4b3",
      "e8fe4810f2cc4acea178e366608c50bb",
      "9185f9531914426596ad5f9f3d6590d5",
      "7fe43dc49838440480ad65accbaa6da1",
      "6a47a811f61e4e61b0547919fed84fac"
     ]
    },
    "id": "drfMed8aFe38",
    "outputId": "0b69d253-8e7b-466e-8e4b-dfd8320c40b5"
   },
   "outputs": [
    {
     "data": {
      "application/vnd.jupyter.widget-view+json": {
       "model_id": "3ae86cd629d54864b873c0ab0f6e476f",
       "version_major": 2,
       "version_minor": 0
      },
      "text/plain": [
       "Downloading pytorch_model.bin:   0%|          | 0.00/436M [00:00<?, ?B/s]"
      ]
     },
     "metadata": {},
     "output_type": "display_data"
    },
    {
     "name": "stderr",
     "output_type": "stream",
     "text": [
      "Some weights of the model checkpoint at bert-base-cased were not used when initializing BertModel: ['cls.predictions.transform.dense.bias', 'cls.seq_relationship.bias', 'cls.predictions.decoder.weight', 'cls.predictions.transform.dense.weight', 'cls.seq_relationship.weight', 'cls.predictions.transform.LayerNorm.bias', 'cls.predictions.transform.LayerNorm.weight', 'cls.predictions.bias']\n",
      "- This IS expected if you are initializing BertModel from the checkpoint of a model trained on another task or with another architecture (e.g. initializing a BertForSequenceClassification model from a BertForPreTraining model).\n",
      "- This IS NOT expected if you are initializing BertModel from the checkpoint of a model that you expect to be exactly identical (initializing a BertForSequenceClassification model from a BertForSequenceClassification model).\n"
     ]
    },
    {
     "name": "stdout",
     "output_type": "stream",
     "text": [
      "tensor([[  101,   789,  1247,  1110,   133,   139,  9025,   135,  2839,   170,\n",
      "          6756,  3029,  2640,   133,   142,  9025,   135,  1115,   164,  3279,\n",
      "         23670,  7308,   166, 11942,   150,  1665,  1658, 26823,  1105,  7803,\n",
      "         22210,  1926,  1209,  2621,  1142,  1645,  1106,  1243,  1763,  1103,\n",
      "         25492,   118, 13520,   790, 10974,  4912,  1170, 11905,  2295,   117,\n",
      "          1163,  1103,  1884,   118,  3249,  1104,  9314, 14697, 13329,  1830,\n",
      "         13791,  1150,  1144,  1691,  1196,  1103,  3732,  2031,  1242,  1551,\n",
      "           119,   102,     0,     0,     0,     0,     0,     0,     0,     0,\n",
      "             0,     0,     0,     0,     0,     0,     0,     0,     0,     0,\n",
      "             0,     0,     0,     0,     0,     0,     0,     0,     0,     0,\n",
      "             0,     0,     0,     0,     0,     0,     0,     0,     0,     0,\n",
      "             0,     0,     0,     0,     0,     0,     0,     0,     0,     0,\n",
      "             0,     0,     0,     0,     0,     0,     0,     0,     0,     0,\n",
      "             0,     0,     0,     0,     0,     0,     0,     0,     0,     0,\n",
      "             0,     0,     0,     0,     0,     0,     0,     0,     0,     0,\n",
      "             0,     0,     0,     0,     0,     0,     0,     0,     0,     0,\n",
      "             0,     0,     0,     0,     0,     0,     0,     0,     0,     0,\n",
      "             0,     0,     0,     0,     0,     0,     0,     0,     0,     0,\n",
      "             0,     0,     0,     0,     0,     0,     0,     0,     0,     0,\n",
      "             0,     0,     0,     0,     0,     0,     0,     0,     0,     0,\n",
      "             0,     0,     0,     0,     0,     0,     0,     0,     0,     0,\n",
      "             0,     0,     0,     0,     0,     0,     0,     0,     0,     0,\n",
      "             0,     0,     0,     0,     0,     0,     0,     0,     0,     0,\n",
      "             0,     0,     0,     0,     0,     0,     0,     0,     0,     0,\n",
      "             0,     0,     0,     0,     0,     0,     0,     0,     0,     0,\n",
      "             0,     0,     0,     0,     0,     0],\n",
      "        [  101,  2009,   117,   133,   139,  9025,   135,  1175,   787,   188,\n",
      "          1178,  1141,  1936,  7108,   133,   142,  9025,   135,   131,  1103,\n",
      "          2307, 12232,  1761,   119,   102,     0,     0,     0,     0,     0,\n",
      "             0,     0,     0,     0,     0,     0,     0,     0,     0,     0,\n",
      "             0,     0,     0,     0,     0,     0,     0,     0,     0,     0,\n",
      "             0,     0,     0,     0,     0,     0,     0,     0,     0,     0,\n",
      "             0,     0,     0,     0,     0,     0,     0,     0,     0,     0,\n",
      "             0,     0,     0,     0,     0,     0,     0,     0,     0,     0,\n",
      "             0,     0,     0,     0,     0,     0,     0,     0,     0,     0,\n",
      "             0,     0,     0,     0,     0,     0,     0,     0,     0,     0,\n",
      "             0,     0,     0,     0,     0,     0,     0,     0,     0,     0,\n",
      "             0,     0,     0,     0,     0,     0,     0,     0,     0,     0,\n",
      "             0,     0,     0,     0,     0,     0,     0,     0,     0,     0,\n",
      "             0,     0,     0,     0,     0,     0,     0,     0,     0,     0,\n",
      "             0,     0,     0,     0,     0,     0,     0,     0,     0,     0,\n",
      "             0,     0,     0,     0,     0,     0,     0,     0,     0,     0,\n",
      "             0,     0,     0,     0,     0,     0,     0,     0,     0,     0,\n",
      "             0,     0,     0,     0,     0,     0,     0,     0,     0,     0,\n",
      "             0,     0,     0,     0,     0,     0,     0,     0,     0,     0,\n",
      "             0,     0,     0,     0,     0,     0,     0,     0,     0,     0,\n",
      "             0,     0,     0,     0,     0,     0,     0,     0,     0,     0,\n",
      "             0,     0,     0,     0,     0,     0,     0,     0,     0,     0,\n",
      "             0,     0,     0,     0,     0,     0,     0,     0,     0,     0,\n",
      "             0,     0,     0,     0,     0,     0,     0,     0,     0,     0,\n",
      "             0,     0,     0,     0,     0,     0,     0,     0,     0,     0,\n",
      "             0,     0,     0,     0,     0,     0]], device='cuda:0') tensor([[[1, 1, 1, 1, 1, 1, 1, 1, 1, 1, 1, 1, 1, 1, 1, 1, 1, 1, 1, 1, 1, 1, 1,\n",
      "          1, 1, 1, 1, 1, 1, 1, 1, 1, 1, 1, 1, 1, 1, 1, 1, 1, 1, 1, 1, 1, 1, 1,\n",
      "          1, 1, 1, 1, 1, 1, 1, 1, 1, 1, 1, 1, 1, 1, 1, 1, 1, 1, 1, 1, 1, 1, 1,\n",
      "          1, 1, 1, 0, 0, 0, 0, 0, 0, 0, 0, 0, 0, 0, 0, 0, 0, 0, 0, 0, 0, 0, 0,\n",
      "          0, 0, 0, 0, 0, 0, 0, 0, 0, 0, 0, 0, 0, 0, 0, 0, 0, 0, 0, 0, 0, 0, 0,\n",
      "          0, 0, 0, 0, 0, 0, 0, 0, 0, 0, 0, 0, 0, 0, 0, 0, 0, 0, 0, 0, 0, 0, 0,\n",
      "          0, 0, 0, 0, 0, 0, 0, 0, 0, 0, 0, 0, 0, 0, 0, 0, 0, 0, 0, 0, 0, 0, 0,\n",
      "          0, 0, 0, 0, 0, 0, 0, 0, 0, 0, 0, 0, 0, 0, 0, 0, 0, 0, 0, 0, 0, 0, 0,\n",
      "          0, 0, 0, 0, 0, 0, 0, 0, 0, 0, 0, 0, 0, 0, 0, 0, 0, 0, 0, 0, 0, 0, 0,\n",
      "          0, 0, 0, 0, 0, 0, 0, 0, 0, 0, 0, 0, 0, 0, 0, 0, 0, 0, 0, 0, 0, 0, 0,\n",
      "          0, 0, 0, 0, 0, 0, 0, 0, 0, 0, 0, 0, 0, 0, 0, 0, 0, 0, 0, 0, 0, 0, 0,\n",
      "          0, 0, 0]],\n",
      "\n",
      "        [[1, 1, 1, 1, 1, 1, 1, 1, 1, 1, 1, 1, 1, 1, 1, 1, 1, 1, 1, 1, 1, 1, 1,\n",
      "          1, 1, 0, 0, 0, 0, 0, 0, 0, 0, 0, 0, 0, 0, 0, 0, 0, 0, 0, 0, 0, 0, 0,\n",
      "          0, 0, 0, 0, 0, 0, 0, 0, 0, 0, 0, 0, 0, 0, 0, 0, 0, 0, 0, 0, 0, 0, 0,\n",
      "          0, 0, 0, 0, 0, 0, 0, 0, 0, 0, 0, 0, 0, 0, 0, 0, 0, 0, 0, 0, 0, 0, 0,\n",
      "          0, 0, 0, 0, 0, 0, 0, 0, 0, 0, 0, 0, 0, 0, 0, 0, 0, 0, 0, 0, 0, 0, 0,\n",
      "          0, 0, 0, 0, 0, 0, 0, 0, 0, 0, 0, 0, 0, 0, 0, 0, 0, 0, 0, 0, 0, 0, 0,\n",
      "          0, 0, 0, 0, 0, 0, 0, 0, 0, 0, 0, 0, 0, 0, 0, 0, 0, 0, 0, 0, 0, 0, 0,\n",
      "          0, 0, 0, 0, 0, 0, 0, 0, 0, 0, 0, 0, 0, 0, 0, 0, 0, 0, 0, 0, 0, 0, 0,\n",
      "          0, 0, 0, 0, 0, 0, 0, 0, 0, 0, 0, 0, 0, 0, 0, 0, 0, 0, 0, 0, 0, 0, 0,\n",
      "          0, 0, 0, 0, 0, 0, 0, 0, 0, 0, 0, 0, 0, 0, 0, 0, 0, 0, 0, 0, 0, 0, 0,\n",
      "          0, 0, 0, 0, 0, 0, 0, 0, 0, 0, 0, 0, 0, 0, 0, 0, 0, 0, 0, 0, 0, 0, 0,\n",
      "          0, 0, 0]]], device='cuda:0') tensor([3, 1], device='cuda:0')\n",
      "2\n"
     ]
    },
    {
     "data": {
      "text/plain": [
       "tensor([[-0.6804,  0.3530,  0.9992,  ...,  0.9998, -0.7557,  0.9596],\n",
       "        [-0.6011,  0.3628,  0.9996,  ...,  0.9999, -0.8586,  0.9866]],\n",
       "       device='cuda:0', grad_fn=<TanhBackward0>)"
      ]
     },
     "execution_count": 95,
     "metadata": {},
     "output_type": "execute_result"
    }
   ],
   "source": [
    "train_dataloader=torch.utils.data.DataLoader(train_data,batch_size=2,shuffle=True)\n",
    "bert=BertModel.from_pretrained('bert-base-cased').to(device)        # pre-trained bert cased model moved to device\n",
    "for train_input,train_label in train_dataloader:                   #Extract input and labels from train dataloader  \n",
    "    input_id,mask,label=prepare_inputs(train_input,train_label,device)  #Prepare inputs\n",
    "    output=bert(input_ids=input_id,attention_mask=mask,return_dict=False)  #Three seperate output tensors from bert is given as output\n",
    "    break\n",
    "\n",
    "print(input_id,mask,label)\n",
    "print(len(output))"
   ]
  },
  {
   "cell_type": "markdown",
   "metadata": {
    "id": "FyLXYtxFRyvq"
   },
   "source": [
    "BERT Base cased strcuture\n",
    "\n",
    "```\n",
    "       [ Input ]\n",
    "          |\n",
    "     [ BERT Model ]\n",
    "          |\n",
    "   [ Pooled Output ]\n",
    "          |\n",
    "    [ Dropout Layer ]\n",
    "          |\n",
    "    [ Linear Layer ]\n",
    "          |\n",
    "    [ ReLU Layer ]\n",
    "          |\n",
    "    [ SoftMax Layer ]\n",
    "          |\n",
    "      [ Output ]\n",
    "\n",
    "```"
   ]
  },
  {
   "cell_type": "code",
   "execution_count": 96,
   "metadata": {
    "id": "VL6349FkFeyb"
   },
   "outputs": [],
   "source": [
    "\"\"\"\n",
    "This function is used to put the simple classification layer on top of BERT\n",
    "\n",
    "\"\"\"\n",
    "class BertClassifier(nn.Module):\n",
    "    \n",
    "    def __init__(self,dropout=0.5,num_classes=8):\n",
    "        \n",
    "        super(BertClassifier,self).__init__()\n",
    "        \n",
    "        self.bert=BertModel.from_pretrained('bert-base-cased') # Using Bert model cased version because for this task case of text matters\n",
    "        self.dropout=nn.Dropout(dropout)                       #dropout layer with 50% dropout\n",
    "        self.linear=nn.Linear(768,num_classes)                   #Linear layer  fully connected with 768 input features\n",
    "        self.relu=nn.ReLU()                                      #Relu Activation Function\n",
    "        self.softmax = nn.Softmax(dim=1)                    #Softmax with 8 classes\n",
    "        \n",
    "    def forward(self,input_id,mask):\n",
    "        \n",
    "        last_hidden_layer,pooled_output = self.bert(input_ids=input_id,attention_mask=mask,return_dict=False)\n",
    "        dropout_output=self.dropout(pooled_output)  #dropout layer with 50% dropout\n",
    "        linear_output=self.linear(dropout_output) #Linear Layer\n",
    "        relu_output = self.relu(linear_output)  #Pass the output to relu\n",
    "        final_layer = self.softmax(relu_output)  #Pass the output from relu to Softmax to get the final output\n",
    "        \n",
    "        return final_layer"
   ]
  },
  {
   "cell_type": "code",
   "execution_count": 97,
   "metadata": {
    "colab": {
     "base_uri": "https://localhost:8080/"
    },
    "id": "K01NT0zoFes5",
    "outputId": "bff8323a-ebaa-4860-e5a2-bf095ad484eb"
   },
   "outputs": [
    {
     "name": "stderr",
     "output_type": "stream",
     "text": [
      "Some weights of the model checkpoint at bert-base-cased were not used when initializing BertModel: ['cls.predictions.transform.dense.bias', 'cls.seq_relationship.bias', 'cls.predictions.decoder.weight', 'cls.predictions.transform.dense.weight', 'cls.seq_relationship.weight', 'cls.predictions.transform.LayerNorm.bias', 'cls.predictions.transform.LayerNorm.weight', 'cls.predictions.bias']\n",
      "- This IS expected if you are initializing BertModel from the checkpoint of a model trained on another task or with another architecture (e.g. initializing a BertForSequenceClassification model from a BertForPreTraining model).\n",
      "- This IS NOT expected if you are initializing BertModel from the checkpoint of a model that you expect to be exactly identical (initializing a BertForSequenceClassification model from a BertForSequenceClassification model).\n"
     ]
    }
   ],
   "source": [
    "EPOCHS=10                                               #Number of epochs \n",
    "model=BertClassifier(num_classes=len(labels.keys()))   #Givinng the model to be used \n",
    "LR=1e-5                                                  #Learning Rate for model"
   ]
  },
  {
   "cell_type": "code",
   "execution_count": 98,
   "metadata": {
    "colab": {
     "base_uri": "https://localhost:8080/"
    },
    "id": "Wqz_rXnIqwlx",
    "outputId": "0c25c957-09a4-453d-e3d4-2f3b88557b52"
   },
   "outputs": [
    {
     "name": "stderr",
     "output_type": "stream",
     "text": [
      "100%|██████████| 612/612 [01:14<00:00,  8.23it/s]\n"
     ]
    },
    {
     "name": "stdout",
     "output_type": "stream",
     "text": [
      "Epochs: 1 | Train Loss: 1.038 | Train Accuracy: 0.150\n",
      "Val loss: 1.033 | Val Accuracy: 0.219\n"
     ]
    },
    {
     "name": "stderr",
     "output_type": "stream",
     "text": [
      "100%|██████████| 612/612 [01:15<00:00,  8.13it/s]\n"
     ]
    },
    {
     "name": "stdout",
     "output_type": "stream",
     "text": [
      "Epochs: 2 | Train Loss: 1.025 | Train Accuracy: 0.194\n",
      "Val loss: 1.022 | Val Accuracy: 0.229\n"
     ]
    },
    {
     "name": "stderr",
     "output_type": "stream",
     "text": [
      "100%|██████████| 612/612 [01:15<00:00,  8.16it/s]\n"
     ]
    },
    {
     "name": "stdout",
     "output_type": "stream",
     "text": [
      "Epochs: 3 | Train Loss: 1.014 | Train Accuracy: 0.234\n",
      "Val loss: 1.016 | Val Accuracy: 0.226\n"
     ]
    },
    {
     "name": "stderr",
     "output_type": "stream",
     "text": [
      "100%|██████████| 612/612 [01:14<00:00,  8.23it/s]\n"
     ]
    },
    {
     "name": "stdout",
     "output_type": "stream",
     "text": [
      "Epochs: 4 | Train Loss: 0.991 | Train Accuracy: 0.262\n",
      "Val loss: 1.003 | Val Accuracy: 0.258\n"
     ]
    },
    {
     "name": "stderr",
     "output_type": "stream",
     "text": [
      "100%|██████████| 612/612 [01:14<00:00,  8.22it/s]\n"
     ]
    },
    {
     "name": "stdout",
     "output_type": "stream",
     "text": [
      "Epochs: 5 | Train Loss: 0.965 | Train Accuracy: 0.362\n",
      "Val loss: 0.972 | Val Accuracy: 0.358\n"
     ]
    },
    {
     "name": "stderr",
     "output_type": "stream",
     "text": [
      "100%|██████████| 612/612 [01:14<00:00,  8.23it/s]\n"
     ]
    },
    {
     "name": "stdout",
     "output_type": "stream",
     "text": [
      "Epochs: 6 | Train Loss: 0.914 | Train Accuracy: 0.478\n",
      "Val loss: 0.921 | Val Accuracy: 0.459\n"
     ]
    },
    {
     "name": "stderr",
     "output_type": "stream",
     "text": [
      "100%|██████████| 612/612 [01:14<00:00,  8.22it/s]\n"
     ]
    },
    {
     "name": "stdout",
     "output_type": "stream",
     "text": [
      "Epochs: 7 | Train Loss: 0.848 | Train Accuracy: 0.617\n",
      "Val loss: 0.898 | Val Accuracy: 0.487\n"
     ]
    },
    {
     "name": "stderr",
     "output_type": "stream",
     "text": [
      "100%|██████████| 612/612 [01:14<00:00,  8.22it/s]\n"
     ]
    },
    {
     "name": "stdout",
     "output_type": "stream",
     "text": [
      "Epochs: 8 | Train Loss: 0.789 | Train Accuracy: 0.725\n",
      "Val loss: 0.888 | Val Accuracy: 0.495\n"
     ]
    },
    {
     "name": "stderr",
     "output_type": "stream",
     "text": [
      "100%|██████████| 612/612 [01:14<00:00,  8.22it/s]\n"
     ]
    },
    {
     "name": "stdout",
     "output_type": "stream",
     "text": [
      "Epochs: 9 | Train Loss: 0.761 | Train Accuracy: 0.766\n",
      "Val loss: 0.899 | Val Accuracy: 0.459\n"
     ]
    },
    {
     "name": "stderr",
     "output_type": "stream",
     "text": [
      "100%|██████████| 612/612 [01:14<00:00,  8.22it/s]\n"
     ]
    },
    {
     "name": "stdout",
     "output_type": "stream",
     "text": [
      "Epochs: 10 | Train Loss: 0.736 | Train Accuracy: 0.813\n",
      "Val loss: 0.866 | Val Accuracy: 0.538\n"
     ]
    }
   ],
   "source": [
    "train(model,train_data,test_data,LR,EPOCHS)             #Train the model"
   ]
  },
  {
   "cell_type": "code",
   "execution_count": 99,
   "metadata": {
    "id": "5DSrj7oEKyQO"
   },
   "outputs": [],
   "source": [
    "output_dir=\"/content/drive/MyDrive/Sussex/SEM_2/Advance_NLP/Assignment/bert-base-cased-propogandatechniqueclassifier\"\n",
    "torch.save(model,output_dir) #Save model in drive"
   ]
  },
  {
   "cell_type": "code",
   "execution_count": 100,
   "metadata": {
    "id": "8mTss3fSKyOK"
   },
   "outputs": [],
   "source": [
    "input_dir=\"/content/drive/MyDrive/Sussex/SEM_2/Advance_NLP/Assignment/bert-base-cased-propogandatechniqueclassifier\"\n",
    "complete_model=torch.load(input_dir)#Load model from drive"
   ]
  },
  {
   "cell_type": "code",
   "execution_count": 101,
   "metadata": {
    "colab": {
     "base_uri": "https://localhost:8080/"
    },
    "id": "bOwtM0iGKyIV",
    "outputId": "13a8acfb-3247-41f6-db10-51ba3ec21abf"
   },
   "outputs": [
    {
     "name": "stderr",
     "output_type": "stream",
     "text": [
      " 38%|███▊      | 53/140 [00:02<00:04, 18.22it/s]"
     ]
    },
    {
     "name": "stdout",
     "output_type": "stream",
     "text": [
      "Accuracy so far =  0.530\n"
     ]
    },
    {
     "name": "stderr",
     "output_type": "stream",
     "text": [
      " 74%|███████▍  | 104/140 [00:04<00:01, 27.78it/s]"
     ]
    },
    {
     "name": "stdout",
     "output_type": "stream",
     "text": [
      "Accuracy so far =  0.510\n"
     ]
    },
    {
     "name": "stderr",
     "output_type": "stream",
     "text": [
      "100%|██████████| 140/140 [00:06<00:00, 22.62it/s]"
     ]
    },
    {
     "name": "stdout",
     "output_type": "stream",
     "text": [
      "Test accuracy:  0.538\n"
     ]
    },
    {
     "name": "stderr",
     "output_type": "stream",
     "text": [
      "\n"
     ]
    }
   ],
   "source": [
    "predictions=evaluate(model, test_data)  #predict using evaluate function"
   ]
  },
  {
   "cell_type": "code",
   "execution_count": 102,
   "metadata": {
    "colab": {
     "base_uri": "https://localhost:8080/",
     "height": 1000
    },
    "id": "dcukaov_KyF8",
    "outputId": "08254d7c-83eb-4748-fbf7-73af20d60b38"
   },
   "outputs": [
    {
     "data": {
      "text/html": [
       "\n",
       "  <div id=\"df-fc215a12-9320-4261-98bc-54cb69efb9f9\">\n",
       "    <div class=\"colab-df-container\">\n",
       "      <div>\n",
       "<style scoped>\n",
       "    .dataframe tbody tr th:only-of-type {\n",
       "        vertical-align: middle;\n",
       "    }\n",
       "\n",
       "    .dataframe tbody tr th {\n",
       "        vertical-align: top;\n",
       "    }\n",
       "\n",
       "    .dataframe thead th {\n",
       "        text-align: right;\n",
       "    }\n",
       "</style>\n",
       "<table border=\"1\" class=\"dataframe\">\n",
       "  <thead>\n",
       "    <tr style=\"text-align: right;\">\n",
       "      <th></th>\n",
       "      <th>text</th>\n",
       "      <th>label</th>\n",
       "      <th>prediction</th>\n",
       "    </tr>\n",
       "  </thead>\n",
       "  <tbody>\n",
       "    <tr>\n",
       "      <th>1</th>\n",
       "      <td>Mostly because &lt;BOS&gt; the country would not las...</td>\n",
       "      <td>causal_oversimplification</td>\n",
       "      <td>flag_waving</td>\n",
       "    </tr>\n",
       "    <tr>\n",
       "      <th>2</th>\n",
       "      <td>Lyndon Johnson &lt;BOS&gt; gets Earl Warren and Sen....</td>\n",
       "      <td>appeal_to_fear_prejudice</td>\n",
       "      <td>causal_oversimplification</td>\n",
       "    </tr>\n",
       "    <tr>\n",
       "      <th>4</th>\n",
       "      <td>It must be exacted from him directly in order ...</td>\n",
       "      <td>repetition</td>\n",
       "      <td>name_calling,labeling</td>\n",
       "    </tr>\n",
       "    <tr>\n",
       "      <th>5</th>\n",
       "      <td>Is it any wonder that priests and laity alike ...</td>\n",
       "      <td>name_calling,labeling</td>\n",
       "      <td>name_calling,labeling</td>\n",
       "    </tr>\n",
       "    <tr>\n",
       "      <th>6</th>\n",
       "      <td>Health workers have been asked to work with co...</td>\n",
       "      <td>loaded_language</td>\n",
       "      <td>flag_waving</td>\n",
       "    </tr>\n",
       "    <tr>\n",
       "      <th>8</th>\n",
       "      <td>Trump began his remarks by setting out &lt;BOS&gt; I...</td>\n",
       "      <td>flag_waving</td>\n",
       "      <td>flag_waving</td>\n",
       "    </tr>\n",
       "    <tr>\n",
       "      <th>9</th>\n",
       "      <td>&lt;BOS&gt; Now, the pope’s reply to my testimony wa...</td>\n",
       "      <td>doubt</td>\n",
       "      <td>causal_oversimplification</td>\n",
       "    </tr>\n",
       "    <tr>\n",
       "      <th>16</th>\n",
       "      <td>For Trump, that amounted to a &lt;BOS&gt; triumphant...</td>\n",
       "      <td>loaded_language</td>\n",
       "      <td>loaded_language</td>\n",
       "    </tr>\n",
       "    <tr>\n",
       "      <th>18</th>\n",
       "      <td>“It’s time for &lt;BOS&gt; our &lt;EOS&gt; leaders in Wash...</td>\n",
       "      <td>flag_waving</td>\n",
       "      <td>flag_waving</td>\n",
       "    </tr>\n",
       "    <tr>\n",
       "      <th>19</th>\n",
       "      <td>&lt;BOS&gt; This will not only serve to bolster the ...</td>\n",
       "      <td>appeal_to_fear_prejudice</td>\n",
       "      <td>appeal_to_fear_prejudice</td>\n",
       "    </tr>\n",
       "    <tr>\n",
       "      <th>20</th>\n",
       "      <td>&lt;BOS&gt; The local tradition is said to be one of...</td>\n",
       "      <td>causal_oversimplification</td>\n",
       "      <td>causal_oversimplification</td>\n",
       "    </tr>\n",
       "    <tr>\n",
       "      <th>22</th>\n",
       "      <td>In Alexandra, Virginia – &lt;BOS&gt; the suburban ho...</td>\n",
       "      <td>name_calling,labeling</td>\n",
       "      <td>name_calling,labeling</td>\n",
       "    </tr>\n",
       "    <tr>\n",
       "      <th>26</th>\n",
       "      <td>President Trump’s summit Monday with Russian P...</td>\n",
       "      <td>exaggeration,minimisation</td>\n",
       "      <td>loaded_language</td>\n",
       "    </tr>\n",
       "    <tr>\n",
       "      <th>27</th>\n",
       "      <td>The president suggested in a subsequent tweet ...</td>\n",
       "      <td>exaggeration,minimisation</td>\n",
       "      <td>appeal_to_fear_prejudice</td>\n",
       "    </tr>\n",
       "    <tr>\n",
       "      <th>28</th>\n",
       "      <td>And &lt;BOS&gt; we are immensely grateful for all th...</td>\n",
       "      <td>exaggeration,minimisation</td>\n",
       "      <td>flag_waving</td>\n",
       "    </tr>\n",
       "    <tr>\n",
       "      <th>29</th>\n",
       "      <td>The interview began with the statement Bernste...</td>\n",
       "      <td>name_calling,labeling</td>\n",
       "      <td>name_calling,labeling</td>\n",
       "    </tr>\n",
       "    <tr>\n",
       "      <th>33</th>\n",
       "      <td>ICE deportation officers carry out targeted en...</td>\n",
       "      <td>flag_waving</td>\n",
       "      <td>flag_waving</td>\n",
       "    </tr>\n",
       "    <tr>\n",
       "      <th>35</th>\n",
       "      <td>“We do not understand the determination and pr...</td>\n",
       "      <td>loaded_language</td>\n",
       "      <td>name_calling,labeling</td>\n",
       "    </tr>\n",
       "    <tr>\n",
       "      <th>39</th>\n",
       "      <td>&lt;BOS&gt; Why are your bishops silent on a threat ...</td>\n",
       "      <td>doubt</td>\n",
       "      <td>doubt</td>\n",
       "    </tr>\n",
       "    <tr>\n",
       "      <th>44</th>\n",
       "      <td>&lt;BOS&gt; Of course they can't cope &lt;EOS&gt;.</td>\n",
       "      <td>doubt</td>\n",
       "      <td>doubt</td>\n",
       "    </tr>\n",
       "    <tr>\n",
       "      <th>47</th>\n",
       "      <td>&lt;BOS&gt; They had a right &lt;EOS&gt; to find out about...</td>\n",
       "      <td>repetition</td>\n",
       "      <td>exaggeration,minimisation</td>\n",
       "    </tr>\n",
       "    <tr>\n",
       "      <th>48</th>\n",
       "      <td>&lt;BOS&gt; Not a one &lt;EOS&gt;.</td>\n",
       "      <td>exaggeration,minimisation</td>\n",
       "      <td>loaded_language</td>\n",
       "    </tr>\n",
       "    <tr>\n",
       "      <th>49</th>\n",
       "      <td>WASHINGTON, D.C., February 12, 2018 (LifeSiteN...</td>\n",
       "      <td>name_calling,labeling</td>\n",
       "      <td>exaggeration,minimisation</td>\n",
       "    </tr>\n",
       "    <tr>\n",
       "      <th>50</th>\n",
       "      <td>My guess is that one of two things will occur ...</td>\n",
       "      <td>exaggeration,minimisation</td>\n",
       "      <td>loaded_language</td>\n",
       "    </tr>\n",
       "    <tr>\n",
       "      <th>52</th>\n",
       "      <td>&lt;BOS&gt; Instead of reaching out to the greatest ...</td>\n",
       "      <td>doubt</td>\n",
       "      <td>causal_oversimplification</td>\n",
       "    </tr>\n",
       "    <tr>\n",
       "      <th>53</th>\n",
       "      <td>&lt;BOS&gt; Interestingly &lt;EOS&gt;, there are also repo...</td>\n",
       "      <td>doubt</td>\n",
       "      <td>loaded_language</td>\n",
       "    </tr>\n",
       "    <tr>\n",
       "      <th>55</th>\n",
       "      <td>&lt;BOS&gt; We have no choice but to clean up our go...</td>\n",
       "      <td>appeal_to_fear_prejudice</td>\n",
       "      <td>flag_waving</td>\n",
       "    </tr>\n",
       "    <tr>\n",
       "      <th>60</th>\n",
       "      <td>&lt;BOS&gt; Bob Mueller is totally conflicted, and h...</td>\n",
       "      <td>flag_waving</td>\n",
       "      <td>flag_waving</td>\n",
       "    </tr>\n",
       "    <tr>\n",
       "      <th>61</th>\n",
       "      <td>&lt;BOS&gt; The Muslim photographer Askia Muhammad, ...</td>\n",
       "      <td>doubt</td>\n",
       "      <td>causal_oversimplification</td>\n",
       "    </tr>\n",
       "    <tr>\n",
       "      <th>62</th>\n",
       "      <td>SMITH: “… &lt;BOS&gt; We don’t, do we have to let [t...</td>\n",
       "      <td>appeal_to_fear_prejudice</td>\n",
       "      <td>doubt</td>\n",
       "    </tr>\n",
       "    <tr>\n",
       "      <th>63</th>\n",
       "      <td>“I must, in the strongest of terms, ask Mexico...</td>\n",
       "      <td>flag_waving</td>\n",
       "      <td>flag_waving</td>\n",
       "    </tr>\n",
       "    <tr>\n",
       "      <th>65</th>\n",
       "      <td>This was precisely what he’d been saying when ...</td>\n",
       "      <td>exaggeration,minimisation</td>\n",
       "      <td>causal_oversimplification</td>\n",
       "    </tr>\n",
       "    <tr>\n",
       "      <th>68</th>\n",
       "      <td>&lt;BOS&gt; It is on all of us to debunk them and to...</td>\n",
       "      <td>appeal_to_fear_prejudice</td>\n",
       "      <td>flag_waving</td>\n",
       "    </tr>\n",
       "    <tr>\n",
       "      <th>71</th>\n",
       "      <td>At this same rally, a &lt;BOS&gt; white nationalist ...</td>\n",
       "      <td>appeal_to_fear_prejudice</td>\n",
       "      <td>appeal_to_fear_prejudice</td>\n",
       "    </tr>\n",
       "    <tr>\n",
       "      <th>72</th>\n",
       "      <td>&lt;BOS&gt; While most readers with functional criti...</td>\n",
       "      <td>doubt</td>\n",
       "      <td>doubt</td>\n",
       "    </tr>\n",
       "    <tr>\n",
       "      <th>77</th>\n",
       "      <td>&lt;BOS&gt; The American people are not going to put...</td>\n",
       "      <td>flag_waving</td>\n",
       "      <td>flag_waving</td>\n",
       "    </tr>\n",
       "    <tr>\n",
       "      <th>78</th>\n",
       "      <td>&lt;BOS&gt; You have to whip them up into a frenzy i...</td>\n",
       "      <td>exaggeration,minimisation</td>\n",
       "      <td>exaggeration,minimisation</td>\n",
       "    </tr>\n",
       "    <tr>\n",
       "      <th>79</th>\n",
       "      <td>Murillo’s email continues by including another...</td>\n",
       "      <td>flag_waving</td>\n",
       "      <td>flag_waving</td>\n",
       "    </tr>\n",
       "    <tr>\n",
       "      <th>80</th>\n",
       "      <td>&lt;BOS&gt; Irony of ironies &lt;EOS&gt;, he is now reduce...</td>\n",
       "      <td>loaded_language</td>\n",
       "      <td>loaded_language</td>\n",
       "    </tr>\n",
       "    <tr>\n",
       "      <th>84</th>\n",
       "      <td>Many nations, notably England, France, Sweden,...</td>\n",
       "      <td>loaded_language</td>\n",
       "      <td>flag_waving</td>\n",
       "    </tr>\n",
       "    <tr>\n",
       "      <th>85</th>\n",
       "      <td>An outbreak of the plague in Madagascar is spr...</td>\n",
       "      <td>loaded_language</td>\n",
       "      <td>loaded_language</td>\n",
       "    </tr>\n",
       "    <tr>\n",
       "      <th>87</th>\n",
       "      <td>It is possible, but &lt;BOS&gt; we do not know &lt;EOS&gt;.</td>\n",
       "      <td>repetition</td>\n",
       "      <td>doubt</td>\n",
       "    </tr>\n",
       "    <tr>\n",
       "      <th>88</th>\n",
       "      <td>And guess what, &lt;BOS&gt; next time a man is nomin...</td>\n",
       "      <td>appeal_to_fear_prejudice</td>\n",
       "      <td>causal_oversimplification</td>\n",
       "    </tr>\n",
       "    <tr>\n",
       "      <th>90</th>\n",
       "      <td>&lt;BOS&gt; Instead of reaching out to the greatest ...</td>\n",
       "      <td>flag_waving</td>\n",
       "      <td>flag_waving</td>\n",
       "    </tr>\n",
       "    <tr>\n",
       "      <th>91</th>\n",
       "      <td>She failed to lay a glove on a witness whose i...</td>\n",
       "      <td>loaded_language</td>\n",
       "      <td>exaggeration,minimisation</td>\n",
       "    </tr>\n",
       "    <tr>\n",
       "      <th>92</th>\n",
       "      <td>He praised the rapid response from WHO and Mad...</td>\n",
       "      <td>appeal_to_fear_prejudice</td>\n",
       "      <td>appeal_to_fear_prejudice</td>\n",
       "    </tr>\n",
       "    <tr>\n",
       "      <th>94</th>\n",
       "      <td>Thanks to President Trump and the CIA’s decisi...</td>\n",
       "      <td>repetition</td>\n",
       "      <td>flag_waving</td>\n",
       "    </tr>\n",
       "    <tr>\n",
       "      <th>95</th>\n",
       "      <td>&lt;BOS&gt; The enemy is not only at the gates but h...</td>\n",
       "      <td>appeal_to_fear_prejudice</td>\n",
       "      <td>appeal_to_fear_prejudice</td>\n",
       "    </tr>\n",
       "    <tr>\n",
       "      <th>97</th>\n",
       "      <td>This is gross dereliction of duty, and &lt;BOS&gt; w...</td>\n",
       "      <td>flag_waving</td>\n",
       "      <td>appeal_to_fear_prejudice</td>\n",
       "    </tr>\n",
       "    <tr>\n",
       "      <th>99</th>\n",
       "      <td>Should the disease actually spread to the Afri...</td>\n",
       "      <td>appeal_to_fear_prejudice</td>\n",
       "      <td>appeal_to_fear_prejudice</td>\n",
       "    </tr>\n",
       "  </tbody>\n",
       "</table>\n",
       "</div>\n",
       "      <button class=\"colab-df-convert\" onclick=\"convertToInteractive('df-fc215a12-9320-4261-98bc-54cb69efb9f9')\"\n",
       "              title=\"Convert this dataframe to an interactive table.\"\n",
       "              style=\"display:none;\">\n",
       "        \n",
       "  <svg xmlns=\"http://www.w3.org/2000/svg\" height=\"24px\"viewBox=\"0 0 24 24\"\n",
       "       width=\"24px\">\n",
       "    <path d=\"M0 0h24v24H0V0z\" fill=\"none\"/>\n",
       "    <path d=\"M18.56 5.44l.94 2.06.94-2.06 2.06-.94-2.06-.94-.94-2.06-.94 2.06-2.06.94zm-11 1L8.5 8.5l.94-2.06 2.06-.94-2.06-.94L8.5 2.5l-.94 2.06-2.06.94zm10 10l.94 2.06.94-2.06 2.06-.94-2.06-.94-.94-2.06-.94 2.06-2.06.94z\"/><path d=\"M17.41 7.96l-1.37-1.37c-.4-.4-.92-.59-1.43-.59-.52 0-1.04.2-1.43.59L10.3 9.45l-7.72 7.72c-.78.78-.78 2.05 0 2.83L4 21.41c.39.39.9.59 1.41.59.51 0 1.02-.2 1.41-.59l7.78-7.78 2.81-2.81c.8-.78.8-2.07 0-2.86zM5.41 20L4 18.59l7.72-7.72 1.47 1.35L5.41 20z\"/>\n",
       "  </svg>\n",
       "      </button>\n",
       "      \n",
       "  <style>\n",
       "    .colab-df-container {\n",
       "      display:flex;\n",
       "      flex-wrap:wrap;\n",
       "      gap: 12px;\n",
       "    }\n",
       "\n",
       "    .colab-df-convert {\n",
       "      background-color: #E8F0FE;\n",
       "      border: none;\n",
       "      border-radius: 50%;\n",
       "      cursor: pointer;\n",
       "      display: none;\n",
       "      fill: #1967D2;\n",
       "      height: 32px;\n",
       "      padding: 0 0 0 0;\n",
       "      width: 32px;\n",
       "    }\n",
       "\n",
       "    .colab-df-convert:hover {\n",
       "      background-color: #E2EBFA;\n",
       "      box-shadow: 0px 1px 2px rgba(60, 64, 67, 0.3), 0px 1px 3px 1px rgba(60, 64, 67, 0.15);\n",
       "      fill: #174EA6;\n",
       "    }\n",
       "\n",
       "    [theme=dark] .colab-df-convert {\n",
       "      background-color: #3B4455;\n",
       "      fill: #D2E3FC;\n",
       "    }\n",
       "\n",
       "    [theme=dark] .colab-df-convert:hover {\n",
       "      background-color: #434B5C;\n",
       "      box-shadow: 0px 1px 3px 1px rgba(0, 0, 0, 0.15);\n",
       "      filter: drop-shadow(0px 1px 2px rgba(0, 0, 0, 0.3));\n",
       "      fill: #FFFFFF;\n",
       "    }\n",
       "  </style>\n",
       "\n",
       "      <script>\n",
       "        const buttonEl =\n",
       "          document.querySelector('#df-fc215a12-9320-4261-98bc-54cb69efb9f9 button.colab-df-convert');\n",
       "        buttonEl.style.display =\n",
       "          google.colab.kernel.accessAllowed ? 'block' : 'none';\n",
       "\n",
       "        async function convertToInteractive(key) {\n",
       "          const element = document.querySelector('#df-fc215a12-9320-4261-98bc-54cb69efb9f9');\n",
       "          const dataTable =\n",
       "            await google.colab.kernel.invokeFunction('convertToInteractive',\n",
       "                                                     [key], {});\n",
       "          if (!dataTable) return;\n",
       "\n",
       "          const docLinkHtml = 'Like what you see? Visit the ' +\n",
       "            '<a target=\"_blank\" href=https://colab.research.google.com/notebooks/data_table.ipynb>data table notebook</a>'\n",
       "            + ' to learn more about interactive tables.';\n",
       "          element.innerHTML = '';\n",
       "          dataTable['output_type'] = 'display_data';\n",
       "          await google.colab.output.renderOutput(dataTable, element);\n",
       "          const docLink = document.createElement('div');\n",
       "          docLink.innerHTML = docLinkHtml;\n",
       "          element.appendChild(docLink);\n",
       "        }\n",
       "      </script>\n",
       "    </div>\n",
       "  </div>\n",
       "  "
      ],
      "text/plain": [
       "                                                 text  \\\n",
       "1   Mostly because <BOS> the country would not las...   \n",
       "2   Lyndon Johnson <BOS> gets Earl Warren and Sen....   \n",
       "4   It must be exacted from him directly in order ...   \n",
       "5   Is it any wonder that priests and laity alike ...   \n",
       "6   Health workers have been asked to work with co...   \n",
       "8   Trump began his remarks by setting out <BOS> I...   \n",
       "9   <BOS> Now, the pope’s reply to my testimony wa...   \n",
       "16  For Trump, that amounted to a <BOS> triumphant...   \n",
       "18  “It’s time for <BOS> our <EOS> leaders in Wash...   \n",
       "19  <BOS> This will not only serve to bolster the ...   \n",
       "20  <BOS> The local tradition is said to be one of...   \n",
       "22  In Alexandra, Virginia – <BOS> the suburban ho...   \n",
       "26  President Trump’s summit Monday with Russian P...   \n",
       "27  The president suggested in a subsequent tweet ...   \n",
       "28  And <BOS> we are immensely grateful for all th...   \n",
       "29  The interview began with the statement Bernste...   \n",
       "33  ICE deportation officers carry out targeted en...   \n",
       "35  “We do not understand the determination and pr...   \n",
       "39  <BOS> Why are your bishops silent on a threat ...   \n",
       "44            <BOS> Of course they can't cope <EOS>.    \n",
       "47  <BOS> They had a right <EOS> to find out about...   \n",
       "48                            <BOS> Not a one <EOS>.    \n",
       "49  WASHINGTON, D.C., February 12, 2018 (LifeSiteN...   \n",
       "50  My guess is that one of two things will occur ...   \n",
       "52  <BOS> Instead of reaching out to the greatest ...   \n",
       "53  <BOS> Interestingly <EOS>, there are also repo...   \n",
       "55  <BOS> We have no choice but to clean up our go...   \n",
       "60  <BOS> Bob Mueller is totally conflicted, and h...   \n",
       "61  <BOS> The Muslim photographer Askia Muhammad, ...   \n",
       "62  SMITH: “… <BOS> We don’t, do we have to let [t...   \n",
       "63  “I must, in the strongest of terms, ask Mexico...   \n",
       "65  This was precisely what he’d been saying when ...   \n",
       "68  <BOS> It is on all of us to debunk them and to...   \n",
       "71  At this same rally, a <BOS> white nationalist ...   \n",
       "72  <BOS> While most readers with functional criti...   \n",
       "77  <BOS> The American people are not going to put...   \n",
       "78  <BOS> You have to whip them up into a frenzy i...   \n",
       "79  Murillo’s email continues by including another...   \n",
       "80  <BOS> Irony of ironies <EOS>, he is now reduce...   \n",
       "84  Many nations, notably England, France, Sweden,...   \n",
       "85  An outbreak of the plague in Madagascar is spr...   \n",
       "87   It is possible, but <BOS> we do not know <EOS>.    \n",
       "88  And guess what, <BOS> next time a man is nomin...   \n",
       "90  <BOS> Instead of reaching out to the greatest ...   \n",
       "91  She failed to lay a glove on a witness whose i...   \n",
       "92  He praised the rapid response from WHO and Mad...   \n",
       "94  Thanks to President Trump and the CIA’s decisi...   \n",
       "95  <BOS> The enemy is not only at the gates but h...   \n",
       "97  This is gross dereliction of duty, and <BOS> w...   \n",
       "99  Should the disease actually spread to the Afri...   \n",
       "\n",
       "                        label                 prediction  \n",
       "1   causal_oversimplification                flag_waving  \n",
       "2    appeal_to_fear_prejudice  causal_oversimplification  \n",
       "4                  repetition      name_calling,labeling  \n",
       "5       name_calling,labeling      name_calling,labeling  \n",
       "6             loaded_language                flag_waving  \n",
       "8                 flag_waving                flag_waving  \n",
       "9                       doubt  causal_oversimplification  \n",
       "16            loaded_language            loaded_language  \n",
       "18                flag_waving                flag_waving  \n",
       "19   appeal_to_fear_prejudice   appeal_to_fear_prejudice  \n",
       "20  causal_oversimplification  causal_oversimplification  \n",
       "22      name_calling,labeling      name_calling,labeling  \n",
       "26  exaggeration,minimisation            loaded_language  \n",
       "27  exaggeration,minimisation   appeal_to_fear_prejudice  \n",
       "28  exaggeration,minimisation                flag_waving  \n",
       "29      name_calling,labeling      name_calling,labeling  \n",
       "33                flag_waving                flag_waving  \n",
       "35            loaded_language      name_calling,labeling  \n",
       "39                      doubt                      doubt  \n",
       "44                      doubt                      doubt  \n",
       "47                 repetition  exaggeration,minimisation  \n",
       "48  exaggeration,minimisation            loaded_language  \n",
       "49      name_calling,labeling  exaggeration,minimisation  \n",
       "50  exaggeration,minimisation            loaded_language  \n",
       "52                      doubt  causal_oversimplification  \n",
       "53                      doubt            loaded_language  \n",
       "55   appeal_to_fear_prejudice                flag_waving  \n",
       "60                flag_waving                flag_waving  \n",
       "61                      doubt  causal_oversimplification  \n",
       "62   appeal_to_fear_prejudice                      doubt  \n",
       "63                flag_waving                flag_waving  \n",
       "65  exaggeration,minimisation  causal_oversimplification  \n",
       "68   appeal_to_fear_prejudice                flag_waving  \n",
       "71   appeal_to_fear_prejudice   appeal_to_fear_prejudice  \n",
       "72                      doubt                      doubt  \n",
       "77                flag_waving                flag_waving  \n",
       "78  exaggeration,minimisation  exaggeration,minimisation  \n",
       "79                flag_waving                flag_waving  \n",
       "80            loaded_language            loaded_language  \n",
       "84            loaded_language                flag_waving  \n",
       "85            loaded_language            loaded_language  \n",
       "87                 repetition                      doubt  \n",
       "88   appeal_to_fear_prejudice  causal_oversimplification  \n",
       "90                flag_waving                flag_waving  \n",
       "91            loaded_language  exaggeration,minimisation  \n",
       "92   appeal_to_fear_prejudice   appeal_to_fear_prejudice  \n",
       "94                 repetition                flag_waving  \n",
       "95   appeal_to_fear_prejudice   appeal_to_fear_prejudice  \n",
       "97                flag_waving   appeal_to_fear_prejudice  \n",
       "99   appeal_to_fear_prejudice   appeal_to_fear_prejudice  "
      ]
     },
     "execution_count": 102,
     "metadata": {},
     "output_type": "execute_result"
    }
   ],
   "source": [
    "flattened=[]\n",
    "for batch in predictions:                     # Iterating from the predictions\n",
    "  for pred in batch:\n",
    "    flattened.append(reverse_index[pred.item()])   # Convert back predicted label and add to flattended list\n",
    "validation_df_tc[\"prediction\"]=flattened     # Assigning list in prediction column\n",
    "validation_df_tc.head(50)"
   ]
  },
  {
   "cell_type": "code",
   "execution_count": 103,
   "metadata": {
    "id": "aPpBiNzhKyDN"
   },
   "outputs": [],
   "source": [
    "all_labels=validation_df_tc['label']\n",
    "all_predictions=validation_df_tc['prediction']"
   ]
  },
  {
   "cell_type": "code",
   "execution_count": 104,
   "metadata": {
    "colab": {
     "base_uri": "https://localhost:8080/"
    },
    "id": "xMWAoI5fuCJl",
    "outputId": "9120836e-6e8b-4c14-862d-420d37382518"
   },
   "outputs": [
    {
     "name": "stdout",
     "output_type": "stream",
     "text": [
      "Precision Task Classification for BERT model {'name_calling,labeling': 0.6666666666666666, 'flag_waving': 0.5555555555555556, 'loaded_language': 0.4523809523809524, 'appeal_to_fear_prejudice': 0.6222222222222222, 'causal_oversimplification': 0.5142857142857142, 'doubt': 0.6666666666666666, 'exaggeration,minimisation': 0.29411764705882354}\n",
      "Recall Task Classification for BERT  model {'name_calling,labeling': 0.5161290322580645, 'flag_waving': 0.8974358974358975, 'loaded_language': 0.5135135135135135, 'appeal_to_fear_prejudice': 0.6511627906976745, 'causal_oversimplification': 0.5806451612903226, 'doubt': 0.631578947368421, 'exaggeration,minimisation': 0.35714285714285715}\n",
      "F1 Task Classification for BERT  model {'name_calling,labeling': 0.5818181818181819, 'flag_waving': 0.6862745098039216, 'loaded_language': 0.48101265822784806, 'appeal_to_fear_prejudice': 0.6363636363636364, 'causal_oversimplification': 0.5454545454545455, 'doubt': 0.6486486486486486, 'exaggeration,minimisation': 0.3225806451612903}\n"
     ]
    }
   ],
   "source": [
    "model_metrics(labels=labels,all_labels=all_labels,all_predictions=all_predictions,model_name=\"BERT\",task_name=\"Task Classification\") #Call model_metrics to analyze model performance"
   ]
  },
  {
   "cell_type": "markdown",
   "metadata": {
    "id": "WAVLnuzSbwCV"
   },
   "source": [
    "## **GLOVE AND Bidrectional LSTM For Technique Classification Task**"
   ]
  },
  {
   "cell_type": "markdown",
   "metadata": {
    "id": "kSdy8l17fgmC"
   },
   "source": [
    "GLOVE:  Global vectors for word representation is referred to as GloVe. It is a Stanford-developed unsupervised learning technique that creates word embeddings by combining the global word-word co-occurrence matrix from a corpus. Interesting linear substructures of the word are displayed in vector space by the resulting embeddings."
   ]
  },
  {
   "cell_type": "markdown",
   "metadata": {
    "id": "zQHG0n9PgkPN"
   },
   "source": [
    "Bi-LSTM: Bi-directional Long Short Term Memory (Bi-LSTM):\n",
    "Recurrent neural networks that are bidirectional are basically just two separate RNNs combined. The networks may access both forward and backward information about the sequence thanks to this structure at each time step.\n",
    "\n",
    "When using bidirectional, your inputs will be processed in two different directions: one from the present to the future and the other from the future to the present. This method differs from unidirectional in that information from the future is preserved in the LSTM that runs backward, and by combining the two hidden states, you can preserve data from both the present and the future at any given time."
   ]
  },
  {
   "cell_type": "markdown",
   "metadata": {
    "id": "p4HPpTKKipHr"
   },
   "source": [
    "\"Below code for this section are taken from code available in the Classification using Long Short Term Memory & GloVe (Global Vectors for Word Representation) article of Medium.\"\n",
    "\n",
    "(Source: https://medium.com/analytics-vidhya/classification-using-long-short-term-memory-glove-global-vectors-for-word-representation-254d02d5e158)"
   ]
  },
  {
   "cell_type": "code",
   "execution_count": 153,
   "metadata": {
    "colab": {
     "base_uri": "https://localhost:8080/"
    },
    "id": "o2LQBtpJn7iS",
    "outputId": "795600ac-edf2-43a6-be50-1af21353c2c5"
   },
   "outputs": [
    {
     "name": "stderr",
     "output_type": "stream",
     "text": [
      "[nltk_data] Downloading package punkt to /root/nltk_data...\n",
      "[nltk_data]   Unzipping tokenizers/punkt.zip.\n"
     ]
    },
    {
     "data": {
      "text/plain": [
       "True"
      ]
     },
     "execution_count": 153,
     "metadata": {},
     "output_type": "execute_result"
    }
   ],
   "source": [
    "import nltk\n",
    "nltk.download('punkt')"
   ]
  },
  {
   "cell_type": "code",
   "execution_count": 154,
   "metadata": {
    "colab": {
     "base_uri": "https://localhost:8080/"
    },
    "id": "xahMG3_4oGvC",
    "outputId": "5c1c4055-ced2-4ca3-a4da-b8008f829023"
   },
   "outputs": [
    {
     "name": "stderr",
     "output_type": "stream",
     "text": [
      "[nltk_data] Downloading package wordnet to /root/nltk_data...\n",
      "[nltk_data]   Package wordnet is already up-to-date!\n"
     ]
    },
    {
     "data": {
      "text/plain": [
       "True"
      ]
     },
     "execution_count": 154,
     "metadata": {},
     "output_type": "execute_result"
    }
   ],
   "source": [
    "import nltk\n",
    "nltk.download('wordnet')"
   ]
  },
  {
   "cell_type": "code",
   "execution_count": 155,
   "metadata": {
    "colab": {
     "base_uri": "https://localhost:8080/"
    },
    "id": "RHqP0vo-nNcN",
    "outputId": "a2f5f656-2872-4115-85c5-995c5b1501c8"
   },
   "outputs": [
    {
     "name": "stdout",
     "output_type": "stream",
     "text": [
      "Looking in indexes: https://pypi.org/simple, https://us-python.pkg.dev/colab-wheels/public/simple/\n",
      "Requirement already satisfied: keras in /usr/local/lib/python3.10/dist-packages (2.12.0)\n",
      "Requirement already satisfied: tensorflow in /usr/local/lib/python3.10/dist-packages (2.12.0)\n",
      "Requirement already satisfied: wrapt<1.15,>=1.11.0 in /usr/local/lib/python3.10/dist-packages (from tensorflow) (1.14.1)\n",
      "Requirement already satisfied: gast<=0.4.0,>=0.2.1 in /usr/local/lib/python3.10/dist-packages (from tensorflow) (0.4.0)\n",
      "Requirement already satisfied: h5py>=2.9.0 in /usr/local/lib/python3.10/dist-packages (from tensorflow) (3.8.0)\n",
      "Requirement already satisfied: google-pasta>=0.1.1 in /usr/local/lib/python3.10/dist-packages (from tensorflow) (0.2.0)\n",
      "Requirement already satisfied: protobuf!=4.21.0,!=4.21.1,!=4.21.2,!=4.21.3,!=4.21.4,!=4.21.5,<5.0.0dev,>=3.20.3 in /usr/local/lib/python3.10/dist-packages (from tensorflow) (3.20.3)\n",
      "Requirement already satisfied: numpy<1.24,>=1.22 in /usr/local/lib/python3.10/dist-packages (from tensorflow) (1.22.4)\n",
      "Requirement already satisfied: absl-py>=1.0.0 in /usr/local/lib/python3.10/dist-packages (from tensorflow) (1.4.0)\n",
      "Requirement already satisfied: packaging in /usr/local/lib/python3.10/dist-packages (from tensorflow) (23.1)\n",
      "Requirement already satisfied: libclang>=13.0.0 in /usr/local/lib/python3.10/dist-packages (from tensorflow) (16.0.0)\n",
      "Requirement already satisfied: flatbuffers>=2.0 in /usr/local/lib/python3.10/dist-packages (from tensorflow) (23.3.3)\n",
      "Requirement already satisfied: grpcio<2.0,>=1.24.3 in /usr/local/lib/python3.10/dist-packages (from tensorflow) (1.54.0)\n",
      "Requirement already satisfied: opt-einsum>=2.3.2 in /usr/local/lib/python3.10/dist-packages (from tensorflow) (3.3.0)\n",
      "Requirement already satisfied: tensorboard<2.13,>=2.12 in /usr/local/lib/python3.10/dist-packages (from tensorflow) (2.12.2)\n",
      "Requirement already satisfied: termcolor>=1.1.0 in /usr/local/lib/python3.10/dist-packages (from tensorflow) (2.3.0)\n",
      "Requirement already satisfied: six>=1.12.0 in /usr/local/lib/python3.10/dist-packages (from tensorflow) (1.16.0)\n",
      "Requirement already satisfied: jax>=0.3.15 in /usr/local/lib/python3.10/dist-packages (from tensorflow) (0.4.8)\n",
      "Requirement already satisfied: typing-extensions>=3.6.6 in /usr/local/lib/python3.10/dist-packages (from tensorflow) (4.5.0)\n",
      "Requirement already satisfied: astunparse>=1.6.0 in /usr/local/lib/python3.10/dist-packages (from tensorflow) (1.6.3)\n",
      "Requirement already satisfied: tensorflow-estimator<2.13,>=2.12.0 in /usr/local/lib/python3.10/dist-packages (from tensorflow) (2.12.0)\n",
      "Requirement already satisfied: tensorflow-io-gcs-filesystem>=0.23.1 in /usr/local/lib/python3.10/dist-packages (from tensorflow) (0.32.0)\n",
      "Requirement already satisfied: setuptools in /usr/local/lib/python3.10/dist-packages (from tensorflow) (67.7.2)\n",
      "Requirement already satisfied: wheel<1.0,>=0.23.0 in /usr/local/lib/python3.10/dist-packages (from astunparse>=1.6.0->tensorflow) (0.40.0)\n",
      "Requirement already satisfied: scipy>=1.7 in /usr/local/lib/python3.10/dist-packages (from jax>=0.3.15->tensorflow) (1.10.1)\n",
      "Requirement already satisfied: ml-dtypes>=0.0.3 in /usr/local/lib/python3.10/dist-packages (from jax>=0.3.15->tensorflow) (0.1.0)\n",
      "Requirement already satisfied: werkzeug>=1.0.1 in /usr/local/lib/python3.10/dist-packages (from tensorboard<2.13,>=2.12->tensorflow) (2.3.0)\n",
      "Requirement already satisfied: tensorboard-data-server<0.8.0,>=0.7.0 in /usr/local/lib/python3.10/dist-packages (from tensorboard<2.13,>=2.12->tensorflow) (0.7.0)\n",
      "Requirement already satisfied: markdown>=2.6.8 in /usr/local/lib/python3.10/dist-packages (from tensorboard<2.13,>=2.12->tensorflow) (3.4.3)\n",
      "Requirement already satisfied: tensorboard-plugin-wit>=1.6.0 in /usr/local/lib/python3.10/dist-packages (from tensorboard<2.13,>=2.12->tensorflow) (1.8.1)\n",
      "Requirement already satisfied: google-auth<3,>=1.6.3 in /usr/local/lib/python3.10/dist-packages (from tensorboard<2.13,>=2.12->tensorflow) (2.17.3)\n",
      "Requirement already satisfied: google-auth-oauthlib<1.1,>=0.5 in /usr/local/lib/python3.10/dist-packages (from tensorboard<2.13,>=2.12->tensorflow) (1.0.0)\n",
      "Requirement already satisfied: requests<3,>=2.21.0 in /usr/local/lib/python3.10/dist-packages (from tensorboard<2.13,>=2.12->tensorflow) (2.27.1)\n",
      "Requirement already satisfied: cachetools<6.0,>=2.0.0 in /usr/local/lib/python3.10/dist-packages (from google-auth<3,>=1.6.3->tensorboard<2.13,>=2.12->tensorflow) (5.3.0)\n",
      "Requirement already satisfied: pyasn1-modules>=0.2.1 in /usr/local/lib/python3.10/dist-packages (from google-auth<3,>=1.6.3->tensorboard<2.13,>=2.12->tensorflow) (0.3.0)\n",
      "Requirement already satisfied: rsa<5,>=3.1.4 in /usr/local/lib/python3.10/dist-packages (from google-auth<3,>=1.6.3->tensorboard<2.13,>=2.12->tensorflow) (4.9)\n",
      "Requirement already satisfied: requests-oauthlib>=0.7.0 in /usr/local/lib/python3.10/dist-packages (from google-auth-oauthlib<1.1,>=0.5->tensorboard<2.13,>=2.12->tensorflow) (1.3.1)\n",
      "Requirement already satisfied: idna<4,>=2.5 in /usr/local/lib/python3.10/dist-packages (from requests<3,>=2.21.0->tensorboard<2.13,>=2.12->tensorflow) (3.4)\n",
      "Requirement already satisfied: urllib3<1.27,>=1.21.1 in /usr/local/lib/python3.10/dist-packages (from requests<3,>=2.21.0->tensorboard<2.13,>=2.12->tensorflow) (1.26.15)\n",
      "Requirement already satisfied: charset-normalizer~=2.0.0 in /usr/local/lib/python3.10/dist-packages (from requests<3,>=2.21.0->tensorboard<2.13,>=2.12->tensorflow) (2.0.12)\n",
      "Requirement already satisfied: certifi>=2017.4.17 in /usr/local/lib/python3.10/dist-packages (from requests<3,>=2.21.0->tensorboard<2.13,>=2.12->tensorflow) (2022.12.7)\n",
      "Requirement already satisfied: MarkupSafe>=2.1.1 in /usr/local/lib/python3.10/dist-packages (from werkzeug>=1.0.1->tensorboard<2.13,>=2.12->tensorflow) (2.1.2)\n",
      "Requirement already satisfied: pyasn1<0.6.0,>=0.4.6 in /usr/local/lib/python3.10/dist-packages (from pyasn1-modules>=0.2.1->google-auth<3,>=1.6.3->tensorboard<2.13,>=2.12->tensorflow) (0.5.0)\n",
      "Requirement already satisfied: oauthlib>=3.0.0 in /usr/local/lib/python3.10/dist-packages (from requests-oauthlib>=0.7.0->google-auth-oauthlib<1.1,>=0.5->tensorboard<2.13,>=2.12->tensorflow) (3.2.2)\n",
      "Reading package lists... Done\n",
      "Building dependency tree       \n",
      "Reading state information... Done\n",
      "\u001b[1;31mE: \u001b[0mUnable to locate package python3-tensorflow\u001b[0m\n"
     ]
    }
   ],
   "source": [
    "!pip install keras tensorflow\n",
    "!apt install python3-keras python3-tensorflow"
   ]
  },
  {
   "cell_type": "code",
   "execution_count": 156,
   "metadata": {
    "colab": {
     "base_uri": "https://localhost:8080/"
    },
    "id": "MB6jbORa8L0C",
    "outputId": "725a9db9-3330-4dde-d936-79b99737677c"
   },
   "outputs": [
    {
     "name": "stdout",
     "output_type": "stream",
     "text": [
      "2.12.0\n"
     ]
    }
   ],
   "source": [
    "import matplotlib.pyplot as plt\n",
    "from nltk.tokenize import word_tokenize\n",
    "from nltk.stem import WordNetLemmatizer\n",
    "from nltk.stem import PorterStemmer\n",
    "from sklearn import preprocessing\n",
    "from keras.models import Sequential\n",
    "from keras.utils import np_utils\n",
    "from keras.layers import GlobalMaxPooling1D, Conv1D, MaxPooling1D, Flatten, Bidirectional, SpatialDropout1D\n",
    "from sklearn.model_selection import train_test_split\n",
    "from keras.preprocessing import sequence\n",
    "from keras.preprocessing.text import Tokenizer\n",
    "from keras.callbacks import EarlyStopping\n",
    "import tensorflow as tf\n",
    "print(tf.__version__)"
   ]
  },
  {
   "cell_type": "code",
   "execution_count": 157,
   "metadata": {
    "colab": {
     "base_uri": "https://localhost:8080/"
    },
    "id": "PwDKPUZcwdP0",
    "outputId": "cc92bd04-e690-4283-9263-3288da6f82a3"
   },
   "outputs": [
    {
     "name": "stdout",
     "output_type": "stream",
     "text": [
      "Training Dataframe for Technique Classification\n",
      "                                                 text  \\\n",
      "2   The Obama administration misled the <BOS> Amer...   \n",
      "5   Hitler <BOS> annihilated <EOS> 400,000 Germans...   \n",
      "8   As noted above, at this point literally every ...   \n",
      "10  His account was suspended for violating Twitte...   \n",
      "12  A couple of seemingly unrelated events this pa...   \n",
      "\n",
      "                       label  \n",
      "2                flag_waving  \n",
      "5            loaded_language  \n",
      "8                      doubt  \n",
      "10     name_calling,labeling  \n",
      "12  appeal_to_fear_prejudice  \n",
      "----------------------------------------------------------------------------------------------------------------\n",
      "Validation Dataframe for Technique Classification\n",
      "                                                text  \\\n",
      "1  Mostly because <BOS> the country would not las...   \n",
      "2  Lyndon Johnson <BOS> gets Earl Warren and Sen....   \n",
      "4  It must be exacted from him directly in order ...   \n",
      "5  Is it any wonder that priests and laity alike ...   \n",
      "6  Health workers have been asked to work with co...   \n",
      "\n",
      "                       label  \n",
      "1  causal_oversimplification  \n",
      "2   appeal_to_fear_prejudice  \n",
      "4                 repetition  \n",
      "5      name_calling,labeling  \n",
      "6            loaded_language  \n",
      "----------------------------------------------------------------------------------------------------------------\n",
      "reverse_index for Technique Classification 8 Labels:\n",
      " {0: 'appeal_to_fear_prejudice', 1: 'causal_oversimplification', 2: 'doubt', 3: 'exaggeration,minimisation', 4: 'flag_waving', 5: 'loaded_language', 6: 'name_calling,labeling', 7: 'repetition'}\n"
     ]
    }
   ],
   "source": [
    "train_df_tc,validation_df_tc,labels,reverse_index = technique_classification_df()  # Calling the technique_classification_df to get the data filtered according to technique classification task"
   ]
  },
  {
   "cell_type": "code",
   "execution_count": 158,
   "metadata": {
    "id": "3Ohi9ZBfdFW0"
   },
   "outputs": [],
   "source": [
    "train_df_tc[\"text\"]=train_df_tc[\"text\"].str.lower()   #Converting the data to lower case"
   ]
  },
  {
   "cell_type": "code",
   "execution_count": 159,
   "metadata": {
    "id": "dYvSnK7fdFTz"
   },
   "outputs": [],
   "source": [
    "\"\"\"\n",
    "This function helps in Lemmatizing the data and converting to its base form to reduce dimensionality of data and normalizing data\n",
    "\"\"\"\n",
    "\n",
    "def getLemmText(text):\n",
    " tokens=word_tokenize(text)\n",
    " lemmatizer = WordNetLemmatizer()\n",
    " tokens=[lemmatizer.lemmatize(word) for word in tokens]\n",
    " return \" \".join(tokens)\n",
    " \n",
    "train_df_tc[\"text\"] = list(map(getLemmText,train_df_tc[\"text\"]))"
   ]
  },
  {
   "cell_type": "code",
   "execution_count": 160,
   "metadata": {
    "id": "F3FL5BdndFRy"
   },
   "outputs": [],
   "source": [
    "\"\"\"\n",
    "This function helps in removing prefix and sufix from the data, performing Stemming to reduce dimensionality of data and normalizing data\n",
    "\"\"\"\n",
    "\n",
    "def getStemmText(text):\n",
    " tokens=word_tokenize(text)\n",
    " ps = PorterStemmer()    \n",
    " tokens=[ps.stem(word) for word in tokens]\n",
    " return \" \".join(tokens)\n",
    "train_df_tc['text'] = list(map(getStemmText,train_df_tc['text']))"
   ]
  },
  {
   "cell_type": "code",
   "execution_count": 161,
   "metadata": {
    "colab": {
     "base_uri": "https://localhost:8080/"
    },
    "id": "n7-UIv3OdFPI",
    "outputId": "b088bcf8-62f0-4d10-b967-a9bb0d3b5304"
   },
   "outputs": [
    {
     "data": {
      "text/plain": [
       "array([0, 1, 2, 3, 4, 5, 6, 7])"
      ]
     },
     "execution_count": 161,
     "metadata": {},
     "output_type": "execute_result"
    }
   ],
   "source": [
    "label_encoder = preprocessing.LabelEncoder()                   #Loading the label Encoder\n",
    "labels = label_encoder.fit_transform(train_df_tc.label.values)  #Fit and transform the data\n",
    "np.unique(labels)"
   ]
  },
  {
   "cell_type": "code",
   "execution_count": 162,
   "metadata": {
    "id": "REISW0dog0Pu"
   },
   "outputs": [],
   "source": [
    "#Splitting the train data for training and testing\n",
    "xtrain, xtest, ytrain, ytest = train_test_split(train_df_tc.text.values, labels,   \n",
    " stratify=labels, \n",
    " random_state=42, \n",
    " test_size=0.1, shuffle=True) "
   ]
  },
  {
   "cell_type": "code",
   "execution_count": 164,
   "metadata": {
    "colab": {
     "base_uri": "https://localhost:8080/"
    },
    "id": "LfoI8DsYdFMl",
    "outputId": "7b565ba5-4b7c-48c7-d6af-dccbb0f15c26"
   },
   "outputs": [
    {
     "name": "stderr",
     "output_type": "stream",
     "text": [
      "400000it [00:17, 23439.20it/s]"
     ]
    },
    {
     "name": "stdout",
     "output_type": "stream",
     "text": [
      "Found 400000 word vectors.\n"
     ]
    },
    {
     "name": "stderr",
     "output_type": "stream",
     "text": [
      "\n"
     ]
    }
   ],
   "source": [
    "embeddings_index = {}\n",
    "f = open('/content/drive/MyDrive/Sussex/SEM_2/Advance_NLP/Assignment/glove.6B/glove.6B.100d.txt',encoding='utf8') #Loading Glove with 100 dimension\n",
    "\n",
    "for line in tqdm(f):\n",
    " values = line.split()\n",
    " word = values[0]\n",
    " coefs = np.asarray(values[1:], dtype='float32')\n",
    " embeddings_index[word] = coefs\n",
    "f.close()\n",
    "\n",
    "print('Found %s word vectors.' % len(embeddings_index))"
   ]
  },
  {
   "cell_type": "code",
   "execution_count": 165,
   "metadata": {
    "id": "n0sxAG6OdFJk"
   },
   "outputs": [],
   "source": [
    "VOCABULARY_SIZE = 2000  # It defines the maximum number of words in tokenizer.\n",
    "MAX_LENGTH = 60  #It defines the maximum length of each sentence, including padding."
   ]
  },
  {
   "cell_type": "code",
   "execution_count": 166,
   "metadata": {
    "id": "HPyh4oMudFHg"
   },
   "outputs": [],
   "source": [
    "tokenizer = Tokenizer(num_words=VOCABULARY_SIZE)            #Initialize the tokenizer with number of words in vocabulary\n",
    "tokenizer.fit_on_texts(list(xtrain) + list(xtest))"
   ]
  },
  {
   "cell_type": "code",
   "execution_count": 167,
   "metadata": {
    "id": "MkcOKcxrdFEi"
   },
   "outputs": [],
   "source": [
    "xtrain_sequence = tokenizer.texts_to_sequences(xtrain)            #Tokenize xtrain data\n",
    "xtest_sequence = tokenizer.texts_to_sequences(xtest)              #Tokenize xtest data"
   ]
  },
  {
   "cell_type": "code",
   "execution_count": 168,
   "metadata": {
    "id": "6T-WVSqbNeRe"
   },
   "outputs": [],
   "source": [
    "xtrain_padding = pad_sequences(xtrain_sequence, maxlen=MAX_LENGTH)     #Add Padding in xtrain data\n",
    "xtest_padding = pad_sequences(xtest_sequence, maxlen=MAX_LENGTH)       #Add Padding in xtest data\n",
    "word_index = tokenizer.word_index"
   ]
  },
  {
   "cell_type": "code",
   "execution_count": 169,
   "metadata": {
    "colab": {
     "base_uri": "https://localhost:8080/"
    },
    "id": "HYqhgFnfdE_u",
    "outputId": "57369dc3-75fb-4d97-b567-32e815c4f303"
   },
   "outputs": [
    {
     "name": "stderr",
     "output_type": "stream",
     "text": [
      "100%|██████████| 4845/4845 [00:00<00:00, 306756.68it/s]\n"
     ]
    }
   ],
   "source": [
    "embedding_matrix = np.zeros((len(word_index) + 1, 100))\n",
    "for word, i in tqdm(word_index.items()):                  #Creating embedding matrix for model\n",
    "  embedding_vector = embeddings_index.get(word)\n",
    "  if embedding_vector is not None:\n",
    "    embedding_matrix[i] = embedding_vector"
   ]
  },
  {
   "cell_type": "markdown",
   "metadata": {
    "id": "3W6GF1F5eMYn"
   },
   "source": [
    "GLOVE AND Bidrectional LSTM strcuture\n",
    "\n",
    "```\n",
    "       [ Input ]\n",
    "          |\n",
    "    [Embedding layer]\n",
    "          |\n",
    "   [ SpatialDropout1D layer ]\n",
    "          |\n",
    "  [Bidirectional LSTM layer ]\n",
    "          |\n",
    "  [ Dense layer Relu Activation]\n",
    "          |\n",
    "  [ Dense layer Softmax Activation]\n",
    "          |\n",
    "      [ Output ]     \n",
    "\n",
    "```"
   ]
  },
  {
   "cell_type": "code",
   "execution_count": 170,
   "metadata": {
    "colab": {
     "base_uri": "https://localhost:8080/"
    },
    "id": "oSP_Y71FdE85",
    "outputId": "df90b61c-c830-4b16-8e75-0592f3c7985e"
   },
   "outputs": [
    {
     "name": "stderr",
     "output_type": "stream",
     "text": [
      "WARNING:tensorflow:Layer lstm_6 will not use cuDNN kernels since it doesn't meet the criteria. It will use a generic GPU kernel as fallback when running on GPU.\n",
      "WARNING:tensorflow:Layer lstm_6 will not use cuDNN kernels since it doesn't meet the criteria. It will use a generic GPU kernel as fallback when running on GPU.\n",
      "WARNING:tensorflow:Layer lstm_6 will not use cuDNN kernels since it doesn't meet the criteria. It will use a generic GPU kernel as fallback when running on GPU.\n"
     ]
    }
   ],
   "source": [
    "model = Sequential()\n",
    "model.add(Embedding(len(word_index) + 1,\n",
    " 100,\n",
    " weights=[embedding_matrix],\n",
    " input_length=MAX_LENGTH,\n",
    " trainable=False))\n",
    "model.add(SpatialDropout1D(0.3))\n",
    "model.add(Bidirectional(LSTM(100, dropout=0.5, recurrent_dropout=0.3)))\n",
    "model.add(Dense(1024, activation=\"relu\"))\n",
    "model.add(Dense(8, activation='softmax'))\n",
    "model.compile(loss=\"categorical_crossentropy\", optimizer=\"adam\", metrics=[\"accuracy\"])"
   ]
  },
  {
   "cell_type": "code",
   "execution_count": 172,
   "metadata": {
    "id": "vepQ_0Y1dE60"
   },
   "outputs": [],
   "source": [
    "ytrain_encode = np_utils.to_categorical(ytrain)        #Convert data to numerical form in ytrain\n",
    "ytest_encode = np_utils.to_categorical(ytest)            #Convert data to numerical form in ytest"
   ]
  },
  {
   "cell_type": "code",
   "execution_count": 173,
   "metadata": {
    "colab": {
     "base_uri": "https://localhost:8080/"
    },
    "id": "njbzqPg4dE3r",
    "outputId": "ab1bb866-db20-4e37-b8a8-dbcd8fce02d4"
   },
   "outputs": [
    {
     "name": "stdout",
     "output_type": "stream",
     "text": [
      "Epoch 1/20\n",
      "138/138 [==============================] - 118s 806ms/step - loss: 2.0491 - accuracy: 0.1864 - val_loss: 1.9459 - val_accuracy: 0.1707\n",
      "Epoch 2/20\n",
      "138/138 [==============================] - 121s 881ms/step - loss: 1.9843 - accuracy: 0.1900 - val_loss: 1.8703 - val_accuracy: 0.1870\n",
      "Epoch 3/20\n",
      "138/138 [==============================] - 80s 583ms/step - loss: 1.9201 - accuracy: 0.2145 - val_loss: 1.8126 - val_accuracy: 0.2358\n",
      "Epoch 4/20\n",
      "138/138 [==============================] - 73s 532ms/step - loss: 1.8708 - accuracy: 0.2482 - val_loss: 1.8171 - val_accuracy: 0.1951\n",
      "Epoch 5/20\n",
      "138/138 [==============================] - 87s 632ms/step - loss: 1.8415 - accuracy: 0.2436 - val_loss: 1.7793 - val_accuracy: 0.2764\n",
      "Epoch 6/20\n",
      "138/138 [==============================] - 85s 611ms/step - loss: 1.7753 - accuracy: 0.2727 - val_loss: 1.8221 - val_accuracy: 0.2033\n",
      "Epoch 7/20\n",
      "138/138 [==============================] - 132s 956ms/step - loss: 1.7775 - accuracy: 0.3045 - val_loss: 1.8122 - val_accuracy: 0.2276\n",
      "Epoch 8/20\n",
      "138/138 [==============================] - 123s 889ms/step - loss: 1.7063 - accuracy: 0.3227 - val_loss: 1.7580 - val_accuracy: 0.2439\n",
      "Epoch 9/20\n",
      "138/138 [==============================] - 148s 1s/step - loss: 1.6717 - accuracy: 0.3518 - val_loss: 1.7936 - val_accuracy: 0.2602\n",
      "Epoch 10/20\n",
      "138/138 [==============================] - 100s 719ms/step - loss: 1.6141 - accuracy: 0.3673 - val_loss: 1.7802 - val_accuracy: 0.3171\n",
      "Epoch 11/20\n",
      "138/138 [==============================] - 95s 693ms/step - loss: 1.5917 - accuracy: 0.3545 - val_loss: 1.7201 - val_accuracy: 0.3171\n",
      "Epoch 12/20\n",
      "138/138 [==============================] - 78s 564ms/step - loss: 1.5173 - accuracy: 0.4245 - val_loss: 1.7458 - val_accuracy: 0.3008\n",
      "Epoch 13/20\n",
      "138/138 [==============================] - 81s 590ms/step - loss: 1.4799 - accuracy: 0.4364 - val_loss: 1.8024 - val_accuracy: 0.3089\n",
      "Epoch 14/20\n",
      "138/138 [==============================] - 80s 582ms/step - loss: 1.4502 - accuracy: 0.4336 - val_loss: 1.8131 - val_accuracy: 0.2683\n",
      "Epoch 15/20\n",
      "138/138 [==============================] - 89s 645ms/step - loss: 1.3896 - accuracy: 0.4536 - val_loss: 1.8095 - val_accuracy: 0.2195\n",
      "Epoch 16/20\n",
      "138/138 [==============================] - 82s 592ms/step - loss: 1.3099 - accuracy: 0.5136 - val_loss: 1.7719 - val_accuracy: 0.3089\n",
      "Epoch 17/20\n",
      "138/138 [==============================] - 80s 583ms/step - loss: 1.3025 - accuracy: 0.5127 - val_loss: 1.8541 - val_accuracy: 0.3008\n",
      "Epoch 18/20\n",
      "138/138 [==============================] - 74s 536ms/step - loss: 1.2532 - accuracy: 0.5155 - val_loss: 1.8955 - val_accuracy: 0.3089\n",
      "Epoch 19/20\n",
      "138/138 [==============================] - 83s 606ms/step - loss: 1.2265 - accuracy: 0.5264 - val_loss: 1.8198 - val_accuracy: 0.3089\n",
      "Epoch 20/20\n",
      "138/138 [==============================] - 80s 580ms/step - loss: 1.1612 - accuracy: 0.5700 - val_loss: 1.9072 - val_accuracy: 0.3252\n"
     ]
    }
   ],
   "source": [
    "history = model.fit(xtrain_padding, y=ytrain_encode, batch_size=8, epochs=20, verbose=1, validation_data=(xtest_padding, ytest_encode)) #Train the model"
   ]
  },
  {
   "cell_type": "markdown",
   "metadata": {
    "id": "QVG5H317UcI1"
   },
   "source": [
    "## **Experiment with Custom Pytorch Implementation of Roberta For Technique Classification Task**"
   ]
  },
  {
   "cell_type": "markdown",
   "metadata": {
    "id": "cm76Evushjof"
   },
   "source": [
    "\"Below functions evaluate, prepare_inputs and train and code for this section are taken from code available in the 6th Advance NLP Lab Sussex University.\"\n",
    "\n",
    "(Source: https://canvas.sussex.ac.uk/courses/22822/pages/week-slash-topic-6-transfer-learning-with-large-pretrained-models?wrap=1)"
   ]
  },
  {
   "cell_type": "code",
   "execution_count": 175,
   "metadata": {
    "colab": {
     "base_uri": "https://localhost:8080/"
    },
    "id": "yEBZzpVwwvJf",
    "outputId": "d0c547bf-c5ed-4bc4-dc7b-d451e9e22089"
   },
   "outputs": [
    {
     "name": "stdout",
     "output_type": "stream",
     "text": [
      "Training Dataframe for Technique Classification\n",
      "                                                 text  \\\n",
      "2   The Obama administration misled the <BOS> Amer...   \n",
      "5   Hitler <BOS> annihilated <EOS> 400,000 Germans...   \n",
      "8   As noted above, at this point literally every ...   \n",
      "10  His account was suspended for violating Twitte...   \n",
      "12  A couple of seemingly unrelated events this pa...   \n",
      "\n",
      "                       label  \n",
      "2                flag_waving  \n",
      "5            loaded_language  \n",
      "8                      doubt  \n",
      "10     name_calling,labeling  \n",
      "12  appeal_to_fear_prejudice  \n",
      "----------------------------------------------------------------------------------------------------------------\n",
      "Validation Dataframe for Technique Classification\n",
      "                                                text  \\\n",
      "1  Mostly because <BOS> the country would not las...   \n",
      "2  Lyndon Johnson <BOS> gets Earl Warren and Sen....   \n",
      "4  It must be exacted from him directly in order ...   \n",
      "5  Is it any wonder that priests and laity alike ...   \n",
      "6  Health workers have been asked to work with co...   \n",
      "\n",
      "                       label  \n",
      "1  causal_oversimplification  \n",
      "2   appeal_to_fear_prejudice  \n",
      "4                 repetition  \n",
      "5      name_calling,labeling  \n",
      "6            loaded_language  \n",
      "----------------------------------------------------------------------------------------------------------------\n",
      "reverse_index for Technique Classification 8 Labels:\n",
      " {0: 'appeal_to_fear_prejudice', 1: 'causal_oversimplification', 2: 'doubt', 3: 'exaggeration,minimisation', 4: 'flag_waving', 5: 'loaded_language', 6: 'name_calling,labeling', 7: 'repetition'}\n"
     ]
    }
   ],
   "source": [
    "train_df_tc,validation_df_tc,labels,reverse_index = technique_classification_df()"
   ]
  },
  {
   "cell_type": "code",
   "execution_count": 178,
   "metadata": {
    "colab": {
     "base_uri": "https://localhost:8080/",
     "height": 113,
     "referenced_widgets": [
      "bee005a3b2d140cda540479899ac3ae3",
      "84863694b4cd40d0b7be0624dd313960",
      "0c4b35f0baff4e54a498a78e3ace49a8",
      "898af8a4ebff4560a6e6c69c725d71e8",
      "80fb43dc165b42f293c5b4a1ba54d555",
      "dc0a7988e6c04b28820243b4da732273",
      "cd2701cfe4384668aaf231b2c1ca5fdd",
      "803c7af130ed45f2a8921aff96da79d0",
      "8df8f0ab773449899e99d5b16c1bd3b9",
      "662362bcbdbe472c8bf59a732780e5a0",
      "74c6d395e6b440a295abdb3006435ce7",
      "88c720e65b154fc49e8337a2c3ecd61a",
      "e8b9c8ecb75f499c9d5e065388731c7b",
      "b8f8dd71769847f3b3a70ffeeab34cdb",
      "338d8cdf434f455e9b477e1c86641b44",
      "ff422cfe0ba445f5917f67061da06dd5",
      "e71780f88bce431393482ce10928f9ed",
      "005b97497bb74b33ad0ef13fabb580f2",
      "1649d65759534d4aa7c31446e74c8c13",
      "c94bf72e551d444b929ac87b6e8b695a",
      "3020656db448400b8fa0a0956c455403",
      "f1f4253d4d794b5f97f568097f6c3c18",
      "a4c697dab746484d88ecb97dfd43de06",
      "1c0918a25b364b32a71b533bfd154496",
      "f9492747eada4f47949506fd932fd679",
      "31e867ce10e943ed8dca85843359bbec",
      "74d872cf74b94a26bc266f5ca50b48dd",
      "7fb573a4562f493582933cae4692e897",
      "6fd62a9b4dff4190bd9e80a2b94b2b3d",
      "e4414fca452c4430a137b2e649b2fa33",
      "84fe3c17346a4afda142c1dabfdf2b0c",
      "2c33c45ee0dc42ec8db3a61a40987818",
      "2c4ec37c9dea4f119e0b92b13c840c62"
     ]
    },
    "id": "3yLgiKuDVSBC",
    "outputId": "ae09ce04-52e9-4212-ff0e-02327cdac0f2"
   },
   "outputs": [
    {
     "data": {
      "application/vnd.jupyter.widget-view+json": {
       "model_id": "bee005a3b2d140cda540479899ac3ae3",
       "version_major": 2,
       "version_minor": 0
      },
      "text/plain": [
       "Downloading (…)olve/main/vocab.json:   0%|          | 0.00/899k [00:00<?, ?B/s]"
      ]
     },
     "metadata": {},
     "output_type": "display_data"
    },
    {
     "data": {
      "application/vnd.jupyter.widget-view+json": {
       "model_id": "88c720e65b154fc49e8337a2c3ecd61a",
       "version_major": 2,
       "version_minor": 0
      },
      "text/plain": [
       "Downloading (…)olve/main/merges.txt:   0%|          | 0.00/456k [00:00<?, ?B/s]"
      ]
     },
     "metadata": {},
     "output_type": "display_data"
    },
    {
     "data": {
      "application/vnd.jupyter.widget-view+json": {
       "model_id": "a4c697dab746484d88ecb97dfd43de06",
       "version_major": 2,
       "version_minor": 0
      },
      "text/plain": [
       "Downloading (…)lve/main/config.json:   0%|          | 0.00/481 [00:00<?, ?B/s]"
      ]
     },
     "metadata": {},
     "output_type": "display_data"
    }
   ],
   "source": [
    "tokenizer = RobertaTokenizer.from_pretrained('roberta-base')  #Using Roberta Model but same architecture as BERT\n",
    "\n",
    "class Dataset(torch.utils.data.Dataset):\n",
    "    \n",
    "    def __init__(self,df,column='text'):\n",
    "        self.labels=[labels[label] for label in df['label']]\n",
    "        self.texts=[tokenizer(text,padding='max_length',max_length=256,truncation=True,return_tensors=\"pt\") for text in df[column]] #padding to specific length\n",
    "        #Return_tensors = “pt” is just for the tokenizer to return PyTorch tensors. If you don't want this to happen(maybe you want it to return a list), then you can remove the parameter and it will return lists.\n",
    "    \n",
    "    def classes(self):\n",
    "        return self.labels\n",
    "    \n",
    "    def __len__(self):\n",
    "        return len(self.labels)\n",
    "    \n",
    "    def get_batch_labels(self,idx):\n",
    "        return np.array(self.labels[idx])\n",
    "    \n",
    "    def get_batch_texts(self,idx):\n",
    "        return self.texts[idx]\n",
    "    \n",
    "    def __getitem__(self,idx):\n",
    "        batch_texts=self.get_batch_texts(idx)\n",
    "        batch_y=self.get_batch_labels(idx)\n",
    "        \n",
    "        return batch_texts,batch_y\n",
    "    \n",
    "\n",
    "train_data=Dataset(train_df_tc)\n",
    "test_data=Dataset(validation_df_tc)"
   ]
  },
  {
   "cell_type": "code",
   "execution_count": 179,
   "metadata": {
    "id": "fZdGt6uvVR3p"
   },
   "outputs": [],
   "source": [
    "my_input= train_data.texts[0].input_ids"
   ]
  },
  {
   "cell_type": "code",
   "execution_count": 180,
   "metadata": {
    "id": "XVDqnRlRVRyF"
   },
   "outputs": [],
   "source": [
    "my_tokens=tokenizer.convert_ids_to_tokens(my_input[0])"
   ]
  },
  {
   "cell_type": "code",
   "execution_count": 181,
   "metadata": {
    "colab": {
     "base_uri": "https://localhost:8080/"
    },
    "id": "UKV5EBznVRul",
    "outputId": "18f56f7e-c8f8-4632-b326-bdfb00c00e29"
   },
   "outputs": [
    {
     "name": "stdout",
     "output_type": "stream",
     "text": [
      "GPU acceleration enabled\n"
     ]
    }
   ],
   "source": [
    "use_cuda=torch.cuda.is_available() # PyTorch which checks whether a GPU is available for use. It returns a boolean value of True if a GPU is available, and False if not.\n",
    "if use_cuda:\n",
    "  print(\"GPU acceleration enabled\")\n",
    "else:\n",
    "  print(\"GPU acceleration NOT enabled.  If using Colab, have you changed the runtype type and selected GPU as the hardware accelerator?\")\n",
    "device=torch.device(\"cuda\" if use_cuda else \"cpu\") #This code snippet is a common pattern used in PyTorch to allow for easy switching between CPU and GPU computation, depending on whether a GPU is available or not."
   ]
  },
  {
   "cell_type": "code",
   "execution_count": 182,
   "metadata": {
    "colab": {
     "base_uri": "https://localhost:8080/",
     "height": 1000,
     "referenced_widgets": [
      "edea3ea15d1345ceaa6daef8a12d5cd6",
      "571d54d1a2fb45bfa276029a78096d4c",
      "f83d76d5678e49b5aaa919e600fa7a4b",
      "4a57d75d581b47b698fe107f3f0a8a8a",
      "c20bd8ade5834af8959dc8c88eaa3ad4",
      "100f7a4850d34048a85c32bfed420e93",
      "64e33abcc4f9436c9dc586beb8dd60ce",
      "689ad99a26634b06a53b7fc8b696cf26",
      "1c017eb1f01440909badfa11b063ce8a",
      "2f8ece3ca66d4a9f9833dbf288c43ae3",
      "aea0a710e6f848ffa6efe8c7fe8d4293"
     ]
    },
    "id": "zeXgw-B1Ua3L",
    "outputId": "1e8cd310-fcb7-44da-ee0c-72252c6ae457"
   },
   "outputs": [
    {
     "data": {
      "application/vnd.jupyter.widget-view+json": {
       "model_id": "edea3ea15d1345ceaa6daef8a12d5cd6",
       "version_major": 2,
       "version_minor": 0
      },
      "text/plain": [
       "Downloading pytorch_model.bin:   0%|          | 0.00/501M [00:00<?, ?B/s]"
      ]
     },
     "metadata": {},
     "output_type": "display_data"
    },
    {
     "name": "stderr",
     "output_type": "stream",
     "text": [
      "Some weights of the model checkpoint at roberta-base were not used when initializing RobertaModel: ['lm_head.layer_norm.weight', 'lm_head.dense.bias', 'lm_head.bias', 'lm_head.layer_norm.bias', 'lm_head.decoder.weight', 'lm_head.dense.weight']\n",
      "- This IS expected if you are initializing RobertaModel from the checkpoint of a model trained on another task or with another architecture (e.g. initializing a BertForSequenceClassification model from a BertForPreTraining model).\n",
      "- This IS NOT expected if you are initializing RobertaModel from the checkpoint of a model that you expect to be exactly identical (initializing a BertForSequenceClassification model from a BertForSequenceClassification model).\n"
     ]
    },
    {
     "name": "stdout",
     "output_type": "stream",
     "text": [
      "tensor([[    0, 41552,   387,  3196, 15698, 16167, 30365,   150,     5,   897,\n",
      "          1571,     8,    10,   367,   205, 15843,    32,   314,     7,  1235,\n",
      "             7,  4538,     6,    25,   275,    51,    64,     6,     5,  5891,\n",
      "          5307,     9,     5,  2197,   136,     5, 13052,     9,    10, 43959,\n",
      "            15,     5,  8381,     9,  2155, 13546,     5, 45007,    29,    19,\n",
      "            10,  5184,     9,  9208,     8,    10,  6587,  9563,   137,     5,\n",
      "          1801,  3052, 28696,   717,  3196, 48691,  1437,     2,     1,     1,\n",
      "             1,     1,     1,     1,     1,     1,     1,     1,     1,     1,\n",
      "             1,     1,     1,     1,     1,     1,     1,     1,     1,     1,\n",
      "             1,     1,     1,     1,     1,     1,     1,     1,     1,     1,\n",
      "             1,     1,     1,     1,     1,     1,     1,     1,     1,     1,\n",
      "             1,     1,     1,     1,     1,     1,     1,     1,     1,     1,\n",
      "             1,     1,     1,     1,     1,     1,     1,     1,     1,     1,\n",
      "             1,     1,     1,     1,     1,     1,     1,     1,     1,     1,\n",
      "             1,     1,     1,     1,     1,     1,     1,     1,     1,     1,\n",
      "             1,     1,     1,     1,     1,     1,     1,     1,     1,     1,\n",
      "             1,     1,     1,     1,     1,     1,     1,     1,     1,     1,\n",
      "             1,     1,     1,     1,     1,     1,     1,     1,     1,     1,\n",
      "             1,     1,     1,     1,     1,     1,     1,     1,     1,     1,\n",
      "             1,     1,     1,     1,     1,     1,     1,     1,     1,     1,\n",
      "             1,     1,     1,     1,     1,     1,     1,     1,     1,     1,\n",
      "             1,     1,     1,     1,     1,     1,     1,     1,     1,     1,\n",
      "             1,     1,     1,     1,     1,     1,     1,     1,     1,     1,\n",
      "             1,     1,     1,     1,     1,     1,     1,     1,     1,     1,\n",
      "             1,     1,     1,     1,     1,     1,     1,     1,     1,     1,\n",
      "             1,     1,     1,     1,     1,     1],\n",
      "        [    0,  9292, 11661,  1024,  2324,    66,  3656,  2251,  1414,  1230,\n",
      "          5807,    25,   233,     9,     5,  1218,    17,    27,    29,  2256,\n",
      "          1170,     7, 28696,   387,  3196, 15698,  1744,     5,  1226, 28696,\n",
      "           717,  3196, 48077, 16060,   285,  1078,     6,     8,  1744,     5,\n",
      "          7066,     9,    84,  2447,  2074,     8,  1424,  5656,     4,  1437,\n",
      "             2,     1,     1,     1,     1,     1,     1,     1,     1,     1,\n",
      "             1,     1,     1,     1,     1,     1,     1,     1,     1,     1,\n",
      "             1,     1,     1,     1,     1,     1,     1,     1,     1,     1,\n",
      "             1,     1,     1,     1,     1,     1,     1,     1,     1,     1,\n",
      "             1,     1,     1,     1,     1,     1,     1,     1,     1,     1,\n",
      "             1,     1,     1,     1,     1,     1,     1,     1,     1,     1,\n",
      "             1,     1,     1,     1,     1,     1,     1,     1,     1,     1,\n",
      "             1,     1,     1,     1,     1,     1,     1,     1,     1,     1,\n",
      "             1,     1,     1,     1,     1,     1,     1,     1,     1,     1,\n",
      "             1,     1,     1,     1,     1,     1,     1,     1,     1,     1,\n",
      "             1,     1,     1,     1,     1,     1,     1,     1,     1,     1,\n",
      "             1,     1,     1,     1,     1,     1,     1,     1,     1,     1,\n",
      "             1,     1,     1,     1,     1,     1,     1,     1,     1,     1,\n",
      "             1,     1,     1,     1,     1,     1,     1,     1,     1,     1,\n",
      "             1,     1,     1,     1,     1,     1,     1,     1,     1,     1,\n",
      "             1,     1,     1,     1,     1,     1,     1,     1,     1,     1,\n",
      "             1,     1,     1,     1,     1,     1,     1,     1,     1,     1,\n",
      "             1,     1,     1,     1,     1,     1,     1,     1,     1,     1,\n",
      "             1,     1,     1,     1,     1,     1,     1,     1,     1,     1,\n",
      "             1,     1,     1,     1,     1,     1,     1,     1,     1,     1,\n",
      "             1,     1,     1,     1,     1,     1]], device='cuda:0') tensor([[[1, 1, 1, 1, 1, 1, 1, 1, 1, 1, 1, 1, 1, 1, 1, 1, 1, 1, 1, 1, 1, 1, 1,\n",
      "          1, 1, 1, 1, 1, 1, 1, 1, 1, 1, 1, 1, 1, 1, 1, 1, 1, 1, 1, 1, 1, 1, 1,\n",
      "          1, 1, 1, 1, 1, 1, 1, 1, 1, 1, 1, 1, 1, 1, 1, 1, 1, 1, 1, 1, 1, 1, 0,\n",
      "          0, 0, 0, 0, 0, 0, 0, 0, 0, 0, 0, 0, 0, 0, 0, 0, 0, 0, 0, 0, 0, 0, 0,\n",
      "          0, 0, 0, 0, 0, 0, 0, 0, 0, 0, 0, 0, 0, 0, 0, 0, 0, 0, 0, 0, 0, 0, 0,\n",
      "          0, 0, 0, 0, 0, 0, 0, 0, 0, 0, 0, 0, 0, 0, 0, 0, 0, 0, 0, 0, 0, 0, 0,\n",
      "          0, 0, 0, 0, 0, 0, 0, 0, 0, 0, 0, 0, 0, 0, 0, 0, 0, 0, 0, 0, 0, 0, 0,\n",
      "          0, 0, 0, 0, 0, 0, 0, 0, 0, 0, 0, 0, 0, 0, 0, 0, 0, 0, 0, 0, 0, 0, 0,\n",
      "          0, 0, 0, 0, 0, 0, 0, 0, 0, 0, 0, 0, 0, 0, 0, 0, 0, 0, 0, 0, 0, 0, 0,\n",
      "          0, 0, 0, 0, 0, 0, 0, 0, 0, 0, 0, 0, 0, 0, 0, 0, 0, 0, 0, 0, 0, 0, 0,\n",
      "          0, 0, 0, 0, 0, 0, 0, 0, 0, 0, 0, 0, 0, 0, 0, 0, 0, 0, 0, 0, 0, 0, 0,\n",
      "          0, 0, 0]],\n",
      "\n",
      "        [[1, 1, 1, 1, 1, 1, 1, 1, 1, 1, 1, 1, 1, 1, 1, 1, 1, 1, 1, 1, 1, 1, 1,\n",
      "          1, 1, 1, 1, 1, 1, 1, 1, 1, 1, 1, 1, 1, 1, 1, 1, 1, 1, 1, 1, 1, 1, 1,\n",
      "          1, 1, 1, 1, 1, 0, 0, 0, 0, 0, 0, 0, 0, 0, 0, 0, 0, 0, 0, 0, 0, 0, 0,\n",
      "          0, 0, 0, 0, 0, 0, 0, 0, 0, 0, 0, 0, 0, 0, 0, 0, 0, 0, 0, 0, 0, 0, 0,\n",
      "          0, 0, 0, 0, 0, 0, 0, 0, 0, 0, 0, 0, 0, 0, 0, 0, 0, 0, 0, 0, 0, 0, 0,\n",
      "          0, 0, 0, 0, 0, 0, 0, 0, 0, 0, 0, 0, 0, 0, 0, 0, 0, 0, 0, 0, 0, 0, 0,\n",
      "          0, 0, 0, 0, 0, 0, 0, 0, 0, 0, 0, 0, 0, 0, 0, 0, 0, 0, 0, 0, 0, 0, 0,\n",
      "          0, 0, 0, 0, 0, 0, 0, 0, 0, 0, 0, 0, 0, 0, 0, 0, 0, 0, 0, 0, 0, 0, 0,\n",
      "          0, 0, 0, 0, 0, 0, 0, 0, 0, 0, 0, 0, 0, 0, 0, 0, 0, 0, 0, 0, 0, 0, 0,\n",
      "          0, 0, 0, 0, 0, 0, 0, 0, 0, 0, 0, 0, 0, 0, 0, 0, 0, 0, 0, 0, 0, 0, 0,\n",
      "          0, 0, 0, 0, 0, 0, 0, 0, 0, 0, 0, 0, 0, 0, 0, 0, 0, 0, 0, 0, 0, 0, 0,\n",
      "          0, 0, 0]]], device='cuda:0') tensor([0, 4], device='cuda:0')\n",
      "2\n"
     ]
    }
   ],
   "source": [
    "train_dataloader=torch.utils.data.DataLoader(train_data,batch_size=2,shuffle=True)\n",
    "bert=RobertaModel.from_pretrained('roberta-base').to(device)\n",
    "for train_input,train_label in train_dataloader:\n",
    "    input_id,mask,label=prepare_inputs(train_input,train_label,device)\n",
    "    output=bert(input_ids=input_id,attention_mask=mask,return_dict=False)\n",
    "    # device = torch.device(\"cuda\")\n",
    "    # model.cuda()\n",
    "    break\n",
    "\n",
    "print(input_id,mask,label)\n",
    "print(len(output))"
   ]
  },
  {
   "cell_type": "code",
   "execution_count": 183,
   "metadata": {
    "id": "JhKmZq5vUa0d"
   },
   "outputs": [],
   "source": [
    "class RobertaClassifier(nn.Module):\n",
    "    \n",
    "    def __init__(self, dropout=0.5, num_classes=8):\n",
    "        \n",
    "        super(RobertaClassifier, self).__init__()\n",
    "        \n",
    "        self.roberta = RobertaModel.from_pretrained('roberta-base')\n",
    "        self.dropout = nn.Dropout(dropout)\n",
    "        self.linear = nn.Linear(768, num_classes)\n",
    "        self.relu = nn.ReLU()\n",
    "        self.softmax = nn.Softmax(dim=1)\n",
    "        \n",
    "    def forward(self, input_ids, attention_mask):\n",
    "        \n",
    "        last_hidden_layer, pooled_output = self.roberta(input_ids=input_ids, attention_mask=attention_mask, return_dict=False)\n",
    "        dropout_output = self.dropout(pooled_output)\n",
    "        linear_output = self.linear(dropout_output)\n",
    "        relu_output = self.relu(linear_output)\n",
    "        final_layer = self.softmax(relu_output)\n",
    "        \n",
    "        return final_layer"
   ]
  },
  {
   "cell_type": "code",
   "execution_count": 185,
   "metadata": {
    "colab": {
     "base_uri": "https://localhost:8080/"
    },
    "id": "LI-zmOoGeVJZ",
    "outputId": "30eb029c-9081-4320-b906-350fae6b1c3e"
   },
   "outputs": [
    {
     "name": "stderr",
     "output_type": "stream",
     "text": [
      "Some weights of the model checkpoint at roberta-base were not used when initializing RobertaModel: ['lm_head.layer_norm.weight', 'lm_head.dense.bias', 'lm_head.bias', 'lm_head.layer_norm.bias', 'lm_head.decoder.weight', 'lm_head.dense.weight']\n",
      "- This IS expected if you are initializing RobertaModel from the checkpoint of a model trained on another task or with another architecture (e.g. initializing a BertForSequenceClassification model from a BertForPreTraining model).\n",
      "- This IS NOT expected if you are initializing RobertaModel from the checkpoint of a model that you expect to be exactly identical (initializing a BertForSequenceClassification model from a BertForSequenceClassification model).\n"
     ]
    }
   ],
   "source": [
    "EPOCHS= 7\n",
    "model=RobertaClassifier(num_classes=len(labels.keys()))\n",
    "LR=2e-6"
   ]
  },
  {
   "cell_type": "code",
   "execution_count": 186,
   "metadata": {
    "colab": {
     "base_uri": "https://localhost:8080/"
    },
    "id": "MBREkeigeVE5",
    "outputId": "4c86c073-fc50-4828-edd8-defb9efb768d"
   },
   "outputs": [
    {
     "name": "stderr",
     "output_type": "stream",
     "text": [
      "100%|██████████| 612/612 [01:17<00:00,  7.92it/s]\n"
     ]
    },
    {
     "name": "stdout",
     "output_type": "stream",
     "text": [
      "Epochs: 1 | Train Loss: 1.041 | Train Accuracy: 0.134\n",
      "Val loss: 1.043 | Val Accuracy: 0.154\n"
     ]
    },
    {
     "name": "stderr",
     "output_type": "stream",
     "text": [
      "100%|██████████| 612/612 [01:16<00:00,  7.95it/s]\n"
     ]
    },
    {
     "name": "stdout",
     "output_type": "stream",
     "text": [
      "Epochs: 2 | Train Loss: 1.040 | Train Accuracy: 0.155\n",
      "Val loss: 1.039 | Val Accuracy: 0.222\n"
     ]
    },
    {
     "name": "stderr",
     "output_type": "stream",
     "text": [
      "100%|██████████| 612/612 [01:16<00:00,  7.95it/s]\n"
     ]
    },
    {
     "name": "stdout",
     "output_type": "stream",
     "text": [
      "Epochs: 3 | Train Loss: 1.030 | Train Accuracy: 0.215\n",
      "Val loss: 1.014 | Val Accuracy: 0.244\n"
     ]
    },
    {
     "name": "stderr",
     "output_type": "stream",
     "text": [
      "100%|██████████| 612/612 [01:16<00:00,  7.98it/s]\n"
     ]
    },
    {
     "name": "stdout",
     "output_type": "stream",
     "text": [
      "Epochs: 4 | Train Loss: 1.009 | Train Accuracy: 0.271\n",
      "Val loss: 0.992 | Val Accuracy: 0.283\n"
     ]
    },
    {
     "name": "stderr",
     "output_type": "stream",
     "text": [
      "100%|██████████| 612/612 [01:16<00:00,  7.98it/s]\n"
     ]
    },
    {
     "name": "stdout",
     "output_type": "stream",
     "text": [
      "Epochs: 5 | Train Loss: 0.978 | Train Accuracy: 0.357\n",
      "Val loss: 0.964 | Val Accuracy: 0.355\n"
     ]
    },
    {
     "name": "stderr",
     "output_type": "stream",
     "text": [
      "100%|██████████| 612/612 [01:17<00:00,  7.94it/s]\n"
     ]
    },
    {
     "name": "stdout",
     "output_type": "stream",
     "text": [
      "Epochs: 6 | Train Loss: 0.950 | Train Accuracy: 0.442\n",
      "Val loss: 0.947 | Val Accuracy: 0.394\n"
     ]
    },
    {
     "name": "stderr",
     "output_type": "stream",
     "text": [
      "100%|██████████| 612/612 [01:16<00:00,  7.95it/s]\n"
     ]
    },
    {
     "name": "stdout",
     "output_type": "stream",
     "text": [
      "Epochs: 7 | Train Loss: 0.916 | Train Accuracy: 0.509\n",
      "Val loss: 0.932 | Val Accuracy: 0.409\n"
     ]
    }
   ],
   "source": [
    "train(model,train_data,test_data,LR,EPOCHS)"
   ]
  },
  {
   "cell_type": "code",
   "execution_count": 187,
   "metadata": {
    "id": "zJwsXE-dt3Uc"
   },
   "outputs": [],
   "source": [
    "output_dir=\"/content/drive/MyDrive/Sussex/SEM_2/Advance_NLP/Assignment/roberta-base-cased-propogandatechniqueclassifier2\"\n",
    "torch.save(model,output_dir)"
   ]
  },
  {
   "cell_type": "code",
   "execution_count": 188,
   "metadata": {
    "id": "MAiZIss9t3Rj"
   },
   "outputs": [],
   "source": [
    "input_dir=\"/content/drive/MyDrive/Sussex/SEM_2/Advance_NLP/Assignment/roberta-base-cased-propogandatechniqueclassifier2\"\n",
    "complete_model=torch.load(input_dir)"
   ]
  },
  {
   "cell_type": "code",
   "execution_count": 191,
   "metadata": {
    "colab": {
     "base_uri": "https://localhost:8080/"
    },
    "id": "0bcZ7j_9t3L0",
    "outputId": "26c5db4f-d587-474d-a128-317fd0e7124b"
   },
   "outputs": [
    {
     "name": "stderr",
     "output_type": "stream",
     "text": [
      " 38%|███▊      | 53/140 [00:01<00:02, 31.92it/s]"
     ]
    },
    {
     "name": "stdout",
     "output_type": "stream",
     "text": [
      "Accuracy so far =  0.430\n"
     ]
    },
    {
     "name": "stderr",
     "output_type": "stream",
     "text": [
      " 75%|███████▌  | 105/140 [00:03<00:01, 32.10it/s]"
     ]
    },
    {
     "name": "stdout",
     "output_type": "stream",
     "text": [
      "Accuracy so far =  0.390\n"
     ]
    },
    {
     "name": "stderr",
     "output_type": "stream",
     "text": [
      "100%|██████████| 140/140 [00:04<00:00, 31.71it/s]"
     ]
    },
    {
     "name": "stdout",
     "output_type": "stream",
     "text": [
      "Test accuracy:  0.409\n"
     ]
    },
    {
     "name": "stderr",
     "output_type": "stream",
     "text": [
      "\n"
     ]
    }
   ],
   "source": [
    "predictions=evaluate(model, test_data)"
   ]
  },
  {
   "cell_type": "code",
   "execution_count": 192,
   "metadata": {
    "colab": {
     "base_uri": "https://localhost:8080/",
     "height": 1000
    },
    "id": "ta5dkcQKt3Ii",
    "outputId": "747e39ad-8994-440e-b152-bad7246f1255"
   },
   "outputs": [
    {
     "data": {
      "text/html": [
       "\n",
       "  <div id=\"df-4e3fa412-7d44-4024-8ea0-665f13a69a57\">\n",
       "    <div class=\"colab-df-container\">\n",
       "      <div>\n",
       "<style scoped>\n",
       "    .dataframe tbody tr th:only-of-type {\n",
       "        vertical-align: middle;\n",
       "    }\n",
       "\n",
       "    .dataframe tbody tr th {\n",
       "        vertical-align: top;\n",
       "    }\n",
       "\n",
       "    .dataframe thead th {\n",
       "        text-align: right;\n",
       "    }\n",
       "</style>\n",
       "<table border=\"1\" class=\"dataframe\">\n",
       "  <thead>\n",
       "    <tr style=\"text-align: right;\">\n",
       "      <th></th>\n",
       "      <th>text</th>\n",
       "      <th>label</th>\n",
       "      <th>prediction</th>\n",
       "    </tr>\n",
       "  </thead>\n",
       "  <tbody>\n",
       "    <tr>\n",
       "      <th>1</th>\n",
       "      <td>Mostly because &lt;BOS&gt; the country would not las...</td>\n",
       "      <td>causal_oversimplification</td>\n",
       "      <td>appeal_to_fear_prejudice</td>\n",
       "    </tr>\n",
       "    <tr>\n",
       "      <th>2</th>\n",
       "      <td>Lyndon Johnson &lt;BOS&gt; gets Earl Warren and Sen....</td>\n",
       "      <td>appeal_to_fear_prejudice</td>\n",
       "      <td>appeal_to_fear_prejudice</td>\n",
       "    </tr>\n",
       "    <tr>\n",
       "      <th>4</th>\n",
       "      <td>It must be exacted from him directly in order ...</td>\n",
       "      <td>repetition</td>\n",
       "      <td>name_calling,labeling</td>\n",
       "    </tr>\n",
       "    <tr>\n",
       "      <th>5</th>\n",
       "      <td>Is it any wonder that priests and laity alike ...</td>\n",
       "      <td>name_calling,labeling</td>\n",
       "      <td>name_calling,labeling</td>\n",
       "    </tr>\n",
       "    <tr>\n",
       "      <th>6</th>\n",
       "      <td>Health workers have been asked to work with co...</td>\n",
       "      <td>loaded_language</td>\n",
       "      <td>appeal_to_fear_prejudice</td>\n",
       "    </tr>\n",
       "    <tr>\n",
       "      <th>8</th>\n",
       "      <td>Trump began his remarks by setting out &lt;BOS&gt; I...</td>\n",
       "      <td>flag_waving</td>\n",
       "      <td>appeal_to_fear_prejudice</td>\n",
       "    </tr>\n",
       "    <tr>\n",
       "      <th>9</th>\n",
       "      <td>&lt;BOS&gt; Now, the pope’s reply to my testimony wa...</td>\n",
       "      <td>doubt</td>\n",
       "      <td>causal_oversimplification</td>\n",
       "    </tr>\n",
       "    <tr>\n",
       "      <th>16</th>\n",
       "      <td>For Trump, that amounted to a &lt;BOS&gt; triumphant...</td>\n",
       "      <td>loaded_language</td>\n",
       "      <td>loaded_language</td>\n",
       "    </tr>\n",
       "    <tr>\n",
       "      <th>18</th>\n",
       "      <td>“It’s time for &lt;BOS&gt; our &lt;EOS&gt; leaders in Wash...</td>\n",
       "      <td>flag_waving</td>\n",
       "      <td>loaded_language</td>\n",
       "    </tr>\n",
       "    <tr>\n",
       "      <th>19</th>\n",
       "      <td>&lt;BOS&gt; This will not only serve to bolster the ...</td>\n",
       "      <td>appeal_to_fear_prejudice</td>\n",
       "      <td>appeal_to_fear_prejudice</td>\n",
       "    </tr>\n",
       "    <tr>\n",
       "      <th>20</th>\n",
       "      <td>&lt;BOS&gt; The local tradition is said to be one of...</td>\n",
       "      <td>causal_oversimplification</td>\n",
       "      <td>causal_oversimplification</td>\n",
       "    </tr>\n",
       "    <tr>\n",
       "      <th>22</th>\n",
       "      <td>In Alexandra, Virginia – &lt;BOS&gt; the suburban ho...</td>\n",
       "      <td>name_calling,labeling</td>\n",
       "      <td>name_calling,labeling</td>\n",
       "    </tr>\n",
       "    <tr>\n",
       "      <th>26</th>\n",
       "      <td>President Trump’s summit Monday with Russian P...</td>\n",
       "      <td>exaggeration,minimisation</td>\n",
       "      <td>loaded_language</td>\n",
       "    </tr>\n",
       "    <tr>\n",
       "      <th>27</th>\n",
       "      <td>The president suggested in a subsequent tweet ...</td>\n",
       "      <td>exaggeration,minimisation</td>\n",
       "      <td>exaggeration,minimisation</td>\n",
       "    </tr>\n",
       "    <tr>\n",
       "      <th>28</th>\n",
       "      <td>And &lt;BOS&gt; we are immensely grateful for all th...</td>\n",
       "      <td>exaggeration,minimisation</td>\n",
       "      <td>exaggeration,minimisation</td>\n",
       "    </tr>\n",
       "    <tr>\n",
       "      <th>29</th>\n",
       "      <td>The interview began with the statement Bernste...</td>\n",
       "      <td>name_calling,labeling</td>\n",
       "      <td>name_calling,labeling</td>\n",
       "    </tr>\n",
       "    <tr>\n",
       "      <th>33</th>\n",
       "      <td>ICE deportation officers carry out targeted en...</td>\n",
       "      <td>flag_waving</td>\n",
       "      <td>exaggeration,minimisation</td>\n",
       "    </tr>\n",
       "    <tr>\n",
       "      <th>35</th>\n",
       "      <td>“We do not understand the determination and pr...</td>\n",
       "      <td>loaded_language</td>\n",
       "      <td>name_calling,labeling</td>\n",
       "    </tr>\n",
       "    <tr>\n",
       "      <th>39</th>\n",
       "      <td>&lt;BOS&gt; Why are your bishops silent on a threat ...</td>\n",
       "      <td>doubt</td>\n",
       "      <td>doubt</td>\n",
       "    </tr>\n",
       "    <tr>\n",
       "      <th>44</th>\n",
       "      <td>&lt;BOS&gt; Of course they can't cope &lt;EOS&gt;.</td>\n",
       "      <td>doubt</td>\n",
       "      <td>exaggeration,minimisation</td>\n",
       "    </tr>\n",
       "    <tr>\n",
       "      <th>47</th>\n",
       "      <td>&lt;BOS&gt; They had a right &lt;EOS&gt; to find out about...</td>\n",
       "      <td>repetition</td>\n",
       "      <td>loaded_language</td>\n",
       "    </tr>\n",
       "    <tr>\n",
       "      <th>48</th>\n",
       "      <td>&lt;BOS&gt; Not a one &lt;EOS&gt;.</td>\n",
       "      <td>exaggeration,minimisation</td>\n",
       "      <td>loaded_language</td>\n",
       "    </tr>\n",
       "    <tr>\n",
       "      <th>49</th>\n",
       "      <td>WASHINGTON, D.C., February 12, 2018 (LifeSiteN...</td>\n",
       "      <td>name_calling,labeling</td>\n",
       "      <td>name_calling,labeling</td>\n",
       "    </tr>\n",
       "    <tr>\n",
       "      <th>50</th>\n",
       "      <td>My guess is that one of two things will occur ...</td>\n",
       "      <td>exaggeration,minimisation</td>\n",
       "      <td>loaded_language</td>\n",
       "    </tr>\n",
       "    <tr>\n",
       "      <th>52</th>\n",
       "      <td>&lt;BOS&gt; Instead of reaching out to the greatest ...</td>\n",
       "      <td>doubt</td>\n",
       "      <td>causal_oversimplification</td>\n",
       "    </tr>\n",
       "    <tr>\n",
       "      <th>53</th>\n",
       "      <td>&lt;BOS&gt; Interestingly &lt;EOS&gt;, there are also repo...</td>\n",
       "      <td>doubt</td>\n",
       "      <td>loaded_language</td>\n",
       "    </tr>\n",
       "    <tr>\n",
       "      <th>55</th>\n",
       "      <td>&lt;BOS&gt; We have no choice but to clean up our go...</td>\n",
       "      <td>appeal_to_fear_prejudice</td>\n",
       "      <td>appeal_to_fear_prejudice</td>\n",
       "    </tr>\n",
       "    <tr>\n",
       "      <th>60</th>\n",
       "      <td>&lt;BOS&gt; Bob Mueller is totally conflicted, and h...</td>\n",
       "      <td>flag_waving</td>\n",
       "      <td>name_calling,labeling</td>\n",
       "    </tr>\n",
       "    <tr>\n",
       "      <th>61</th>\n",
       "      <td>&lt;BOS&gt; The Muslim photographer Askia Muhammad, ...</td>\n",
       "      <td>doubt</td>\n",
       "      <td>causal_oversimplification</td>\n",
       "    </tr>\n",
       "    <tr>\n",
       "      <th>62</th>\n",
       "      <td>SMITH: “… &lt;BOS&gt; We don’t, do we have to let [t...</td>\n",
       "      <td>appeal_to_fear_prejudice</td>\n",
       "      <td>doubt</td>\n",
       "    </tr>\n",
       "    <tr>\n",
       "      <th>63</th>\n",
       "      <td>“I must, in the strongest of terms, ask Mexico...</td>\n",
       "      <td>flag_waving</td>\n",
       "      <td>appeal_to_fear_prejudice</td>\n",
       "    </tr>\n",
       "    <tr>\n",
       "      <th>65</th>\n",
       "      <td>This was precisely what he’d been saying when ...</td>\n",
       "      <td>exaggeration,minimisation</td>\n",
       "      <td>causal_oversimplification</td>\n",
       "    </tr>\n",
       "    <tr>\n",
       "      <th>68</th>\n",
       "      <td>&lt;BOS&gt; It is on all of us to debunk them and to...</td>\n",
       "      <td>appeal_to_fear_prejudice</td>\n",
       "      <td>appeal_to_fear_prejudice</td>\n",
       "    </tr>\n",
       "    <tr>\n",
       "      <th>71</th>\n",
       "      <td>At this same rally, a &lt;BOS&gt; white nationalist ...</td>\n",
       "      <td>appeal_to_fear_prejudice</td>\n",
       "      <td>appeal_to_fear_prejudice</td>\n",
       "    </tr>\n",
       "    <tr>\n",
       "      <th>72</th>\n",
       "      <td>&lt;BOS&gt; While most readers with functional criti...</td>\n",
       "      <td>doubt</td>\n",
       "      <td>causal_oversimplification</td>\n",
       "    </tr>\n",
       "    <tr>\n",
       "      <th>77</th>\n",
       "      <td>&lt;BOS&gt; The American people are not going to put...</td>\n",
       "      <td>flag_waving</td>\n",
       "      <td>appeal_to_fear_prejudice</td>\n",
       "    </tr>\n",
       "    <tr>\n",
       "      <th>78</th>\n",
       "      <td>&lt;BOS&gt; You have to whip them up into a frenzy i...</td>\n",
       "      <td>exaggeration,minimisation</td>\n",
       "      <td>appeal_to_fear_prejudice</td>\n",
       "    </tr>\n",
       "    <tr>\n",
       "      <th>79</th>\n",
       "      <td>Murillo’s email continues by including another...</td>\n",
       "      <td>flag_waving</td>\n",
       "      <td>exaggeration,minimisation</td>\n",
       "    </tr>\n",
       "    <tr>\n",
       "      <th>80</th>\n",
       "      <td>&lt;BOS&gt; Irony of ironies &lt;EOS&gt;, he is now reduce...</td>\n",
       "      <td>loaded_language</td>\n",
       "      <td>loaded_language</td>\n",
       "    </tr>\n",
       "    <tr>\n",
       "      <th>84</th>\n",
       "      <td>Many nations, notably England, France, Sweden,...</td>\n",
       "      <td>loaded_language</td>\n",
       "      <td>exaggeration,minimisation</td>\n",
       "    </tr>\n",
       "    <tr>\n",
       "      <th>85</th>\n",
       "      <td>An outbreak of the plague in Madagascar is spr...</td>\n",
       "      <td>loaded_language</td>\n",
       "      <td>loaded_language</td>\n",
       "    </tr>\n",
       "    <tr>\n",
       "      <th>87</th>\n",
       "      <td>It is possible, but &lt;BOS&gt; we do not know &lt;EOS&gt;.</td>\n",
       "      <td>repetition</td>\n",
       "      <td>doubt</td>\n",
       "    </tr>\n",
       "    <tr>\n",
       "      <th>88</th>\n",
       "      <td>And guess what, &lt;BOS&gt; next time a man is nomin...</td>\n",
       "      <td>appeal_to_fear_prejudice</td>\n",
       "      <td>appeal_to_fear_prejudice</td>\n",
       "    </tr>\n",
       "    <tr>\n",
       "      <th>90</th>\n",
       "      <td>&lt;BOS&gt; Instead of reaching out to the greatest ...</td>\n",
       "      <td>flag_waving</td>\n",
       "      <td>causal_oversimplification</td>\n",
       "    </tr>\n",
       "    <tr>\n",
       "      <th>91</th>\n",
       "      <td>She failed to lay a glove on a witness whose i...</td>\n",
       "      <td>loaded_language</td>\n",
       "      <td>exaggeration,minimisation</td>\n",
       "    </tr>\n",
       "    <tr>\n",
       "      <th>92</th>\n",
       "      <td>He praised the rapid response from WHO and Mad...</td>\n",
       "      <td>appeal_to_fear_prejudice</td>\n",
       "      <td>appeal_to_fear_prejudice</td>\n",
       "    </tr>\n",
       "    <tr>\n",
       "      <th>94</th>\n",
       "      <td>Thanks to President Trump and the CIA’s decisi...</td>\n",
       "      <td>repetition</td>\n",
       "      <td>name_calling,labeling</td>\n",
       "    </tr>\n",
       "    <tr>\n",
       "      <th>95</th>\n",
       "      <td>&lt;BOS&gt; The enemy is not only at the gates but h...</td>\n",
       "      <td>appeal_to_fear_prejudice</td>\n",
       "      <td>appeal_to_fear_prejudice</td>\n",
       "    </tr>\n",
       "    <tr>\n",
       "      <th>97</th>\n",
       "      <td>This is gross dereliction of duty, and &lt;BOS&gt; w...</td>\n",
       "      <td>flag_waving</td>\n",
       "      <td>appeal_to_fear_prejudice</td>\n",
       "    </tr>\n",
       "    <tr>\n",
       "      <th>99</th>\n",
       "      <td>Should the disease actually spread to the Afri...</td>\n",
       "      <td>appeal_to_fear_prejudice</td>\n",
       "      <td>appeal_to_fear_prejudice</td>\n",
       "    </tr>\n",
       "  </tbody>\n",
       "</table>\n",
       "</div>\n",
       "      <button class=\"colab-df-convert\" onclick=\"convertToInteractive('df-4e3fa412-7d44-4024-8ea0-665f13a69a57')\"\n",
       "              title=\"Convert this dataframe to an interactive table.\"\n",
       "              style=\"display:none;\">\n",
       "        \n",
       "  <svg xmlns=\"http://www.w3.org/2000/svg\" height=\"24px\"viewBox=\"0 0 24 24\"\n",
       "       width=\"24px\">\n",
       "    <path d=\"M0 0h24v24H0V0z\" fill=\"none\"/>\n",
       "    <path d=\"M18.56 5.44l.94 2.06.94-2.06 2.06-.94-2.06-.94-.94-2.06-.94 2.06-2.06.94zm-11 1L8.5 8.5l.94-2.06 2.06-.94-2.06-.94L8.5 2.5l-.94 2.06-2.06.94zm10 10l.94 2.06.94-2.06 2.06-.94-2.06-.94-.94-2.06-.94 2.06-2.06.94z\"/><path d=\"M17.41 7.96l-1.37-1.37c-.4-.4-.92-.59-1.43-.59-.52 0-1.04.2-1.43.59L10.3 9.45l-7.72 7.72c-.78.78-.78 2.05 0 2.83L4 21.41c.39.39.9.59 1.41.59.51 0 1.02-.2 1.41-.59l7.78-7.78 2.81-2.81c.8-.78.8-2.07 0-2.86zM5.41 20L4 18.59l7.72-7.72 1.47 1.35L5.41 20z\"/>\n",
       "  </svg>\n",
       "      </button>\n",
       "      \n",
       "  <style>\n",
       "    .colab-df-container {\n",
       "      display:flex;\n",
       "      flex-wrap:wrap;\n",
       "      gap: 12px;\n",
       "    }\n",
       "\n",
       "    .colab-df-convert {\n",
       "      background-color: #E8F0FE;\n",
       "      border: none;\n",
       "      border-radius: 50%;\n",
       "      cursor: pointer;\n",
       "      display: none;\n",
       "      fill: #1967D2;\n",
       "      height: 32px;\n",
       "      padding: 0 0 0 0;\n",
       "      width: 32px;\n",
       "    }\n",
       "\n",
       "    .colab-df-convert:hover {\n",
       "      background-color: #E2EBFA;\n",
       "      box-shadow: 0px 1px 2px rgba(60, 64, 67, 0.3), 0px 1px 3px 1px rgba(60, 64, 67, 0.15);\n",
       "      fill: #174EA6;\n",
       "    }\n",
       "\n",
       "    [theme=dark] .colab-df-convert {\n",
       "      background-color: #3B4455;\n",
       "      fill: #D2E3FC;\n",
       "    }\n",
       "\n",
       "    [theme=dark] .colab-df-convert:hover {\n",
       "      background-color: #434B5C;\n",
       "      box-shadow: 0px 1px 3px 1px rgba(0, 0, 0, 0.15);\n",
       "      filter: drop-shadow(0px 1px 2px rgba(0, 0, 0, 0.3));\n",
       "      fill: #FFFFFF;\n",
       "    }\n",
       "  </style>\n",
       "\n",
       "      <script>\n",
       "        const buttonEl =\n",
       "          document.querySelector('#df-4e3fa412-7d44-4024-8ea0-665f13a69a57 button.colab-df-convert');\n",
       "        buttonEl.style.display =\n",
       "          google.colab.kernel.accessAllowed ? 'block' : 'none';\n",
       "\n",
       "        async function convertToInteractive(key) {\n",
       "          const element = document.querySelector('#df-4e3fa412-7d44-4024-8ea0-665f13a69a57');\n",
       "          const dataTable =\n",
       "            await google.colab.kernel.invokeFunction('convertToInteractive',\n",
       "                                                     [key], {});\n",
       "          if (!dataTable) return;\n",
       "\n",
       "          const docLinkHtml = 'Like what you see? Visit the ' +\n",
       "            '<a target=\"_blank\" href=https://colab.research.google.com/notebooks/data_table.ipynb>data table notebook</a>'\n",
       "            + ' to learn more about interactive tables.';\n",
       "          element.innerHTML = '';\n",
       "          dataTable['output_type'] = 'display_data';\n",
       "          await google.colab.output.renderOutput(dataTable, element);\n",
       "          const docLink = document.createElement('div');\n",
       "          docLink.innerHTML = docLinkHtml;\n",
       "          element.appendChild(docLink);\n",
       "        }\n",
       "      </script>\n",
       "    </div>\n",
       "  </div>\n",
       "  "
      ],
      "text/plain": [
       "                                                 text  \\\n",
       "1   Mostly because <BOS> the country would not las...   \n",
       "2   Lyndon Johnson <BOS> gets Earl Warren and Sen....   \n",
       "4   It must be exacted from him directly in order ...   \n",
       "5   Is it any wonder that priests and laity alike ...   \n",
       "6   Health workers have been asked to work with co...   \n",
       "8   Trump began his remarks by setting out <BOS> I...   \n",
       "9   <BOS> Now, the pope’s reply to my testimony wa...   \n",
       "16  For Trump, that amounted to a <BOS> triumphant...   \n",
       "18  “It’s time for <BOS> our <EOS> leaders in Wash...   \n",
       "19  <BOS> This will not only serve to bolster the ...   \n",
       "20  <BOS> The local tradition is said to be one of...   \n",
       "22  In Alexandra, Virginia – <BOS> the suburban ho...   \n",
       "26  President Trump’s summit Monday with Russian P...   \n",
       "27  The president suggested in a subsequent tweet ...   \n",
       "28  And <BOS> we are immensely grateful for all th...   \n",
       "29  The interview began with the statement Bernste...   \n",
       "33  ICE deportation officers carry out targeted en...   \n",
       "35  “We do not understand the determination and pr...   \n",
       "39  <BOS> Why are your bishops silent on a threat ...   \n",
       "44            <BOS> Of course they can't cope <EOS>.    \n",
       "47  <BOS> They had a right <EOS> to find out about...   \n",
       "48                            <BOS> Not a one <EOS>.    \n",
       "49  WASHINGTON, D.C., February 12, 2018 (LifeSiteN...   \n",
       "50  My guess is that one of two things will occur ...   \n",
       "52  <BOS> Instead of reaching out to the greatest ...   \n",
       "53  <BOS> Interestingly <EOS>, there are also repo...   \n",
       "55  <BOS> We have no choice but to clean up our go...   \n",
       "60  <BOS> Bob Mueller is totally conflicted, and h...   \n",
       "61  <BOS> The Muslim photographer Askia Muhammad, ...   \n",
       "62  SMITH: “… <BOS> We don’t, do we have to let [t...   \n",
       "63  “I must, in the strongest of terms, ask Mexico...   \n",
       "65  This was precisely what he’d been saying when ...   \n",
       "68  <BOS> It is on all of us to debunk them and to...   \n",
       "71  At this same rally, a <BOS> white nationalist ...   \n",
       "72  <BOS> While most readers with functional criti...   \n",
       "77  <BOS> The American people are not going to put...   \n",
       "78  <BOS> You have to whip them up into a frenzy i...   \n",
       "79  Murillo’s email continues by including another...   \n",
       "80  <BOS> Irony of ironies <EOS>, he is now reduce...   \n",
       "84  Many nations, notably England, France, Sweden,...   \n",
       "85  An outbreak of the plague in Madagascar is spr...   \n",
       "87   It is possible, but <BOS> we do not know <EOS>.    \n",
       "88  And guess what, <BOS> next time a man is nomin...   \n",
       "90  <BOS> Instead of reaching out to the greatest ...   \n",
       "91  She failed to lay a glove on a witness whose i...   \n",
       "92  He praised the rapid response from WHO and Mad...   \n",
       "94  Thanks to President Trump and the CIA’s decisi...   \n",
       "95  <BOS> The enemy is not only at the gates but h...   \n",
       "97  This is gross dereliction of duty, and <BOS> w...   \n",
       "99  Should the disease actually spread to the Afri...   \n",
       "\n",
       "                        label                 prediction  \n",
       "1   causal_oversimplification   appeal_to_fear_prejudice  \n",
       "2    appeal_to_fear_prejudice   appeal_to_fear_prejudice  \n",
       "4                  repetition      name_calling,labeling  \n",
       "5       name_calling,labeling      name_calling,labeling  \n",
       "6             loaded_language   appeal_to_fear_prejudice  \n",
       "8                 flag_waving   appeal_to_fear_prejudice  \n",
       "9                       doubt  causal_oversimplification  \n",
       "16            loaded_language            loaded_language  \n",
       "18                flag_waving            loaded_language  \n",
       "19   appeal_to_fear_prejudice   appeal_to_fear_prejudice  \n",
       "20  causal_oversimplification  causal_oversimplification  \n",
       "22      name_calling,labeling      name_calling,labeling  \n",
       "26  exaggeration,minimisation            loaded_language  \n",
       "27  exaggeration,minimisation  exaggeration,minimisation  \n",
       "28  exaggeration,minimisation  exaggeration,minimisation  \n",
       "29      name_calling,labeling      name_calling,labeling  \n",
       "33                flag_waving  exaggeration,minimisation  \n",
       "35            loaded_language      name_calling,labeling  \n",
       "39                      doubt                      doubt  \n",
       "44                      doubt  exaggeration,minimisation  \n",
       "47                 repetition            loaded_language  \n",
       "48  exaggeration,minimisation            loaded_language  \n",
       "49      name_calling,labeling      name_calling,labeling  \n",
       "50  exaggeration,minimisation            loaded_language  \n",
       "52                      doubt  causal_oversimplification  \n",
       "53                      doubt            loaded_language  \n",
       "55   appeal_to_fear_prejudice   appeal_to_fear_prejudice  \n",
       "60                flag_waving      name_calling,labeling  \n",
       "61                      doubt  causal_oversimplification  \n",
       "62   appeal_to_fear_prejudice                      doubt  \n",
       "63                flag_waving   appeal_to_fear_prejudice  \n",
       "65  exaggeration,minimisation  causal_oversimplification  \n",
       "68   appeal_to_fear_prejudice   appeal_to_fear_prejudice  \n",
       "71   appeal_to_fear_prejudice   appeal_to_fear_prejudice  \n",
       "72                      doubt  causal_oversimplification  \n",
       "77                flag_waving   appeal_to_fear_prejudice  \n",
       "78  exaggeration,minimisation   appeal_to_fear_prejudice  \n",
       "79                flag_waving  exaggeration,minimisation  \n",
       "80            loaded_language            loaded_language  \n",
       "84            loaded_language  exaggeration,minimisation  \n",
       "85            loaded_language            loaded_language  \n",
       "87                 repetition                      doubt  \n",
       "88   appeal_to_fear_prejudice   appeal_to_fear_prejudice  \n",
       "90                flag_waving  causal_oversimplification  \n",
       "91            loaded_language  exaggeration,minimisation  \n",
       "92   appeal_to_fear_prejudice   appeal_to_fear_prejudice  \n",
       "94                 repetition      name_calling,labeling  \n",
       "95   appeal_to_fear_prejudice   appeal_to_fear_prejudice  \n",
       "97                flag_waving   appeal_to_fear_prejudice  \n",
       "99   appeal_to_fear_prejudice   appeal_to_fear_prejudice  "
      ]
     },
     "execution_count": 192,
     "metadata": {},
     "output_type": "execute_result"
    }
   ],
   "source": [
    "flattened=[]\n",
    "for batch in predictions:\n",
    "  for pred in batch:\n",
    "    flattened.append(reverse_index[pred.item()])\n",
    "validation_df_tc[\"prediction\"]=flattened\n",
    "validation_df_tc.head(50)"
   ]
  },
  {
   "cell_type": "code",
   "execution_count": 193,
   "metadata": {
    "id": "vszixTRGT50I"
   },
   "outputs": [],
   "source": [
    "all_labels=validation_df_tc['label']\n",
    "all_predictions=validation_df_tc['prediction']"
   ]
  },
  {
   "cell_type": "code",
   "execution_count": 194,
   "metadata": {
    "colab": {
     "base_uri": "https://localhost:8080/"
    },
    "id": "YyVHpr-9xlBN",
    "outputId": "3ac8bebe-723c-479a-a8ad-bd762eb8cc01"
   },
   "outputs": [
    {
     "name": "stdout",
     "output_type": "stream",
     "text": [
      "Precision Task Classification for ROBERTA model {'appeal_to_fear_prejudice': 0.4931506849315068, 'name_calling,labeling': 0.525, 'loaded_language': 0.28, 'causal_oversimplification': 0.4339622641509434, 'exaggeration,minimisation': 0.21568627450980393, 'doubt': 0.75}\n",
      "Recall Task Classification for ROBERTA  model {'appeal_to_fear_prejudice': 0.8372093023255814, 'name_calling,labeling': 0.6774193548387096, 'loaded_language': 0.3783783783783784, 'causal_oversimplification': 0.7419354838709677, 'exaggeration,minimisation': 0.39285714285714285, 'doubt': 0.23684210526315788}\n",
      "F1 Task Classification for ROBERTA  model {'appeal_to_fear_prejudice': 0.6206896551724138, 'name_calling,labeling': 0.5915492957746479, 'loaded_language': 0.3218390804597701, 'causal_oversimplification': 0.5476190476190477, 'exaggeration,minimisation': 0.27848101265822783, 'doubt': 0.36}\n"
     ]
    }
   ],
   "source": [
    "model_metrics(labels=labels,all_labels=all_labels,all_predictions=all_predictions,model_name=\"ROBERTA\",task_name=\"Task Classification\")"
   ]
  },
  {
   "cell_type": "markdown",
   "metadata": {
    "id": "BRz7Md7HKzZ7"
   },
   "source": [
    "# **References**"
   ]
  },
  {
   "cell_type": "markdown",
   "metadata": {
    "id": "BSZYtmmPkKPm"
   },
   "source": [
    "Rajapakse, T. (2023). Classification Specifics. [online] Simple Transformers. Available at: https://simpletransformers.ai/docs/classification-specifics/#supported-model-types [Accessed 26 Apr. 2023].\n",
    "\n",
    "Governor, S. (2023). This is my Youtube Playlist. [online] GitHub. Available at: https://github.com/shabbirg89/Youtube-2021/blob/main/Multiclass_Text_Classifier_LSTM.ipynb [Accessed 28 Apr. 2023].\n",
    "\n",
    "Giovanni Da San Martino, Alberto Barr´on-Cede˜no, Henning Wachsmuth, Rostislav Petrov, and Preslav Nakov. 2020. SemEval-2020 task 11: Detection of propaganda techniques in news articles\n",
    "\n",
    "‌Rajapakse, T. (2019). Simple Transformers — Multi-Class Text Classification with BERT, RoBERTa, XLNet, XLM, and…. [online] The Startup. Available at: https://medium.com/swlh/simple-transformers-multi-class-text-classification-with-bert-roberta-xlnet-xlm-and-8b585000ce3a [Accessed 26 Apr. 2023].\n",
    "\n",
    "Pennington, J. (2014). GloVe: Global Vectors for Word Representation. [online] Stanford.edu. Available at: https://nlp.stanford.edu/projects/glove/.\n",
    "\n",
    "Bhattacharyya, S. (2020). Classification using Long Short Term Memory & GloVe (Global Vectors for Word Representation). [online] Analytics Vidhya. Available at: https://medium.com/analytics-vidhya/classification-using-long-short-term-memory-glove-global-vectors-for-word-representation-254d02d5e158 [Accessed 26 Apr. 2023].\n",
    "\n",
    "Chawla, J.S. (2020). Word Vectorization using GloVe. [online] Analytics Vidhya. Available at: https://medium.com/analytics-vidhya/word-vectorization-using-glove-76919685ee0b.\n",
    "\n",
    "Wikipedia Contributors (2018). Long short-term memory. [online] Wikipedia. Available at: https://en.wikipedia.org/wiki/Long_short-term_memory.\n",
    "\n",
    "‌Raghav Aggarwal (2019). Bi-LSTM - Raghav Aggarwal - Medium. [online] Medium. Available at: https://medium.com/@raghavaggarwal0089/bi-lstm-bc3d68da8bd0.\n",
    "\n",
    "‌Lutkevich, B. (2020). What is BERT (Language Model) and How Does It Work? [online] SearchEnterpriseAI. Available at: https://www.techtarget.com/searchenterpriseai/definition/BERT-language-model.\n",
    "\n",
    "login.microsoftonline.com. (n.d.). Sign in to your account. [online] Available at: https://canvas.sussex.ac.uk/courses/22822/pages/week-slash-topic-6-transfer-learning-with-large-pretrained-models?wrap=1) [Accessed 28 Apr. 2023].\n",
    "\n",
    "‌\n",
    "\n",
    "\n",
    "\n",
    "‌\n",
    "‌\n",
    "‌\n",
    "‌"
   ]
  }
 ],
 "metadata": {
  "accelerator": "GPU",
  "colab": {
   "collapsed_sections": [
    "APzIvWqcKr1B"
   ],
   "gpuType": "T4",
   "provenance": []
  },
  "gpuClass": "standard",
  "kernelspec": {
   "display_name": "Python 3 (ipykernel)",
   "language": "python",
   "name": "python3"
  },
  "language_info": {
   "codemirror_mode": {
    "name": "ipython",
    "version": 3
   },
   "file_extension": ".py",
   "mimetype": "text/x-python",
   "name": "python",
   "nbconvert_exporter": "python",
   "pygments_lexer": "ipython3",
   "version": "3.11.2"
  },
  "widgets": {
   "application/vnd.jupyter.widget-state+json": {
    "005b97497bb74b33ad0ef13fabb580f2": {
     "model_module": "@jupyter-widgets/controls",
     "model_module_version": "1.5.0",
     "model_name": "DescriptionStyleModel",
     "state": {
      "_model_module": "@jupyter-widgets/controls",
      "_model_module_version": "1.5.0",
      "_model_name": "DescriptionStyleModel",
      "_view_count": null,
      "_view_module": "@jupyter-widgets/base",
      "_view_module_version": "1.2.0",
      "_view_name": "StyleView",
      "description_width": ""
     }
    },
    "04734b86fde5406c80dc1ca06e444c6e": {
     "model_module": "@jupyter-widgets/controls",
     "model_module_version": "1.5.0",
     "model_name": "HBoxModel",
     "state": {
      "_dom_classes": [],
      "_model_module": "@jupyter-widgets/controls",
      "_model_module_version": "1.5.0",
      "_model_name": "HBoxModel",
      "_view_count": null,
      "_view_module": "@jupyter-widgets/controls",
      "_view_module_version": "1.5.0",
      "_view_name": "HBoxView",
      "box_style": "",
      "children": [
       "IPY_MODEL_4d840f52588843cfbdf557785e7c6213",
       "IPY_MODEL_ebcfc24285e84fcd9c89ac5353684380",
       "IPY_MODEL_d62f38d204784bd3a25f94aaea1ebd3d"
      ],
      "layout": "IPY_MODEL_76f9b84000a343b0be0aac2893793ed2"
     }
    },
    "08223cc7e5394300bce868e470d8fb29": {
     "model_module": "@jupyter-widgets/controls",
     "model_module_version": "1.5.0",
     "model_name": "FloatProgressModel",
     "state": {
      "_dom_classes": [],
      "_model_module": "@jupyter-widgets/controls",
      "_model_module_version": "1.5.0",
      "_model_name": "FloatProgressModel",
      "_view_count": null,
      "_view_module": "@jupyter-widgets/controls",
      "_view_module_version": "1.5.0",
      "_view_name": "ProgressView",
      "bar_style": "success",
      "description": "",
      "description_tooltip": null,
      "layout": "IPY_MODEL_be39baa8ab634c04a94f9f52eaf02d9e",
      "max": 29,
      "min": 0,
      "orientation": "horizontal",
      "style": "IPY_MODEL_71c8915947fa4b69a45526a2ef41f6b1",
      "value": 29
     }
    },
    "0ae96519cd684bc7afe4ab31de5b4fe1": {
     "model_module": "@jupyter-widgets/controls",
     "model_module_version": "1.5.0",
     "model_name": "ProgressStyleModel",
     "state": {
      "_model_module": "@jupyter-widgets/controls",
      "_model_module_version": "1.5.0",
      "_model_name": "ProgressStyleModel",
      "_view_count": null,
      "_view_module": "@jupyter-widgets/base",
      "_view_module_version": "1.2.0",
      "_view_name": "StyleView",
      "bar_color": null,
      "description_width": ""
     }
    },
    "0c4b35f0baff4e54a498a78e3ace49a8": {
     "model_module": "@jupyter-widgets/controls",
     "model_module_version": "1.5.0",
     "model_name": "FloatProgressModel",
     "state": {
      "_dom_classes": [],
      "_model_module": "@jupyter-widgets/controls",
      "_model_module_version": "1.5.0",
      "_model_name": "FloatProgressModel",
      "_view_count": null,
      "_view_module": "@jupyter-widgets/controls",
      "_view_module_version": "1.5.0",
      "_view_name": "ProgressView",
      "bar_style": "success",
      "description": "",
      "description_tooltip": null,
      "layout": "IPY_MODEL_803c7af130ed45f2a8921aff96da79d0",
      "max": 898823,
      "min": 0,
      "orientation": "horizontal",
      "style": "IPY_MODEL_8df8f0ab773449899e99d5b16c1bd3b9",
      "value": 898823
     }
    },
    "0e7aa4bf1c82491f8ff5968f82440f25": {
     "model_module": "@jupyter-widgets/controls",
     "model_module_version": "1.5.0",
     "model_name": "DescriptionStyleModel",
     "state": {
      "_model_module": "@jupyter-widgets/controls",
      "_model_module_version": "1.5.0",
      "_model_name": "DescriptionStyleModel",
      "_view_count": null,
      "_view_module": "@jupyter-widgets/base",
      "_view_module_version": "1.2.0",
      "_view_name": "StyleView",
      "description_width": ""
     }
    },
    "0f418500825f405b800fec5e845ecac3": {
     "model_module": "@jupyter-widgets/base",
     "model_module_version": "1.2.0",
     "model_name": "LayoutModel",
     "state": {
      "_model_module": "@jupyter-widgets/base",
      "_model_module_version": "1.2.0",
      "_model_name": "LayoutModel",
      "_view_count": null,
      "_view_module": "@jupyter-widgets/base",
      "_view_module_version": "1.2.0",
      "_view_name": "LayoutView",
      "align_content": null,
      "align_items": null,
      "align_self": null,
      "border": null,
      "bottom": null,
      "display": null,
      "flex": null,
      "flex_flow": null,
      "grid_area": null,
      "grid_auto_columns": null,
      "grid_auto_flow": null,
      "grid_auto_rows": null,
      "grid_column": null,
      "grid_gap": null,
      "grid_row": null,
      "grid_template_areas": null,
      "grid_template_columns": null,
      "grid_template_rows": null,
      "height": null,
      "justify_content": null,
      "justify_items": null,
      "left": null,
      "margin": null,
      "max_height": null,
      "max_width": null,
      "min_height": null,
      "min_width": null,
      "object_fit": null,
      "object_position": null,
      "order": null,
      "overflow": null,
      "overflow_x": null,
      "overflow_y": null,
      "padding": null,
      "right": null,
      "top": null,
      "visibility": null,
      "width": null
     }
    },
    "100f7a4850d34048a85c32bfed420e93": {
     "model_module": "@jupyter-widgets/base",
     "model_module_version": "1.2.0",
     "model_name": "LayoutModel",
     "state": {
      "_model_module": "@jupyter-widgets/base",
      "_model_module_version": "1.2.0",
      "_model_name": "LayoutModel",
      "_view_count": null,
      "_view_module": "@jupyter-widgets/base",
      "_view_module_version": "1.2.0",
      "_view_name": "LayoutView",
      "align_content": null,
      "align_items": null,
      "align_self": null,
      "border": null,
      "bottom": null,
      "display": null,
      "flex": null,
      "flex_flow": null,
      "grid_area": null,
      "grid_auto_columns": null,
      "grid_auto_flow": null,
      "grid_auto_rows": null,
      "grid_column": null,
      "grid_gap": null,
      "grid_row": null,
      "grid_template_areas": null,
      "grid_template_columns": null,
      "grid_template_rows": null,
      "height": null,
      "justify_content": null,
      "justify_items": null,
      "left": null,
      "margin": null,
      "max_height": null,
      "max_width": null,
      "min_height": null,
      "min_width": null,
      "object_fit": null,
      "object_position": null,
      "order": null,
      "overflow": null,
      "overflow_x": null,
      "overflow_y": null,
      "padding": null,
      "right": null,
      "top": null,
      "visibility": null,
      "width": null
     }
    },
    "131e0bcc68c940348aeadf172bf6d583": {
     "model_module": "@jupyter-widgets/controls",
     "model_module_version": "1.5.0",
     "model_name": "DescriptionStyleModel",
     "state": {
      "_model_module": "@jupyter-widgets/controls",
      "_model_module_version": "1.5.0",
      "_model_name": "DescriptionStyleModel",
      "_view_count": null,
      "_view_module": "@jupyter-widgets/base",
      "_view_module_version": "1.2.0",
      "_view_name": "StyleView",
      "description_width": ""
     }
    },
    "15615190b04249d9b200cbc520428f4b": {
     "model_module": "@jupyter-widgets/controls",
     "model_module_version": "1.5.0",
     "model_name": "FloatProgressModel",
     "state": {
      "_dom_classes": [],
      "_model_module": "@jupyter-widgets/controls",
      "_model_module_version": "1.5.0",
      "_model_name": "FloatProgressModel",
      "_view_count": null,
      "_view_module": "@jupyter-widgets/controls",
      "_view_module_version": "1.5.0",
      "_view_name": "ProgressView",
      "bar_style": "success",
      "description": "",
      "description_tooltip": null,
      "layout": "IPY_MODEL_64494fb46d614a6e99a54a27f8e2a245",
      "max": 231508,
      "min": 0,
      "orientation": "horizontal",
      "style": "IPY_MODEL_7ae8eae61a0d43fca7a7b6570cba72ee",
      "value": 231508
     }
    },
    "1649d65759534d4aa7c31446e74c8c13": {
     "model_module": "@jupyter-widgets/base",
     "model_module_version": "1.2.0",
     "model_name": "LayoutModel",
     "state": {
      "_model_module": "@jupyter-widgets/base",
      "_model_module_version": "1.2.0",
      "_model_name": "LayoutModel",
      "_view_count": null,
      "_view_module": "@jupyter-widgets/base",
      "_view_module_version": "1.2.0",
      "_view_name": "LayoutView",
      "align_content": null,
      "align_items": null,
      "align_self": null,
      "border": null,
      "bottom": null,
      "display": null,
      "flex": null,
      "flex_flow": null,
      "grid_area": null,
      "grid_auto_columns": null,
      "grid_auto_flow": null,
      "grid_auto_rows": null,
      "grid_column": null,
      "grid_gap": null,
      "grid_row": null,
      "grid_template_areas": null,
      "grid_template_columns": null,
      "grid_template_rows": null,
      "height": null,
      "justify_content": null,
      "justify_items": null,
      "left": null,
      "margin": null,
      "max_height": null,
      "max_width": null,
      "min_height": null,
      "min_width": null,
      "object_fit": null,
      "object_position": null,
      "order": null,
      "overflow": null,
      "overflow_x": null,
      "overflow_y": null,
      "padding": null,
      "right": null,
      "top": null,
      "visibility": null,
      "width": null
     }
    },
    "16d4417b12724289916067c329454cc1": {
     "model_module": "@jupyter-widgets/controls",
     "model_module_version": "1.5.0",
     "model_name": "FloatProgressModel",
     "state": {
      "_dom_classes": [],
      "_model_module": "@jupyter-widgets/controls",
      "_model_module_version": "1.5.0",
      "_model_name": "FloatProgressModel",
      "_view_count": null,
      "_view_module": "@jupyter-widgets/controls",
      "_view_module_version": "1.5.0",
      "_view_name": "ProgressView",
      "bar_style": "success",
      "description": "",
      "description_tooltip": null,
      "layout": "IPY_MODEL_0f418500825f405b800fec5e845ecac3",
      "max": 570,
      "min": 0,
      "orientation": "horizontal",
      "style": "IPY_MODEL_d0514654ba1a4aacbe9fee360242fb7a",
      "value": 570
     }
    },
    "199f4e85504f4f06aa287ad8252435c2": {
     "model_module": "@jupyter-widgets/base",
     "model_module_version": "1.2.0",
     "model_name": "LayoutModel",
     "state": {
      "_model_module": "@jupyter-widgets/base",
      "_model_module_version": "1.2.0",
      "_model_name": "LayoutModel",
      "_view_count": null,
      "_view_module": "@jupyter-widgets/base",
      "_view_module_version": "1.2.0",
      "_view_name": "LayoutView",
      "align_content": null,
      "align_items": null,
      "align_self": null,
      "border": null,
      "bottom": null,
      "display": null,
      "flex": null,
      "flex_flow": null,
      "grid_area": null,
      "grid_auto_columns": null,
      "grid_auto_flow": null,
      "grid_auto_rows": null,
      "grid_column": null,
      "grid_gap": null,
      "grid_row": null,
      "grid_template_areas": null,
      "grid_template_columns": null,
      "grid_template_rows": null,
      "height": null,
      "justify_content": null,
      "justify_items": null,
      "left": null,
      "margin": null,
      "max_height": null,
      "max_width": null,
      "min_height": null,
      "min_width": null,
      "object_fit": null,
      "object_position": null,
      "order": null,
      "overflow": null,
      "overflow_x": null,
      "overflow_y": null,
      "padding": null,
      "right": null,
      "top": null,
      "visibility": null,
      "width": null
     }
    },
    "1aecc56232304529b22b0ac2b296a2f6": {
     "model_module": "@jupyter-widgets/controls",
     "model_module_version": "1.5.0",
     "model_name": "HTMLModel",
     "state": {
      "_dom_classes": [],
      "_model_module": "@jupyter-widgets/controls",
      "_model_module_version": "1.5.0",
      "_model_name": "HTMLModel",
      "_view_count": null,
      "_view_module": "@jupyter-widgets/controls",
      "_view_module_version": "1.5.0",
      "_view_name": "HTMLView",
      "description": "",
      "description_tooltip": null,
      "layout": "IPY_MODEL_474cf08d680b4ccd9f8d96c1ca08d98b",
      "placeholder": "​",
      "style": "IPY_MODEL_f6e5319a91ad4f099ce15198e00d06f6",
      "value": "Downloading (…)solve/main/vocab.txt: 100%"
     }
    },
    "1c017eb1f01440909badfa11b063ce8a": {
     "model_module": "@jupyter-widgets/controls",
     "model_module_version": "1.5.0",
     "model_name": "ProgressStyleModel",
     "state": {
      "_model_module": "@jupyter-widgets/controls",
      "_model_module_version": "1.5.0",
      "_model_name": "ProgressStyleModel",
      "_view_count": null,
      "_view_module": "@jupyter-widgets/base",
      "_view_module_version": "1.2.0",
      "_view_name": "StyleView",
      "bar_color": null,
      "description_width": ""
     }
    },
    "1c0918a25b364b32a71b533bfd154496": {
     "model_module": "@jupyter-widgets/controls",
     "model_module_version": "1.5.0",
     "model_name": "HTMLModel",
     "state": {
      "_dom_classes": [],
      "_model_module": "@jupyter-widgets/controls",
      "_model_module_version": "1.5.0",
      "_model_name": "HTMLModel",
      "_view_count": null,
      "_view_module": "@jupyter-widgets/controls",
      "_view_module_version": "1.5.0",
      "_view_name": "HTMLView",
      "description": "",
      "description_tooltip": null,
      "layout": "IPY_MODEL_7fb573a4562f493582933cae4692e897",
      "placeholder": "​",
      "style": "IPY_MODEL_6fd62a9b4dff4190bd9e80a2b94b2b3d",
      "value": "Downloading (…)lve/main/config.json: 100%"
     }
    },
    "20e12893a2ae4cd6aba226831809ae69": {
     "model_module": "@jupyter-widgets/controls",
     "model_module_version": "1.5.0",
     "model_name": "ProgressStyleModel",
     "state": {
      "_model_module": "@jupyter-widgets/controls",
      "_model_module_version": "1.5.0",
      "_model_name": "ProgressStyleModel",
      "_view_count": null,
      "_view_module": "@jupyter-widgets/base",
      "_view_module_version": "1.2.0",
      "_view_name": "StyleView",
      "bar_color": null,
      "description_width": ""
     }
    },
    "2c33c45ee0dc42ec8db3a61a40987818": {
     "model_module": "@jupyter-widgets/base",
     "model_module_version": "1.2.0",
     "model_name": "LayoutModel",
     "state": {
      "_model_module": "@jupyter-widgets/base",
      "_model_module_version": "1.2.0",
      "_model_name": "LayoutModel",
      "_view_count": null,
      "_view_module": "@jupyter-widgets/base",
      "_view_module_version": "1.2.0",
      "_view_name": "LayoutView",
      "align_content": null,
      "align_items": null,
      "align_self": null,
      "border": null,
      "bottom": null,
      "display": null,
      "flex": null,
      "flex_flow": null,
      "grid_area": null,
      "grid_auto_columns": null,
      "grid_auto_flow": null,
      "grid_auto_rows": null,
      "grid_column": null,
      "grid_gap": null,
      "grid_row": null,
      "grid_template_areas": null,
      "grid_template_columns": null,
      "grid_template_rows": null,
      "height": null,
      "justify_content": null,
      "justify_items": null,
      "left": null,
      "margin": null,
      "max_height": null,
      "max_width": null,
      "min_height": null,
      "min_width": null,
      "object_fit": null,
      "object_position": null,
      "order": null,
      "overflow": null,
      "overflow_x": null,
      "overflow_y": null,
      "padding": null,
      "right": null,
      "top": null,
      "visibility": null,
      "width": null
     }
    },
    "2c4ec37c9dea4f119e0b92b13c840c62": {
     "model_module": "@jupyter-widgets/controls",
     "model_module_version": "1.5.0",
     "model_name": "DescriptionStyleModel",
     "state": {
      "_model_module": "@jupyter-widgets/controls",
      "_model_module_version": "1.5.0",
      "_model_name": "DescriptionStyleModel",
      "_view_count": null,
      "_view_module": "@jupyter-widgets/base",
      "_view_module_version": "1.2.0",
      "_view_name": "StyleView",
      "description_width": ""
     }
    },
    "2d386cd53b6843a6946caaca2bdfd306": {
     "model_module": "@jupyter-widgets/controls",
     "model_module_version": "1.5.0",
     "model_name": "DescriptionStyleModel",
     "state": {
      "_model_module": "@jupyter-widgets/controls",
      "_model_module_version": "1.5.0",
      "_model_name": "DescriptionStyleModel",
      "_view_count": null,
      "_view_module": "@jupyter-widgets/base",
      "_view_module_version": "1.2.0",
      "_view_name": "StyleView",
      "description_width": ""
     }
    },
    "2da04ff757354e68b504dbfe27289ca2": {
     "model_module": "@jupyter-widgets/controls",
     "model_module_version": "1.5.0",
     "model_name": "DescriptionStyleModel",
     "state": {
      "_model_module": "@jupyter-widgets/controls",
      "_model_module_version": "1.5.0",
      "_model_name": "DescriptionStyleModel",
      "_view_count": null,
      "_view_module": "@jupyter-widgets/base",
      "_view_module_version": "1.2.0",
      "_view_name": "StyleView",
      "description_width": ""
     }
    },
    "2f8ece3ca66d4a9f9833dbf288c43ae3": {
     "model_module": "@jupyter-widgets/base",
     "model_module_version": "1.2.0",
     "model_name": "LayoutModel",
     "state": {
      "_model_module": "@jupyter-widgets/base",
      "_model_module_version": "1.2.0",
      "_model_name": "LayoutModel",
      "_view_count": null,
      "_view_module": "@jupyter-widgets/base",
      "_view_module_version": "1.2.0",
      "_view_name": "LayoutView",
      "align_content": null,
      "align_items": null,
      "align_self": null,
      "border": null,
      "bottom": null,
      "display": null,
      "flex": null,
      "flex_flow": null,
      "grid_area": null,
      "grid_auto_columns": null,
      "grid_auto_flow": null,
      "grid_auto_rows": null,
      "grid_column": null,
      "grid_gap": null,
      "grid_row": null,
      "grid_template_areas": null,
      "grid_template_columns": null,
      "grid_template_rows": null,
      "height": null,
      "justify_content": null,
      "justify_items": null,
      "left": null,
      "margin": null,
      "max_height": null,
      "max_width": null,
      "min_height": null,
      "min_width": null,
      "object_fit": null,
      "object_position": null,
      "order": null,
      "overflow": null,
      "overflow_x": null,
      "overflow_y": null,
      "padding": null,
      "right": null,
      "top": null,
      "visibility": null,
      "width": null
     }
    },
    "3020656db448400b8fa0a0956c455403": {
     "model_module": "@jupyter-widgets/base",
     "model_module_version": "1.2.0",
     "model_name": "LayoutModel",
     "state": {
      "_model_module": "@jupyter-widgets/base",
      "_model_module_version": "1.2.0",
      "_model_name": "LayoutModel",
      "_view_count": null,
      "_view_module": "@jupyter-widgets/base",
      "_view_module_version": "1.2.0",
      "_view_name": "LayoutView",
      "align_content": null,
      "align_items": null,
      "align_self": null,
      "border": null,
      "bottom": null,
      "display": null,
      "flex": null,
      "flex_flow": null,
      "grid_area": null,
      "grid_auto_columns": null,
      "grid_auto_flow": null,
      "grid_auto_rows": null,
      "grid_column": null,
      "grid_gap": null,
      "grid_row": null,
      "grid_template_areas": null,
      "grid_template_columns": null,
      "grid_template_rows": null,
      "height": null,
      "justify_content": null,
      "justify_items": null,
      "left": null,
      "margin": null,
      "max_height": null,
      "max_width": null,
      "min_height": null,
      "min_width": null,
      "object_fit": null,
      "object_position": null,
      "order": null,
      "overflow": null,
      "overflow_x": null,
      "overflow_y": null,
      "padding": null,
      "right": null,
      "top": null,
      "visibility": null,
      "width": null
     }
    },
    "310a1b56acac47c982700e64748dedf0": {
     "model_module": "@jupyter-widgets/controls",
     "model_module_version": "1.5.0",
     "model_name": "HTMLModel",
     "state": {
      "_dom_classes": [],
      "_model_module": "@jupyter-widgets/controls",
      "_model_module_version": "1.5.0",
      "_model_name": "HTMLModel",
      "_view_count": null,
      "_view_module": "@jupyter-widgets/controls",
      "_view_module_version": "1.5.0",
      "_view_name": "HTMLView",
      "description": "",
      "description_tooltip": null,
      "layout": "IPY_MODEL_b65d738f69484a6bbf5e08719e92a05f",
      "placeholder": "​",
      "style": "IPY_MODEL_ae15a8f6a32a40e4b9815352d088baca",
      "value": "Downloading (…)solve/main/vocab.txt: 100%"
     }
    },
    "31e867ce10e943ed8dca85843359bbec": {
     "model_module": "@jupyter-widgets/controls",
     "model_module_version": "1.5.0",
     "model_name": "HTMLModel",
     "state": {
      "_dom_classes": [],
      "_model_module": "@jupyter-widgets/controls",
      "_model_module_version": "1.5.0",
      "_model_name": "HTMLModel",
      "_view_count": null,
      "_view_module": "@jupyter-widgets/controls",
      "_view_module_version": "1.5.0",
      "_view_name": "HTMLView",
      "description": "",
      "description_tooltip": null,
      "layout": "IPY_MODEL_2c33c45ee0dc42ec8db3a61a40987818",
      "placeholder": "​",
      "style": "IPY_MODEL_2c4ec37c9dea4f119e0b92b13c840c62",
      "value": " 481/481 [00:00&lt;00:00, 27.9kB/s]"
     }
    },
    "32fbff6377e443b98874d41fd28fc7c2": {
     "model_module": "@jupyter-widgets/base",
     "model_module_version": "1.2.0",
     "model_name": "LayoutModel",
     "state": {
      "_model_module": "@jupyter-widgets/base",
      "_model_module_version": "1.2.0",
      "_model_name": "LayoutModel",
      "_view_count": null,
      "_view_module": "@jupyter-widgets/base",
      "_view_module_version": "1.2.0",
      "_view_name": "LayoutView",
      "align_content": null,
      "align_items": null,
      "align_self": null,
      "border": null,
      "bottom": null,
      "display": null,
      "flex": null,
      "flex_flow": null,
      "grid_area": null,
      "grid_auto_columns": null,
      "grid_auto_flow": null,
      "grid_auto_rows": null,
      "grid_column": null,
      "grid_gap": null,
      "grid_row": null,
      "grid_template_areas": null,
      "grid_template_columns": null,
      "grid_template_rows": null,
      "height": null,
      "justify_content": null,
      "justify_items": null,
      "left": null,
      "margin": null,
      "max_height": null,
      "max_width": null,
      "min_height": null,
      "min_width": null,
      "object_fit": null,
      "object_position": null,
      "order": null,
      "overflow": null,
      "overflow_x": null,
      "overflow_y": null,
      "padding": null,
      "right": null,
      "top": null,
      "visibility": null,
      "width": null
     }
    },
    "330b30d0ff2d4699abcbf5d48da653a0": {
     "model_module": "@jupyter-widgets/base",
     "model_module_version": "1.2.0",
     "model_name": "LayoutModel",
     "state": {
      "_model_module": "@jupyter-widgets/base",
      "_model_module_version": "1.2.0",
      "_model_name": "LayoutModel",
      "_view_count": null,
      "_view_module": "@jupyter-widgets/base",
      "_view_module_version": "1.2.0",
      "_view_name": "LayoutView",
      "align_content": null,
      "align_items": null,
      "align_self": null,
      "border": null,
      "bottom": null,
      "display": null,
      "flex": null,
      "flex_flow": null,
      "grid_area": null,
      "grid_auto_columns": null,
      "grid_auto_flow": null,
      "grid_auto_rows": null,
      "grid_column": null,
      "grid_gap": null,
      "grid_row": null,
      "grid_template_areas": null,
      "grid_template_columns": null,
      "grid_template_rows": null,
      "height": null,
      "justify_content": null,
      "justify_items": null,
      "left": null,
      "margin": null,
      "max_height": null,
      "max_width": null,
      "min_height": null,
      "min_width": null,
      "object_fit": null,
      "object_position": null,
      "order": null,
      "overflow": null,
      "overflow_x": null,
      "overflow_y": null,
      "padding": null,
      "right": null,
      "top": null,
      "visibility": null,
      "width": null
     }
    },
    "338d8cdf434f455e9b477e1c86641b44": {
     "model_module": "@jupyter-widgets/controls",
     "model_module_version": "1.5.0",
     "model_name": "HTMLModel",
     "state": {
      "_dom_classes": [],
      "_model_module": "@jupyter-widgets/controls",
      "_model_module_version": "1.5.0",
      "_model_name": "HTMLModel",
      "_view_count": null,
      "_view_module": "@jupyter-widgets/controls",
      "_view_module_version": "1.5.0",
      "_view_name": "HTMLView",
      "description": "",
      "description_tooltip": null,
      "layout": "IPY_MODEL_3020656db448400b8fa0a0956c455403",
      "placeholder": "​",
      "style": "IPY_MODEL_f1f4253d4d794b5f97f568097f6c3c18",
      "value": " 456k/456k [00:00&lt;00:00, 6.13MB/s]"
     }
    },
    "3661f94035bd4ed591e9a0fb7844e0ac": {
     "model_module": "@jupyter-widgets/controls",
     "model_module_version": "1.5.0",
     "model_name": "DescriptionStyleModel",
     "state": {
      "_model_module": "@jupyter-widgets/controls",
      "_model_module_version": "1.5.0",
      "_model_name": "DescriptionStyleModel",
      "_view_count": null,
      "_view_module": "@jupyter-widgets/base",
      "_view_module_version": "1.2.0",
      "_view_name": "StyleView",
      "description_width": ""
     }
    },
    "37d3f50f106c4fb49903dabb217de4b3": {
     "model_module": "@jupyter-widgets/controls",
     "model_module_version": "1.5.0",
     "model_name": "DescriptionStyleModel",
     "state": {
      "_model_module": "@jupyter-widgets/controls",
      "_model_module_version": "1.5.0",
      "_model_name": "DescriptionStyleModel",
      "_view_count": null,
      "_view_module": "@jupyter-widgets/base",
      "_view_module_version": "1.2.0",
      "_view_name": "StyleView",
      "description_width": ""
     }
    },
    "3ae86cd629d54864b873c0ab0f6e476f": {
     "model_module": "@jupyter-widgets/controls",
     "model_module_version": "1.5.0",
     "model_name": "HBoxModel",
     "state": {
      "_dom_classes": [],
      "_model_module": "@jupyter-widgets/controls",
      "_model_module_version": "1.5.0",
      "_model_name": "HBoxModel",
      "_view_count": null,
      "_view_module": "@jupyter-widgets/controls",
      "_view_module_version": "1.5.0",
      "_view_name": "HBoxView",
      "box_style": "",
      "children": [
       "IPY_MODEL_c7a81bce8a8c400fabc9000d9b5c1dce",
       "IPY_MODEL_876bba4582834ace869d223c1ed3bf98",
       "IPY_MODEL_f3dd016ac27146c0ad3d009328327a7a"
      ],
      "layout": "IPY_MODEL_9d5c2c789f4a48219deb141880e44afb"
     }
    },
    "40e2f5400bf547f0ad5d49a785db17e4": {
     "model_module": "@jupyter-widgets/controls",
     "model_module_version": "1.5.0",
     "model_name": "HTMLModel",
     "state": {
      "_dom_classes": [],
      "_model_module": "@jupyter-widgets/controls",
      "_model_module_version": "1.5.0",
      "_model_name": "HTMLModel",
      "_view_count": null,
      "_view_module": "@jupyter-widgets/controls",
      "_view_module_version": "1.5.0",
      "_view_name": "HTMLView",
      "description": "",
      "description_tooltip": null,
      "layout": "IPY_MODEL_e9987f74b59849b5beb1d7f758113052",
      "placeholder": "​",
      "style": "IPY_MODEL_2d386cd53b6843a6946caaca2bdfd306",
      "value": " 232k/232k [00:00&lt;00:00, 1.77MB/s]"
     }
    },
    "437855c08ad447c9810fd1aaefa784f6": {
     "model_module": "@jupyter-widgets/base",
     "model_module_version": "1.2.0",
     "model_name": "LayoutModel",
     "state": {
      "_model_module": "@jupyter-widgets/base",
      "_model_module_version": "1.2.0",
      "_model_name": "LayoutModel",
      "_view_count": null,
      "_view_module": "@jupyter-widgets/base",
      "_view_module_version": "1.2.0",
      "_view_name": "LayoutView",
      "align_content": null,
      "align_items": null,
      "align_self": null,
      "border": null,
      "bottom": null,
      "display": null,
      "flex": null,
      "flex_flow": null,
      "grid_area": null,
      "grid_auto_columns": null,
      "grid_auto_flow": null,
      "grid_auto_rows": null,
      "grid_column": null,
      "grid_gap": null,
      "grid_row": null,
      "grid_template_areas": null,
      "grid_template_columns": null,
      "grid_template_rows": null,
      "height": null,
      "justify_content": null,
      "justify_items": null,
      "left": null,
      "margin": null,
      "max_height": null,
      "max_width": null,
      "min_height": null,
      "min_width": null,
      "object_fit": null,
      "object_position": null,
      "order": null,
      "overflow": null,
      "overflow_x": null,
      "overflow_y": null,
      "padding": null,
      "right": null,
      "top": null,
      "visibility": null,
      "width": null
     }
    },
    "44ff8f6dab2a47889d0e5158f65992d9": {
     "model_module": "@jupyter-widgets/controls",
     "model_module_version": "1.5.0",
     "model_name": "HTMLModel",
     "state": {
      "_dom_classes": [],
      "_model_module": "@jupyter-widgets/controls",
      "_model_module_version": "1.5.0",
      "_model_name": "HTMLModel",
      "_view_count": null,
      "_view_module": "@jupyter-widgets/controls",
      "_view_module_version": "1.5.0",
      "_view_name": "HTMLView",
      "description": "",
      "description_tooltip": null,
      "layout": "IPY_MODEL_79ae0cef20804e93920e252ba3ed5390",
      "placeholder": "​",
      "style": "IPY_MODEL_0e7aa4bf1c82491f8ff5968f82440f25",
      "value": " 570/570 [00:00&lt;00:00, 15.1kB/s]"
     }
    },
    "45d6776fc41b4e229980d11b9fad9208": {
     "model_module": "@jupyter-widgets/base",
     "model_module_version": "1.2.0",
     "model_name": "LayoutModel",
     "state": {
      "_model_module": "@jupyter-widgets/base",
      "_model_module_version": "1.2.0",
      "_model_name": "LayoutModel",
      "_view_count": null,
      "_view_module": "@jupyter-widgets/base",
      "_view_module_version": "1.2.0",
      "_view_name": "LayoutView",
      "align_content": null,
      "align_items": null,
      "align_self": null,
      "border": null,
      "bottom": null,
      "display": null,
      "flex": null,
      "flex_flow": null,
      "grid_area": null,
      "grid_auto_columns": null,
      "grid_auto_flow": null,
      "grid_auto_rows": null,
      "grid_column": null,
      "grid_gap": null,
      "grid_row": null,
      "grid_template_areas": null,
      "grid_template_columns": null,
      "grid_template_rows": null,
      "height": null,
      "justify_content": null,
      "justify_items": null,
      "left": null,
      "margin": null,
      "max_height": null,
      "max_width": null,
      "min_height": null,
      "min_width": null,
      "object_fit": null,
      "object_position": null,
      "order": null,
      "overflow": null,
      "overflow_x": null,
      "overflow_y": null,
      "padding": null,
      "right": null,
      "top": null,
      "visibility": null,
      "width": null
     }
    },
    "474cf08d680b4ccd9f8d96c1ca08d98b": {
     "model_module": "@jupyter-widgets/base",
     "model_module_version": "1.2.0",
     "model_name": "LayoutModel",
     "state": {
      "_model_module": "@jupyter-widgets/base",
      "_model_module_version": "1.2.0",
      "_model_name": "LayoutModel",
      "_view_count": null,
      "_view_module": "@jupyter-widgets/base",
      "_view_module_version": "1.2.0",
      "_view_name": "LayoutView",
      "align_content": null,
      "align_items": null,
      "align_self": null,
      "border": null,
      "bottom": null,
      "display": null,
      "flex": null,
      "flex_flow": null,
      "grid_area": null,
      "grid_auto_columns": null,
      "grid_auto_flow": null,
      "grid_auto_rows": null,
      "grid_column": null,
      "grid_gap": null,
      "grid_row": null,
      "grid_template_areas": null,
      "grid_template_columns": null,
      "grid_template_rows": null,
      "height": null,
      "justify_content": null,
      "justify_items": null,
      "left": null,
      "margin": null,
      "max_height": null,
      "max_width": null,
      "min_height": null,
      "min_width": null,
      "object_fit": null,
      "object_position": null,
      "order": null,
      "overflow": null,
      "overflow_x": null,
      "overflow_y": null,
      "padding": null,
      "right": null,
      "top": null,
      "visibility": null,
      "width": null
     }
    },
    "4860c3300813448483989e7eee9a8d9e": {
     "model_module": "@jupyter-widgets/controls",
     "model_module_version": "1.5.0",
     "model_name": "FloatProgressModel",
     "state": {
      "_dom_classes": [],
      "_model_module": "@jupyter-widgets/controls",
      "_model_module_version": "1.5.0",
      "_model_name": "FloatProgressModel",
      "_view_count": null,
      "_view_module": "@jupyter-widgets/controls",
      "_view_module_version": "1.5.0",
      "_view_name": "ProgressView",
      "bar_style": "success",
      "description": "",
      "description_tooltip": null,
      "layout": "IPY_MODEL_45d6776fc41b4e229980d11b9fad9208",
      "max": 440473133,
      "min": 0,
      "orientation": "horizontal",
      "style": "IPY_MODEL_5f19f4242c2945a09c10ba356aaf301d",
      "value": 440473133
     }
    },
    "49ebaa40a9c44914bda64bd89afb9bb2": {
     "model_module": "@jupyter-widgets/controls",
     "model_module_version": "1.5.0",
     "model_name": "DescriptionStyleModel",
     "state": {
      "_model_module": "@jupyter-widgets/controls",
      "_model_module_version": "1.5.0",
      "_model_name": "DescriptionStyleModel",
      "_view_count": null,
      "_view_module": "@jupyter-widgets/base",
      "_view_module_version": "1.2.0",
      "_view_name": "StyleView",
      "description_width": ""
     }
    },
    "4a57d75d581b47b698fe107f3f0a8a8a": {
     "model_module": "@jupyter-widgets/controls",
     "model_module_version": "1.5.0",
     "model_name": "HTMLModel",
     "state": {
      "_dom_classes": [],
      "_model_module": "@jupyter-widgets/controls",
      "_model_module_version": "1.5.0",
      "_model_name": "HTMLModel",
      "_view_count": null,
      "_view_module": "@jupyter-widgets/controls",
      "_view_module_version": "1.5.0",
      "_view_name": "HTMLView",
      "description": "",
      "description_tooltip": null,
      "layout": "IPY_MODEL_2f8ece3ca66d4a9f9833dbf288c43ae3",
      "placeholder": "​",
      "style": "IPY_MODEL_aea0a710e6f848ffa6efe8c7fe8d4293",
      "value": " 501M/501M [00:05&lt;00:00, 104MB/s]"
     }
    },
    "4d840f52588843cfbdf557785e7c6213": {
     "model_module": "@jupyter-widgets/controls",
     "model_module_version": "1.5.0",
     "model_name": "HTMLModel",
     "state": {
      "_dom_classes": [],
      "_model_module": "@jupyter-widgets/controls",
      "_model_module_version": "1.5.0",
      "_model_name": "HTMLModel",
      "_view_count": null,
      "_view_module": "@jupyter-widgets/controls",
      "_view_module_version": "1.5.0",
      "_view_name": "HTMLView",
      "description": "",
      "description_tooltip": null,
      "layout": "IPY_MODEL_6bbb4a91bbcf4255bb473fceac69c340",
      "placeholder": "​",
      "style": "IPY_MODEL_7998cef410d342d39d08718c0736b0f7",
      "value": "Downloading (…)lve/main/config.json: 100%"
     }
    },
    "4f3047332c014c7db98f21f4eca04e61": {
     "model_module": "@jupyter-widgets/controls",
     "model_module_version": "1.5.0",
     "model_name": "HBoxModel",
     "state": {
      "_dom_classes": [],
      "_model_module": "@jupyter-widgets/controls",
      "_model_module_version": "1.5.0",
      "_model_name": "HBoxModel",
      "_view_count": null,
      "_view_module": "@jupyter-widgets/controls",
      "_view_module_version": "1.5.0",
      "_view_name": "HBoxView",
      "box_style": "",
      "children": [
       "IPY_MODEL_fce46609e0034c72a52e4921811b449c",
       "IPY_MODEL_16d4417b12724289916067c329454cc1",
       "IPY_MODEL_44ff8f6dab2a47889d0e5158f65992d9"
      ],
      "layout": "IPY_MODEL_880b0408182e41f5b860eea0dad6fd8e"
     }
    },
    "4ff962e8e4ef4f07be1818e46b0ec89c": {
     "model_module": "@jupyter-widgets/controls",
     "model_module_version": "1.5.0",
     "model_name": "HTMLModel",
     "state": {
      "_dom_classes": [],
      "_model_module": "@jupyter-widgets/controls",
      "_model_module_version": "1.5.0",
      "_model_name": "HTMLModel",
      "_view_count": null,
      "_view_module": "@jupyter-widgets/controls",
      "_view_module_version": "1.5.0",
      "_view_name": "HTMLView",
      "description": "",
      "description_tooltip": null,
      "layout": "IPY_MODEL_a87bfcff2ad44932b07171e821637d3d",
      "placeholder": "​",
      "style": "IPY_MODEL_8ddb25df159d471c9c9becfbce070018",
      "value": " 440M/440M [00:02&lt;00:00, 216MB/s]"
     }
    },
    "50e65d18923147a9a50951010c2b1803": {
     "model_module": "@jupyter-widgets/base",
     "model_module_version": "1.2.0",
     "model_name": "LayoutModel",
     "state": {
      "_model_module": "@jupyter-widgets/base",
      "_model_module_version": "1.2.0",
      "_model_name": "LayoutModel",
      "_view_count": null,
      "_view_module": "@jupyter-widgets/base",
      "_view_module_version": "1.2.0",
      "_view_name": "LayoutView",
      "align_content": null,
      "align_items": null,
      "align_self": null,
      "border": null,
      "bottom": null,
      "display": null,
      "flex": null,
      "flex_flow": null,
      "grid_area": null,
      "grid_auto_columns": null,
      "grid_auto_flow": null,
      "grid_auto_rows": null,
      "grid_column": null,
      "grid_gap": null,
      "grid_row": null,
      "grid_template_areas": null,
      "grid_template_columns": null,
      "grid_template_rows": null,
      "height": null,
      "justify_content": null,
      "justify_items": null,
      "left": null,
      "margin": null,
      "max_height": null,
      "max_width": null,
      "min_height": null,
      "min_width": null,
      "object_fit": null,
      "object_position": null,
      "order": null,
      "overflow": null,
      "overflow_x": null,
      "overflow_y": null,
      "padding": null,
      "right": null,
      "top": null,
      "visibility": null,
      "width": null
     }
    },
    "548476f8098a42a8a2092c483da79f57": {
     "model_module": "@jupyter-widgets/base",
     "model_module_version": "1.2.0",
     "model_name": "LayoutModel",
     "state": {
      "_model_module": "@jupyter-widgets/base",
      "_model_module_version": "1.2.0",
      "_model_name": "LayoutModel",
      "_view_count": null,
      "_view_module": "@jupyter-widgets/base",
      "_view_module_version": "1.2.0",
      "_view_name": "LayoutView",
      "align_content": null,
      "align_items": null,
      "align_self": null,
      "border": null,
      "bottom": null,
      "display": null,
      "flex": null,
      "flex_flow": null,
      "grid_area": null,
      "grid_auto_columns": null,
      "grid_auto_flow": null,
      "grid_auto_rows": null,
      "grid_column": null,
      "grid_gap": null,
      "grid_row": null,
      "grid_template_areas": null,
      "grid_template_columns": null,
      "grid_template_rows": null,
      "height": null,
      "justify_content": null,
      "justify_items": null,
      "left": null,
      "margin": null,
      "max_height": null,
      "max_width": null,
      "min_height": null,
      "min_width": null,
      "object_fit": null,
      "object_position": null,
      "order": null,
      "overflow": null,
      "overflow_x": null,
      "overflow_y": null,
      "padding": null,
      "right": null,
      "top": null,
      "visibility": null,
      "width": null
     }
    },
    "571d54d1a2fb45bfa276029a78096d4c": {
     "model_module": "@jupyter-widgets/controls",
     "model_module_version": "1.5.0",
     "model_name": "HTMLModel",
     "state": {
      "_dom_classes": [],
      "_model_module": "@jupyter-widgets/controls",
      "_model_module_version": "1.5.0",
      "_model_name": "HTMLModel",
      "_view_count": null,
      "_view_module": "@jupyter-widgets/controls",
      "_view_module_version": "1.5.0",
      "_view_name": "HTMLView",
      "description": "",
      "description_tooltip": null,
      "layout": "IPY_MODEL_100f7a4850d34048a85c32bfed420e93",
      "placeholder": "​",
      "style": "IPY_MODEL_64e33abcc4f9436c9dc586beb8dd60ce",
      "value": "Downloading pytorch_model.bin: 100%"
     }
    },
    "5a6d73127eb540fe8e4cb173001c2513": {
     "model_module": "@jupyter-widgets/controls",
     "model_module_version": "1.5.0",
     "model_name": "HBoxModel",
     "state": {
      "_dom_classes": [],
      "_model_module": "@jupyter-widgets/controls",
      "_model_module_version": "1.5.0",
      "_model_name": "HBoxModel",
      "_view_count": null,
      "_view_module": "@jupyter-widgets/controls",
      "_view_module_version": "1.5.0",
      "_view_name": "HBoxView",
      "box_style": "",
      "children": [
       "IPY_MODEL_1aecc56232304529b22b0ac2b296a2f6",
       "IPY_MODEL_15615190b04249d9b200cbc520428f4b",
       "IPY_MODEL_40e2f5400bf547f0ad5d49a785db17e4"
      ],
      "layout": "IPY_MODEL_ba8e4b17e3e54a07bdfd8116a30d74be"
     }
    },
    "5bb8efc87a564648a79db7aebb2078d7": {
     "model_module": "@jupyter-widgets/controls",
     "model_module_version": "1.5.0",
     "model_name": "HTMLModel",
     "state": {
      "_dom_classes": [],
      "_model_module": "@jupyter-widgets/controls",
      "_model_module_version": "1.5.0",
      "_model_name": "HTMLModel",
      "_view_count": null,
      "_view_module": "@jupyter-widgets/controls",
      "_view_module_version": "1.5.0",
      "_view_name": "HTMLView",
      "description": "",
      "description_tooltip": null,
      "layout": "IPY_MODEL_bc877714c5ad40cb95ee4f929f98d561",
      "placeholder": "​",
      "style": "IPY_MODEL_81b60d3428ff48a28ce39b06dcbd2e7a",
      "value": " 29.0/29.0 [00:00&lt;00:00, 852B/s]"
     }
    },
    "5d2eeb85b3684ef0beabce3973622986": {
     "model_module": "@jupyter-widgets/controls",
     "model_module_version": "1.5.0",
     "model_name": "DescriptionStyleModel",
     "state": {
      "_model_module": "@jupyter-widgets/controls",
      "_model_module_version": "1.5.0",
      "_model_name": "DescriptionStyleModel",
      "_view_count": null,
      "_view_module": "@jupyter-widgets/base",
      "_view_module_version": "1.2.0",
      "_view_name": "StyleView",
      "description_width": ""
     }
    },
    "5f19f4242c2945a09c10ba356aaf301d": {
     "model_module": "@jupyter-widgets/controls",
     "model_module_version": "1.5.0",
     "model_name": "ProgressStyleModel",
     "state": {
      "_model_module": "@jupyter-widgets/controls",
      "_model_module_version": "1.5.0",
      "_model_name": "ProgressStyleModel",
      "_view_count": null,
      "_view_module": "@jupyter-widgets/base",
      "_view_module_version": "1.2.0",
      "_view_name": "StyleView",
      "bar_color": null,
      "description_width": ""
     }
    },
    "62d0e27f16a7481c9282bd28b3a0611b": {
     "model_module": "@jupyter-widgets/controls",
     "model_module_version": "1.5.0",
     "model_name": "HBoxModel",
     "state": {
      "_dom_classes": [],
      "_model_module": "@jupyter-widgets/controls",
      "_model_module_version": "1.5.0",
      "_model_name": "HBoxModel",
      "_view_count": null,
      "_view_module": "@jupyter-widgets/controls",
      "_view_module_version": "1.5.0",
      "_view_name": "HBoxView",
      "box_style": "",
      "children": [
       "IPY_MODEL_8f9d0262347a4600842c9ffab435b4ac",
       "IPY_MODEL_4860c3300813448483989e7eee9a8d9e",
       "IPY_MODEL_4ff962e8e4ef4f07be1818e46b0ec89c"
      ],
      "layout": "IPY_MODEL_c667466ddd8b4daca6931c5c4a9bd5ff"
     }
    },
    "64494fb46d614a6e99a54a27f8e2a245": {
     "model_module": "@jupyter-widgets/base",
     "model_module_version": "1.2.0",
     "model_name": "LayoutModel",
     "state": {
      "_model_module": "@jupyter-widgets/base",
      "_model_module_version": "1.2.0",
      "_model_name": "LayoutModel",
      "_view_count": null,
      "_view_module": "@jupyter-widgets/base",
      "_view_module_version": "1.2.0",
      "_view_name": "LayoutView",
      "align_content": null,
      "align_items": null,
      "align_self": null,
      "border": null,
      "bottom": null,
      "display": null,
      "flex": null,
      "flex_flow": null,
      "grid_area": null,
      "grid_auto_columns": null,
      "grid_auto_flow": null,
      "grid_auto_rows": null,
      "grid_column": null,
      "grid_gap": null,
      "grid_row": null,
      "grid_template_areas": null,
      "grid_template_columns": null,
      "grid_template_rows": null,
      "height": null,
      "justify_content": null,
      "justify_items": null,
      "left": null,
      "margin": null,
      "max_height": null,
      "max_width": null,
      "min_height": null,
      "min_width": null,
      "object_fit": null,
      "object_position": null,
      "order": null,
      "overflow": null,
      "overflow_x": null,
      "overflow_y": null,
      "padding": null,
      "right": null,
      "top": null,
      "visibility": null,
      "width": null
     }
    },
    "645c9206b42c409b983b1ffc9263ddb6": {
     "model_module": "@jupyter-widgets/controls",
     "model_module_version": "1.5.0",
     "model_name": "HTMLModel",
     "state": {
      "_dom_classes": [],
      "_model_module": "@jupyter-widgets/controls",
      "_model_module_version": "1.5.0",
      "_model_name": "HTMLModel",
      "_view_count": null,
      "_view_module": "@jupyter-widgets/controls",
      "_view_module_version": "1.5.0",
      "_view_name": "HTMLView",
      "description": "",
      "description_tooltip": null,
      "layout": "IPY_MODEL_e5bd69ba2b2b4a92bc67e5ef5e444ca0",
      "placeholder": "​",
      "style": "IPY_MODEL_2da04ff757354e68b504dbfe27289ca2",
      "value": "Downloading (…)okenizer_config.json: 100%"
     }
    },
    "64e33abcc4f9436c9dc586beb8dd60ce": {
     "model_module": "@jupyter-widgets/controls",
     "model_module_version": "1.5.0",
     "model_name": "DescriptionStyleModel",
     "state": {
      "_model_module": "@jupyter-widgets/controls",
      "_model_module_version": "1.5.0",
      "_model_name": "DescriptionStyleModel",
      "_view_count": null,
      "_view_module": "@jupyter-widgets/base",
      "_view_module_version": "1.2.0",
      "_view_name": "StyleView",
      "description_width": ""
     }
    },
    "662362bcbdbe472c8bf59a732780e5a0": {
     "model_module": "@jupyter-widgets/base",
     "model_module_version": "1.2.0",
     "model_name": "LayoutModel",
     "state": {
      "_model_module": "@jupyter-widgets/base",
      "_model_module_version": "1.2.0",
      "_model_name": "LayoutModel",
      "_view_count": null,
      "_view_module": "@jupyter-widgets/base",
      "_view_module_version": "1.2.0",
      "_view_name": "LayoutView",
      "align_content": null,
      "align_items": null,
      "align_self": null,
      "border": null,
      "bottom": null,
      "display": null,
      "flex": null,
      "flex_flow": null,
      "grid_area": null,
      "grid_auto_columns": null,
      "grid_auto_flow": null,
      "grid_auto_rows": null,
      "grid_column": null,
      "grid_gap": null,
      "grid_row": null,
      "grid_template_areas": null,
      "grid_template_columns": null,
      "grid_template_rows": null,
      "height": null,
      "justify_content": null,
      "justify_items": null,
      "left": null,
      "margin": null,
      "max_height": null,
      "max_width": null,
      "min_height": null,
      "min_width": null,
      "object_fit": null,
      "object_position": null,
      "order": null,
      "overflow": null,
      "overflow_x": null,
      "overflow_y": null,
      "padding": null,
      "right": null,
      "top": null,
      "visibility": null,
      "width": null
     }
    },
    "66ab881adfd44433906c660f72244faa": {
     "model_module": "@jupyter-widgets/controls",
     "model_module_version": "1.5.0",
     "model_name": "FloatProgressModel",
     "state": {
      "_dom_classes": [],
      "_model_module": "@jupyter-widgets/controls",
      "_model_module_version": "1.5.0",
      "_model_name": "FloatProgressModel",
      "_view_count": null,
      "_view_module": "@jupyter-widgets/controls",
      "_view_module_version": "1.5.0",
      "_view_name": "ProgressView",
      "bar_style": "success",
      "description": "",
      "description_tooltip": null,
      "layout": "IPY_MODEL_330b30d0ff2d4699abcbf5d48da653a0",
      "max": 28,
      "min": 0,
      "orientation": "horizontal",
      "style": "IPY_MODEL_0ae96519cd684bc7afe4ab31de5b4fe1",
      "value": 28
     }
    },
    "689ad99a26634b06a53b7fc8b696cf26": {
     "model_module": "@jupyter-widgets/base",
     "model_module_version": "1.2.0",
     "model_name": "LayoutModel",
     "state": {
      "_model_module": "@jupyter-widgets/base",
      "_model_module_version": "1.2.0",
      "_model_name": "LayoutModel",
      "_view_count": null,
      "_view_module": "@jupyter-widgets/base",
      "_view_module_version": "1.2.0",
      "_view_name": "LayoutView",
      "align_content": null,
      "align_items": null,
      "align_self": null,
      "border": null,
      "bottom": null,
      "display": null,
      "flex": null,
      "flex_flow": null,
      "grid_area": null,
      "grid_auto_columns": null,
      "grid_auto_flow": null,
      "grid_auto_rows": null,
      "grid_column": null,
      "grid_gap": null,
      "grid_row": null,
      "grid_template_areas": null,
      "grid_template_columns": null,
      "grid_template_rows": null,
      "height": null,
      "justify_content": null,
      "justify_items": null,
      "left": null,
      "margin": null,
      "max_height": null,
      "max_width": null,
      "min_height": null,
      "min_width": null,
      "object_fit": null,
      "object_position": null,
      "order": null,
      "overflow": null,
      "overflow_x": null,
      "overflow_y": null,
      "padding": null,
      "right": null,
      "top": null,
      "visibility": null,
      "width": null
     }
    },
    "6a47a811f61e4e61b0547919fed84fac": {
     "model_module": "@jupyter-widgets/controls",
     "model_module_version": "1.5.0",
     "model_name": "DescriptionStyleModel",
     "state": {
      "_model_module": "@jupyter-widgets/controls",
      "_model_module_version": "1.5.0",
      "_model_name": "DescriptionStyleModel",
      "_view_count": null,
      "_view_module": "@jupyter-widgets/base",
      "_view_module_version": "1.2.0",
      "_view_name": "StyleView",
      "description_width": ""
     }
    },
    "6bbb4a91bbcf4255bb473fceac69c340": {
     "model_module": "@jupyter-widgets/base",
     "model_module_version": "1.2.0",
     "model_name": "LayoutModel",
     "state": {
      "_model_module": "@jupyter-widgets/base",
      "_model_module_version": "1.2.0",
      "_model_name": "LayoutModel",
      "_view_count": null,
      "_view_module": "@jupyter-widgets/base",
      "_view_module_version": "1.2.0",
      "_view_name": "LayoutView",
      "align_content": null,
      "align_items": null,
      "align_self": null,
      "border": null,
      "bottom": null,
      "display": null,
      "flex": null,
      "flex_flow": null,
      "grid_area": null,
      "grid_auto_columns": null,
      "grid_auto_flow": null,
      "grid_auto_rows": null,
      "grid_column": null,
      "grid_gap": null,
      "grid_row": null,
      "grid_template_areas": null,
      "grid_template_columns": null,
      "grid_template_rows": null,
      "height": null,
      "justify_content": null,
      "justify_items": null,
      "left": null,
      "margin": null,
      "max_height": null,
      "max_width": null,
      "min_height": null,
      "min_width": null,
      "object_fit": null,
      "object_position": null,
      "order": null,
      "overflow": null,
      "overflow_x": null,
      "overflow_y": null,
      "padding": null,
      "right": null,
      "top": null,
      "visibility": null,
      "width": null
     }
    },
    "6fd62a9b4dff4190bd9e80a2b94b2b3d": {
     "model_module": "@jupyter-widgets/controls",
     "model_module_version": "1.5.0",
     "model_name": "DescriptionStyleModel",
     "state": {
      "_model_module": "@jupyter-widgets/controls",
      "_model_module_version": "1.5.0",
      "_model_name": "DescriptionStyleModel",
      "_view_count": null,
      "_view_module": "@jupyter-widgets/base",
      "_view_module_version": "1.2.0",
      "_view_name": "StyleView",
      "description_width": ""
     }
    },
    "71c8915947fa4b69a45526a2ef41f6b1": {
     "model_module": "@jupyter-widgets/controls",
     "model_module_version": "1.5.0",
     "model_name": "ProgressStyleModel",
     "state": {
      "_model_module": "@jupyter-widgets/controls",
      "_model_module_version": "1.5.0",
      "_model_name": "ProgressStyleModel",
      "_view_count": null,
      "_view_module": "@jupyter-widgets/base",
      "_view_module_version": "1.2.0",
      "_view_name": "StyleView",
      "bar_color": null,
      "description_width": ""
     }
    },
    "74c6d395e6b440a295abdb3006435ce7": {
     "model_module": "@jupyter-widgets/controls",
     "model_module_version": "1.5.0",
     "model_name": "DescriptionStyleModel",
     "state": {
      "_model_module": "@jupyter-widgets/controls",
      "_model_module_version": "1.5.0",
      "_model_name": "DescriptionStyleModel",
      "_view_count": null,
      "_view_module": "@jupyter-widgets/base",
      "_view_module_version": "1.2.0",
      "_view_name": "StyleView",
      "description_width": ""
     }
    },
    "74d872cf74b94a26bc266f5ca50b48dd": {
     "model_module": "@jupyter-widgets/base",
     "model_module_version": "1.2.0",
     "model_name": "LayoutModel",
     "state": {
      "_model_module": "@jupyter-widgets/base",
      "_model_module_version": "1.2.0",
      "_model_name": "LayoutModel",
      "_view_count": null,
      "_view_module": "@jupyter-widgets/base",
      "_view_module_version": "1.2.0",
      "_view_name": "LayoutView",
      "align_content": null,
      "align_items": null,
      "align_self": null,
      "border": null,
      "bottom": null,
      "display": null,
      "flex": null,
      "flex_flow": null,
      "grid_area": null,
      "grid_auto_columns": null,
      "grid_auto_flow": null,
      "grid_auto_rows": null,
      "grid_column": null,
      "grid_gap": null,
      "grid_row": null,
      "grid_template_areas": null,
      "grid_template_columns": null,
      "grid_template_rows": null,
      "height": null,
      "justify_content": null,
      "justify_items": null,
      "left": null,
      "margin": null,
      "max_height": null,
      "max_width": null,
      "min_height": null,
      "min_width": null,
      "object_fit": null,
      "object_position": null,
      "order": null,
      "overflow": null,
      "overflow_x": null,
      "overflow_y": null,
      "padding": null,
      "right": null,
      "top": null,
      "visibility": null,
      "width": null
     }
    },
    "76f9b84000a343b0be0aac2893793ed2": {
     "model_module": "@jupyter-widgets/base",
     "model_module_version": "1.2.0",
     "model_name": "LayoutModel",
     "state": {
      "_model_module": "@jupyter-widgets/base",
      "_model_module_version": "1.2.0",
      "_model_name": "LayoutModel",
      "_view_count": null,
      "_view_module": "@jupyter-widgets/base",
      "_view_module_version": "1.2.0",
      "_view_name": "LayoutView",
      "align_content": null,
      "align_items": null,
      "align_self": null,
      "border": null,
      "bottom": null,
      "display": null,
      "flex": null,
      "flex_flow": null,
      "grid_area": null,
      "grid_auto_columns": null,
      "grid_auto_flow": null,
      "grid_auto_rows": null,
      "grid_column": null,
      "grid_gap": null,
      "grid_row": null,
      "grid_template_areas": null,
      "grid_template_columns": null,
      "grid_template_rows": null,
      "height": null,
      "justify_content": null,
      "justify_items": null,
      "left": null,
      "margin": null,
      "max_height": null,
      "max_width": null,
      "min_height": null,
      "min_width": null,
      "object_fit": null,
      "object_position": null,
      "order": null,
      "overflow": null,
      "overflow_x": null,
      "overflow_y": null,
      "padding": null,
      "right": null,
      "top": null,
      "visibility": null,
      "width": null
     }
    },
    "7998cef410d342d39d08718c0736b0f7": {
     "model_module": "@jupyter-widgets/controls",
     "model_module_version": "1.5.0",
     "model_name": "DescriptionStyleModel",
     "state": {
      "_model_module": "@jupyter-widgets/controls",
      "_model_module_version": "1.5.0",
      "_model_name": "DescriptionStyleModel",
      "_view_count": null,
      "_view_module": "@jupyter-widgets/base",
      "_view_module_version": "1.2.0",
      "_view_name": "StyleView",
      "description_width": ""
     }
    },
    "79ae0cef20804e93920e252ba3ed5390": {
     "model_module": "@jupyter-widgets/base",
     "model_module_version": "1.2.0",
     "model_name": "LayoutModel",
     "state": {
      "_model_module": "@jupyter-widgets/base",
      "_model_module_version": "1.2.0",
      "_model_name": "LayoutModel",
      "_view_count": null,
      "_view_module": "@jupyter-widgets/base",
      "_view_module_version": "1.2.0",
      "_view_name": "LayoutView",
      "align_content": null,
      "align_items": null,
      "align_self": null,
      "border": null,
      "bottom": null,
      "display": null,
      "flex": null,
      "flex_flow": null,
      "grid_area": null,
      "grid_auto_columns": null,
      "grid_auto_flow": null,
      "grid_auto_rows": null,
      "grid_column": null,
      "grid_gap": null,
      "grid_row": null,
      "grid_template_areas": null,
      "grid_template_columns": null,
      "grid_template_rows": null,
      "height": null,
      "justify_content": null,
      "justify_items": null,
      "left": null,
      "margin": null,
      "max_height": null,
      "max_width": null,
      "min_height": null,
      "min_width": null,
      "object_fit": null,
      "object_position": null,
      "order": null,
      "overflow": null,
      "overflow_x": null,
      "overflow_y": null,
      "padding": null,
      "right": null,
      "top": null,
      "visibility": null,
      "width": null
     }
    },
    "79effa1b532048b78907fc0fa7cd0944": {
     "model_module": "@jupyter-widgets/controls",
     "model_module_version": "1.5.0",
     "model_name": "DescriptionStyleModel",
     "state": {
      "_model_module": "@jupyter-widgets/controls",
      "_model_module_version": "1.5.0",
      "_model_name": "DescriptionStyleModel",
      "_view_count": null,
      "_view_module": "@jupyter-widgets/base",
      "_view_module_version": "1.2.0",
      "_view_name": "StyleView",
      "description_width": ""
     }
    },
    "7ae8eae61a0d43fca7a7b6570cba72ee": {
     "model_module": "@jupyter-widgets/controls",
     "model_module_version": "1.5.0",
     "model_name": "ProgressStyleModel",
     "state": {
      "_model_module": "@jupyter-widgets/controls",
      "_model_module_version": "1.5.0",
      "_model_name": "ProgressStyleModel",
      "_view_count": null,
      "_view_module": "@jupyter-widgets/base",
      "_view_module_version": "1.2.0",
      "_view_name": "StyleView",
      "bar_color": null,
      "description_width": ""
     }
    },
    "7b794e50de864ac49ff94e1b682e36a1": {
     "model_module": "@jupyter-widgets/controls",
     "model_module_version": "1.5.0",
     "model_name": "HBoxModel",
     "state": {
      "_dom_classes": [],
      "_model_module": "@jupyter-widgets/controls",
      "_model_module_version": "1.5.0",
      "_model_name": "HBoxModel",
      "_view_count": null,
      "_view_module": "@jupyter-widgets/controls",
      "_view_module_version": "1.5.0",
      "_view_name": "HBoxView",
      "box_style": "",
      "children": [
       "IPY_MODEL_645c9206b42c409b983b1ffc9263ddb6",
       "IPY_MODEL_08223cc7e5394300bce868e470d8fb29",
       "IPY_MODEL_5bb8efc87a564648a79db7aebb2078d7"
      ],
      "layout": "IPY_MODEL_548476f8098a42a8a2092c483da79f57"
     }
    },
    "7c666f269618491f9fa7bc663885b31c": {
     "model_module": "@jupyter-widgets/base",
     "model_module_version": "1.2.0",
     "model_name": "LayoutModel",
     "state": {
      "_model_module": "@jupyter-widgets/base",
      "_model_module_version": "1.2.0",
      "_model_name": "LayoutModel",
      "_view_count": null,
      "_view_module": "@jupyter-widgets/base",
      "_view_module_version": "1.2.0",
      "_view_name": "LayoutView",
      "align_content": null,
      "align_items": null,
      "align_self": null,
      "border": null,
      "bottom": null,
      "display": null,
      "flex": null,
      "flex_flow": null,
      "grid_area": null,
      "grid_auto_columns": null,
      "grid_auto_flow": null,
      "grid_auto_rows": null,
      "grid_column": null,
      "grid_gap": null,
      "grid_row": null,
      "grid_template_areas": null,
      "grid_template_columns": null,
      "grid_template_rows": null,
      "height": null,
      "justify_content": null,
      "justify_items": null,
      "left": null,
      "margin": null,
      "max_height": null,
      "max_width": null,
      "min_height": null,
      "min_width": null,
      "object_fit": null,
      "object_position": null,
      "order": null,
      "overflow": null,
      "overflow_x": null,
      "overflow_y": null,
      "padding": null,
      "right": null,
      "top": null,
      "visibility": null,
      "width": null
     }
    },
    "7fb573a4562f493582933cae4692e897": {
     "model_module": "@jupyter-widgets/base",
     "model_module_version": "1.2.0",
     "model_name": "LayoutModel",
     "state": {
      "_model_module": "@jupyter-widgets/base",
      "_model_module_version": "1.2.0",
      "_model_name": "LayoutModel",
      "_view_count": null,
      "_view_module": "@jupyter-widgets/base",
      "_view_module_version": "1.2.0",
      "_view_name": "LayoutView",
      "align_content": null,
      "align_items": null,
      "align_self": null,
      "border": null,
      "bottom": null,
      "display": null,
      "flex": null,
      "flex_flow": null,
      "grid_area": null,
      "grid_auto_columns": null,
      "grid_auto_flow": null,
      "grid_auto_rows": null,
      "grid_column": null,
      "grid_gap": null,
      "grid_row": null,
      "grid_template_areas": null,
      "grid_template_columns": null,
      "grid_template_rows": null,
      "height": null,
      "justify_content": null,
      "justify_items": null,
      "left": null,
      "margin": null,
      "max_height": null,
      "max_width": null,
      "min_height": null,
      "min_width": null,
      "object_fit": null,
      "object_position": null,
      "order": null,
      "overflow": null,
      "overflow_x": null,
      "overflow_y": null,
      "padding": null,
      "right": null,
      "top": null,
      "visibility": null,
      "width": null
     }
    },
    "7fe43dc49838440480ad65accbaa6da1": {
     "model_module": "@jupyter-widgets/base",
     "model_module_version": "1.2.0",
     "model_name": "LayoutModel",
     "state": {
      "_model_module": "@jupyter-widgets/base",
      "_model_module_version": "1.2.0",
      "_model_name": "LayoutModel",
      "_view_count": null,
      "_view_module": "@jupyter-widgets/base",
      "_view_module_version": "1.2.0",
      "_view_name": "LayoutView",
      "align_content": null,
      "align_items": null,
      "align_self": null,
      "border": null,
      "bottom": null,
      "display": null,
      "flex": null,
      "flex_flow": null,
      "grid_area": null,
      "grid_auto_columns": null,
      "grid_auto_flow": null,
      "grid_auto_rows": null,
      "grid_column": null,
      "grid_gap": null,
      "grid_row": null,
      "grid_template_areas": null,
      "grid_template_columns": null,
      "grid_template_rows": null,
      "height": null,
      "justify_content": null,
      "justify_items": null,
      "left": null,
      "margin": null,
      "max_height": null,
      "max_width": null,
      "min_height": null,
      "min_width": null,
      "object_fit": null,
      "object_position": null,
      "order": null,
      "overflow": null,
      "overflow_x": null,
      "overflow_y": null,
      "padding": null,
      "right": null,
      "top": null,
      "visibility": null,
      "width": null
     }
    },
    "803c7af130ed45f2a8921aff96da79d0": {
     "model_module": "@jupyter-widgets/base",
     "model_module_version": "1.2.0",
     "model_name": "LayoutModel",
     "state": {
      "_model_module": "@jupyter-widgets/base",
      "_model_module_version": "1.2.0",
      "_model_name": "LayoutModel",
      "_view_count": null,
      "_view_module": "@jupyter-widgets/base",
      "_view_module_version": "1.2.0",
      "_view_name": "LayoutView",
      "align_content": null,
      "align_items": null,
      "align_self": null,
      "border": null,
      "bottom": null,
      "display": null,
      "flex": null,
      "flex_flow": null,
      "grid_area": null,
      "grid_auto_columns": null,
      "grid_auto_flow": null,
      "grid_auto_rows": null,
      "grid_column": null,
      "grid_gap": null,
      "grid_row": null,
      "grid_template_areas": null,
      "grid_template_columns": null,
      "grid_template_rows": null,
      "height": null,
      "justify_content": null,
      "justify_items": null,
      "left": null,
      "margin": null,
      "max_height": null,
      "max_width": null,
      "min_height": null,
      "min_width": null,
      "object_fit": null,
      "object_position": null,
      "order": null,
      "overflow": null,
      "overflow_x": null,
      "overflow_y": null,
      "padding": null,
      "right": null,
      "top": null,
      "visibility": null,
      "width": null
     }
    },
    "80fb43dc165b42f293c5b4a1ba54d555": {
     "model_module": "@jupyter-widgets/base",
     "model_module_version": "1.2.0",
     "model_name": "LayoutModel",
     "state": {
      "_model_module": "@jupyter-widgets/base",
      "_model_module_version": "1.2.0",
      "_model_name": "LayoutModel",
      "_view_count": null,
      "_view_module": "@jupyter-widgets/base",
      "_view_module_version": "1.2.0",
      "_view_name": "LayoutView",
      "align_content": null,
      "align_items": null,
      "align_self": null,
      "border": null,
      "bottom": null,
      "display": null,
      "flex": null,
      "flex_flow": null,
      "grid_area": null,
      "grid_auto_columns": null,
      "grid_auto_flow": null,
      "grid_auto_rows": null,
      "grid_column": null,
      "grid_gap": null,
      "grid_row": null,
      "grid_template_areas": null,
      "grid_template_columns": null,
      "grid_template_rows": null,
      "height": null,
      "justify_content": null,
      "justify_items": null,
      "left": null,
      "margin": null,
      "max_height": null,
      "max_width": null,
      "min_height": null,
      "min_width": null,
      "object_fit": null,
      "object_position": null,
      "order": null,
      "overflow": null,
      "overflow_x": null,
      "overflow_y": null,
      "padding": null,
      "right": null,
      "top": null,
      "visibility": null,
      "width": null
     }
    },
    "81b60d3428ff48a28ce39b06dcbd2e7a": {
     "model_module": "@jupyter-widgets/controls",
     "model_module_version": "1.5.0",
     "model_name": "DescriptionStyleModel",
     "state": {
      "_model_module": "@jupyter-widgets/controls",
      "_model_module_version": "1.5.0",
      "_model_name": "DescriptionStyleModel",
      "_view_count": null,
      "_view_module": "@jupyter-widgets/base",
      "_view_module_version": "1.2.0",
      "_view_name": "StyleView",
      "description_width": ""
     }
    },
    "84863694b4cd40d0b7be0624dd313960": {
     "model_module": "@jupyter-widgets/controls",
     "model_module_version": "1.5.0",
     "model_name": "HTMLModel",
     "state": {
      "_dom_classes": [],
      "_model_module": "@jupyter-widgets/controls",
      "_model_module_version": "1.5.0",
      "_model_name": "HTMLModel",
      "_view_count": null,
      "_view_module": "@jupyter-widgets/controls",
      "_view_module_version": "1.5.0",
      "_view_name": "HTMLView",
      "description": "",
      "description_tooltip": null,
      "layout": "IPY_MODEL_dc0a7988e6c04b28820243b4da732273",
      "placeholder": "​",
      "style": "IPY_MODEL_cd2701cfe4384668aaf231b2c1ca5fdd",
      "value": "Downloading (…)olve/main/vocab.json: 100%"
     }
    },
    "84fe3c17346a4afda142c1dabfdf2b0c": {
     "model_module": "@jupyter-widgets/controls",
     "model_module_version": "1.5.0",
     "model_name": "ProgressStyleModel",
     "state": {
      "_model_module": "@jupyter-widgets/controls",
      "_model_module_version": "1.5.0",
      "_model_name": "ProgressStyleModel",
      "_view_count": null,
      "_view_module": "@jupyter-widgets/base",
      "_view_module_version": "1.2.0",
      "_view_name": "StyleView",
      "bar_color": null,
      "description_width": ""
     }
    },
    "8697138e4f164ef7ab68e639b7157814": {
     "model_module": "@jupyter-widgets/base",
     "model_module_version": "1.2.0",
     "model_name": "LayoutModel",
     "state": {
      "_model_module": "@jupyter-widgets/base",
      "_model_module_version": "1.2.0",
      "_model_name": "LayoutModel",
      "_view_count": null,
      "_view_module": "@jupyter-widgets/base",
      "_view_module_version": "1.2.0",
      "_view_name": "LayoutView",
      "align_content": null,
      "align_items": null,
      "align_self": null,
      "border": null,
      "bottom": null,
      "display": null,
      "flex": null,
      "flex_flow": null,
      "grid_area": null,
      "grid_auto_columns": null,
      "grid_auto_flow": null,
      "grid_auto_rows": null,
      "grid_column": null,
      "grid_gap": null,
      "grid_row": null,
      "grid_template_areas": null,
      "grid_template_columns": null,
      "grid_template_rows": null,
      "height": null,
      "justify_content": null,
      "justify_items": null,
      "left": null,
      "margin": null,
      "max_height": null,
      "max_width": null,
      "min_height": null,
      "min_width": null,
      "object_fit": null,
      "object_position": null,
      "order": null,
      "overflow": null,
      "overflow_x": null,
      "overflow_y": null,
      "padding": null,
      "right": null,
      "top": null,
      "visibility": null,
      "width": null
     }
    },
    "876bba4582834ace869d223c1ed3bf98": {
     "model_module": "@jupyter-widgets/controls",
     "model_module_version": "1.5.0",
     "model_name": "FloatProgressModel",
     "state": {
      "_dom_classes": [],
      "_model_module": "@jupyter-widgets/controls",
      "_model_module_version": "1.5.0",
      "_model_name": "FloatProgressModel",
      "_view_count": null,
      "_view_module": "@jupyter-widgets/controls",
      "_view_module_version": "1.5.0",
      "_view_name": "ProgressView",
      "bar_style": "success",
      "description": "",
      "description_tooltip": null,
      "layout": "IPY_MODEL_e8fe4810f2cc4acea178e366608c50bb",
      "max": 435779157,
      "min": 0,
      "orientation": "horizontal",
      "style": "IPY_MODEL_9185f9531914426596ad5f9f3d6590d5",
      "value": 435779157
     }
    },
    "880b0408182e41f5b860eea0dad6fd8e": {
     "model_module": "@jupyter-widgets/base",
     "model_module_version": "1.2.0",
     "model_name": "LayoutModel",
     "state": {
      "_model_module": "@jupyter-widgets/base",
      "_model_module_version": "1.2.0",
      "_model_name": "LayoutModel",
      "_view_count": null,
      "_view_module": "@jupyter-widgets/base",
      "_view_module_version": "1.2.0",
      "_view_name": "LayoutView",
      "align_content": null,
      "align_items": null,
      "align_self": null,
      "border": null,
      "bottom": null,
      "display": null,
      "flex": null,
      "flex_flow": null,
      "grid_area": null,
      "grid_auto_columns": null,
      "grid_auto_flow": null,
      "grid_auto_rows": null,
      "grid_column": null,
      "grid_gap": null,
      "grid_row": null,
      "grid_template_areas": null,
      "grid_template_columns": null,
      "grid_template_rows": null,
      "height": null,
      "justify_content": null,
      "justify_items": null,
      "left": null,
      "margin": null,
      "max_height": null,
      "max_width": null,
      "min_height": null,
      "min_width": null,
      "object_fit": null,
      "object_position": null,
      "order": null,
      "overflow": null,
      "overflow_x": null,
      "overflow_y": null,
      "padding": null,
      "right": null,
      "top": null,
      "visibility": null,
      "width": null
     }
    },
    "88c720e65b154fc49e8337a2c3ecd61a": {
     "model_module": "@jupyter-widgets/controls",
     "model_module_version": "1.5.0",
     "model_name": "HBoxModel",
     "state": {
      "_dom_classes": [],
      "_model_module": "@jupyter-widgets/controls",
      "_model_module_version": "1.5.0",
      "_model_name": "HBoxModel",
      "_view_count": null,
      "_view_module": "@jupyter-widgets/controls",
      "_view_module_version": "1.5.0",
      "_view_name": "HBoxView",
      "box_style": "",
      "children": [
       "IPY_MODEL_e8b9c8ecb75f499c9d5e065388731c7b",
       "IPY_MODEL_b8f8dd71769847f3b3a70ffeeab34cdb",
       "IPY_MODEL_338d8cdf434f455e9b477e1c86641b44"
      ],
      "layout": "IPY_MODEL_ff422cfe0ba445f5917f67061da06dd5"
     }
    },
    "898af8a4ebff4560a6e6c69c725d71e8": {
     "model_module": "@jupyter-widgets/controls",
     "model_module_version": "1.5.0",
     "model_name": "HTMLModel",
     "state": {
      "_dom_classes": [],
      "_model_module": "@jupyter-widgets/controls",
      "_model_module_version": "1.5.0",
      "_model_name": "HTMLModel",
      "_view_count": null,
      "_view_module": "@jupyter-widgets/controls",
      "_view_module_version": "1.5.0",
      "_view_name": "HTMLView",
      "description": "",
      "description_tooltip": null,
      "layout": "IPY_MODEL_662362bcbdbe472c8bf59a732780e5a0",
      "placeholder": "​",
      "style": "IPY_MODEL_74c6d395e6b440a295abdb3006435ce7",
      "value": " 899k/899k [00:00&lt;00:00, 3.32MB/s]"
     }
    },
    "8ddb25df159d471c9c9becfbce070018": {
     "model_module": "@jupyter-widgets/controls",
     "model_module_version": "1.5.0",
     "model_name": "DescriptionStyleModel",
     "state": {
      "_model_module": "@jupyter-widgets/controls",
      "_model_module_version": "1.5.0",
      "_model_name": "DescriptionStyleModel",
      "_view_count": null,
      "_view_module": "@jupyter-widgets/base",
      "_view_module_version": "1.2.0",
      "_view_name": "StyleView",
      "description_width": ""
     }
    },
    "8df8f0ab773449899e99d5b16c1bd3b9": {
     "model_module": "@jupyter-widgets/controls",
     "model_module_version": "1.5.0",
     "model_name": "ProgressStyleModel",
     "state": {
      "_model_module": "@jupyter-widgets/controls",
      "_model_module_version": "1.5.0",
      "_model_name": "ProgressStyleModel",
      "_view_count": null,
      "_view_module": "@jupyter-widgets/base",
      "_view_module_version": "1.2.0",
      "_view_name": "StyleView",
      "bar_color": null,
      "description_width": ""
     }
    },
    "8f9d0262347a4600842c9ffab435b4ac": {
     "model_module": "@jupyter-widgets/controls",
     "model_module_version": "1.5.0",
     "model_name": "HTMLModel",
     "state": {
      "_dom_classes": [],
      "_model_module": "@jupyter-widgets/controls",
      "_model_module_version": "1.5.0",
      "_model_name": "HTMLModel",
      "_view_count": null,
      "_view_module": "@jupyter-widgets/controls",
      "_view_module_version": "1.5.0",
      "_view_name": "HTMLView",
      "description": "",
      "description_tooltip": null,
      "layout": "IPY_MODEL_c7ff1248228b48f0a4acf616147cd79f",
      "placeholder": "​",
      "style": "IPY_MODEL_131e0bcc68c940348aeadf172bf6d583",
      "value": "Downloading pytorch_model.bin: 100%"
     }
    },
    "9185f9531914426596ad5f9f3d6590d5": {
     "model_module": "@jupyter-widgets/controls",
     "model_module_version": "1.5.0",
     "model_name": "ProgressStyleModel",
     "state": {
      "_model_module": "@jupyter-widgets/controls",
      "_model_module_version": "1.5.0",
      "_model_name": "ProgressStyleModel",
      "_view_count": null,
      "_view_module": "@jupyter-widgets/base",
      "_view_module_version": "1.2.0",
      "_view_name": "StyleView",
      "bar_color": null,
      "description_width": ""
     }
    },
    "95b70f468a8d450f89de1da6cba2485e": {
     "model_module": "@jupyter-widgets/controls",
     "model_module_version": "1.5.0",
     "model_name": "ProgressStyleModel",
     "state": {
      "_model_module": "@jupyter-widgets/controls",
      "_model_module_version": "1.5.0",
      "_model_name": "ProgressStyleModel",
      "_view_count": null,
      "_view_module": "@jupyter-widgets/base",
      "_view_module_version": "1.2.0",
      "_view_name": "StyleView",
      "bar_color": null,
      "description_width": ""
     }
    },
    "9cd257ebab09415e96b84152fd9c6471": {
     "model_module": "@jupyter-widgets/controls",
     "model_module_version": "1.5.0",
     "model_name": "HTMLModel",
     "state": {
      "_dom_classes": [],
      "_model_module": "@jupyter-widgets/controls",
      "_model_module_version": "1.5.0",
      "_model_name": "HTMLModel",
      "_view_count": null,
      "_view_module": "@jupyter-widgets/controls",
      "_view_module_version": "1.5.0",
      "_view_name": "HTMLView",
      "description": "",
      "description_tooltip": null,
      "layout": "IPY_MODEL_7c666f269618491f9fa7bc663885b31c",
      "placeholder": "​",
      "style": "IPY_MODEL_5d2eeb85b3684ef0beabce3973622986",
      "value": " 213k/213k [00:00&lt;00:00, 3.01MB/s]"
     }
    },
    "9d5c2c789f4a48219deb141880e44afb": {
     "model_module": "@jupyter-widgets/base",
     "model_module_version": "1.2.0",
     "model_name": "LayoutModel",
     "state": {
      "_model_module": "@jupyter-widgets/base",
      "_model_module_version": "1.2.0",
      "_model_name": "LayoutModel",
      "_view_count": null,
      "_view_module": "@jupyter-widgets/base",
      "_view_module_version": "1.2.0",
      "_view_name": "LayoutView",
      "align_content": null,
      "align_items": null,
      "align_self": null,
      "border": null,
      "bottom": null,
      "display": null,
      "flex": null,
      "flex_flow": null,
      "grid_area": null,
      "grid_auto_columns": null,
      "grid_auto_flow": null,
      "grid_auto_rows": null,
      "grid_column": null,
      "grid_gap": null,
      "grid_row": null,
      "grid_template_areas": null,
      "grid_template_columns": null,
      "grid_template_rows": null,
      "height": null,
      "justify_content": null,
      "justify_items": null,
      "left": null,
      "margin": null,
      "max_height": null,
      "max_width": null,
      "min_height": null,
      "min_width": null,
      "object_fit": null,
      "object_position": null,
      "order": null,
      "overflow": null,
      "overflow_x": null,
      "overflow_y": null,
      "padding": null,
      "right": null,
      "top": null,
      "visibility": null,
      "width": null
     }
    },
    "a4c697dab746484d88ecb97dfd43de06": {
     "model_module": "@jupyter-widgets/controls",
     "model_module_version": "1.5.0",
     "model_name": "HBoxModel",
     "state": {
      "_dom_classes": [],
      "_model_module": "@jupyter-widgets/controls",
      "_model_module_version": "1.5.0",
      "_model_name": "HBoxModel",
      "_view_count": null,
      "_view_module": "@jupyter-widgets/controls",
      "_view_module_version": "1.5.0",
      "_view_name": "HBoxView",
      "box_style": "",
      "children": [
       "IPY_MODEL_1c0918a25b364b32a71b533bfd154496",
       "IPY_MODEL_f9492747eada4f47949506fd932fd679",
       "IPY_MODEL_31e867ce10e943ed8dca85843359bbec"
      ],
      "layout": "IPY_MODEL_74d872cf74b94a26bc266f5ca50b48dd"
     }
    },
    "a87bfcff2ad44932b07171e821637d3d": {
     "model_module": "@jupyter-widgets/base",
     "model_module_version": "1.2.0",
     "model_name": "LayoutModel",
     "state": {
      "_model_module": "@jupyter-widgets/base",
      "_model_module_version": "1.2.0",
      "_model_name": "LayoutModel",
      "_view_count": null,
      "_view_module": "@jupyter-widgets/base",
      "_view_module_version": "1.2.0",
      "_view_name": "LayoutView",
      "align_content": null,
      "align_items": null,
      "align_self": null,
      "border": null,
      "bottom": null,
      "display": null,
      "flex": null,
      "flex_flow": null,
      "grid_area": null,
      "grid_auto_columns": null,
      "grid_auto_flow": null,
      "grid_auto_rows": null,
      "grid_column": null,
      "grid_gap": null,
      "grid_row": null,
      "grid_template_areas": null,
      "grid_template_columns": null,
      "grid_template_rows": null,
      "height": null,
      "justify_content": null,
      "justify_items": null,
      "left": null,
      "margin": null,
      "max_height": null,
      "max_width": null,
      "min_height": null,
      "min_width": null,
      "object_fit": null,
      "object_position": null,
      "order": null,
      "overflow": null,
      "overflow_x": null,
      "overflow_y": null,
      "padding": null,
      "right": null,
      "top": null,
      "visibility": null,
      "width": null
     }
    },
    "ae15a8f6a32a40e4b9815352d088baca": {
     "model_module": "@jupyter-widgets/controls",
     "model_module_version": "1.5.0",
     "model_name": "DescriptionStyleModel",
     "state": {
      "_model_module": "@jupyter-widgets/controls",
      "_model_module_version": "1.5.0",
      "_model_name": "DescriptionStyleModel",
      "_view_count": null,
      "_view_module": "@jupyter-widgets/base",
      "_view_module_version": "1.2.0",
      "_view_name": "StyleView",
      "description_width": ""
     }
    },
    "aea0a710e6f848ffa6efe8c7fe8d4293": {
     "model_module": "@jupyter-widgets/controls",
     "model_module_version": "1.5.0",
     "model_name": "DescriptionStyleModel",
     "state": {
      "_model_module": "@jupyter-widgets/controls",
      "_model_module_version": "1.5.0",
      "_model_name": "DescriptionStyleModel",
      "_view_count": null,
      "_view_module": "@jupyter-widgets/base",
      "_view_module_version": "1.2.0",
      "_view_name": "StyleView",
      "description_width": ""
     }
    },
    "b39367d47a244ec0a03b790cac7fddc1": {
     "model_module": "@jupyter-widgets/controls",
     "model_module_version": "1.5.0",
     "model_name": "FloatProgressModel",
     "state": {
      "_dom_classes": [],
      "_model_module": "@jupyter-widgets/controls",
      "_model_module_version": "1.5.0",
      "_model_name": "FloatProgressModel",
      "_view_count": null,
      "_view_module": "@jupyter-widgets/controls",
      "_view_module_version": "1.5.0",
      "_view_name": "ProgressView",
      "bar_style": "success",
      "description": "",
      "description_tooltip": null,
      "layout": "IPY_MODEL_8697138e4f164ef7ab68e639b7157814",
      "max": 213450,
      "min": 0,
      "orientation": "horizontal",
      "style": "IPY_MODEL_95b70f468a8d450f89de1da6cba2485e",
      "value": 213450
     }
    },
    "b65d738f69484a6bbf5e08719e92a05f": {
     "model_module": "@jupyter-widgets/base",
     "model_module_version": "1.2.0",
     "model_name": "LayoutModel",
     "state": {
      "_model_module": "@jupyter-widgets/base",
      "_model_module_version": "1.2.0",
      "_model_name": "LayoutModel",
      "_view_count": null,
      "_view_module": "@jupyter-widgets/base",
      "_view_module_version": "1.2.0",
      "_view_name": "LayoutView",
      "align_content": null,
      "align_items": null,
      "align_self": null,
      "border": null,
      "bottom": null,
      "display": null,
      "flex": null,
      "flex_flow": null,
      "grid_area": null,
      "grid_auto_columns": null,
      "grid_auto_flow": null,
      "grid_auto_rows": null,
      "grid_column": null,
      "grid_gap": null,
      "grid_row": null,
      "grid_template_areas": null,
      "grid_template_columns": null,
      "grid_template_rows": null,
      "height": null,
      "justify_content": null,
      "justify_items": null,
      "left": null,
      "margin": null,
      "max_height": null,
      "max_width": null,
      "min_height": null,
      "min_width": null,
      "object_fit": null,
      "object_position": null,
      "order": null,
      "overflow": null,
      "overflow_x": null,
      "overflow_y": null,
      "padding": null,
      "right": null,
      "top": null,
      "visibility": null,
      "width": null
     }
    },
    "b8f8dd71769847f3b3a70ffeeab34cdb": {
     "model_module": "@jupyter-widgets/controls",
     "model_module_version": "1.5.0",
     "model_name": "FloatProgressModel",
     "state": {
      "_dom_classes": [],
      "_model_module": "@jupyter-widgets/controls",
      "_model_module_version": "1.5.0",
      "_model_name": "FloatProgressModel",
      "_view_count": null,
      "_view_module": "@jupyter-widgets/controls",
      "_view_module_version": "1.5.0",
      "_view_name": "ProgressView",
      "bar_style": "success",
      "description": "",
      "description_tooltip": null,
      "layout": "IPY_MODEL_1649d65759534d4aa7c31446e74c8c13",
      "max": 456318,
      "min": 0,
      "orientation": "horizontal",
      "style": "IPY_MODEL_c94bf72e551d444b929ac87b6e8b695a",
      "value": 456318
     }
    },
    "ba8e4b17e3e54a07bdfd8116a30d74be": {
     "model_module": "@jupyter-widgets/base",
     "model_module_version": "1.2.0",
     "model_name": "LayoutModel",
     "state": {
      "_model_module": "@jupyter-widgets/base",
      "_model_module_version": "1.2.0",
      "_model_name": "LayoutModel",
      "_view_count": null,
      "_view_module": "@jupyter-widgets/base",
      "_view_module_version": "1.2.0",
      "_view_name": "LayoutView",
      "align_content": null,
      "align_items": null,
      "align_self": null,
      "border": null,
      "bottom": null,
      "display": null,
      "flex": null,
      "flex_flow": null,
      "grid_area": null,
      "grid_auto_columns": null,
      "grid_auto_flow": null,
      "grid_auto_rows": null,
      "grid_column": null,
      "grid_gap": null,
      "grid_row": null,
      "grid_template_areas": null,
      "grid_template_columns": null,
      "grid_template_rows": null,
      "height": null,
      "justify_content": null,
      "justify_items": null,
      "left": null,
      "margin": null,
      "max_height": null,
      "max_width": null,
      "min_height": null,
      "min_width": null,
      "object_fit": null,
      "object_position": null,
      "order": null,
      "overflow": null,
      "overflow_x": null,
      "overflow_y": null,
      "padding": null,
      "right": null,
      "top": null,
      "visibility": null,
      "width": null
     }
    },
    "bc877714c5ad40cb95ee4f929f98d561": {
     "model_module": "@jupyter-widgets/base",
     "model_module_version": "1.2.0",
     "model_name": "LayoutModel",
     "state": {
      "_model_module": "@jupyter-widgets/base",
      "_model_module_version": "1.2.0",
      "_model_name": "LayoutModel",
      "_view_count": null,
      "_view_module": "@jupyter-widgets/base",
      "_view_module_version": "1.2.0",
      "_view_name": "LayoutView",
      "align_content": null,
      "align_items": null,
      "align_self": null,
      "border": null,
      "bottom": null,
      "display": null,
      "flex": null,
      "flex_flow": null,
      "grid_area": null,
      "grid_auto_columns": null,
      "grid_auto_flow": null,
      "grid_auto_rows": null,
      "grid_column": null,
      "grid_gap": null,
      "grid_row": null,
      "grid_template_areas": null,
      "grid_template_columns": null,
      "grid_template_rows": null,
      "height": null,
      "justify_content": null,
      "justify_items": null,
      "left": null,
      "margin": null,
      "max_height": null,
      "max_width": null,
      "min_height": null,
      "min_width": null,
      "object_fit": null,
      "object_position": null,
      "order": null,
      "overflow": null,
      "overflow_x": null,
      "overflow_y": null,
      "padding": null,
      "right": null,
      "top": null,
      "visibility": null,
      "width": null
     }
    },
    "be39baa8ab634c04a94f9f52eaf02d9e": {
     "model_module": "@jupyter-widgets/base",
     "model_module_version": "1.2.0",
     "model_name": "LayoutModel",
     "state": {
      "_model_module": "@jupyter-widgets/base",
      "_model_module_version": "1.2.0",
      "_model_name": "LayoutModel",
      "_view_count": null,
      "_view_module": "@jupyter-widgets/base",
      "_view_module_version": "1.2.0",
      "_view_name": "LayoutView",
      "align_content": null,
      "align_items": null,
      "align_self": null,
      "border": null,
      "bottom": null,
      "display": null,
      "flex": null,
      "flex_flow": null,
      "grid_area": null,
      "grid_auto_columns": null,
      "grid_auto_flow": null,
      "grid_auto_rows": null,
      "grid_column": null,
      "grid_gap": null,
      "grid_row": null,
      "grid_template_areas": null,
      "grid_template_columns": null,
      "grid_template_rows": null,
      "height": null,
      "justify_content": null,
      "justify_items": null,
      "left": null,
      "margin": null,
      "max_height": null,
      "max_width": null,
      "min_height": null,
      "min_width": null,
      "object_fit": null,
      "object_position": null,
      "order": null,
      "overflow": null,
      "overflow_x": null,
      "overflow_y": null,
      "padding": null,
      "right": null,
      "top": null,
      "visibility": null,
      "width": null
     }
    },
    "bee005a3b2d140cda540479899ac3ae3": {
     "model_module": "@jupyter-widgets/controls",
     "model_module_version": "1.5.0",
     "model_name": "HBoxModel",
     "state": {
      "_dom_classes": [],
      "_model_module": "@jupyter-widgets/controls",
      "_model_module_version": "1.5.0",
      "_model_name": "HBoxModel",
      "_view_count": null,
      "_view_module": "@jupyter-widgets/controls",
      "_view_module_version": "1.5.0",
      "_view_name": "HBoxView",
      "box_style": "",
      "children": [
       "IPY_MODEL_84863694b4cd40d0b7be0624dd313960",
       "IPY_MODEL_0c4b35f0baff4e54a498a78e3ace49a8",
       "IPY_MODEL_898af8a4ebff4560a6e6c69c725d71e8"
      ],
      "layout": "IPY_MODEL_80fb43dc165b42f293c5b4a1ba54d555"
     }
    },
    "c20bd8ade5834af8959dc8c88eaa3ad4": {
     "model_module": "@jupyter-widgets/base",
     "model_module_version": "1.2.0",
     "model_name": "LayoutModel",
     "state": {
      "_model_module": "@jupyter-widgets/base",
      "_model_module_version": "1.2.0",
      "_model_name": "LayoutModel",
      "_view_count": null,
      "_view_module": "@jupyter-widgets/base",
      "_view_module_version": "1.2.0",
      "_view_name": "LayoutView",
      "align_content": null,
      "align_items": null,
      "align_self": null,
      "border": null,
      "bottom": null,
      "display": null,
      "flex": null,
      "flex_flow": null,
      "grid_area": null,
      "grid_auto_columns": null,
      "grid_auto_flow": null,
      "grid_auto_rows": null,
      "grid_column": null,
      "grid_gap": null,
      "grid_row": null,
      "grid_template_areas": null,
      "grid_template_columns": null,
      "grid_template_rows": null,
      "height": null,
      "justify_content": null,
      "justify_items": null,
      "left": null,
      "margin": null,
      "max_height": null,
      "max_width": null,
      "min_height": null,
      "min_width": null,
      "object_fit": null,
      "object_position": null,
      "order": null,
      "overflow": null,
      "overflow_x": null,
      "overflow_y": null,
      "padding": null,
      "right": null,
      "top": null,
      "visibility": null,
      "width": null
     }
    },
    "c5ae30a09ca34a018f326bec94e1e5ff": {
     "model_module": "@jupyter-widgets/controls",
     "model_module_version": "1.5.0",
     "model_name": "HTMLModel",
     "state": {
      "_dom_classes": [],
      "_model_module": "@jupyter-widgets/controls",
      "_model_module_version": "1.5.0",
      "_model_name": "HTMLModel",
      "_view_count": null,
      "_view_module": "@jupyter-widgets/controls",
      "_view_module_version": "1.5.0",
      "_view_name": "HTMLView",
      "description": "",
      "description_tooltip": null,
      "layout": "IPY_MODEL_ec71d4e2fe3a4b4bba6fcef2e2de1a42",
      "placeholder": "​",
      "style": "IPY_MODEL_3661f94035bd4ed591e9a0fb7844e0ac",
      "value": " 28.0/28.0 [00:00&lt;00:00, 1.73kB/s]"
     }
    },
    "c667466ddd8b4daca6931c5c4a9bd5ff": {
     "model_module": "@jupyter-widgets/base",
     "model_module_version": "1.2.0",
     "model_name": "LayoutModel",
     "state": {
      "_model_module": "@jupyter-widgets/base",
      "_model_module_version": "1.2.0",
      "_model_name": "LayoutModel",
      "_view_count": null,
      "_view_module": "@jupyter-widgets/base",
      "_view_module_version": "1.2.0",
      "_view_name": "LayoutView",
      "align_content": null,
      "align_items": null,
      "align_self": null,
      "border": null,
      "bottom": null,
      "display": null,
      "flex": null,
      "flex_flow": null,
      "grid_area": null,
      "grid_auto_columns": null,
      "grid_auto_flow": null,
      "grid_auto_rows": null,
      "grid_column": null,
      "grid_gap": null,
      "grid_row": null,
      "grid_template_areas": null,
      "grid_template_columns": null,
      "grid_template_rows": null,
      "height": null,
      "justify_content": null,
      "justify_items": null,
      "left": null,
      "margin": null,
      "max_height": null,
      "max_width": null,
      "min_height": null,
      "min_width": null,
      "object_fit": null,
      "object_position": null,
      "order": null,
      "overflow": null,
      "overflow_x": null,
      "overflow_y": null,
      "padding": null,
      "right": null,
      "top": null,
      "visibility": null,
      "width": null
     }
    },
    "c7a81bce8a8c400fabc9000d9b5c1dce": {
     "model_module": "@jupyter-widgets/controls",
     "model_module_version": "1.5.0",
     "model_name": "HTMLModel",
     "state": {
      "_dom_classes": [],
      "_model_module": "@jupyter-widgets/controls",
      "_model_module_version": "1.5.0",
      "_model_name": "HTMLModel",
      "_view_count": null,
      "_view_module": "@jupyter-widgets/controls",
      "_view_module_version": "1.5.0",
      "_view_name": "HTMLView",
      "description": "",
      "description_tooltip": null,
      "layout": "IPY_MODEL_32fbff6377e443b98874d41fd28fc7c2",
      "placeholder": "​",
      "style": "IPY_MODEL_37d3f50f106c4fb49903dabb217de4b3",
      "value": "Downloading pytorch_model.bin: 100%"
     }
    },
    "c7ff1248228b48f0a4acf616147cd79f": {
     "model_module": "@jupyter-widgets/base",
     "model_module_version": "1.2.0",
     "model_name": "LayoutModel",
     "state": {
      "_model_module": "@jupyter-widgets/base",
      "_model_module_version": "1.2.0",
      "_model_name": "LayoutModel",
      "_view_count": null,
      "_view_module": "@jupyter-widgets/base",
      "_view_module_version": "1.2.0",
      "_view_name": "LayoutView",
      "align_content": null,
      "align_items": null,
      "align_self": null,
      "border": null,
      "bottom": null,
      "display": null,
      "flex": null,
      "flex_flow": null,
      "grid_area": null,
      "grid_auto_columns": null,
      "grid_auto_flow": null,
      "grid_auto_rows": null,
      "grid_column": null,
      "grid_gap": null,
      "grid_row": null,
      "grid_template_areas": null,
      "grid_template_columns": null,
      "grid_template_rows": null,
      "height": null,
      "justify_content": null,
      "justify_items": null,
      "left": null,
      "margin": null,
      "max_height": null,
      "max_width": null,
      "min_height": null,
      "min_width": null,
      "object_fit": null,
      "object_position": null,
      "order": null,
      "overflow": null,
      "overflow_x": null,
      "overflow_y": null,
      "padding": null,
      "right": null,
      "top": null,
      "visibility": null,
      "width": null
     }
    },
    "c94bf72e551d444b929ac87b6e8b695a": {
     "model_module": "@jupyter-widgets/controls",
     "model_module_version": "1.5.0",
     "model_name": "ProgressStyleModel",
     "state": {
      "_model_module": "@jupyter-widgets/controls",
      "_model_module_version": "1.5.0",
      "_model_name": "ProgressStyleModel",
      "_view_count": null,
      "_view_module": "@jupyter-widgets/base",
      "_view_module_version": "1.2.0",
      "_view_name": "StyleView",
      "bar_color": null,
      "description_width": ""
     }
    },
    "cc63eecd75294630924c58f96c3fbfac": {
     "model_module": "@jupyter-widgets/controls",
     "model_module_version": "1.5.0",
     "model_name": "HBoxModel",
     "state": {
      "_dom_classes": [],
      "_model_module": "@jupyter-widgets/controls",
      "_model_module_version": "1.5.0",
      "_model_name": "HBoxModel",
      "_view_count": null,
      "_view_module": "@jupyter-widgets/controls",
      "_view_module_version": "1.5.0",
      "_view_name": "HBoxView",
      "box_style": "",
      "children": [
       "IPY_MODEL_310a1b56acac47c982700e64748dedf0",
       "IPY_MODEL_b39367d47a244ec0a03b790cac7fddc1",
       "IPY_MODEL_9cd257ebab09415e96b84152fd9c6471"
      ],
      "layout": "IPY_MODEL_e0e331fe8dc647d985a1371ec4dce65a"
     }
    },
    "cd2701cfe4384668aaf231b2c1ca5fdd": {
     "model_module": "@jupyter-widgets/controls",
     "model_module_version": "1.5.0",
     "model_name": "DescriptionStyleModel",
     "state": {
      "_model_module": "@jupyter-widgets/controls",
      "_model_module_version": "1.5.0",
      "_model_name": "DescriptionStyleModel",
      "_view_count": null,
      "_view_module": "@jupyter-widgets/base",
      "_view_module_version": "1.2.0",
      "_view_name": "StyleView",
      "description_width": ""
     }
    },
    "d0514654ba1a4aacbe9fee360242fb7a": {
     "model_module": "@jupyter-widgets/controls",
     "model_module_version": "1.5.0",
     "model_name": "ProgressStyleModel",
     "state": {
      "_model_module": "@jupyter-widgets/controls",
      "_model_module_version": "1.5.0",
      "_model_name": "ProgressStyleModel",
      "_view_count": null,
      "_view_module": "@jupyter-widgets/base",
      "_view_module_version": "1.2.0",
      "_view_name": "StyleView",
      "bar_color": null,
      "description_width": ""
     }
    },
    "d62f38d204784bd3a25f94aaea1ebd3d": {
     "model_module": "@jupyter-widgets/controls",
     "model_module_version": "1.5.0",
     "model_name": "HTMLModel",
     "state": {
      "_dom_classes": [],
      "_model_module": "@jupyter-widgets/controls",
      "_model_module_version": "1.5.0",
      "_model_name": "HTMLModel",
      "_view_count": null,
      "_view_module": "@jupyter-widgets/controls",
      "_view_module_version": "1.5.0",
      "_view_name": "HTMLView",
      "description": "",
      "description_tooltip": null,
      "layout": "IPY_MODEL_e9df8b066b4b4bf987c46aaeebe5866c",
      "placeholder": "​",
      "style": "IPY_MODEL_d9b910f5d324429589f6ab785a2c266d",
      "value": " 570/570 [00:00&lt;00:00, 47.4kB/s]"
     }
    },
    "d9b910f5d324429589f6ab785a2c266d": {
     "model_module": "@jupyter-widgets/controls",
     "model_module_version": "1.5.0",
     "model_name": "DescriptionStyleModel",
     "state": {
      "_model_module": "@jupyter-widgets/controls",
      "_model_module_version": "1.5.0",
      "_model_name": "DescriptionStyleModel",
      "_view_count": null,
      "_view_module": "@jupyter-widgets/base",
      "_view_module_version": "1.2.0",
      "_view_name": "StyleView",
      "description_width": ""
     }
    },
    "dab4d4b8a18e450b91b18f5a91fcdda5": {
     "model_module": "@jupyter-widgets/base",
     "model_module_version": "1.2.0",
     "model_name": "LayoutModel",
     "state": {
      "_model_module": "@jupyter-widgets/base",
      "_model_module_version": "1.2.0",
      "_model_name": "LayoutModel",
      "_view_count": null,
      "_view_module": "@jupyter-widgets/base",
      "_view_module_version": "1.2.0",
      "_view_name": "LayoutView",
      "align_content": null,
      "align_items": null,
      "align_self": null,
      "border": null,
      "bottom": null,
      "display": null,
      "flex": null,
      "flex_flow": null,
      "grid_area": null,
      "grid_auto_columns": null,
      "grid_auto_flow": null,
      "grid_auto_rows": null,
      "grid_column": null,
      "grid_gap": null,
      "grid_row": null,
      "grid_template_areas": null,
      "grid_template_columns": null,
      "grid_template_rows": null,
      "height": null,
      "justify_content": null,
      "justify_items": null,
      "left": null,
      "margin": null,
      "max_height": null,
      "max_width": null,
      "min_height": null,
      "min_width": null,
      "object_fit": null,
      "object_position": null,
      "order": null,
      "overflow": null,
      "overflow_x": null,
      "overflow_y": null,
      "padding": null,
      "right": null,
      "top": null,
      "visibility": null,
      "width": null
     }
    },
    "dc0a7988e6c04b28820243b4da732273": {
     "model_module": "@jupyter-widgets/base",
     "model_module_version": "1.2.0",
     "model_name": "LayoutModel",
     "state": {
      "_model_module": "@jupyter-widgets/base",
      "_model_module_version": "1.2.0",
      "_model_name": "LayoutModel",
      "_view_count": null,
      "_view_module": "@jupyter-widgets/base",
      "_view_module_version": "1.2.0",
      "_view_name": "LayoutView",
      "align_content": null,
      "align_items": null,
      "align_self": null,
      "border": null,
      "bottom": null,
      "display": null,
      "flex": null,
      "flex_flow": null,
      "grid_area": null,
      "grid_auto_columns": null,
      "grid_auto_flow": null,
      "grid_auto_rows": null,
      "grid_column": null,
      "grid_gap": null,
      "grid_row": null,
      "grid_template_areas": null,
      "grid_template_columns": null,
      "grid_template_rows": null,
      "height": null,
      "justify_content": null,
      "justify_items": null,
      "left": null,
      "margin": null,
      "max_height": null,
      "max_width": null,
      "min_height": null,
      "min_width": null,
      "object_fit": null,
      "object_position": null,
      "order": null,
      "overflow": null,
      "overflow_x": null,
      "overflow_y": null,
      "padding": null,
      "right": null,
      "top": null,
      "visibility": null,
      "width": null
     }
    },
    "e0e331fe8dc647d985a1371ec4dce65a": {
     "model_module": "@jupyter-widgets/base",
     "model_module_version": "1.2.0",
     "model_name": "LayoutModel",
     "state": {
      "_model_module": "@jupyter-widgets/base",
      "_model_module_version": "1.2.0",
      "_model_name": "LayoutModel",
      "_view_count": null,
      "_view_module": "@jupyter-widgets/base",
      "_view_module_version": "1.2.0",
      "_view_name": "LayoutView",
      "align_content": null,
      "align_items": null,
      "align_self": null,
      "border": null,
      "bottom": null,
      "display": null,
      "flex": null,
      "flex_flow": null,
      "grid_area": null,
      "grid_auto_columns": null,
      "grid_auto_flow": null,
      "grid_auto_rows": null,
      "grid_column": null,
      "grid_gap": null,
      "grid_row": null,
      "grid_template_areas": null,
      "grid_template_columns": null,
      "grid_template_rows": null,
      "height": null,
      "justify_content": null,
      "justify_items": null,
      "left": null,
      "margin": null,
      "max_height": null,
      "max_width": null,
      "min_height": null,
      "min_width": null,
      "object_fit": null,
      "object_position": null,
      "order": null,
      "overflow": null,
      "overflow_x": null,
      "overflow_y": null,
      "padding": null,
      "right": null,
      "top": null,
      "visibility": null,
      "width": null
     }
    },
    "e4414fca452c4430a137b2e649b2fa33": {
     "model_module": "@jupyter-widgets/base",
     "model_module_version": "1.2.0",
     "model_name": "LayoutModel",
     "state": {
      "_model_module": "@jupyter-widgets/base",
      "_model_module_version": "1.2.0",
      "_model_name": "LayoutModel",
      "_view_count": null,
      "_view_module": "@jupyter-widgets/base",
      "_view_module_version": "1.2.0",
      "_view_name": "LayoutView",
      "align_content": null,
      "align_items": null,
      "align_self": null,
      "border": null,
      "bottom": null,
      "display": null,
      "flex": null,
      "flex_flow": null,
      "grid_area": null,
      "grid_auto_columns": null,
      "grid_auto_flow": null,
      "grid_auto_rows": null,
      "grid_column": null,
      "grid_gap": null,
      "grid_row": null,
      "grid_template_areas": null,
      "grid_template_columns": null,
      "grid_template_rows": null,
      "height": null,
      "justify_content": null,
      "justify_items": null,
      "left": null,
      "margin": null,
      "max_height": null,
      "max_width": null,
      "min_height": null,
      "min_width": null,
      "object_fit": null,
      "object_position": null,
      "order": null,
      "overflow": null,
      "overflow_x": null,
      "overflow_y": null,
      "padding": null,
      "right": null,
      "top": null,
      "visibility": null,
      "width": null
     }
    },
    "e5bd69ba2b2b4a92bc67e5ef5e444ca0": {
     "model_module": "@jupyter-widgets/base",
     "model_module_version": "1.2.0",
     "model_name": "LayoutModel",
     "state": {
      "_model_module": "@jupyter-widgets/base",
      "_model_module_version": "1.2.0",
      "_model_name": "LayoutModel",
      "_view_count": null,
      "_view_module": "@jupyter-widgets/base",
      "_view_module_version": "1.2.0",
      "_view_name": "LayoutView",
      "align_content": null,
      "align_items": null,
      "align_self": null,
      "border": null,
      "bottom": null,
      "display": null,
      "flex": null,
      "flex_flow": null,
      "grid_area": null,
      "grid_auto_columns": null,
      "grid_auto_flow": null,
      "grid_auto_rows": null,
      "grid_column": null,
      "grid_gap": null,
      "grid_row": null,
      "grid_template_areas": null,
      "grid_template_columns": null,
      "grid_template_rows": null,
      "height": null,
      "justify_content": null,
      "justify_items": null,
      "left": null,
      "margin": null,
      "max_height": null,
      "max_width": null,
      "min_height": null,
      "min_width": null,
      "object_fit": null,
      "object_position": null,
      "order": null,
      "overflow": null,
      "overflow_x": null,
      "overflow_y": null,
      "padding": null,
      "right": null,
      "top": null,
      "visibility": null,
      "width": null
     }
    },
    "e706d4d3bb67439b9e0394af1c3ca2d4": {
     "model_module": "@jupyter-widgets/controls",
     "model_module_version": "1.5.0",
     "model_name": "HBoxModel",
     "state": {
      "_dom_classes": [],
      "_model_module": "@jupyter-widgets/controls",
      "_model_module_version": "1.5.0",
      "_model_name": "HBoxModel",
      "_view_count": null,
      "_view_module": "@jupyter-widgets/controls",
      "_view_module_version": "1.5.0",
      "_view_name": "HBoxView",
      "box_style": "",
      "children": [
       "IPY_MODEL_e7a43620126c415b837aa43b5b948bd3",
       "IPY_MODEL_66ab881adfd44433906c660f72244faa",
       "IPY_MODEL_c5ae30a09ca34a018f326bec94e1e5ff"
      ],
      "layout": "IPY_MODEL_50e65d18923147a9a50951010c2b1803"
     }
    },
    "e71780f88bce431393482ce10928f9ed": {
     "model_module": "@jupyter-widgets/base",
     "model_module_version": "1.2.0",
     "model_name": "LayoutModel",
     "state": {
      "_model_module": "@jupyter-widgets/base",
      "_model_module_version": "1.2.0",
      "_model_name": "LayoutModel",
      "_view_count": null,
      "_view_module": "@jupyter-widgets/base",
      "_view_module_version": "1.2.0",
      "_view_name": "LayoutView",
      "align_content": null,
      "align_items": null,
      "align_self": null,
      "border": null,
      "bottom": null,
      "display": null,
      "flex": null,
      "flex_flow": null,
      "grid_area": null,
      "grid_auto_columns": null,
      "grid_auto_flow": null,
      "grid_auto_rows": null,
      "grid_column": null,
      "grid_gap": null,
      "grid_row": null,
      "grid_template_areas": null,
      "grid_template_columns": null,
      "grid_template_rows": null,
      "height": null,
      "justify_content": null,
      "justify_items": null,
      "left": null,
      "margin": null,
      "max_height": null,
      "max_width": null,
      "min_height": null,
      "min_width": null,
      "object_fit": null,
      "object_position": null,
      "order": null,
      "overflow": null,
      "overflow_x": null,
      "overflow_y": null,
      "padding": null,
      "right": null,
      "top": null,
      "visibility": null,
      "width": null
     }
    },
    "e7a43620126c415b837aa43b5b948bd3": {
     "model_module": "@jupyter-widgets/controls",
     "model_module_version": "1.5.0",
     "model_name": "HTMLModel",
     "state": {
      "_dom_classes": [],
      "_model_module": "@jupyter-widgets/controls",
      "_model_module_version": "1.5.0",
      "_model_name": "HTMLModel",
      "_view_count": null,
      "_view_module": "@jupyter-widgets/controls",
      "_view_module_version": "1.5.0",
      "_view_name": "HTMLView",
      "description": "",
      "description_tooltip": null,
      "layout": "IPY_MODEL_199f4e85504f4f06aa287ad8252435c2",
      "placeholder": "​",
      "style": "IPY_MODEL_49ebaa40a9c44914bda64bd89afb9bb2",
      "value": "Downloading (…)okenizer_config.json: 100%"
     }
    },
    "e8b9c8ecb75f499c9d5e065388731c7b": {
     "model_module": "@jupyter-widgets/controls",
     "model_module_version": "1.5.0",
     "model_name": "HTMLModel",
     "state": {
      "_dom_classes": [],
      "_model_module": "@jupyter-widgets/controls",
      "_model_module_version": "1.5.0",
      "_model_name": "HTMLModel",
      "_view_count": null,
      "_view_module": "@jupyter-widgets/controls",
      "_view_module_version": "1.5.0",
      "_view_name": "HTMLView",
      "description": "",
      "description_tooltip": null,
      "layout": "IPY_MODEL_e71780f88bce431393482ce10928f9ed",
      "placeholder": "​",
      "style": "IPY_MODEL_005b97497bb74b33ad0ef13fabb580f2",
      "value": "Downloading (…)olve/main/merges.txt: 100%"
     }
    },
    "e8fe4810f2cc4acea178e366608c50bb": {
     "model_module": "@jupyter-widgets/base",
     "model_module_version": "1.2.0",
     "model_name": "LayoutModel",
     "state": {
      "_model_module": "@jupyter-widgets/base",
      "_model_module_version": "1.2.0",
      "_model_name": "LayoutModel",
      "_view_count": null,
      "_view_module": "@jupyter-widgets/base",
      "_view_module_version": "1.2.0",
      "_view_name": "LayoutView",
      "align_content": null,
      "align_items": null,
      "align_self": null,
      "border": null,
      "bottom": null,
      "display": null,
      "flex": null,
      "flex_flow": null,
      "grid_area": null,
      "grid_auto_columns": null,
      "grid_auto_flow": null,
      "grid_auto_rows": null,
      "grid_column": null,
      "grid_gap": null,
      "grid_row": null,
      "grid_template_areas": null,
      "grid_template_columns": null,
      "grid_template_rows": null,
      "height": null,
      "justify_content": null,
      "justify_items": null,
      "left": null,
      "margin": null,
      "max_height": null,
      "max_width": null,
      "min_height": null,
      "min_width": null,
      "object_fit": null,
      "object_position": null,
      "order": null,
      "overflow": null,
      "overflow_x": null,
      "overflow_y": null,
      "padding": null,
      "right": null,
      "top": null,
      "visibility": null,
      "width": null
     }
    },
    "e9987f74b59849b5beb1d7f758113052": {
     "model_module": "@jupyter-widgets/base",
     "model_module_version": "1.2.0",
     "model_name": "LayoutModel",
     "state": {
      "_model_module": "@jupyter-widgets/base",
      "_model_module_version": "1.2.0",
      "_model_name": "LayoutModel",
      "_view_count": null,
      "_view_module": "@jupyter-widgets/base",
      "_view_module_version": "1.2.0",
      "_view_name": "LayoutView",
      "align_content": null,
      "align_items": null,
      "align_self": null,
      "border": null,
      "bottom": null,
      "display": null,
      "flex": null,
      "flex_flow": null,
      "grid_area": null,
      "grid_auto_columns": null,
      "grid_auto_flow": null,
      "grid_auto_rows": null,
      "grid_column": null,
      "grid_gap": null,
      "grid_row": null,
      "grid_template_areas": null,
      "grid_template_columns": null,
      "grid_template_rows": null,
      "height": null,
      "justify_content": null,
      "justify_items": null,
      "left": null,
      "margin": null,
      "max_height": null,
      "max_width": null,
      "min_height": null,
      "min_width": null,
      "object_fit": null,
      "object_position": null,
      "order": null,
      "overflow": null,
      "overflow_x": null,
      "overflow_y": null,
      "padding": null,
      "right": null,
      "top": null,
      "visibility": null,
      "width": null
     }
    },
    "e9df8b066b4b4bf987c46aaeebe5866c": {
     "model_module": "@jupyter-widgets/base",
     "model_module_version": "1.2.0",
     "model_name": "LayoutModel",
     "state": {
      "_model_module": "@jupyter-widgets/base",
      "_model_module_version": "1.2.0",
      "_model_name": "LayoutModel",
      "_view_count": null,
      "_view_module": "@jupyter-widgets/base",
      "_view_module_version": "1.2.0",
      "_view_name": "LayoutView",
      "align_content": null,
      "align_items": null,
      "align_self": null,
      "border": null,
      "bottom": null,
      "display": null,
      "flex": null,
      "flex_flow": null,
      "grid_area": null,
      "grid_auto_columns": null,
      "grid_auto_flow": null,
      "grid_auto_rows": null,
      "grid_column": null,
      "grid_gap": null,
      "grid_row": null,
      "grid_template_areas": null,
      "grid_template_columns": null,
      "grid_template_rows": null,
      "height": null,
      "justify_content": null,
      "justify_items": null,
      "left": null,
      "margin": null,
      "max_height": null,
      "max_width": null,
      "min_height": null,
      "min_width": null,
      "object_fit": null,
      "object_position": null,
      "order": null,
      "overflow": null,
      "overflow_x": null,
      "overflow_y": null,
      "padding": null,
      "right": null,
      "top": null,
      "visibility": null,
      "width": null
     }
    },
    "ebcfc24285e84fcd9c89ac5353684380": {
     "model_module": "@jupyter-widgets/controls",
     "model_module_version": "1.5.0",
     "model_name": "FloatProgressModel",
     "state": {
      "_dom_classes": [],
      "_model_module": "@jupyter-widgets/controls",
      "_model_module_version": "1.5.0",
      "_model_name": "FloatProgressModel",
      "_view_count": null,
      "_view_module": "@jupyter-widgets/controls",
      "_view_module_version": "1.5.0",
      "_view_name": "ProgressView",
      "bar_style": "success",
      "description": "",
      "description_tooltip": null,
      "layout": "IPY_MODEL_dab4d4b8a18e450b91b18f5a91fcdda5",
      "max": 570,
      "min": 0,
      "orientation": "horizontal",
      "style": "IPY_MODEL_20e12893a2ae4cd6aba226831809ae69",
      "value": 570
     }
    },
    "ec71d4e2fe3a4b4bba6fcef2e2de1a42": {
     "model_module": "@jupyter-widgets/base",
     "model_module_version": "1.2.0",
     "model_name": "LayoutModel",
     "state": {
      "_model_module": "@jupyter-widgets/base",
      "_model_module_version": "1.2.0",
      "_model_name": "LayoutModel",
      "_view_count": null,
      "_view_module": "@jupyter-widgets/base",
      "_view_module_version": "1.2.0",
      "_view_name": "LayoutView",
      "align_content": null,
      "align_items": null,
      "align_self": null,
      "border": null,
      "bottom": null,
      "display": null,
      "flex": null,
      "flex_flow": null,
      "grid_area": null,
      "grid_auto_columns": null,
      "grid_auto_flow": null,
      "grid_auto_rows": null,
      "grid_column": null,
      "grid_gap": null,
      "grid_row": null,
      "grid_template_areas": null,
      "grid_template_columns": null,
      "grid_template_rows": null,
      "height": null,
      "justify_content": null,
      "justify_items": null,
      "left": null,
      "margin": null,
      "max_height": null,
      "max_width": null,
      "min_height": null,
      "min_width": null,
      "object_fit": null,
      "object_position": null,
      "order": null,
      "overflow": null,
      "overflow_x": null,
      "overflow_y": null,
      "padding": null,
      "right": null,
      "top": null,
      "visibility": null,
      "width": null
     }
    },
    "edea3ea15d1345ceaa6daef8a12d5cd6": {
     "model_module": "@jupyter-widgets/controls",
     "model_module_version": "1.5.0",
     "model_name": "HBoxModel",
     "state": {
      "_dom_classes": [],
      "_model_module": "@jupyter-widgets/controls",
      "_model_module_version": "1.5.0",
      "_model_name": "HBoxModel",
      "_view_count": null,
      "_view_module": "@jupyter-widgets/controls",
      "_view_module_version": "1.5.0",
      "_view_name": "HBoxView",
      "box_style": "",
      "children": [
       "IPY_MODEL_571d54d1a2fb45bfa276029a78096d4c",
       "IPY_MODEL_f83d76d5678e49b5aaa919e600fa7a4b",
       "IPY_MODEL_4a57d75d581b47b698fe107f3f0a8a8a"
      ],
      "layout": "IPY_MODEL_c20bd8ade5834af8959dc8c88eaa3ad4"
     }
    },
    "f1f4253d4d794b5f97f568097f6c3c18": {
     "model_module": "@jupyter-widgets/controls",
     "model_module_version": "1.5.0",
     "model_name": "DescriptionStyleModel",
     "state": {
      "_model_module": "@jupyter-widgets/controls",
      "_model_module_version": "1.5.0",
      "_model_name": "DescriptionStyleModel",
      "_view_count": null,
      "_view_module": "@jupyter-widgets/base",
      "_view_module_version": "1.2.0",
      "_view_name": "StyleView",
      "description_width": ""
     }
    },
    "f3dd016ac27146c0ad3d009328327a7a": {
     "model_module": "@jupyter-widgets/controls",
     "model_module_version": "1.5.0",
     "model_name": "HTMLModel",
     "state": {
      "_dom_classes": [],
      "_model_module": "@jupyter-widgets/controls",
      "_model_module_version": "1.5.0",
      "_model_name": "HTMLModel",
      "_view_count": null,
      "_view_module": "@jupyter-widgets/controls",
      "_view_module_version": "1.5.0",
      "_view_name": "HTMLView",
      "description": "",
      "description_tooltip": null,
      "layout": "IPY_MODEL_7fe43dc49838440480ad65accbaa6da1",
      "placeholder": "​",
      "style": "IPY_MODEL_6a47a811f61e4e61b0547919fed84fac",
      "value": " 436M/436M [00:14&lt;00:00, 24.2MB/s]"
     }
    },
    "f6e5319a91ad4f099ce15198e00d06f6": {
     "model_module": "@jupyter-widgets/controls",
     "model_module_version": "1.5.0",
     "model_name": "DescriptionStyleModel",
     "state": {
      "_model_module": "@jupyter-widgets/controls",
      "_model_module_version": "1.5.0",
      "_model_name": "DescriptionStyleModel",
      "_view_count": null,
      "_view_module": "@jupyter-widgets/base",
      "_view_module_version": "1.2.0",
      "_view_name": "StyleView",
      "description_width": ""
     }
    },
    "f83d76d5678e49b5aaa919e600fa7a4b": {
     "model_module": "@jupyter-widgets/controls",
     "model_module_version": "1.5.0",
     "model_name": "FloatProgressModel",
     "state": {
      "_dom_classes": [],
      "_model_module": "@jupyter-widgets/controls",
      "_model_module_version": "1.5.0",
      "_model_name": "FloatProgressModel",
      "_view_count": null,
      "_view_module": "@jupyter-widgets/controls",
      "_view_module_version": "1.5.0",
      "_view_name": "ProgressView",
      "bar_style": "success",
      "description": "",
      "description_tooltip": null,
      "layout": "IPY_MODEL_689ad99a26634b06a53b7fc8b696cf26",
      "max": 501200538,
      "min": 0,
      "orientation": "horizontal",
      "style": "IPY_MODEL_1c017eb1f01440909badfa11b063ce8a",
      "value": 501200538
     }
    },
    "f9492747eada4f47949506fd932fd679": {
     "model_module": "@jupyter-widgets/controls",
     "model_module_version": "1.5.0",
     "model_name": "FloatProgressModel",
     "state": {
      "_dom_classes": [],
      "_model_module": "@jupyter-widgets/controls",
      "_model_module_version": "1.5.0",
      "_model_name": "FloatProgressModel",
      "_view_count": null,
      "_view_module": "@jupyter-widgets/controls",
      "_view_module_version": "1.5.0",
      "_view_name": "ProgressView",
      "bar_style": "success",
      "description": "",
      "description_tooltip": null,
      "layout": "IPY_MODEL_e4414fca452c4430a137b2e649b2fa33",
      "max": 481,
      "min": 0,
      "orientation": "horizontal",
      "style": "IPY_MODEL_84fe3c17346a4afda142c1dabfdf2b0c",
      "value": 481
     }
    },
    "fce46609e0034c72a52e4921811b449c": {
     "model_module": "@jupyter-widgets/controls",
     "model_module_version": "1.5.0",
     "model_name": "HTMLModel",
     "state": {
      "_dom_classes": [],
      "_model_module": "@jupyter-widgets/controls",
      "_model_module_version": "1.5.0",
      "_model_name": "HTMLModel",
      "_view_count": null,
      "_view_module": "@jupyter-widgets/controls",
      "_view_module_version": "1.5.0",
      "_view_name": "HTMLView",
      "description": "",
      "description_tooltip": null,
      "layout": "IPY_MODEL_437855c08ad447c9810fd1aaefa784f6",
      "placeholder": "​",
      "style": "IPY_MODEL_79effa1b532048b78907fc0fa7cd0944",
      "value": "Downloading (…)lve/main/config.json: 100%"
     }
    },
    "ff422cfe0ba445f5917f67061da06dd5": {
     "model_module": "@jupyter-widgets/base",
     "model_module_version": "1.2.0",
     "model_name": "LayoutModel",
     "state": {
      "_model_module": "@jupyter-widgets/base",
      "_model_module_version": "1.2.0",
      "_model_name": "LayoutModel",
      "_view_count": null,
      "_view_module": "@jupyter-widgets/base",
      "_view_module_version": "1.2.0",
      "_view_name": "LayoutView",
      "align_content": null,
      "align_items": null,
      "align_self": null,
      "border": null,
      "bottom": null,
      "display": null,
      "flex": null,
      "flex_flow": null,
      "grid_area": null,
      "grid_auto_columns": null,
      "grid_auto_flow": null,
      "grid_auto_rows": null,
      "grid_column": null,
      "grid_gap": null,
      "grid_row": null,
      "grid_template_areas": null,
      "grid_template_columns": null,
      "grid_template_rows": null,
      "height": null,
      "justify_content": null,
      "justify_items": null,
      "left": null,
      "margin": null,
      "max_height": null,
      "max_width": null,
      "min_height": null,
      "min_width": null,
      "object_fit": null,
      "object_position": null,
      "order": null,
      "overflow": null,
      "overflow_x": null,
      "overflow_y": null,
      "padding": null,
      "right": null,
      "top": null,
      "visibility": null,
      "width": null
     }
    }
   }
  }
 },
 "nbformat": 4,
 "nbformat_minor": 1
}
